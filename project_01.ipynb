{
 "cells": [
  {
   "cell_type": "markdown",
   "id": "8c6e28ac",
   "metadata": {
    "deletable": false,
    "editable": false,
    "id": "c81daeeb"
   },
   "source": [
    "# Исследование надежности заемщиков\n"
   ]
  },
  {
   "cell_type": "markdown",
   "id": "04a47dc5",
   "metadata": {
    "deletable": false,
    "editable": false,
    "id": "744d7639"
   },
   "source": [
    "## Откройте таблицу и изучите общую информацию о данных"
   ]
  },
  {
   "cell_type": "markdown",
   "id": "8466420c",
   "metadata": {
    "deletable": false,
    "editable": false,
    "id": "e7a14c31"
   },
   "source": [
    "**Задание 1. Импортируйте библиотеку pandas. Считайте данные из csv-файла в датафрейм и сохраните в переменную `data`. Путь к файлу:**\n",
    "\n",
    "`/datasets/data.csv`"
   ]
  },
  {
   "cell_type": "code",
   "execution_count": 1,
   "id": "fb35c18a",
   "metadata": {
    "deletable": false,
    "id": "7bcf75c9"
   },
   "outputs": [],
   "source": [
    "import pandas as pd\n",
    "\n",
    "try:\n",
    "    data = pd.read_csv('/datasets/data.csv')\n",
    "except:\n",
    "    data = pd.read_csv('data.csv')"
   ]
  },
  {
   "cell_type": "markdown",
   "id": "62c3634b",
   "metadata": {
    "deletable": false,
    "editable": false,
    "id": "b8038fe3"
   },
   "source": [
    "**Задание 2. Выведите первые 20 строчек датафрейма `data` на экран.**"
   ]
  },
  {
   "cell_type": "code",
   "execution_count": 2,
   "id": "da7f5230",
   "metadata": {
    "deletable": false,
    "id": "2a7cab99",
    "outputId": "1a8f3ef2-d323-4ec2-ddf7-89670b5944c4"
   },
   "outputs": [
    {
     "data": {
      "text/html": [
       "<div>\n",
       "<style scoped>\n",
       "    .dataframe tbody tr th:only-of-type {\n",
       "        vertical-align: middle;\n",
       "    }\n",
       "\n",
       "    .dataframe tbody tr th {\n",
       "        vertical-align: top;\n",
       "    }\n",
       "\n",
       "    .dataframe thead th {\n",
       "        text-align: right;\n",
       "    }\n",
       "</style>\n",
       "<table border=\"1\" class=\"dataframe\">\n",
       "  <thead>\n",
       "    <tr style=\"text-align: right;\">\n",
       "      <th></th>\n",
       "      <th>children</th>\n",
       "      <th>days_employed</th>\n",
       "      <th>dob_years</th>\n",
       "      <th>education</th>\n",
       "      <th>education_id</th>\n",
       "      <th>family_status</th>\n",
       "      <th>family_status_id</th>\n",
       "      <th>gender</th>\n",
       "      <th>income_type</th>\n",
       "      <th>debt</th>\n",
       "      <th>total_income</th>\n",
       "      <th>purpose</th>\n",
       "    </tr>\n",
       "  </thead>\n",
       "  <tbody>\n",
       "    <tr>\n",
       "      <th>0</th>\n",
       "      <td>1</td>\n",
       "      <td>-8437.673028</td>\n",
       "      <td>42</td>\n",
       "      <td>высшее</td>\n",
       "      <td>0</td>\n",
       "      <td>женат / замужем</td>\n",
       "      <td>0</td>\n",
       "      <td>F</td>\n",
       "      <td>сотрудник</td>\n",
       "      <td>0</td>\n",
       "      <td>253875.639453</td>\n",
       "      <td>покупка жилья</td>\n",
       "    </tr>\n",
       "    <tr>\n",
       "      <th>1</th>\n",
       "      <td>1</td>\n",
       "      <td>-4024.803754</td>\n",
       "      <td>36</td>\n",
       "      <td>среднее</td>\n",
       "      <td>1</td>\n",
       "      <td>женат / замужем</td>\n",
       "      <td>0</td>\n",
       "      <td>F</td>\n",
       "      <td>сотрудник</td>\n",
       "      <td>0</td>\n",
       "      <td>112080.014102</td>\n",
       "      <td>приобретение автомобиля</td>\n",
       "    </tr>\n",
       "    <tr>\n",
       "      <th>2</th>\n",
       "      <td>0</td>\n",
       "      <td>-5623.422610</td>\n",
       "      <td>33</td>\n",
       "      <td>Среднее</td>\n",
       "      <td>1</td>\n",
       "      <td>женат / замужем</td>\n",
       "      <td>0</td>\n",
       "      <td>M</td>\n",
       "      <td>сотрудник</td>\n",
       "      <td>0</td>\n",
       "      <td>145885.952297</td>\n",
       "      <td>покупка жилья</td>\n",
       "    </tr>\n",
       "    <tr>\n",
       "      <th>3</th>\n",
       "      <td>3</td>\n",
       "      <td>-4124.747207</td>\n",
       "      <td>32</td>\n",
       "      <td>среднее</td>\n",
       "      <td>1</td>\n",
       "      <td>женат / замужем</td>\n",
       "      <td>0</td>\n",
       "      <td>M</td>\n",
       "      <td>сотрудник</td>\n",
       "      <td>0</td>\n",
       "      <td>267628.550329</td>\n",
       "      <td>дополнительное образование</td>\n",
       "    </tr>\n",
       "    <tr>\n",
       "      <th>4</th>\n",
       "      <td>0</td>\n",
       "      <td>340266.072047</td>\n",
       "      <td>53</td>\n",
       "      <td>среднее</td>\n",
       "      <td>1</td>\n",
       "      <td>гражданский брак</td>\n",
       "      <td>1</td>\n",
       "      <td>F</td>\n",
       "      <td>пенсионер</td>\n",
       "      <td>0</td>\n",
       "      <td>158616.077870</td>\n",
       "      <td>сыграть свадьбу</td>\n",
       "    </tr>\n",
       "    <tr>\n",
       "      <th>5</th>\n",
       "      <td>0</td>\n",
       "      <td>-926.185831</td>\n",
       "      <td>27</td>\n",
       "      <td>высшее</td>\n",
       "      <td>0</td>\n",
       "      <td>гражданский брак</td>\n",
       "      <td>1</td>\n",
       "      <td>M</td>\n",
       "      <td>компаньон</td>\n",
       "      <td>0</td>\n",
       "      <td>255763.565419</td>\n",
       "      <td>покупка жилья</td>\n",
       "    </tr>\n",
       "    <tr>\n",
       "      <th>6</th>\n",
       "      <td>0</td>\n",
       "      <td>-2879.202052</td>\n",
       "      <td>43</td>\n",
       "      <td>высшее</td>\n",
       "      <td>0</td>\n",
       "      <td>женат / замужем</td>\n",
       "      <td>0</td>\n",
       "      <td>F</td>\n",
       "      <td>компаньон</td>\n",
       "      <td>0</td>\n",
       "      <td>240525.971920</td>\n",
       "      <td>операции с жильем</td>\n",
       "    </tr>\n",
       "    <tr>\n",
       "      <th>7</th>\n",
       "      <td>0</td>\n",
       "      <td>-152.779569</td>\n",
       "      <td>50</td>\n",
       "      <td>СРЕДНЕЕ</td>\n",
       "      <td>1</td>\n",
       "      <td>женат / замужем</td>\n",
       "      <td>0</td>\n",
       "      <td>M</td>\n",
       "      <td>сотрудник</td>\n",
       "      <td>0</td>\n",
       "      <td>135823.934197</td>\n",
       "      <td>образование</td>\n",
       "    </tr>\n",
       "    <tr>\n",
       "      <th>8</th>\n",
       "      <td>2</td>\n",
       "      <td>-6929.865299</td>\n",
       "      <td>35</td>\n",
       "      <td>ВЫСШЕЕ</td>\n",
       "      <td>0</td>\n",
       "      <td>гражданский брак</td>\n",
       "      <td>1</td>\n",
       "      <td>F</td>\n",
       "      <td>сотрудник</td>\n",
       "      <td>0</td>\n",
       "      <td>95856.832424</td>\n",
       "      <td>на проведение свадьбы</td>\n",
       "    </tr>\n",
       "    <tr>\n",
       "      <th>9</th>\n",
       "      <td>0</td>\n",
       "      <td>-2188.756445</td>\n",
       "      <td>41</td>\n",
       "      <td>среднее</td>\n",
       "      <td>1</td>\n",
       "      <td>женат / замужем</td>\n",
       "      <td>0</td>\n",
       "      <td>M</td>\n",
       "      <td>сотрудник</td>\n",
       "      <td>0</td>\n",
       "      <td>144425.938277</td>\n",
       "      <td>покупка жилья для семьи</td>\n",
       "    </tr>\n",
       "    <tr>\n",
       "      <th>10</th>\n",
       "      <td>2</td>\n",
       "      <td>-4171.483647</td>\n",
       "      <td>36</td>\n",
       "      <td>высшее</td>\n",
       "      <td>0</td>\n",
       "      <td>женат / замужем</td>\n",
       "      <td>0</td>\n",
       "      <td>M</td>\n",
       "      <td>компаньон</td>\n",
       "      <td>0</td>\n",
       "      <td>113943.491460</td>\n",
       "      <td>покупка недвижимости</td>\n",
       "    </tr>\n",
       "    <tr>\n",
       "      <th>11</th>\n",
       "      <td>0</td>\n",
       "      <td>-792.701887</td>\n",
       "      <td>40</td>\n",
       "      <td>среднее</td>\n",
       "      <td>1</td>\n",
       "      <td>женат / замужем</td>\n",
       "      <td>0</td>\n",
       "      <td>F</td>\n",
       "      <td>сотрудник</td>\n",
       "      <td>0</td>\n",
       "      <td>77069.234271</td>\n",
       "      <td>покупка коммерческой недвижимости</td>\n",
       "    </tr>\n",
       "    <tr>\n",
       "      <th>12</th>\n",
       "      <td>0</td>\n",
       "      <td>NaN</td>\n",
       "      <td>65</td>\n",
       "      <td>среднее</td>\n",
       "      <td>1</td>\n",
       "      <td>гражданский брак</td>\n",
       "      <td>1</td>\n",
       "      <td>M</td>\n",
       "      <td>пенсионер</td>\n",
       "      <td>0</td>\n",
       "      <td>NaN</td>\n",
       "      <td>сыграть свадьбу</td>\n",
       "    </tr>\n",
       "    <tr>\n",
       "      <th>13</th>\n",
       "      <td>0</td>\n",
       "      <td>-1846.641941</td>\n",
       "      <td>54</td>\n",
       "      <td>неоконченное высшее</td>\n",
       "      <td>2</td>\n",
       "      <td>женат / замужем</td>\n",
       "      <td>0</td>\n",
       "      <td>F</td>\n",
       "      <td>сотрудник</td>\n",
       "      <td>0</td>\n",
       "      <td>130458.228857</td>\n",
       "      <td>приобретение автомобиля</td>\n",
       "    </tr>\n",
       "    <tr>\n",
       "      <th>14</th>\n",
       "      <td>0</td>\n",
       "      <td>-1844.956182</td>\n",
       "      <td>56</td>\n",
       "      <td>высшее</td>\n",
       "      <td>0</td>\n",
       "      <td>гражданский брак</td>\n",
       "      <td>1</td>\n",
       "      <td>F</td>\n",
       "      <td>компаньон</td>\n",
       "      <td>1</td>\n",
       "      <td>165127.911772</td>\n",
       "      <td>покупка жилой недвижимости</td>\n",
       "    </tr>\n",
       "    <tr>\n",
       "      <th>15</th>\n",
       "      <td>1</td>\n",
       "      <td>-972.364419</td>\n",
       "      <td>26</td>\n",
       "      <td>среднее</td>\n",
       "      <td>1</td>\n",
       "      <td>женат / замужем</td>\n",
       "      <td>0</td>\n",
       "      <td>F</td>\n",
       "      <td>сотрудник</td>\n",
       "      <td>0</td>\n",
       "      <td>116820.904450</td>\n",
       "      <td>строительство собственной недвижимости</td>\n",
       "    </tr>\n",
       "    <tr>\n",
       "      <th>16</th>\n",
       "      <td>0</td>\n",
       "      <td>-1719.934226</td>\n",
       "      <td>35</td>\n",
       "      <td>среднее</td>\n",
       "      <td>1</td>\n",
       "      <td>женат / замужем</td>\n",
       "      <td>0</td>\n",
       "      <td>F</td>\n",
       "      <td>сотрудник</td>\n",
       "      <td>0</td>\n",
       "      <td>289202.704229</td>\n",
       "      <td>недвижимость</td>\n",
       "    </tr>\n",
       "    <tr>\n",
       "      <th>17</th>\n",
       "      <td>0</td>\n",
       "      <td>-2369.999720</td>\n",
       "      <td>33</td>\n",
       "      <td>высшее</td>\n",
       "      <td>0</td>\n",
       "      <td>гражданский брак</td>\n",
       "      <td>1</td>\n",
       "      <td>M</td>\n",
       "      <td>сотрудник</td>\n",
       "      <td>0</td>\n",
       "      <td>90410.586745</td>\n",
       "      <td>строительство недвижимости</td>\n",
       "    </tr>\n",
       "    <tr>\n",
       "      <th>18</th>\n",
       "      <td>0</td>\n",
       "      <td>400281.136913</td>\n",
       "      <td>53</td>\n",
       "      <td>среднее</td>\n",
       "      <td>1</td>\n",
       "      <td>вдовец / вдова</td>\n",
       "      <td>2</td>\n",
       "      <td>F</td>\n",
       "      <td>пенсионер</td>\n",
       "      <td>0</td>\n",
       "      <td>56823.777243</td>\n",
       "      <td>на покупку подержанного автомобиля</td>\n",
       "    </tr>\n",
       "    <tr>\n",
       "      <th>19</th>\n",
       "      <td>0</td>\n",
       "      <td>-10038.818549</td>\n",
       "      <td>48</td>\n",
       "      <td>СРЕДНЕЕ</td>\n",
       "      <td>1</td>\n",
       "      <td>в разводе</td>\n",
       "      <td>3</td>\n",
       "      <td>F</td>\n",
       "      <td>сотрудник</td>\n",
       "      <td>0</td>\n",
       "      <td>242831.107982</td>\n",
       "      <td>на покупку своего автомобиля</td>\n",
       "    </tr>\n",
       "  </tbody>\n",
       "</table>\n",
       "</div>"
      ],
      "text/plain": [
       "    children  days_employed  dob_years            education  education_id  \\\n",
       "0          1   -8437.673028         42               высшее             0   \n",
       "1          1   -4024.803754         36              среднее             1   \n",
       "2          0   -5623.422610         33              Среднее             1   \n",
       "3          3   -4124.747207         32              среднее             1   \n",
       "4          0  340266.072047         53              среднее             1   \n",
       "5          0    -926.185831         27               высшее             0   \n",
       "6          0   -2879.202052         43               высшее             0   \n",
       "7          0    -152.779569         50              СРЕДНЕЕ             1   \n",
       "8          2   -6929.865299         35               ВЫСШЕЕ             0   \n",
       "9          0   -2188.756445         41              среднее             1   \n",
       "10         2   -4171.483647         36               высшее             0   \n",
       "11         0    -792.701887         40              среднее             1   \n",
       "12         0            NaN         65              среднее             1   \n",
       "13         0   -1846.641941         54  неоконченное высшее             2   \n",
       "14         0   -1844.956182         56               высшее             0   \n",
       "15         1    -972.364419         26              среднее             1   \n",
       "16         0   -1719.934226         35              среднее             1   \n",
       "17         0   -2369.999720         33               высшее             0   \n",
       "18         0  400281.136913         53              среднее             1   \n",
       "19         0  -10038.818549         48              СРЕДНЕЕ             1   \n",
       "\n",
       "       family_status  family_status_id gender income_type  debt  \\\n",
       "0    женат / замужем                 0      F   сотрудник     0   \n",
       "1    женат / замужем                 0      F   сотрудник     0   \n",
       "2    женат / замужем                 0      M   сотрудник     0   \n",
       "3    женат / замужем                 0      M   сотрудник     0   \n",
       "4   гражданский брак                 1      F   пенсионер     0   \n",
       "5   гражданский брак                 1      M   компаньон     0   \n",
       "6    женат / замужем                 0      F   компаньон     0   \n",
       "7    женат / замужем                 0      M   сотрудник     0   \n",
       "8   гражданский брак                 1      F   сотрудник     0   \n",
       "9    женат / замужем                 0      M   сотрудник     0   \n",
       "10   женат / замужем                 0      M   компаньон     0   \n",
       "11   женат / замужем                 0      F   сотрудник     0   \n",
       "12  гражданский брак                 1      M   пенсионер     0   \n",
       "13   женат / замужем                 0      F   сотрудник     0   \n",
       "14  гражданский брак                 1      F   компаньон     1   \n",
       "15   женат / замужем                 0      F   сотрудник     0   \n",
       "16   женат / замужем                 0      F   сотрудник     0   \n",
       "17  гражданский брак                 1      M   сотрудник     0   \n",
       "18    вдовец / вдова                 2      F   пенсионер     0   \n",
       "19         в разводе                 3      F   сотрудник     0   \n",
       "\n",
       "     total_income                                 purpose  \n",
       "0   253875.639453                           покупка жилья  \n",
       "1   112080.014102                 приобретение автомобиля  \n",
       "2   145885.952297                           покупка жилья  \n",
       "3   267628.550329              дополнительное образование  \n",
       "4   158616.077870                         сыграть свадьбу  \n",
       "5   255763.565419                           покупка жилья  \n",
       "6   240525.971920                       операции с жильем  \n",
       "7   135823.934197                             образование  \n",
       "8    95856.832424                   на проведение свадьбы  \n",
       "9   144425.938277                 покупка жилья для семьи  \n",
       "10  113943.491460                    покупка недвижимости  \n",
       "11   77069.234271       покупка коммерческой недвижимости  \n",
       "12            NaN                         сыграть свадьбу  \n",
       "13  130458.228857                 приобретение автомобиля  \n",
       "14  165127.911772              покупка жилой недвижимости  \n",
       "15  116820.904450  строительство собственной недвижимости  \n",
       "16  289202.704229                            недвижимость  \n",
       "17   90410.586745              строительство недвижимости  \n",
       "18   56823.777243      на покупку подержанного автомобиля  \n",
       "19  242831.107982            на покупку своего автомобиля  "
      ]
     },
     "execution_count": 2,
     "metadata": {},
     "output_type": "execute_result"
    }
   ],
   "source": [
    "data.head(20)"
   ]
  },
  {
   "cell_type": "markdown",
   "id": "514eb97c",
   "metadata": {
    "deletable": false,
    "editable": false,
    "id": "1c12e233"
   },
   "source": [
    "**Задание 3. Выведите основную информацию о датафрейме с помощью метода `info()`.**"
   ]
  },
  {
   "cell_type": "code",
   "execution_count": 3,
   "id": "178f544e",
   "metadata": {
    "deletable": false,
    "id": "2b757bca",
    "outputId": "15376089-8dad-46c9-b520-c05248d43158"
   },
   "outputs": [
    {
     "name": "stdout",
     "output_type": "stream",
     "text": [
      "<class 'pandas.core.frame.DataFrame'>\n",
      "RangeIndex: 21525 entries, 0 to 21524\n",
      "Data columns (total 12 columns):\n",
      " #   Column            Non-Null Count  Dtype  \n",
      "---  ------            --------------  -----  \n",
      " 0   children          21525 non-null  int64  \n",
      " 1   days_employed     19351 non-null  float64\n",
      " 2   dob_years         21525 non-null  int64  \n",
      " 3   education         21525 non-null  object \n",
      " 4   education_id      21525 non-null  int64  \n",
      " 5   family_status     21525 non-null  object \n",
      " 6   family_status_id  21525 non-null  int64  \n",
      " 7   gender            21525 non-null  object \n",
      " 8   income_type       21525 non-null  object \n",
      " 9   debt              21525 non-null  int64  \n",
      " 10  total_income      19351 non-null  float64\n",
      " 11  purpose           21525 non-null  object \n",
      "dtypes: float64(2), int64(5), object(5)\n",
      "memory usage: 2.0+ MB\n"
     ]
    }
   ],
   "source": [
    "data.info()"
   ]
  },
  {
   "cell_type": "markdown",
   "id": "399ec64d",
   "metadata": {
    "deletable": false,
    "editable": false,
    "id": "333ec665"
   },
   "source": [
    "## Предобработка данных"
   ]
  },
  {
   "cell_type": "markdown",
   "id": "f87c7e52",
   "metadata": {
    "deletable": false,
    "editable": false,
    "id": "02d92d53"
   },
   "source": [
    "### Удаление пропусков"
   ]
  },
  {
   "cell_type": "markdown",
   "id": "33c5a613",
   "metadata": {
    "deletable": false,
    "editable": false,
    "id": "cd84967c"
   },
   "source": [
    "**Задание 4. Выведите количество пропущенных значений для каждого столбца. Используйте комбинацию двух методов.**"
   ]
  },
  {
   "cell_type": "code",
   "execution_count": 4,
   "id": "6cbee5bd",
   "metadata": {
    "deletable": false,
    "id": "7f9b2309",
    "outputId": "81f4d817-781c-465c-ed15-91ce4446810d"
   },
   "outputs": [
    {
     "data": {
      "text/plain": [
       "children               0\n",
       "days_employed       2174\n",
       "dob_years              0\n",
       "education              0\n",
       "education_id           0\n",
       "family_status          0\n",
       "family_status_id       0\n",
       "gender                 0\n",
       "income_type            0\n",
       "debt                   0\n",
       "total_income        2174\n",
       "purpose                0\n",
       "dtype: int64"
      ]
     },
     "execution_count": 4,
     "metadata": {},
     "output_type": "execute_result"
    }
   ],
   "source": [
    "data.isna().sum()"
   ]
  },
  {
   "cell_type": "markdown",
   "id": "bd7fa53b",
   "metadata": {
    "deletable": false,
    "editable": false,
    "id": "db86e27b"
   },
   "source": [
    "**Задание 5. В двух столбцах есть пропущенные значения. Один из них — `days_employed`. Пропуски в этом столбце вы обработаете на следующем этапе. Другой столбец с пропущенными значениями — `total_income` — хранит данные о доходах. На сумму дохода сильнее всего влияет тип занятости, поэтому заполнить пропуски в этом столбце нужно медианным значением по каждому типу из столбца `income_type`. Например, у человека с типом занятости `сотрудник` пропуск в столбце `total_income` должен быть заполнен медианным доходом среди всех записей с тем же типом.**"
   ]
  },
  {
   "cell_type": "code",
   "execution_count": 5,
   "id": "954dbed2",
   "metadata": {
    "deletable": false,
    "id": "42006a93"
   },
   "outputs": [],
   "source": [
    "for t in data['income_type'].unique():\n",
    "    data.loc[(data['income_type'] == t) & (data['total_income'].isna()), 'total_income'] = \\\n",
    "    data.loc[(data['income_type'] == t), 'total_income'].median()\n",
    "    "
   ]
  },
  {
   "cell_type": "markdown",
   "id": "2e3651f4",
   "metadata": {
    "deletable": false,
    "editable": false,
    "id": "89da5ece"
   },
   "source": [
    "### Обработка аномальных значений"
   ]
  },
  {
   "cell_type": "markdown",
   "id": "61c0d002",
   "metadata": {
    "deletable": false,
    "editable": false,
    "id": "57964554"
   },
   "source": [
    "**Задание 6. В данных могут встречаться артефакты (аномалии) — значения, которые не отражают действительность и появились по какой-то ошибке. таким артефактом будет отрицательное количество дней трудового стажа в столбце `days_employed`. Для реальных данных это нормально. Обработайте значения в этом столбце: замените все отрицательные значения положительными с помощью метода `abs()`.**"
   ]
  },
  {
   "cell_type": "code",
   "execution_count": 6,
   "id": "e9d971f2",
   "metadata": {
    "deletable": false,
    "id": "f6f055bf"
   },
   "outputs": [],
   "source": [
    "data['days_employed'] = data['days_employed'].abs()"
   ]
  },
  {
   "cell_type": "markdown",
   "id": "0ae5fa6b",
   "metadata": {
    "deletable": false,
    "editable": false,
    "id": "6107dd2f"
   },
   "source": [
    "**Задание 7. Для каждого типа занятости выведите медианное значение трудового стажа `days_employed` в днях.**"
   ]
  },
  {
   "cell_type": "code",
   "execution_count": 7,
   "id": "490dc9fb",
   "metadata": {
    "deletable": false,
    "id": "85a5faf6",
    "outputId": "801ef80e-522b-4668-f34e-565af7432bcf"
   },
   "outputs": [
    {
     "data": {
      "text/plain": [
       "income_type\n",
       "безработный        366413.652744\n",
       "в декрете            3296.759962\n",
       "госслужащий          2689.368353\n",
       "компаньон            1547.382223\n",
       "пенсионер          365213.306266\n",
       "предприниматель       520.848083\n",
       "сотрудник            1574.202821\n",
       "студент               578.751554\n",
       "Name: days_employed, dtype: float64"
      ]
     },
     "execution_count": 7,
     "metadata": {},
     "output_type": "execute_result"
    }
   ],
   "source": [
    "data.groupby('income_type')['days_employed'].agg('median')"
   ]
  },
  {
   "cell_type": "markdown",
   "id": "877bcd21",
   "metadata": {
    "deletable": false,
    "editable": false,
    "id": "38d1a030"
   },
   "source": [
    "У двух типов (безработные и пенсионеры) получатся аномально большие значения. Исправить такие значения сложно, поэтому оставьте их как есть. Тем более этот столбец не понадобится вам для исследования."
   ]
  },
  {
   "cell_type": "markdown",
   "id": "c473de64",
   "metadata": {
    "deletable": false,
    "editable": false,
    "id": "d8a9f147"
   },
   "source": [
    "**Задание 8. Выведите перечень уникальных значений столбца `children`.**"
   ]
  },
  {
   "cell_type": "code",
   "execution_count": 8,
   "id": "a0d99167",
   "metadata": {
    "deletable": false,
    "id": "ef5056eb",
    "outputId": "6975b15c-7f95-4697-d16d-a0c79b657b03"
   },
   "outputs": [
    {
     "data": {
      "text/plain": [
       "array([ 1,  0,  3,  2, -1,  4, 20,  5], dtype=int64)"
      ]
     },
     "execution_count": 8,
     "metadata": {},
     "output_type": "execute_result"
    }
   ],
   "source": [
    "data['children'].unique()"
   ]
  },
  {
   "cell_type": "markdown",
   "id": "583ec59b",
   "metadata": {
    "deletable": false,
    "editable": false,
    "id": "40b9ebf2"
   },
   "source": [
    "**Задание 9. В столбце `children` есть два аномальных значения. Удалите строки, в которых встречаются такие аномальные значения из датафрейма `data`.**"
   ]
  },
  {
   "cell_type": "code",
   "execution_count": 9,
   "id": "82b4ac4f",
   "metadata": {
    "deletable": false,
    "id": "3ff9801d"
   },
   "outputs": [],
   "source": [
    "data = data[(data['children'] != -1) & (data['children'] != 20)]"
   ]
  },
  {
   "cell_type": "markdown",
   "id": "ac31b0d5",
   "metadata": {
    "deletable": false,
    "editable": false,
    "id": "bbc4d0ce"
   },
   "source": [
    "**Задание 10. Ещё раз выведите перечень уникальных значений столбца `children`, чтобы убедиться, что артефакты удалены.**"
   ]
  },
  {
   "cell_type": "code",
   "execution_count": 10,
   "id": "644c3081",
   "metadata": {
    "deletable": false,
    "id": "ad4fa8b7",
    "outputId": "b2097101-d49d-44d9-901b-32a65c9463d1"
   },
   "outputs": [
    {
     "data": {
      "text/plain": [
       "array([1, 0, 3, 2, 4, 5], dtype=int64)"
      ]
     },
     "execution_count": 10,
     "metadata": {},
     "output_type": "execute_result"
    }
   ],
   "source": [
    "data['children'].unique()"
   ]
  },
  {
   "cell_type": "markdown",
   "id": "ce82a36e",
   "metadata": {
    "deletable": false,
    "editable": false,
    "id": "75440b63"
   },
   "source": [
    "### Удаление пропусков (продолжение)"
   ]
  },
  {
   "cell_type": "markdown",
   "id": "8c0863e9",
   "metadata": {
    "deletable": false,
    "editable": false,
    "id": "f4ea573f"
   },
   "source": [
    "**Задание 11. Заполните пропуски в столбце `days_employed` медианными значениями по каждого типа занятости `income_type`.**"
   ]
  },
  {
   "cell_type": "code",
   "execution_count": 11,
   "id": "5459126c",
   "metadata": {
    "deletable": false,
    "id": "af6b1a7e"
   },
   "outputs": [],
   "source": [
    "for t in data['income_type'].unique():\n",
    "    data.loc[(data['income_type'] == t) & (data['days_employed'].isna()), 'days_employed'] = \\\n",
    "    data.loc[(data['income_type'] == t), 'days_employed'].median()"
   ]
  },
  {
   "cell_type": "markdown",
   "id": "63ddc158",
   "metadata": {
    "deletable": false,
    "editable": false,
    "id": "2753f40d"
   },
   "source": [
    "**Задание 12. Убедитесь, что все пропуски заполнены. Проверьте себя и ещё раз выведите количество пропущенных значений для каждого столбца с помощью двух методов.**"
   ]
  },
  {
   "cell_type": "code",
   "execution_count": 12,
   "id": "9f735dda",
   "metadata": {
    "deletable": false,
    "id": "55f78bc2",
    "outputId": "8da1e4e1-358e-4e87-98c9-f261bce0a7b2"
   },
   "outputs": [
    {
     "data": {
      "text/html": [
       "<div>\n",
       "<style scoped>\n",
       "    .dataframe tbody tr th:only-of-type {\n",
       "        vertical-align: middle;\n",
       "    }\n",
       "\n",
       "    .dataframe tbody tr th {\n",
       "        vertical-align: top;\n",
       "    }\n",
       "\n",
       "    .dataframe thead th {\n",
       "        text-align: right;\n",
       "    }\n",
       "</style>\n",
       "<table border=\"1\" class=\"dataframe\">\n",
       "  <thead>\n",
       "    <tr style=\"text-align: right;\">\n",
       "      <th></th>\n",
       "      <th>0</th>\n",
       "    </tr>\n",
       "  </thead>\n",
       "  <tbody>\n",
       "    <tr>\n",
       "      <th>children</th>\n",
       "      <td>0</td>\n",
       "    </tr>\n",
       "    <tr>\n",
       "      <th>days_employed</th>\n",
       "      <td>0</td>\n",
       "    </tr>\n",
       "    <tr>\n",
       "      <th>dob_years</th>\n",
       "      <td>0</td>\n",
       "    </tr>\n",
       "    <tr>\n",
       "      <th>education</th>\n",
       "      <td>0</td>\n",
       "    </tr>\n",
       "    <tr>\n",
       "      <th>education_id</th>\n",
       "      <td>0</td>\n",
       "    </tr>\n",
       "    <tr>\n",
       "      <th>family_status</th>\n",
       "      <td>0</td>\n",
       "    </tr>\n",
       "    <tr>\n",
       "      <th>family_status_id</th>\n",
       "      <td>0</td>\n",
       "    </tr>\n",
       "    <tr>\n",
       "      <th>gender</th>\n",
       "      <td>0</td>\n",
       "    </tr>\n",
       "    <tr>\n",
       "      <th>income_type</th>\n",
       "      <td>0</td>\n",
       "    </tr>\n",
       "    <tr>\n",
       "      <th>debt</th>\n",
       "      <td>0</td>\n",
       "    </tr>\n",
       "    <tr>\n",
       "      <th>total_income</th>\n",
       "      <td>0</td>\n",
       "    </tr>\n",
       "    <tr>\n",
       "      <th>purpose</th>\n",
       "      <td>0</td>\n",
       "    </tr>\n",
       "  </tbody>\n",
       "</table>\n",
       "</div>"
      ],
      "text/plain": [
       "                  0\n",
       "children          0\n",
       "days_employed     0\n",
       "dob_years         0\n",
       "education         0\n",
       "education_id      0\n",
       "family_status     0\n",
       "family_status_id  0\n",
       "gender            0\n",
       "income_type       0\n",
       "debt              0\n",
       "total_income      0\n",
       "purpose           0"
      ]
     },
     "execution_count": 12,
     "metadata": {},
     "output_type": "execute_result"
    }
   ],
   "source": [
    "data.isna().sum().to_frame()"
   ]
  },
  {
   "cell_type": "markdown",
   "id": "99d2e39b",
   "metadata": {
    "deletable": false,
    "editable": false,
    "id": "ddc81e43"
   },
   "source": [
    "### Изменение типов данных"
   ]
  },
  {
   "cell_type": "markdown",
   "id": "e2ede22b",
   "metadata": {
    "deletable": false,
    "editable": false,
    "id": "42d19d24"
   },
   "source": [
    "**Задание 13. Замените вещественный тип данных в столбце `total_income` на целочисленный с помощью метода `astype()`.**"
   ]
  },
  {
   "cell_type": "code",
   "execution_count": 13,
   "id": "18783539",
   "metadata": {
    "deletable": false,
    "id": "920b65ad"
   },
   "outputs": [],
   "source": [
    "data['total_income'] = data['total_income'].astype(int)"
   ]
  },
  {
   "cell_type": "markdown",
   "id": "4d3508f3",
   "metadata": {
    "deletable": false,
    "editable": false,
    "id": "80c420ba"
   },
   "source": [
    "### Обработка дубликатов"
   ]
  },
  {
   "cell_type": "markdown",
   "id": "4c2216a5",
   "metadata": {
    "deletable": false,
    "editable": false
   },
   "source": [
    "**Задание 14. Обработайте неявные дубликаты в столбце `education`. В этом столбце есть одни и те же значения, но записанные по-разному: с использованием заглавных и строчных букв. Приведите их к нижнему регистру. Проверьте остальные столбцы.**"
   ]
  },
  {
   "cell_type": "code",
   "execution_count": 14,
   "id": "8cf7813e",
   "metadata": {
    "deletable": false
   },
   "outputs": [],
   "source": [
    "data['education'] = data['education'].str.lower()"
   ]
  },
  {
   "cell_type": "markdown",
   "id": "113042aa",
   "metadata": {
    "deletable": false,
    "editable": false,
    "id": "dc587695"
   },
   "source": [
    "**Задание 15. Выведите на экран количество строк-дубликатов в данных. Если такие строки присутствуют, удалите их.**"
   ]
  },
  {
   "cell_type": "code",
   "execution_count": 15,
   "id": "e2524126",
   "metadata": {
    "deletable": false,
    "id": "3ee445e4",
    "outputId": "9684deba-1934-42d1-99e1-cda61740f822"
   },
   "outputs": [
    {
     "data": {
      "text/plain": [
       "71"
      ]
     },
     "execution_count": 15,
     "metadata": {},
     "output_type": "execute_result"
    }
   ],
   "source": [
    "data.duplicated().sum()"
   ]
  },
  {
   "cell_type": "code",
   "execution_count": 16,
   "id": "5932b834",
   "metadata": {
    "deletable": false,
    "id": "8575fe05"
   },
   "outputs": [],
   "source": [
    "data = data.drop_duplicates()"
   ]
  },
  {
   "cell_type": "code",
   "execution_count": 17,
   "id": "92fee6aa-021e-4404-8093-26d4abbeb74f",
   "metadata": {},
   "outputs": [
    {
     "data": {
      "text/plain": [
       "0"
      ]
     },
     "execution_count": 17,
     "metadata": {},
     "output_type": "execute_result"
    }
   ],
   "source": [
    "data.duplicated().sum()"
   ]
  },
  {
   "cell_type": "markdown",
   "id": "0da565b4",
   "metadata": {
    "deletable": false,
    "editable": false,
    "id": "9904cf55"
   },
   "source": [
    "### Категоризация данных"
   ]
  },
  {
   "cell_type": "markdown",
   "id": "04ba726e",
   "metadata": {
    "deletable": false,
    "editable": false,
    "id": "72fcc8a2"
   },
   "source": [
    "**Задание 16. На основании диапазонов, указанных ниже, создайте в датафрейме `data` столбец `total_income_category` с категориями:**\n",
    "\n",
    "- 0–30000 — `'E'`;\n",
    "- 30001–50000 — `'D'`;\n",
    "- 50001–200000 — `'C'`;\n",
    "- 200001–1000000 — `'B'`;\n",
    "- 1000001 и выше — `'A'`.\n",
    "\n",
    "\n",
    "**Например, кредитополучателю с доходом 25000 нужно назначить категорию `'E'`, а клиенту, получающему 235000, — `'B'`. Используйте собственную функцию с именем `categorize_income()` и метод `apply()`.**"
   ]
  },
  {
   "cell_type": "code",
   "execution_count": 18,
   "id": "da4af223",
   "metadata": {
    "deletable": false,
    "id": "e1771346"
   },
   "outputs": [],
   "source": [
    "def categorize_income(income):\n",
    "    try:\n",
    "        if 0 <= income <= 30000:\n",
    "            return 'E'\n",
    "        elif 30001 <= income <= 50000:\n",
    "            return 'D'\n",
    "        elif 50001 <= income <= 200000:\n",
    "            return 'C'\n",
    "        elif 200001 <= income <= 1000000:\n",
    "            return 'B'\n",
    "        elif income >= 1000001:\n",
    "            return 'A'\n",
    "    except:\n",
    "        pass"
   ]
  },
  {
   "cell_type": "code",
   "execution_count": 19,
   "id": "08481749",
   "metadata": {
    "deletable": false,
    "id": "d5f3586d"
   },
   "outputs": [],
   "source": [
    "data['total_income_category'] = data['total_income'].apply(categorize_income)"
   ]
  },
  {
   "cell_type": "markdown",
   "id": "72a10855",
   "metadata": {
    "deletable": false,
    "editable": false,
    "id": "dde49b5c"
   },
   "source": [
    "**Задание 17. Выведите на экран перечень уникальных целей взятия кредита из столбца `purpose`.**"
   ]
  },
  {
   "cell_type": "code",
   "execution_count": 20,
   "id": "87cd0109",
   "metadata": {
    "deletable": false,
    "id": "f67ce9b3",
    "outputId": "673c12d9-7d7e-4ae0-9812-c622c89dd244"
   },
   "outputs": [
    {
     "data": {
      "text/plain": [
       "array(['покупка жилья', 'приобретение автомобиля',\n",
       "       'дополнительное образование', 'сыграть свадьбу',\n",
       "       'операции с жильем', 'образование', 'на проведение свадьбы',\n",
       "       'покупка жилья для семьи', 'покупка недвижимости',\n",
       "       'покупка коммерческой недвижимости', 'покупка жилой недвижимости',\n",
       "       'строительство собственной недвижимости', 'недвижимость',\n",
       "       'строительство недвижимости', 'на покупку подержанного автомобиля',\n",
       "       'на покупку своего автомобиля',\n",
       "       'операции с коммерческой недвижимостью',\n",
       "       'строительство жилой недвижимости', 'жилье',\n",
       "       'операции со своей недвижимостью', 'автомобили',\n",
       "       'заняться образованием', 'сделка с подержанным автомобилем',\n",
       "       'получение образования', 'автомобиль', 'свадьба',\n",
       "       'получение дополнительного образования', 'покупка своего жилья',\n",
       "       'операции с недвижимостью', 'получение высшего образования',\n",
       "       'свой автомобиль', 'сделка с автомобилем',\n",
       "       'профильное образование', 'высшее образование',\n",
       "       'покупка жилья для сдачи', 'на покупку автомобиля', 'ремонт жилью',\n",
       "       'заняться высшим образованием'], dtype=object)"
      ]
     },
     "execution_count": 20,
     "metadata": {},
     "output_type": "execute_result"
    }
   ],
   "source": [
    "data['purpose'].unique()"
   ]
  },
  {
   "cell_type": "markdown",
   "id": "125ac2c9",
   "metadata": {
    "deletable": false,
    "editable": false,
    "id": "85d0aef0"
   },
   "source": [
    "**Задание 18. Создайте функцию, которая на основании данных из столбца `purpose` сформирует новый столбец `purpose_category`, в который войдут следующие категории:**\n",
    "\n",
    "- `'операции с автомобилем'`,\n",
    "- `'операции с недвижимостью'`,\n",
    "- `'проведение свадьбы'`,\n",
    "- `'получение образования'`.\n",
    "\n",
    "**Например, если в столбце `purpose` находится подстрока `'на покупку автомобиля'`, то в столбце `purpose_category` должна появиться строка `'операции с автомобилем'`.**\n",
    "\n",
    "**Используйте собственную функцию с именем `categorize_purpose()` и метод `apply()`. Изучите данные в столбце `purpose` и определите, какие подстроки помогут вам правильно определить категорию.**"
   ]
  },
  {
   "cell_type": "code",
   "execution_count": 21,
   "id": "f58ae34c",
   "metadata": {
    "deletable": false,
    "id": "e149fab4"
   },
   "outputs": [],
   "source": [
    "def categorize_purpose(row):\n",
    "    try:\n",
    "        if 'автом' in row:\n",
    "            return 'операции с автомобилем'\n",
    "        elif 'жил' in row or 'недвиж' in row:\n",
    "            return 'операции с недвижимостью'\n",
    "        elif 'свад' in row:\n",
    "            return 'проведение свадьбы'\n",
    "        elif 'образов' in row:\n",
    "            return 'получение образования'\n",
    "    except:\n",
    "        return 'нет категории'"
   ]
  },
  {
   "cell_type": "code",
   "execution_count": 22,
   "id": "c268a856",
   "metadata": {
    "deletable": false,
    "id": "bf36e69b"
   },
   "outputs": [],
   "source": [
    "data['purpose_category'] = data['purpose'].apply(categorize_purpose)"
   ]
  },
  {
   "cell_type": "markdown",
   "id": "937e6d9d",
   "metadata": {
    "deletable": false,
    "editable": false,
    "id": "09b242bf"
   },
   "source": [
    "### Шаг 3. Исследуйте данные и ответьте на вопросы"
   ]
  },
  {
   "cell_type": "markdown",
   "id": "6c74ec73",
   "metadata": {
    "deletable": false,
    "editable": false,
    "id": "c5d66278"
   },
   "source": [
    "#### 3.1 Есть ли зависимость между количеством детей и возвратом кредита в срок?"
   ]
  },
  {
   "cell_type": "markdown",
   "id": "577e5869",
   "metadata": {},
   "source": [
    "Для изучения вляния  профиля заемщика на своевременность платежей воспользуемся метрикой -\n",
    "**долей клиентов с задолженностью**,  **далее метрика**,  которую определим как отношение числа клиентов, имевших     \n",
    "задолженность к общему числу клиентов. Вычислим и проанализируем эту метрику.  "
   ]
  },
  {
   "cell_type": "markdown",
   "id": "b55a7777",
   "metadata": {},
   "source": [
    "проанализируем столбец `debt`:"
   ]
  },
  {
   "cell_type": "code",
   "execution_count": 23,
   "id": "c78a22f4",
   "metadata": {
    "deletable": false,
    "id": "2cacfc4a"
   },
   "outputs": [
    {
     "data": {
      "text/plain": [
       "0    19599\n",
       "1     1732\n",
       "Name: debt, dtype: int64"
      ]
     },
     "execution_count": 23,
     "metadata": {},
     "output_type": "execute_result"
    }
   ],
   "source": [
    "data['debt'].value_counts()"
   ]
  },
  {
   "cell_type": "markdown",
   "id": "ceb458e2",
   "metadata": {},
   "source": [
    "Вероятно значение 0 присвоено клиентам без задолженности. Cгруппируем таблицу по количеству детей и \n",
    "вычислим долю клиентов с задолженностью.\n",
    "Результат сохраним в таблице `children_data_grouped`, где\n",
    "`children`   - количество детей;\n",
    "`sum`        - клиенты, имевшие задолженность;\n",
    "`count`      - число клиентов;\n",
    "`mean`       - доля клиентов с задолженностью;\n",
    "`total_mean` - общая доля всех клиентов с задолженностью.\n",
    "\n",
    "\n",
    "\n"
   ]
  },
  {
   "cell_type": "code",
   "execution_count": 24,
   "id": "e7a66169",
   "metadata": {},
   "outputs": [
    {
     "data": {
      "text/html": [
       "<div>\n",
       "<style scoped>\n",
       "    .dataframe tbody tr th:only-of-type {\n",
       "        vertical-align: middle;\n",
       "    }\n",
       "\n",
       "    .dataframe tbody tr th {\n",
       "        vertical-align: top;\n",
       "    }\n",
       "\n",
       "    .dataframe thead tr th {\n",
       "        text-align: left;\n",
       "    }\n",
       "\n",
       "    .dataframe thead tr:last-of-type th {\n",
       "        text-align: right;\n",
       "    }\n",
       "</style>\n",
       "<table border=\"1\" class=\"dataframe\">\n",
       "  <thead>\n",
       "    <tr>\n",
       "      <th></th>\n",
       "      <th colspan=\"3\" halign=\"left\">debt</th>\n",
       "      <th>total_mean</th>\n",
       "    </tr>\n",
       "    <tr>\n",
       "      <th></th>\n",
       "      <th>sum</th>\n",
       "      <th>count</th>\n",
       "      <th>mean</th>\n",
       "      <th></th>\n",
       "    </tr>\n",
       "    <tr>\n",
       "      <th>children</th>\n",
       "      <th></th>\n",
       "      <th></th>\n",
       "      <th></th>\n",
       "      <th></th>\n",
       "    </tr>\n",
       "  </thead>\n",
       "  <tbody>\n",
       "    <tr>\n",
       "      <th>0</th>\n",
       "      <td>1063</td>\n",
       "      <td>14091</td>\n",
       "      <td>0.075</td>\n",
       "      <td>0.081</td>\n",
       "    </tr>\n",
       "    <tr>\n",
       "      <th>1</th>\n",
       "      <td>444</td>\n",
       "      <td>4808</td>\n",
       "      <td>0.092</td>\n",
       "      <td>0.081</td>\n",
       "    </tr>\n",
       "    <tr>\n",
       "      <th>2</th>\n",
       "      <td>194</td>\n",
       "      <td>2052</td>\n",
       "      <td>0.095</td>\n",
       "      <td>0.081</td>\n",
       "    </tr>\n",
       "    <tr>\n",
       "      <th>3</th>\n",
       "      <td>27</td>\n",
       "      <td>330</td>\n",
       "      <td>0.082</td>\n",
       "      <td>0.081</td>\n",
       "    </tr>\n",
       "    <tr>\n",
       "      <th>4</th>\n",
       "      <td>4</td>\n",
       "      <td>41</td>\n",
       "      <td>0.098</td>\n",
       "      <td>0.081</td>\n",
       "    </tr>\n",
       "    <tr>\n",
       "      <th>5</th>\n",
       "      <td>0</td>\n",
       "      <td>9</td>\n",
       "      <td>0.000</td>\n",
       "      <td>0.081</td>\n",
       "    </tr>\n",
       "  </tbody>\n",
       "</table>\n",
       "</div>"
      ],
      "text/plain": [
       "          debt               total_mean\n",
       "           sum  count   mean           \n",
       "children                               \n",
       "0         1063  14091  0.075      0.081\n",
       "1          444   4808  0.092      0.081\n",
       "2          194   2052  0.095      0.081\n",
       "3           27    330  0.082      0.081\n",
       "4            4     41  0.098      0.081\n",
       "5            0      9  0.000      0.081"
      ]
     },
     "execution_count": 24,
     "metadata": {},
     "output_type": "execute_result"
    }
   ],
   "source": [
    "children_data_grouped = data.groupby('children').agg({'debt':['sum','count','mean']})\n",
    "children_data_grouped ['total_mean'] = data['debt'].mean().round(3)\n",
    "children_data_grouped [('debt','mean')] = children_data_grouped [('debt','mean')].round(3)\n",
    "children_data_grouped "
   ]
  },
  {
   "cell_type": "markdown",
   "id": "bfd0c097",
   "metadata": {},
   "source": [
    "<div class=\"alert alert-success\">\n",
    "<b>Комментарий ревьюера №1</b> ✅\n",
    "    \n",
    "Могу посоветовать переименовать столбцы и написать функцию для построения сводных во всех вопросах.\n",
    "</div>"
   ]
  },
  {
   "cell_type": "markdown",
   "id": "23b49568",
   "metadata": {
    "deletable": false,
    "id": "3a6b99ec"
   },
   "source": [
    "**Вывод:** Анализ таблицы показывает несущественные различия значений анализируемой метрики у\n",
    "клиентов с  детьми: разница между клиентами с  одним, двумя и четырьмя детьми составляет около 1%. Однако данные о клиентах с более чем двумя детьми недостаточны для статистически значимых выводов из-за низкого числа клиентов в данной категории.\n",
    "В тоже время метрика этой категории клиентов не ниже, чем метрика по всей базе.\n",
    " Количество детей существенно не влияет на анализируемую  метрику.\n",
    "Для клиентов без детей значение метрики значимо ниже, как в сравнении с  клиентами, имеющих детей, так  и для всех клиентов в целом. \n",
    "\n",
    "**Клиенты без детей имеют меньше просроченных кредитов, чем клиенты с детьми, а также меньше чем клиенты по всей базе в целом.\n",
    "Однако количество детей оказывает незначительное влияние на возврат кредита в срок.\n",
    "Доля анализа клиентов с более чем двумя детьми, недостаточно статистических данных.** \n",
    "\n",
    "           "
   ]
  },
  {
   "cell_type": "markdown",
   "id": "c0811be7",
   "metadata": {
    "deletable": false,
    "editable": false,
    "id": "97be82ca"
   },
   "source": [
    "#### 3.2 Есть ли зависимость между семейным положением и возвратом кредита в срок?"
   ]
  },
  {
   "cell_type": "markdown",
   "id": "c49e98b4",
   "metadata": {},
   "source": [
    "Сгруппируем таблицу по столбцу `family_status`и отсортируем данные по возрастанию значения метрики"
   ]
  },
  {
   "cell_type": "code",
   "execution_count": 25,
   "id": "4a4acb00",
   "metadata": {
    "deletable": false,
    "id": "dc3f7ee8"
   },
   "outputs": [
    {
     "data": {
      "text/html": [
       "<div>\n",
       "<style scoped>\n",
       "    .dataframe tbody tr th:only-of-type {\n",
       "        vertical-align: middle;\n",
       "    }\n",
       "\n",
       "    .dataframe tbody tr th {\n",
       "        vertical-align: top;\n",
       "    }\n",
       "\n",
       "    .dataframe thead tr th {\n",
       "        text-align: left;\n",
       "    }\n",
       "\n",
       "    .dataframe thead tr:last-of-type th {\n",
       "        text-align: right;\n",
       "    }\n",
       "</style>\n",
       "<table border=\"1\" class=\"dataframe\">\n",
       "  <thead>\n",
       "    <tr>\n",
       "      <th></th>\n",
       "      <th colspan=\"3\" halign=\"left\">debt</th>\n",
       "      <th>total_mean</th>\n",
       "    </tr>\n",
       "    <tr>\n",
       "      <th></th>\n",
       "      <th>sum</th>\n",
       "      <th>count</th>\n",
       "      <th>mean</th>\n",
       "      <th></th>\n",
       "    </tr>\n",
       "    <tr>\n",
       "      <th>family_status</th>\n",
       "      <th></th>\n",
       "      <th></th>\n",
       "      <th></th>\n",
       "      <th></th>\n",
       "    </tr>\n",
       "  </thead>\n",
       "  <tbody>\n",
       "    <tr>\n",
       "      <th>вдовец / вдова</th>\n",
       "      <td>63</td>\n",
       "      <td>951</td>\n",
       "      <td>0.066</td>\n",
       "      <td>0.081</td>\n",
       "    </tr>\n",
       "    <tr>\n",
       "      <th>в разводе</th>\n",
       "      <td>84</td>\n",
       "      <td>1189</td>\n",
       "      <td>0.071</td>\n",
       "      <td>0.081</td>\n",
       "    </tr>\n",
       "    <tr>\n",
       "      <th>женат / замужем</th>\n",
       "      <td>927</td>\n",
       "      <td>12261</td>\n",
       "      <td>0.076</td>\n",
       "      <td>0.081</td>\n",
       "    </tr>\n",
       "    <tr>\n",
       "      <th>гражданский брак</th>\n",
       "      <td>385</td>\n",
       "      <td>4134</td>\n",
       "      <td>0.093</td>\n",
       "      <td>0.081</td>\n",
       "    </tr>\n",
       "    <tr>\n",
       "      <th>Не женат / не замужем</th>\n",
       "      <td>273</td>\n",
       "      <td>2796</td>\n",
       "      <td>0.098</td>\n",
       "      <td>0.081</td>\n",
       "    </tr>\n",
       "  </tbody>\n",
       "</table>\n",
       "</div>"
      ],
      "text/plain": [
       "                      debt               total_mean\n",
       "                       sum  count   mean           \n",
       "family_status                                      \n",
       "вдовец / вдова          63    951  0.066      0.081\n",
       "в разводе               84   1189  0.071      0.081\n",
       "женат / замужем        927  12261  0.076      0.081\n",
       "гражданский брак       385   4134  0.093      0.081\n",
       "Не женат / не замужем  273   2796  0.098      0.081"
      ]
     },
     "execution_count": 25,
     "metadata": {},
     "output_type": "execute_result"
    }
   ],
   "source": [
    "# Ваш код будет здесь. Вы можете создавать новdata_grouped = data.groupby('children')\\.agg({'debt':['sum','count','mean']})\n",
    "famaly_data_grouped = data.groupby('family_status').agg({'debt':['sum','count','mean']})\n",
    "famaly_data_grouped['total_mean'] = data['debt'].mean().round(3)\n",
    "famaly_data_grouped[('debt','mean')] = famaly_data_grouped[('debt','mean')].round(3)\n",
    "famaly_data_grouped.sort_values(by=('debt','mean'))"
   ]
  },
  {
   "cell_type": "markdown",
   "id": "f4c1502b",
   "metadata": {
    "deletable": false,
    "id": "1cef7837"
   },
   "source": [
    "**Вывод:** Семейное положение оказывает существеннное значение на показание метрики.\n",
    "Наиболее надежные заемщики клиенты в категорях \"вдова/вдовец\" и \"в разводе\", значение метрики в этих\n",
    "категориях  значительно ниже, чем у клиентов в гражданском браке или не состоявших в официальном браке. Клиенты, не состоявшие в официальном браке, относятся к категории с повышенным риском\n",
    "**Клиенты категорий: \"вдовец/вдова\", \"в разводе\", \"женат/замужем\" имеют значение метрики ниже среднего значения по всей выборке в целом. Клиенты из категории \"Не женат/замужем\" имеют высокий риск задолженности.**"
   ]
  },
  {
   "cell_type": "markdown",
   "id": "20eef0cb",
   "metadata": {
    "deletable": false,
    "editable": false,
    "id": "1e8b2fca"
   },
   "source": [
    "#### 3.3 Есть ли зависимость между уровнем дохода и возвратом кредита в срок?"
   ]
  },
  {
   "cell_type": "markdown",
   "id": "4dd9b952",
   "metadata": {},
   "source": [
    "Сгруппируем столбец `total_income_category`, значения в котором соответствуют следующим интервалам дохода:\n",
    "\n",
    "**0–30000 — E;\n",
    " 30001–50000 — D;\n",
    " 50001–200000 — C;\n",
    " 200001–1000000 — B;\n",
    " 1000001 и выше — A.** \n",
    " и отсортируем по возрастанию  исследуемой метрики:"
   ]
  },
  {
   "cell_type": "code",
   "execution_count": 26,
   "id": "92f8e514",
   "metadata": {
    "deletable": false,
    "id": "cd7e3720"
   },
   "outputs": [
    {
     "data": {
      "text/html": [
       "<div>\n",
       "<style scoped>\n",
       "    .dataframe tbody tr th:only-of-type {\n",
       "        vertical-align: middle;\n",
       "    }\n",
       "\n",
       "    .dataframe tbody tr th {\n",
       "        vertical-align: top;\n",
       "    }\n",
       "\n",
       "    .dataframe thead tr th {\n",
       "        text-align: left;\n",
       "    }\n",
       "\n",
       "    .dataframe thead tr:last-of-type th {\n",
       "        text-align: right;\n",
       "    }\n",
       "</style>\n",
       "<table border=\"1\" class=\"dataframe\">\n",
       "  <thead>\n",
       "    <tr>\n",
       "      <th></th>\n",
       "      <th colspan=\"3\" halign=\"left\">debt</th>\n",
       "      <th>total_mean</th>\n",
       "    </tr>\n",
       "    <tr>\n",
       "      <th></th>\n",
       "      <th>sum</th>\n",
       "      <th>count</th>\n",
       "      <th>mean</th>\n",
       "      <th></th>\n",
       "    </tr>\n",
       "    <tr>\n",
       "      <th>total_income_category</th>\n",
       "      <th></th>\n",
       "      <th></th>\n",
       "      <th></th>\n",
       "      <th></th>\n",
       "    </tr>\n",
       "  </thead>\n",
       "  <tbody>\n",
       "    <tr>\n",
       "      <th>D</th>\n",
       "      <td>21</td>\n",
       "      <td>349</td>\n",
       "      <td>0.060</td>\n",
       "      <td>0.081</td>\n",
       "    </tr>\n",
       "    <tr>\n",
       "      <th>B</th>\n",
       "      <td>354</td>\n",
       "      <td>5014</td>\n",
       "      <td>0.071</td>\n",
       "      <td>0.081</td>\n",
       "    </tr>\n",
       "    <tr>\n",
       "      <th>A</th>\n",
       "      <td>2</td>\n",
       "      <td>25</td>\n",
       "      <td>0.080</td>\n",
       "      <td>0.081</td>\n",
       "    </tr>\n",
       "    <tr>\n",
       "      <th>C</th>\n",
       "      <td>1353</td>\n",
       "      <td>15921</td>\n",
       "      <td>0.085</td>\n",
       "      <td>0.081</td>\n",
       "    </tr>\n",
       "    <tr>\n",
       "      <th>E</th>\n",
       "      <td>2</td>\n",
       "      <td>22</td>\n",
       "      <td>0.091</td>\n",
       "      <td>0.081</td>\n",
       "    </tr>\n",
       "  </tbody>\n",
       "</table>\n",
       "</div>"
      ],
      "text/plain": [
       "                       debt               total_mean\n",
       "                        sum  count   mean           \n",
       "total_income_category                               \n",
       "D                        21    349  0.060      0.081\n",
       "B                       354   5014  0.071      0.081\n",
       "A                         2     25  0.080      0.081\n",
       "C                      1353  15921  0.085      0.081\n",
       "E                         2     22  0.091      0.081"
      ]
     },
     "execution_count": 26,
     "metadata": {},
     "output_type": "execute_result"
    }
   ],
   "source": [
    "income_data_grouped = data.groupby('total_income_category').agg({'debt':['sum','count','mean']})\n",
    "income_data_grouped['total_mean'] = data['debt'].mean().round(3)\n",
    "income_data_grouped[('debt','mean')] = income_data_grouped[('debt','mean')].round(3)\n",
    "income_data_grouped.sort_values(by=('debt','mean'))"
   ]
  },
  {
   "cell_type": "markdown",
   "id": "1e940b66",
   "metadata": {},
   "source": [
    "В предложенных  категориях уровня дохода клиенты распределены неравномерно, так в категориях, A, E\n",
    "число клиентов мене 0.1%, в категории D менее 2%  от общего числа клиентов. Тем не менее, сравнивая\n",
    "данные столбцов B и C, размер которых достаточен для сравнения, сделаем предположение :  \n",
    "**c увеличением уровня доходов, риск невозврата кредита в срок уменьшается**.\n",
    "\n",
    "Для его проверки произведем категоризацию столбца `total_income`придерживаясь следующей методики выбора интервалов: найдем медиану столбца,  затем полученные два списка  разделим медианными значениями, создадим новый столбец `total_income_category_two`cо следующими значениями:\n",
    "`ниже среднего`.`средний`,\n",
    "`выше среднего`,`высокий`\n"
   ]
  },
  {
   "cell_type": "code",
   "execution_count": 27,
   "id": "fe926c89",
   "metadata": {},
   "outputs": [
    {
     "data": {
      "text/plain": [
       "[103423.0, 142594.0, 188755.5]"
      ]
     },
     "execution_count": 27,
     "metadata": {},
     "output_type": "execute_result"
    }
   ],
   "source": [
    "# создадим список, включающий значения медиан и вычислим их отсортируем по возрастанию\n",
    "income_median = [(data['total_income'].median())]\n",
    "income_median.append(data.loc[data['total_income'] >= income_median[0] ,'total_income'].median())\n",
    "income_median.append(data.loc[data['total_income'] < income_median[0] ,'total_income'].median())\n",
    "income_median.sort()\n",
    "income_median"
   ]
  },
  {
   "cell_type": "code",
   "execution_count": 28,
   "id": "72c072bd",
   "metadata": {},
   "outputs": [
    {
     "data": {
      "text/html": [
       "<div>\n",
       "<style scoped>\n",
       "    .dataframe tbody tr th:only-of-type {\n",
       "        vertical-align: middle;\n",
       "    }\n",
       "\n",
       "    .dataframe tbody tr th {\n",
       "        vertical-align: top;\n",
       "    }\n",
       "\n",
       "    .dataframe thead th {\n",
       "        text-align: right;\n",
       "    }\n",
       "</style>\n",
       "<table border=\"1\" class=\"dataframe\">\n",
       "  <thead>\n",
       "    <tr style=\"text-align: right;\">\n",
       "      <th></th>\n",
       "      <th>children</th>\n",
       "      <th>days_employed</th>\n",
       "      <th>dob_years</th>\n",
       "      <th>education</th>\n",
       "      <th>education_id</th>\n",
       "      <th>family_status</th>\n",
       "      <th>family_status_id</th>\n",
       "      <th>gender</th>\n",
       "      <th>income_type</th>\n",
       "      <th>debt</th>\n",
       "      <th>total_income</th>\n",
       "      <th>purpose</th>\n",
       "      <th>total_income_category</th>\n",
       "      <th>purpose_category</th>\n",
       "      <th>total_income_category_two</th>\n",
       "    </tr>\n",
       "  </thead>\n",
       "  <tbody>\n",
       "    <tr>\n",
       "      <th>0</th>\n",
       "      <td>1</td>\n",
       "      <td>8437.673028</td>\n",
       "      <td>42</td>\n",
       "      <td>высшее</td>\n",
       "      <td>0</td>\n",
       "      <td>женат / замужем</td>\n",
       "      <td>0</td>\n",
       "      <td>F</td>\n",
       "      <td>сотрудник</td>\n",
       "      <td>0</td>\n",
       "      <td>253875</td>\n",
       "      <td>покупка жилья</td>\n",
       "      <td>B</td>\n",
       "      <td>операции с недвижимостью</td>\n",
       "      <td>высокий</td>\n",
       "    </tr>\n",
       "    <tr>\n",
       "      <th>1</th>\n",
       "      <td>1</td>\n",
       "      <td>4024.803754</td>\n",
       "      <td>36</td>\n",
       "      <td>среднее</td>\n",
       "      <td>1</td>\n",
       "      <td>женат / замужем</td>\n",
       "      <td>0</td>\n",
       "      <td>F</td>\n",
       "      <td>сотрудник</td>\n",
       "      <td>0</td>\n",
       "      <td>112080</td>\n",
       "      <td>приобретение автомобиля</td>\n",
       "      <td>C</td>\n",
       "      <td>операции с автомобилем</td>\n",
       "      <td>средний</td>\n",
       "    </tr>\n",
       "    <tr>\n",
       "      <th>2</th>\n",
       "      <td>0</td>\n",
       "      <td>5623.422610</td>\n",
       "      <td>33</td>\n",
       "      <td>среднее</td>\n",
       "      <td>1</td>\n",
       "      <td>женат / замужем</td>\n",
       "      <td>0</td>\n",
       "      <td>M</td>\n",
       "      <td>сотрудник</td>\n",
       "      <td>0</td>\n",
       "      <td>145885</td>\n",
       "      <td>покупка жилья</td>\n",
       "      <td>C</td>\n",
       "      <td>операции с недвижимостью</td>\n",
       "      <td>выше среднего</td>\n",
       "    </tr>\n",
       "    <tr>\n",
       "      <th>3</th>\n",
       "      <td>3</td>\n",
       "      <td>4124.747207</td>\n",
       "      <td>32</td>\n",
       "      <td>среднее</td>\n",
       "      <td>1</td>\n",
       "      <td>женат / замужем</td>\n",
       "      <td>0</td>\n",
       "      <td>M</td>\n",
       "      <td>сотрудник</td>\n",
       "      <td>0</td>\n",
       "      <td>267628</td>\n",
       "      <td>дополнительное образование</td>\n",
       "      <td>B</td>\n",
       "      <td>получение образования</td>\n",
       "      <td>высокий</td>\n",
       "    </tr>\n",
       "    <tr>\n",
       "      <th>4</th>\n",
       "      <td>0</td>\n",
       "      <td>340266.072047</td>\n",
       "      <td>53</td>\n",
       "      <td>среднее</td>\n",
       "      <td>1</td>\n",
       "      <td>гражданский брак</td>\n",
       "      <td>1</td>\n",
       "      <td>F</td>\n",
       "      <td>пенсионер</td>\n",
       "      <td>0</td>\n",
       "      <td>158616</td>\n",
       "      <td>сыграть свадьбу</td>\n",
       "      <td>C</td>\n",
       "      <td>проведение свадьбы</td>\n",
       "      <td>выше среднего</td>\n",
       "    </tr>\n",
       "  </tbody>\n",
       "</table>\n",
       "</div>"
      ],
      "text/plain": [
       "   children  days_employed  dob_years education  education_id  \\\n",
       "0         1    8437.673028         42    высшее             0   \n",
       "1         1    4024.803754         36   среднее             1   \n",
       "2         0    5623.422610         33   среднее             1   \n",
       "3         3    4124.747207         32   среднее             1   \n",
       "4         0  340266.072047         53   среднее             1   \n",
       "\n",
       "      family_status  family_status_id gender income_type  debt  total_income  \\\n",
       "0   женат / замужем                 0      F   сотрудник     0        253875   \n",
       "1   женат / замужем                 0      F   сотрудник     0        112080   \n",
       "2   женат / замужем                 0      M   сотрудник     0        145885   \n",
       "3   женат / замужем                 0      M   сотрудник     0        267628   \n",
       "4  гражданский брак                 1      F   пенсионер     0        158616   \n",
       "\n",
       "                      purpose total_income_category          purpose_category  \\\n",
       "0               покупка жилья                     B  операции с недвижимостью   \n",
       "1     приобретение автомобиля                     C    операции с автомобилем   \n",
       "2               покупка жилья                     C  операции с недвижимостью   \n",
       "3  дополнительное образование                     B     получение образования   \n",
       "4             сыграть свадьбу                     C        проведение свадьбы   \n",
       "\n",
       "  total_income_category_two  \n",
       "0                   высокий  \n",
       "1                   средний  \n",
       "2             выше среднего  \n",
       "3                   высокий  \n",
       "4             выше среднего  "
      ]
     },
     "execution_count": 28,
     "metadata": {},
     "output_type": "execute_result"
    }
   ],
   "source": [
    "# функция, возвращающая значение категории в зависимости от интервала между значениями в income_median\n",
    "def cotegorize_total_median (income):\n",
    "    try:\n",
    "        if income <= income_median[0]:\n",
    "            return 'ниже среднего'\n",
    "        elif income_median[0] < income <=income_median[1]:\n",
    "            return 'средний'\n",
    "        elif income_median[1] < income <=income_median[2]:\n",
    "            return 'выше среднего'\n",
    "        elif  income >= income_median[2]:\n",
    "            return 'высокий'\n",
    "    except:\n",
    "        return 'нет категории'\n",
    "# создание total_income_category_two и присвоение ему значений.        \n",
    "data['total_income_category_two'] = data['total_income'].apply(cotegorize_total_median )    \n",
    "data.head()"
   ]
  },
  {
   "cell_type": "markdown",
   "id": "85de285b",
   "metadata": {},
   "source": [
    "Сгруппирум столбец total_income_category и отсортируем по возрастанию исследуемой метрики:"
   ]
  },
  {
   "cell_type": "code",
   "execution_count": 29,
   "id": "c1c080b3",
   "metadata": {},
   "outputs": [
    {
     "data": {
      "text/html": [
       "<div>\n",
       "<style scoped>\n",
       "    .dataframe tbody tr th:only-of-type {\n",
       "        vertical-align: middle;\n",
       "    }\n",
       "\n",
       "    .dataframe tbody tr th {\n",
       "        vertical-align: top;\n",
       "    }\n",
       "\n",
       "    .dataframe thead tr th {\n",
       "        text-align: left;\n",
       "    }\n",
       "\n",
       "    .dataframe thead tr:last-of-type th {\n",
       "        text-align: right;\n",
       "    }\n",
       "</style>\n",
       "<table border=\"1\" class=\"dataframe\">\n",
       "  <thead>\n",
       "    <tr>\n",
       "      <th></th>\n",
       "      <th colspan=\"3\" halign=\"left\">debt</th>\n",
       "      <th>total_mean</th>\n",
       "    </tr>\n",
       "    <tr>\n",
       "      <th></th>\n",
       "      <th>sum</th>\n",
       "      <th>count</th>\n",
       "      <th>mean</th>\n",
       "      <th></th>\n",
       "    </tr>\n",
       "    <tr>\n",
       "      <th>total_income_category_two</th>\n",
       "      <th></th>\n",
       "      <th></th>\n",
       "      <th></th>\n",
       "      <th></th>\n",
       "    </tr>\n",
       "  </thead>\n",
       "  <tbody>\n",
       "    <tr>\n",
       "      <th>высокий</th>\n",
       "      <td>428</td>\n",
       "      <td>5807</td>\n",
       "      <td>0.074</td>\n",
       "      <td>0.081</td>\n",
       "    </tr>\n",
       "    <tr>\n",
       "      <th>ниже среднего</th>\n",
       "      <td>384</td>\n",
       "      <td>4859</td>\n",
       "      <td>0.079</td>\n",
       "      <td>0.081</td>\n",
       "    </tr>\n",
       "    <tr>\n",
       "      <th>выше среднего</th>\n",
       "      <td>397</td>\n",
       "      <td>4741</td>\n",
       "      <td>0.084</td>\n",
       "      <td>0.081</td>\n",
       "    </tr>\n",
       "    <tr>\n",
       "      <th>средний</th>\n",
       "      <td>523</td>\n",
       "      <td>5924</td>\n",
       "      <td>0.088</td>\n",
       "      <td>0.081</td>\n",
       "    </tr>\n",
       "  </tbody>\n",
       "</table>\n",
       "</div>"
      ],
      "text/plain": [
       "                          debt              total_mean\n",
       "                           sum count   mean           \n",
       "total_income_category_two                             \n",
       "высокий                    428  5807  0.074      0.081\n",
       "ниже среднего              384  4859  0.079      0.081\n",
       "выше среднего              397  4741  0.084      0.081\n",
       "средний                    523  5924  0.088      0.081"
      ]
     },
     "execution_count": 29,
     "metadata": {},
     "output_type": "execute_result"
    }
   ],
   "source": [
    "income_data_grouped = data.groupby('total_income_category_two').agg({'debt':['sum','count','mean']})\n",
    "income_data_grouped['total_mean'] = data['debt'].mean().round(3)\n",
    "income_data_grouped[('debt','mean')] = income_data_grouped[('debt','mean')].round(3)\n",
    "income_data_grouped.sort_values(by=('debt','mean'))"
   ]
  },
  {
   "cell_type": "markdown",
   "id": "bd08ec82",
   "metadata": {
    "deletable": false,
    "id": "e8593def"
   },
   "source": [
    "**Вывод:** анализ результатов в таблице позволяет сделать следующие выводы:\n",
    "клиенты с наиболее высоким доходом имеют самую низкую вероятность невозврата кредита. Наиболее высокую вероятность невозврата кредита имеют клиенты  со средним уровнем дохода. У клиентов с уровнем дохода ниже среднего показатель метрики ниже, чем в целом по базе. У тех, чей доход выше среднего, значение метрики незначительно превышает общий показатель. В целом существует зависимость между уровнем дохода и возвратом кредита в срок. Характер этой зависимости не выявлен полностью в данном исследовании. **Предположение о том, что c увеличением уровня доходов, риск невозврата кредита в срок уменьшается подтверждено только для клиентов с высоким уровнем дохода.**"
   ]
  },
  {
   "cell_type": "markdown",
   "id": "5cc3d916",
   "metadata": {
    "deletable": false,
    "editable": false,
    "id": "99ecbd1f"
   },
   "source": [
    "#### 3.4 Как разные цели кредита влияют на его возврат в срок?"
   ]
  },
  {
   "cell_type": "markdown",
   "id": "9a01b6f3",
   "metadata": {},
   "source": [
    "Для проведения анализа сгруппируем таблицу по значениям из столбца`purpose_category`:"
   ]
  },
  {
   "cell_type": "code",
   "execution_count": 30,
   "id": "f1e41c01",
   "metadata": {
    "deletable": false,
    "id": "2b687290",
    "scrolled": true
   },
   "outputs": [
    {
     "data": {
      "text/html": [
       "<div>\n",
       "<style scoped>\n",
       "    .dataframe tbody tr th:only-of-type {\n",
       "        vertical-align: middle;\n",
       "    }\n",
       "\n",
       "    .dataframe tbody tr th {\n",
       "        vertical-align: top;\n",
       "    }\n",
       "\n",
       "    .dataframe thead tr th {\n",
       "        text-align: left;\n",
       "    }\n",
       "\n",
       "    .dataframe thead tr:last-of-type th {\n",
       "        text-align: right;\n",
       "    }\n",
       "</style>\n",
       "<table border=\"1\" class=\"dataframe\">\n",
       "  <thead>\n",
       "    <tr>\n",
       "      <th></th>\n",
       "      <th colspan=\"3\" halign=\"left\">debt</th>\n",
       "      <th>total_mean</th>\n",
       "    </tr>\n",
       "    <tr>\n",
       "      <th></th>\n",
       "      <th>sum</th>\n",
       "      <th>count</th>\n",
       "      <th>mean</th>\n",
       "      <th></th>\n",
       "    </tr>\n",
       "    <tr>\n",
       "      <th>purpose_category</th>\n",
       "      <th></th>\n",
       "      <th></th>\n",
       "      <th></th>\n",
       "      <th></th>\n",
       "    </tr>\n",
       "  </thead>\n",
       "  <tbody>\n",
       "    <tr>\n",
       "      <th>операции с недвижимостью</th>\n",
       "      <td>780</td>\n",
       "      <td>10751</td>\n",
       "      <td>0.073</td>\n",
       "      <td>0.081</td>\n",
       "    </tr>\n",
       "    <tr>\n",
       "      <th>проведение свадьбы</th>\n",
       "      <td>183</td>\n",
       "      <td>2313</td>\n",
       "      <td>0.079</td>\n",
       "      <td>0.081</td>\n",
       "    </tr>\n",
       "    <tr>\n",
       "      <th>операции с автомобилем</th>\n",
       "      <td>400</td>\n",
       "      <td>4279</td>\n",
       "      <td>0.093</td>\n",
       "      <td>0.081</td>\n",
       "    </tr>\n",
       "    <tr>\n",
       "      <th>получение образования</th>\n",
       "      <td>369</td>\n",
       "      <td>3988</td>\n",
       "      <td>0.093</td>\n",
       "      <td>0.081</td>\n",
       "    </tr>\n",
       "  </tbody>\n",
       "</table>\n",
       "</div>"
      ],
      "text/plain": [
       "                         debt               total_mean\n",
       "                          sum  count   mean           \n",
       "purpose_category                                      \n",
       "операции с недвижимостью  780  10751  0.073      0.081\n",
       "проведение свадьбы        183   2313  0.079      0.081\n",
       "операции с автомобилем    400   4279  0.093      0.081\n",
       "получение образования     369   3988  0.093      0.081"
      ]
     },
     "execution_count": 30,
     "metadata": {},
     "output_type": "execute_result"
    }
   ],
   "source": [
    "\n",
    "income_data_grouped = data.groupby('purpose_category').agg({'debt':['sum','count','mean']})\n",
    "income_data_grouped['total_mean'] = data['debt'].mean().round(3)\n",
    "income_data_grouped[('debt','mean')] = income_data_grouped[('debt','mean')].round(3)\n",
    "income_data_grouped.sort_values(by=('debt','mean'))"
   ]
  },
  {
   "cell_type": "markdown",
   "id": "1f0332e6",
   "metadata": {
    "deletable": false,
    "id": "b4bb2ce6"
   },
   "source": [
    "**Вывод:** Цель кредита оказывает значительное влияние на показатель метрики. Самыми надежными заемщиками оказались клиенты, берущие кредит на \"операции с недвижимостью\", у которых значение метрики составляет 0.073. Это значение ниже, чем у клиентов, взявших кредит на образование и покупку автомобиля (0.093).Также надежными являются клиенты, взявшие кредит на проведение свадьбы, для них показатель составляет 0.079. \n",
    "\n",
    "**Наиболее рискованными оказались клиенты, берущие кредит на \"операции с автомобилем\" и \"образование\", как по сравнению с предыдущими категориями, так и по отношению ко всем клиентам в целом.**\n",
    "\n",
    "\n",
    "\n",
    "\n"
   ]
  },
  {
   "cell_type": "markdown",
   "id": "85ce91a9",
   "metadata": {
    "deletable": false,
    "editable": false,
    "id": "09c3ac4c"
   },
   "source": [
    "#### 3.5 Приведите возможные причины появления пропусков в исходных данных."
   ]
  },
  {
   "cell_type": "markdown",
   "id": "9f0d7e47",
   "metadata": {
    "deletable": false,
    "id": "9da2ceda"
   },
   "source": [
    "*Ответ:* Причин возникновения пропусков может быть несколько: отсутствие информации или желание её скрыть, технические проблемы, такие как ошибки, приведшие к утере данных и неприменимость некоторых атрибутов к конкретному объекту. Например, атрибут 'женат/замужем' неприменим к ребенку, что также может привести к появлению пропусков в данных.\n"
   ]
  },
  {
   "cell_type": "markdown",
   "id": "9d837848",
   "metadata": {
    "deletable": false,
    "editable": false,
    "id": "7b0487d6"
   },
   "source": [
    "#### 3.6 Объясните, почему заполнить пропуски медианным значением — лучшее решение для количественных переменных."
   ]
  },
  {
   "cell_type": "markdown",
   "id": "27fdaeb6",
   "metadata": {
    "deletable": false,
    "id": "7ecf2b8e"
   },
   "source": [
    "*Ответ:* в количественных переменных могут встречаться значения, которые явно выделяются из общего ряда. Среднее арифметическое такого ряда может значительно отличаться от логически ожидаемого значения и, соответственно, привести к неточностям в анализе. Для исключения такой ситуации применяют медианное значение. Суть его заключается в упорядочивании числового ряда по значениям и нахождении значения, соответствующего среднему расположению в ряду. Если отсутствуют выбросы или аномальные значения, можно использовать среднее арифметическое значение.\n"
   ]
  },
  {
   "cell_type": "markdown",
   "id": "27a3acf8",
   "metadata": {
    "deletable": false,
    "editable": false,
    "id": "6db5255a"
   },
   "source": [
    "### Шаг 4: общий вывод."
   ]
  },
  {
   "cell_type": "markdown",
   "id": "befc68a2",
   "metadata": {
    "deletable": false,
    "id": "bad65432"
   },
   "source": [
    "В проекте проведено исследование влияния атрибутов профиля заемщика: количества детей, семейного положения, уровня дохода и целевого использования средств на значение метрики - **доля клиентов с задолженностью**.Также в процессе предобработки данных были удалены пропуски, обработаны дубликаты, произведена категоризация и изменены типы данных. Результаты исследования позволяют сделать вывод о влиянии исследуемых атрибутов на целевую метрику.\n",
    "\n",
    "Наибольшее влияние оказало семейное положение: наиболее рискованной группой являются клиенты в котегории \"не женат/не замужем\" с показателем 9.8% **Это самое высокое значение метрики в исследовании** , в то время как наименьший процент задолженности у клиентов в категории \"вдовец/вдова\" – 6.6% - **самое низкое значение в исследовнии**.\n",
    "\n",
    "Значимое влияние оказывает целевое назначение кредита: наибольший процент задолженности у клиентов, берущих кредит на образование и покупку автомобиля со значением метрики, равным 9.3%.\n",
    "Клиенты, берущие кредит на покупку недвижимости, представляют группу наиболее надежных заемщиков, для них значение метрики составило 7.3%.\n",
    "\n",
    "Уровень дохода оказывает менее существенное влияние на метрику: у клиентов с высоким уровнем \n",
    "дохода - 7.4%, а у клиентов с доходами ниже среднего, выше среднего и среднего  – 7.9%, 8.4% и 8.8% соответственно.\n",
    "\n",
    "Одним  факторов, влияющих на кредитоспособность, является наличие детей. У клиентов без детей значение метрики составляет 7.5%, а у клиентов с одним или двумя детьми – 9.2% и 9.5% соответственно. Данные о клиентах с более чем двумя детьми представлены недостаточно.\n",
    "\n",
    "Рекомендуется произвести аналогичные исследования по другим атрибутам профиля заемщика, а также\n",
    "рассмотреть целесобразность  разработки  модели прогнозирования целевой метрики в зависимости от атрибутов профиля заемщики на основе методов машинного обучения."
   ]
  }
 ],
 "metadata": {
  "ExecuteTimeLog": [
   {
    "duration": 424,
    "start_time": "2023-12-23T14:49:04.311Z"
   },
   {
    "duration": 18,
    "start_time": "2023-12-23T14:49:04.737Z"
   },
   {
    "duration": 12,
    "start_time": "2023-12-23T14:49:04.756Z"
   },
   {
    "duration": 8,
    "start_time": "2023-12-23T14:49:04.769Z"
   },
   {
    "duration": 41,
    "start_time": "2023-12-23T14:49:04.778Z"
   },
   {
    "duration": 3,
    "start_time": "2023-12-23T14:49:04.820Z"
   },
   {
    "duration": 10,
    "start_time": "2023-12-23T14:49:04.824Z"
   },
   {
    "duration": 5,
    "start_time": "2023-12-23T14:49:04.835Z"
   },
   {
    "duration": 7,
    "start_time": "2023-12-23T14:49:04.841Z"
   },
   {
    "duration": 4,
    "start_time": "2023-12-23T14:49:04.850Z"
   },
   {
    "duration": 51,
    "start_time": "2023-12-23T14:49:04.855Z"
   },
   {
    "duration": 9,
    "start_time": "2023-12-23T14:49:04.907Z"
   },
   {
    "duration": 3,
    "start_time": "2023-12-23T14:49:04.917Z"
   },
   {
    "duration": 10,
    "start_time": "2023-12-23T14:49:04.922Z"
   },
   {
    "duration": 17,
    "start_time": "2023-12-23T14:49:04.933Z"
   },
   {
    "duration": 14,
    "start_time": "2023-12-23T14:49:04.952Z"
   },
   {
    "duration": 34,
    "start_time": "2023-12-23T14:49:04.968Z"
   },
   {
    "duration": 10,
    "start_time": "2023-12-23T14:49:05.003Z"
   },
   {
    "duration": 15,
    "start_time": "2023-12-23T14:49:05.014Z"
   },
   {
    "duration": 8,
    "start_time": "2023-12-23T14:49:05.030Z"
   },
   {
    "duration": 7,
    "start_time": "2023-12-23T14:49:08.471Z"
   },
   {
    "duration": 679,
    "start_time": "2023-12-23T18:48:26.549Z"
   },
   {
    "duration": 27,
    "start_time": "2023-12-23T18:48:27.231Z"
   },
   {
    "duration": 15,
    "start_time": "2023-12-23T18:48:27.260Z"
   },
   {
    "duration": 27,
    "start_time": "2023-12-23T18:48:27.278Z"
   },
   {
    "duration": 63,
    "start_time": "2023-12-23T18:48:27.307Z"
   },
   {
    "duration": 5,
    "start_time": "2023-12-23T18:48:27.372Z"
   },
   {
    "duration": 13,
    "start_time": "2023-12-23T18:48:27.379Z"
   },
   {
    "duration": 12,
    "start_time": "2023-12-23T18:48:27.394Z"
   },
   {
    "duration": 31,
    "start_time": "2023-12-23T18:48:27.408Z"
   },
   {
    "duration": 6,
    "start_time": "2023-12-23T18:48:27.442Z"
   },
   {
    "duration": 87,
    "start_time": "2023-12-23T18:48:27.450Z"
   },
   {
    "duration": 10,
    "start_time": "2023-12-23T18:48:27.539Z"
   },
   {
    "duration": 12,
    "start_time": "2023-12-23T18:48:27.550Z"
   },
   {
    "duration": 32,
    "start_time": "2023-12-23T18:48:27.563Z"
   },
   {
    "duration": 24,
    "start_time": "2023-12-23T18:48:27.597Z"
   },
   {
    "duration": 37,
    "start_time": "2023-12-23T18:48:27.623Z"
   },
   {
    "duration": 15,
    "start_time": "2023-12-23T18:48:27.661Z"
   },
   {
    "duration": 47,
    "start_time": "2023-12-23T18:48:27.678Z"
   },
   {
    "duration": 29,
    "start_time": "2023-12-23T18:48:27.726Z"
   },
   {
    "duration": 25,
    "start_time": "2023-12-23T18:48:27.757Z"
   },
   {
    "duration": 42,
    "start_time": "2023-12-23T18:48:27.783Z"
   },
   {
    "duration": 25,
    "start_time": "2023-12-23T18:48:27.827Z"
   },
   {
    "duration": 11,
    "start_time": "2023-12-23T18:48:27.854Z"
   },
   {
    "duration": 27,
    "start_time": "2023-12-23T18:48:27.866Z"
   },
   {
    "duration": 19,
    "start_time": "2023-12-23T18:48:27.895Z"
   },
   {
    "duration": 37,
    "start_time": "2023-12-23T18:48:52.736Z"
   },
   {
    "duration": 140,
    "start_time": "2023-12-23T18:49:12.140Z"
   },
   {
    "duration": 45,
    "start_time": "2023-12-23T18:50:51.828Z"
   },
   {
    "duration": 76,
    "start_time": "2023-12-23T19:29:14.658Z"
   },
   {
    "duration": 15,
    "start_time": "2023-12-23T19:29:14.736Z"
   },
   {
    "duration": 22,
    "start_time": "2023-12-23T19:29:14.753Z"
   },
   {
    "duration": 10,
    "start_time": "2023-12-23T19:29:14.777Z"
   },
   {
    "duration": 33,
    "start_time": "2023-12-23T19:29:14.789Z"
   },
   {
    "duration": 20,
    "start_time": "2023-12-23T19:29:14.824Z"
   },
   {
    "duration": 13,
    "start_time": "2023-12-23T19:29:14.845Z"
   },
   {
    "duration": 4,
    "start_time": "2023-12-23T19:29:14.859Z"
   },
   {
    "duration": 17,
    "start_time": "2023-12-23T19:29:14.864Z"
   },
   {
    "duration": 6,
    "start_time": "2023-12-23T19:29:14.883Z"
   },
   {
    "duration": 57,
    "start_time": "2023-12-23T19:29:14.890Z"
   },
   {
    "duration": 10,
    "start_time": "2023-12-23T19:29:14.949Z"
   },
   {
    "duration": 19,
    "start_time": "2023-12-23T19:29:14.960Z"
   },
   {
    "duration": 27,
    "start_time": "2023-12-23T19:29:14.980Z"
   },
   {
    "duration": 71,
    "start_time": "2023-12-23T19:29:15.009Z"
   },
   {
    "duration": 24,
    "start_time": "2023-12-23T19:29:15.082Z"
   },
   {
    "duration": 4,
    "start_time": "2023-12-23T19:29:15.107Z"
   },
   {
    "duration": 20,
    "start_time": "2023-12-23T19:29:15.113Z"
   },
   {
    "duration": 6,
    "start_time": "2023-12-23T19:29:15.135Z"
   },
   {
    "duration": 4,
    "start_time": "2023-12-23T19:29:15.142Z"
   },
   {
    "duration": 11,
    "start_time": "2023-12-23T19:29:15.148Z"
   },
   {
    "duration": 20,
    "start_time": "2023-12-23T19:30:27.685Z"
   },
   {
    "duration": 12,
    "start_time": "2023-12-23T19:34:00.309Z"
   },
   {
    "duration": 16,
    "start_time": "2023-12-23T19:40:29.995Z"
   },
   {
    "duration": 77,
    "start_time": "2023-12-23T19:43:04.611Z"
   },
   {
    "duration": 14,
    "start_time": "2023-12-23T19:46:32.299Z"
   },
   {
    "duration": 78,
    "start_time": "2023-12-23T19:46:52.059Z"
   },
   {
    "duration": 20,
    "start_time": "2023-12-23T19:47:03.219Z"
   },
   {
    "duration": 5,
    "start_time": "2023-12-23T19:48:10.663Z"
   },
   {
    "duration": 12,
    "start_time": "2023-12-23T20:39:00.038Z"
   },
   {
    "duration": 75,
    "start_time": "2023-12-23T20:40:55.113Z"
   },
   {
    "duration": 9,
    "start_time": "2023-12-23T20:41:01.929Z"
   },
   {
    "duration": 5,
    "start_time": "2023-12-23T20:41:40.233Z"
   },
   {
    "duration": 10,
    "start_time": "2023-12-23T20:47:37.791Z"
   },
   {
    "duration": 7,
    "start_time": "2023-12-23T20:47:43.996Z"
   },
   {
    "duration": 7,
    "start_time": "2023-12-23T20:48:01.955Z"
   },
   {
    "duration": 8,
    "start_time": "2023-12-23T20:48:52.731Z"
   },
   {
    "duration": 6,
    "start_time": "2023-12-23T20:49:14.179Z"
   },
   {
    "duration": 78,
    "start_time": "2023-12-23T20:50:41.383Z"
   },
   {
    "duration": 70,
    "start_time": "2023-12-23T20:51:33.863Z"
   },
   {
    "duration": 23,
    "start_time": "2023-12-23T20:53:53.079Z"
   },
   {
    "duration": 10,
    "start_time": "2023-12-23T20:55:19.694Z"
   },
   {
    "duration": 10,
    "start_time": "2023-12-23T20:57:01.642Z"
   },
   {
    "duration": 11,
    "start_time": "2023-12-23T20:57:30.778Z"
   },
   {
    "duration": 1158,
    "start_time": "2023-12-23T20:57:45.378Z"
   },
   {
    "duration": 9,
    "start_time": "2023-12-23T20:57:58.734Z"
   },
   {
    "duration": 11,
    "start_time": "2023-12-23T20:58:39.618Z"
   },
   {
    "duration": 833,
    "start_time": "2023-12-23T20:59:03.078Z"
   },
   {
    "duration": 1121,
    "start_time": "2023-12-23T20:59:20.730Z"
   },
   {
    "duration": 629,
    "start_time": "2023-12-24T07:57:32.495Z"
   },
   {
    "duration": 17,
    "start_time": "2023-12-24T07:57:33.125Z"
   },
   {
    "duration": 11,
    "start_time": "2023-12-24T07:57:33.143Z"
   },
   {
    "duration": 9,
    "start_time": "2023-12-24T07:57:33.156Z"
   },
   {
    "duration": 27,
    "start_time": "2023-12-24T07:57:33.166Z"
   },
   {
    "duration": 8,
    "start_time": "2023-12-24T07:57:33.194Z"
   },
   {
    "duration": 7,
    "start_time": "2023-12-24T07:57:33.204Z"
   },
   {
    "duration": 4,
    "start_time": "2023-12-24T07:57:33.212Z"
   },
   {
    "duration": 6,
    "start_time": "2023-12-24T07:57:33.217Z"
   },
   {
    "duration": 4,
    "start_time": "2023-12-24T07:57:33.224Z"
   },
   {
    "duration": 26,
    "start_time": "2023-12-24T07:57:33.229Z"
   },
   {
    "duration": 7,
    "start_time": "2023-12-24T07:57:33.256Z"
   },
   {
    "duration": 3,
    "start_time": "2023-12-24T07:57:33.264Z"
   },
   {
    "duration": 9,
    "start_time": "2023-12-24T07:57:33.301Z"
   },
   {
    "duration": 16,
    "start_time": "2023-12-24T07:57:33.311Z"
   },
   {
    "duration": 14,
    "start_time": "2023-12-24T07:57:33.328Z"
   },
   {
    "duration": 3,
    "start_time": "2023-12-24T07:57:33.343Z"
   },
   {
    "duration": 10,
    "start_time": "2023-12-24T07:57:33.348Z"
   },
   {
    "duration": 5,
    "start_time": "2023-12-24T07:57:33.359Z"
   },
   {
    "duration": 8,
    "start_time": "2023-12-24T07:57:33.365Z"
   },
   {
    "duration": 27,
    "start_time": "2023-12-24T07:57:33.374Z"
   },
   {
    "duration": 4,
    "start_time": "2023-12-24T07:57:36.835Z"
   },
   {
    "duration": 7,
    "start_time": "2023-12-24T07:57:52.975Z"
   },
   {
    "duration": 6,
    "start_time": "2023-12-24T07:58:08.767Z"
   },
   {
    "duration": 6,
    "start_time": "2023-12-24T07:58:24.558Z"
   },
   {
    "duration": 55,
    "start_time": "2023-12-24T07:59:36.731Z"
   },
   {
    "duration": 12,
    "start_time": "2023-12-24T07:59:52.027Z"
   },
   {
    "duration": 6,
    "start_time": "2023-12-24T08:00:29.743Z"
   },
   {
    "duration": 11,
    "start_time": "2023-12-24T08:00:44.102Z"
   },
   {
    "duration": 5,
    "start_time": "2023-12-24T08:03:25.626Z"
   },
   {
    "duration": 9,
    "start_time": "2023-12-24T08:03:51.246Z"
   },
   {
    "duration": 10,
    "start_time": "2023-12-24T08:07:01.949Z"
   },
   {
    "duration": 10,
    "start_time": "2023-12-24T08:07:25.945Z"
   },
   {
    "duration": 12,
    "start_time": "2023-12-24T08:07:52.157Z"
   },
   {
    "duration": 70,
    "start_time": "2023-12-24T08:10:20.080Z"
   },
   {
    "duration": 75,
    "start_time": "2023-12-24T08:10:59.385Z"
   },
   {
    "duration": 11,
    "start_time": "2023-12-24T08:11:56.532Z"
   },
   {
    "duration": 12,
    "start_time": "2023-12-24T08:12:31.417Z"
   },
   {
    "duration": 11,
    "start_time": "2023-12-24T08:20:14.151Z"
   },
   {
    "duration": 11,
    "start_time": "2023-12-24T08:38:09.643Z"
   },
   {
    "duration": 12,
    "start_time": "2023-12-24T08:38:21.375Z"
   },
   {
    "duration": 89,
    "start_time": "2023-12-24T08:38:34.467Z"
   },
   {
    "duration": 12,
    "start_time": "2023-12-24T08:38:41.887Z"
   },
   {
    "duration": 12,
    "start_time": "2023-12-24T08:39:12.475Z"
   },
   {
    "duration": 15,
    "start_time": "2023-12-24T08:47:29.818Z"
   },
   {
    "duration": 67,
    "start_time": "2023-12-24T08:47:53.749Z"
   },
   {
    "duration": 13,
    "start_time": "2023-12-24T08:48:11.837Z"
   },
   {
    "duration": 15,
    "start_time": "2023-12-24T08:48:24.454Z"
   },
   {
    "duration": 15,
    "start_time": "2023-12-24T08:48:39.670Z"
   },
   {
    "duration": 14,
    "start_time": "2023-12-24T08:48:48.889Z"
   },
   {
    "duration": 11,
    "start_time": "2023-12-24T08:49:07.874Z"
   },
   {
    "duration": 12,
    "start_time": "2023-12-24T08:49:19.217Z"
   },
   {
    "duration": 15,
    "start_time": "2023-12-24T08:50:06.437Z"
   },
   {
    "duration": 13,
    "start_time": "2023-12-24T08:55:46.795Z"
   },
   {
    "duration": 2,
    "start_time": "2023-12-24T10:40:56.788Z"
   },
   {
    "duration": 13,
    "start_time": "2023-12-24T10:43:47.808Z"
   },
   {
    "duration": 13,
    "start_time": "2023-12-24T10:49:01.885Z"
   },
   {
    "duration": 9,
    "start_time": "2023-12-24T10:50:22.161Z"
   },
   {
    "duration": 12,
    "start_time": "2023-12-24T10:50:28.806Z"
   },
   {
    "duration": 14,
    "start_time": "2023-12-24T10:51:23.930Z"
   },
   {
    "duration": 1162,
    "start_time": "2023-12-24T10:52:16.030Z"
   },
   {
    "duration": 876,
    "start_time": "2023-12-24T10:52:36.041Z"
   },
   {
    "duration": 1104,
    "start_time": "2023-12-24T10:53:32.949Z"
   },
   {
    "duration": 17,
    "start_time": "2023-12-24T10:56:50.721Z"
   },
   {
    "duration": 16,
    "start_time": "2023-12-24T10:57:45.745Z"
   },
   {
    "duration": 72,
    "start_time": "2023-12-24T10:58:56.825Z"
   },
   {
    "duration": 1249,
    "start_time": "2023-12-24T10:59:09.149Z"
   },
   {
    "duration": 16,
    "start_time": "2023-12-24T10:59:20.577Z"
   },
   {
    "duration": 15,
    "start_time": "2023-12-24T10:59:34.505Z"
   },
   {
    "duration": 11,
    "start_time": "2023-12-24T11:25:26.544Z"
   },
   {
    "duration": 15,
    "start_time": "2023-12-24T11:25:54.319Z"
   },
   {
    "duration": 13,
    "start_time": "2023-12-24T11:27:17.343Z"
   },
   {
    "duration": 11,
    "start_time": "2023-12-24T11:27:26.987Z"
   },
   {
    "duration": 14,
    "start_time": "2023-12-24T11:28:28.351Z"
   },
   {
    "duration": 14,
    "start_time": "2023-12-24T11:29:11.907Z"
   },
   {
    "duration": 14,
    "start_time": "2023-12-24T11:30:49.750Z"
   },
   {
    "duration": 14,
    "start_time": "2023-12-24T11:33:31.338Z"
   },
   {
    "duration": 12,
    "start_time": "2023-12-24T11:37:46.254Z"
   },
   {
    "duration": 56,
    "start_time": "2023-12-24T19:54:17.567Z"
   },
   {
    "duration": 663,
    "start_time": "2023-12-24T19:54:29.291Z"
   },
   {
    "duration": 22,
    "start_time": "2023-12-24T19:54:29.955Z"
   },
   {
    "duration": 21,
    "start_time": "2023-12-24T19:54:29.979Z"
   },
   {
    "duration": 10,
    "start_time": "2023-12-24T19:54:30.002Z"
   },
   {
    "duration": 68,
    "start_time": "2023-12-24T19:54:30.013Z"
   },
   {
    "duration": 42,
    "start_time": "2023-12-24T19:54:30.082Z"
   },
   {
    "duration": 92,
    "start_time": "2023-12-24T19:54:30.125Z"
   },
   {
    "duration": 47,
    "start_time": "2023-12-24T19:54:30.219Z"
   },
   {
    "duration": 75,
    "start_time": "2023-12-24T19:54:30.268Z"
   },
   {
    "duration": 137,
    "start_time": "2023-12-24T19:54:30.346Z"
   },
   {
    "duration": 75,
    "start_time": "2023-12-24T19:54:30.485Z"
   },
   {
    "duration": 38,
    "start_time": "2023-12-24T19:54:30.562Z"
   },
   {
    "duration": 38,
    "start_time": "2023-12-24T19:54:30.601Z"
   },
   {
    "duration": 42,
    "start_time": "2023-12-24T19:54:30.640Z"
   },
   {
    "duration": 42,
    "start_time": "2023-12-24T19:54:30.684Z"
   },
   {
    "duration": 31,
    "start_time": "2023-12-24T19:54:30.728Z"
   },
   {
    "duration": 13,
    "start_time": "2023-12-24T19:54:30.761Z"
   },
   {
    "duration": 86,
    "start_time": "2023-12-24T19:54:30.776Z"
   },
   {
    "duration": 117,
    "start_time": "2023-12-24T19:54:30.863Z"
   },
   {
    "duration": 39,
    "start_time": "2023-12-24T19:54:30.982Z"
   },
   {
    "duration": 90,
    "start_time": "2023-12-24T19:54:31.022Z"
   },
   {
    "duration": 61,
    "start_time": "2023-12-24T19:54:31.114Z"
   },
   {
    "duration": 57,
    "start_time": "2023-12-24T19:54:31.176Z"
   },
   {
    "duration": 34,
    "start_time": "2023-12-24T19:54:31.235Z"
   },
   {
    "duration": 46,
    "start_time": "2023-12-24T19:54:31.270Z"
   },
   {
    "duration": 36,
    "start_time": "2023-12-24T19:54:31.318Z"
   },
   {
    "duration": 11,
    "start_time": "2023-12-24T19:54:36.591Z"
   },
   {
    "duration": 15,
    "start_time": "2023-12-24T19:54:56.143Z"
   },
   {
    "duration": 14,
    "start_time": "2023-12-24T19:55:17.375Z"
   },
   {
    "duration": 8,
    "start_time": "2023-12-24T19:56:16.562Z"
   },
   {
    "duration": 10,
    "start_time": "2023-12-24T19:56:23.010Z"
   },
   {
    "duration": 14,
    "start_time": "2023-12-24T19:56:48.334Z"
   },
   {
    "duration": 13,
    "start_time": "2023-12-24T19:57:22.294Z"
   },
   {
    "duration": 17,
    "start_time": "2023-12-24T19:57:38.890Z"
   },
   {
    "duration": 13,
    "start_time": "2023-12-24T19:57:57.434Z"
   },
   {
    "duration": 14,
    "start_time": "2023-12-24T19:58:31.434Z"
   },
   {
    "duration": 15,
    "start_time": "2023-12-24T19:59:11.246Z"
   },
   {
    "duration": 9,
    "start_time": "2023-12-24T19:59:32.698Z"
   },
   {
    "duration": 12,
    "start_time": "2023-12-24T20:00:24.209Z"
   },
   {
    "duration": 14,
    "start_time": "2023-12-24T20:00:31.822Z"
   },
   {
    "duration": 22,
    "start_time": "2023-12-24T20:00:49.238Z"
   },
   {
    "duration": 21,
    "start_time": "2023-12-24T20:01:25.085Z"
   },
   {
    "duration": 13,
    "start_time": "2023-12-24T20:02:44.601Z"
   },
   {
    "duration": 14,
    "start_time": "2023-12-24T20:03:10.813Z"
   },
   {
    "duration": 18,
    "start_time": "2023-12-24T20:03:22.293Z"
   },
   {
    "duration": 5,
    "start_time": "2023-12-24T20:05:34.964Z"
   },
   {
    "duration": 559,
    "start_time": "2023-12-24T20:07:56.288Z"
   },
   {
    "duration": 709,
    "start_time": "2023-12-24T20:09:01.264Z"
   },
   {
    "duration": 16,
    "start_time": "2023-12-24T20:09:34.708Z"
   },
   {
    "duration": 6,
    "start_time": "2023-12-24T20:09:51.244Z"
   },
   {
    "duration": 7,
    "start_time": "2023-12-24T20:10:14.556Z"
   },
   {
    "duration": 7,
    "start_time": "2023-12-24T20:10:27.892Z"
   },
   {
    "duration": 9,
    "start_time": "2023-12-24T20:10:59.684Z"
   },
   {
    "duration": 10,
    "start_time": "2023-12-24T20:12:35.640Z"
   },
   {
    "duration": 13,
    "start_time": "2023-12-24T20:13:50.767Z"
   },
   {
    "duration": 14,
    "start_time": "2023-12-24T20:14:34.551Z"
   },
   {
    "duration": 13,
    "start_time": "2023-12-24T20:14:46.360Z"
   },
   {
    "duration": 26,
    "start_time": "2023-12-24T20:15:54.464Z"
   },
   {
    "duration": 24,
    "start_time": "2023-12-24T20:16:38.619Z"
   },
   {
    "duration": 35,
    "start_time": "2023-12-24T20:17:07.439Z"
   },
   {
    "duration": 10,
    "start_time": "2023-12-24T20:20:06.355Z"
   },
   {
    "duration": 9,
    "start_time": "2023-12-24T20:21:04.838Z"
   },
   {
    "duration": 8,
    "start_time": "2023-12-24T20:22:38.206Z"
   },
   {
    "duration": 8,
    "start_time": "2023-12-24T20:26:38.594Z"
   },
   {
    "duration": 9,
    "start_time": "2023-12-24T20:27:57.054Z"
   },
   {
    "duration": 7,
    "start_time": "2023-12-24T20:28:11.409Z"
   },
   {
    "duration": 4,
    "start_time": "2023-12-24T20:28:48.790Z"
   },
   {
    "duration": 7,
    "start_time": "2023-12-24T20:29:09.945Z"
   },
   {
    "duration": 9,
    "start_time": "2023-12-24T20:30:17.517Z"
   },
   {
    "duration": 9,
    "start_time": "2023-12-24T20:35:35.494Z"
   },
   {
    "duration": 7,
    "start_time": "2023-12-24T20:35:43.422Z"
   },
   {
    "duration": 11,
    "start_time": "2023-12-24T20:36:27.899Z"
   },
   {
    "duration": 7,
    "start_time": "2023-12-24T20:36:35.512Z"
   },
   {
    "duration": 11,
    "start_time": "2023-12-24T20:37:16.196Z"
   },
   {
    "duration": 11,
    "start_time": "2023-12-24T20:37:49.525Z"
   },
   {
    "duration": 8,
    "start_time": "2023-12-24T20:37:59.136Z"
   },
   {
    "duration": 7,
    "start_time": "2023-12-24T20:38:10.944Z"
   },
   {
    "duration": 9,
    "start_time": "2023-12-24T20:40:09.675Z"
   },
   {
    "duration": 8,
    "start_time": "2023-12-24T20:40:15.459Z"
   },
   {
    "duration": 8,
    "start_time": "2023-12-24T20:40:19.763Z"
   },
   {
    "duration": 7,
    "start_time": "2023-12-24T20:40:35.775Z"
   },
   {
    "duration": 7,
    "start_time": "2023-12-24T20:41:47.383Z"
   },
   {
    "duration": 6,
    "start_time": "2023-12-24T20:41:51.179Z"
   },
   {
    "duration": 10,
    "start_time": "2023-12-24T20:41:59.823Z"
   },
   {
    "duration": 8,
    "start_time": "2023-12-24T20:43:40.219Z"
   },
   {
    "duration": 8,
    "start_time": "2023-12-24T20:46:03.663Z"
   },
   {
    "duration": 8,
    "start_time": "2023-12-24T20:50:06.670Z"
   },
   {
    "duration": 18,
    "start_time": "2023-12-24T20:50:59.723Z"
   },
   {
    "duration": 8,
    "start_time": "2023-12-24T20:51:49.938Z"
   },
   {
    "duration": 11,
    "start_time": "2023-12-24T20:52:41.142Z"
   },
   {
    "duration": 11,
    "start_time": "2023-12-24T20:52:41.210Z"
   },
   {
    "duration": 5,
    "start_time": "2023-12-24T20:58:11.137Z"
   },
   {
    "duration": 73,
    "start_time": "2023-12-24T20:58:27.445Z"
   },
   {
    "duration": 70,
    "start_time": "2023-12-24T20:58:36.297Z"
   },
   {
    "duration": 65,
    "start_time": "2023-12-24T20:58:44.918Z"
   },
   {
    "duration": 9,
    "start_time": "2023-12-24T20:59:01.057Z"
   },
   {
    "duration": 10,
    "start_time": "2023-12-24T20:59:26.285Z"
   },
   {
    "duration": 7,
    "start_time": "2023-12-24T20:59:34.661Z"
   },
   {
    "duration": 7,
    "start_time": "2023-12-24T20:59:51.141Z"
   },
   {
    "duration": 9,
    "start_time": "2023-12-24T21:00:33.869Z"
   },
   {
    "duration": 13,
    "start_time": "2023-12-24T21:01:19.492Z"
   },
   {
    "duration": 7,
    "start_time": "2023-12-24T21:12:37.255Z"
   },
   {
    "duration": 10,
    "start_time": "2023-12-24T21:12:44.014Z"
   },
   {
    "duration": 7,
    "start_time": "2023-12-24T21:12:51.722Z"
   },
   {
    "duration": 4,
    "start_time": "2023-12-24T21:13:04.150Z"
   },
   {
    "duration": 19,
    "start_time": "2023-12-24T21:13:44.602Z"
   },
   {
    "duration": 450,
    "start_time": "2023-12-24T21:16:37.382Z"
   },
   {
    "duration": 22,
    "start_time": "2023-12-24T21:16:37.834Z"
   },
   {
    "duration": 20,
    "start_time": "2023-12-24T21:16:37.857Z"
   },
   {
    "duration": 11,
    "start_time": "2023-12-24T21:16:37.879Z"
   },
   {
    "duration": 45,
    "start_time": "2023-12-24T21:16:37.891Z"
   },
   {
    "duration": 4,
    "start_time": "2023-12-24T21:16:37.937Z"
   },
   {
    "duration": 10,
    "start_time": "2023-12-24T21:16:37.942Z"
   },
   {
    "duration": 6,
    "start_time": "2023-12-24T21:16:37.954Z"
   },
   {
    "duration": 7,
    "start_time": "2023-12-24T21:16:37.961Z"
   },
   {
    "duration": 11,
    "start_time": "2023-12-24T21:16:37.970Z"
   },
   {
    "duration": 76,
    "start_time": "2023-12-24T21:16:37.983Z"
   },
   {
    "duration": 10,
    "start_time": "2023-12-24T21:16:38.060Z"
   },
   {
    "duration": 5,
    "start_time": "2023-12-24T21:16:38.072Z"
   },
   {
    "duration": 37,
    "start_time": "2023-12-24T21:16:38.079Z"
   },
   {
    "duration": 27,
    "start_time": "2023-12-24T21:16:38.117Z"
   },
   {
    "duration": 17,
    "start_time": "2023-12-24T21:16:38.145Z"
   },
   {
    "duration": 3,
    "start_time": "2023-12-24T21:16:38.163Z"
   },
   {
    "duration": 27,
    "start_time": "2023-12-24T21:16:38.168Z"
   },
   {
    "duration": 12,
    "start_time": "2023-12-24T21:16:38.196Z"
   },
   {
    "duration": 4,
    "start_time": "2023-12-24T21:16:38.209Z"
   },
   {
    "duration": 15,
    "start_time": "2023-12-24T21:16:38.214Z"
   },
   {
    "duration": 5,
    "start_time": "2023-12-24T21:16:38.231Z"
   },
   {
    "duration": 23,
    "start_time": "2023-12-24T21:16:38.237Z"
   },
   {
    "duration": 20,
    "start_time": "2023-12-24T21:16:38.262Z"
   },
   {
    "duration": 17,
    "start_time": "2023-12-24T21:16:51.534Z"
   },
   {
    "duration": 16,
    "start_time": "2023-12-24T21:17:07.398Z"
   },
   {
    "duration": 7,
    "start_time": "2023-12-24T21:19:42.326Z"
   },
   {
    "duration": 13,
    "start_time": "2023-12-24T21:20:08.534Z"
   },
   {
    "duration": 16,
    "start_time": "2023-12-24T21:20:36.805Z"
   },
   {
    "duration": 17,
    "start_time": "2023-12-24T21:21:11.061Z"
   },
   {
    "duration": 43,
    "start_time": "2023-12-25T07:05:53.411Z"
   },
   {
    "duration": 673,
    "start_time": "2023-12-25T07:05:58.895Z"
   },
   {
    "duration": 19,
    "start_time": "2023-12-25T07:05:59.570Z"
   },
   {
    "duration": 14,
    "start_time": "2023-12-25T07:05:59.590Z"
   },
   {
    "duration": 11,
    "start_time": "2023-12-25T07:05:59.606Z"
   },
   {
    "duration": 32,
    "start_time": "2023-12-25T07:05:59.618Z"
   },
   {
    "duration": 3,
    "start_time": "2023-12-25T07:05:59.652Z"
   },
   {
    "duration": 30,
    "start_time": "2023-12-25T07:05:59.657Z"
   },
   {
    "duration": 5,
    "start_time": "2023-12-25T07:05:59.688Z"
   },
   {
    "duration": 8,
    "start_time": "2023-12-25T07:05:59.694Z"
   },
   {
    "duration": 5,
    "start_time": "2023-12-25T07:05:59.704Z"
   },
   {
    "duration": 34,
    "start_time": "2023-12-25T07:05:59.710Z"
   },
   {
    "duration": 10,
    "start_time": "2023-12-25T07:05:59.746Z"
   },
   {
    "duration": 25,
    "start_time": "2023-12-25T07:05:59.757Z"
   },
   {
    "duration": 12,
    "start_time": "2023-12-25T07:05:59.784Z"
   },
   {
    "duration": 22,
    "start_time": "2023-12-25T07:05:59.798Z"
   },
   {
    "duration": 16,
    "start_time": "2023-12-25T07:05:59.821Z"
   },
   {
    "duration": 3,
    "start_time": "2023-12-25T07:05:59.839Z"
   },
   {
    "duration": 14,
    "start_time": "2023-12-25T07:05:59.844Z"
   },
   {
    "duration": 25,
    "start_time": "2023-12-25T07:05:59.859Z"
   },
   {
    "duration": 3,
    "start_time": "2023-12-25T07:05:59.886Z"
   },
   {
    "duration": 10,
    "start_time": "2023-12-25T07:05:59.891Z"
   },
   {
    "duration": 5,
    "start_time": "2023-12-25T07:05:59.903Z"
   },
   {
    "duration": 15,
    "start_time": "2023-12-25T07:05:59.909Z"
   },
   {
    "duration": 16,
    "start_time": "2023-12-25T07:05:59.925Z"
   },
   {
    "duration": 49,
    "start_time": "2023-12-25T07:05:59.943Z"
   },
   {
    "duration": 2,
    "start_time": "2023-12-25T07:05:59.993Z"
   },
   {
    "duration": 15,
    "start_time": "2023-12-25T07:05:59.996Z"
   },
   {
    "duration": 15,
    "start_time": "2023-12-25T07:06:23.255Z"
   },
   {
    "duration": 81,
    "start_time": "2023-12-25T07:31:05.595Z"
   },
   {
    "duration": 4,
    "start_time": "2023-12-25T07:54:53.647Z"
   },
   {
    "duration": 5,
    "start_time": "2023-12-25T07:55:00.844Z"
   },
   {
    "duration": 7,
    "start_time": "2023-12-25T07:55:05.767Z"
   },
   {
    "duration": 7,
    "start_time": "2023-12-25T07:55:27.632Z"
   },
   {
    "duration": 7,
    "start_time": "2023-12-25T07:56:21.083Z"
   },
   {
    "duration": 8,
    "start_time": "2023-12-25T07:56:28.247Z"
   },
   {
    "duration": 34,
    "start_time": "2023-12-25T07:58:03.080Z"
   },
   {
    "duration": 7,
    "start_time": "2023-12-25T07:58:12.219Z"
   },
   {
    "duration": 86,
    "start_time": "2023-12-25T07:59:48.379Z"
   },
   {
    "duration": 87,
    "start_time": "2023-12-25T08:00:10.862Z"
   },
   {
    "duration": 89,
    "start_time": "2023-12-25T08:00:38.910Z"
   },
   {
    "duration": 80,
    "start_time": "2023-12-25T08:00:51.997Z"
   },
   {
    "duration": 8,
    "start_time": "2023-12-25T08:01:07.768Z"
   },
   {
    "duration": 18,
    "start_time": "2023-12-25T08:19:19.677Z"
   },
   {
    "duration": 12,
    "start_time": "2023-12-25T08:19:54.893Z"
   },
   {
    "duration": 7,
    "start_time": "2023-12-25T08:20:05.777Z"
   },
   {
    "duration": 75,
    "start_time": "2023-12-25T08:20:11.513Z"
   },
   {
    "duration": 13,
    "start_time": "2023-12-25T08:20:26.453Z"
   },
   {
    "duration": 12,
    "start_time": "2023-12-25T08:21:01.037Z"
   },
   {
    "duration": 1225,
    "start_time": "2023-12-25T08:24:03.780Z"
   },
   {
    "duration": 72,
    "start_time": "2023-12-25T08:24:13.296Z"
   },
   {
    "duration": 1460,
    "start_time": "2023-12-25T08:24:23.032Z"
   },
   {
    "duration": 80,
    "start_time": "2023-12-25T08:24:30.180Z"
   },
   {
    "duration": 15,
    "start_time": "2023-12-25T08:24:30.261Z"
   },
   {
    "duration": 78,
    "start_time": "2023-12-25T08:24:30.277Z"
   },
   {
    "duration": 42,
    "start_time": "2023-12-25T08:24:30.357Z"
   },
   {
    "duration": 52,
    "start_time": "2023-12-25T08:24:30.401Z"
   },
   {
    "duration": 16,
    "start_time": "2023-12-25T08:24:30.455Z"
   },
   {
    "duration": 79,
    "start_time": "2023-12-25T08:24:30.473Z"
   },
   {
    "duration": 33,
    "start_time": "2023-12-25T08:24:30.553Z"
   },
   {
    "duration": 39,
    "start_time": "2023-12-25T08:24:30.587Z"
   },
   {
    "duration": 40,
    "start_time": "2023-12-25T08:24:30.629Z"
   },
   {
    "duration": 77,
    "start_time": "2023-12-25T08:24:30.670Z"
   },
   {
    "duration": 50,
    "start_time": "2023-12-25T08:24:30.749Z"
   },
   {
    "duration": 46,
    "start_time": "2023-12-25T08:24:30.801Z"
   },
   {
    "duration": 81,
    "start_time": "2023-12-25T08:24:30.849Z"
   },
   {
    "duration": 90,
    "start_time": "2023-12-25T08:24:30.932Z"
   },
   {
    "duration": 35,
    "start_time": "2023-12-25T08:24:31.024Z"
   },
   {
    "duration": 73,
    "start_time": "2023-12-25T08:24:31.061Z"
   },
   {
    "duration": 63,
    "start_time": "2023-12-25T08:24:31.135Z"
   },
   {
    "duration": 28,
    "start_time": "2023-12-25T08:24:31.200Z"
   },
   {
    "duration": 27,
    "start_time": "2023-12-25T08:24:31.230Z"
   },
   {
    "duration": 20,
    "start_time": "2023-12-25T08:24:31.258Z"
   },
   {
    "duration": 41,
    "start_time": "2023-12-25T08:24:31.280Z"
   },
   {
    "duration": 32,
    "start_time": "2023-12-25T08:24:31.323Z"
   },
   {
    "duration": 37,
    "start_time": "2023-12-25T08:24:31.356Z"
   },
   {
    "duration": 41,
    "start_time": "2023-12-25T08:24:31.395Z"
   },
   {
    "duration": 41,
    "start_time": "2023-12-25T08:24:31.438Z"
   },
   {
    "duration": 8,
    "start_time": "2023-12-25T08:24:50.408Z"
   },
   {
    "duration": 17,
    "start_time": "2023-12-25T08:25:10.224Z"
   },
   {
    "duration": 12,
    "start_time": "2023-12-25T08:26:00.228Z"
   },
   {
    "duration": 12,
    "start_time": "2023-12-25T08:26:19.572Z"
   },
   {
    "duration": 13,
    "start_time": "2023-12-25T08:26:50.671Z"
   },
   {
    "duration": 13,
    "start_time": "2023-12-25T08:27:18.111Z"
   },
   {
    "duration": 15,
    "start_time": "2023-12-25T08:32:19.206Z"
   },
   {
    "duration": 3,
    "start_time": "2023-12-25T08:50:47.760Z"
   },
   {
    "duration": 8,
    "start_time": "2023-12-25T08:53:22.506Z"
   },
   {
    "duration": 7,
    "start_time": "2023-12-25T08:53:31.974Z"
   },
   {
    "duration": 39,
    "start_time": "2023-12-25T08:53:55.586Z"
   },
   {
    "duration": 41,
    "start_time": "2023-12-25T08:55:21.242Z"
   },
   {
    "duration": 8,
    "start_time": "2023-12-25T08:57:01.581Z"
   },
   {
    "duration": 26,
    "start_time": "2023-12-25T08:57:10.806Z"
   },
   {
    "duration": 35,
    "start_time": "2023-12-25T08:58:00.330Z"
   },
   {
    "duration": 8,
    "start_time": "2023-12-25T08:58:54.677Z"
   },
   {
    "duration": 8,
    "start_time": "2023-12-25T08:59:13.285Z"
   },
   {
    "duration": 38,
    "start_time": "2023-12-25T09:01:29.045Z"
   },
   {
    "duration": 33,
    "start_time": "2023-12-25T09:05:22.473Z"
   },
   {
    "duration": 16,
    "start_time": "2023-12-25T09:06:33.593Z"
   },
   {
    "duration": 83,
    "start_time": "2023-12-25T09:08:01.593Z"
   },
   {
    "duration": 83,
    "start_time": "2023-12-25T09:08:28.700Z"
   },
   {
    "duration": 83,
    "start_time": "2023-12-25T09:09:15.936Z"
   },
   {
    "duration": 98,
    "start_time": "2023-12-25T09:10:05.656Z"
   },
   {
    "duration": 16,
    "start_time": "2023-12-25T09:10:26.476Z"
   },
   {
    "duration": 16,
    "start_time": "2023-12-25T09:11:05.204Z"
   },
   {
    "duration": 17,
    "start_time": "2023-12-25T09:26:33.831Z"
   },
   {
    "duration": 19,
    "start_time": "2023-12-25T09:26:38.990Z"
   },
   {
    "duration": 15,
    "start_time": "2023-12-25T09:27:07.506Z"
   },
   {
    "duration": 13,
    "start_time": "2023-12-25T09:33:28.549Z"
   },
   {
    "duration": 23,
    "start_time": "2023-12-25T09:33:40.649Z"
   },
   {
    "duration": 17,
    "start_time": "2023-12-25T09:34:31.861Z"
   },
   {
    "duration": 74,
    "start_time": "2023-12-25T09:35:35.477Z"
   },
   {
    "duration": 82,
    "start_time": "2023-12-25T09:50:16.575Z"
   },
   {
    "duration": 18,
    "start_time": "2023-12-25T09:50:23.608Z"
   },
   {
    "duration": 19,
    "start_time": "2023-12-25T10:34:39.818Z"
   },
   {
    "duration": 16,
    "start_time": "2023-12-25T10:34:59.193Z"
   },
   {
    "duration": 16,
    "start_time": "2023-12-25T11:50:45.635Z"
   },
   {
    "duration": 70,
    "start_time": "2023-12-25T12:41:15.242Z"
   },
   {
    "duration": 14,
    "start_time": "2023-12-25T12:41:15.314Z"
   },
   {
    "duration": 30,
    "start_time": "2023-12-25T12:41:15.329Z"
   },
   {
    "duration": 15,
    "start_time": "2023-12-25T12:41:15.361Z"
   },
   {
    "duration": 55,
    "start_time": "2023-12-25T12:41:15.377Z"
   },
   {
    "duration": 3,
    "start_time": "2023-12-25T12:41:15.433Z"
   },
   {
    "duration": 23,
    "start_time": "2023-12-25T12:41:15.437Z"
   },
   {
    "duration": 13,
    "start_time": "2023-12-25T12:41:15.461Z"
   },
   {
    "duration": 7,
    "start_time": "2023-12-25T12:41:15.475Z"
   },
   {
    "duration": 4,
    "start_time": "2023-12-25T12:41:15.484Z"
   },
   {
    "duration": 44,
    "start_time": "2023-12-25T12:41:15.489Z"
   },
   {
    "duration": 9,
    "start_time": "2023-12-25T12:41:15.535Z"
   },
   {
    "duration": 12,
    "start_time": "2023-12-25T12:41:15.545Z"
   },
   {
    "duration": 25,
    "start_time": "2023-12-25T12:41:15.558Z"
   },
   {
    "duration": 22,
    "start_time": "2023-12-25T12:41:15.585Z"
   },
   {
    "duration": 20,
    "start_time": "2023-12-25T12:41:15.608Z"
   },
   {
    "duration": 4,
    "start_time": "2023-12-25T12:41:15.630Z"
   },
   {
    "duration": 50,
    "start_time": "2023-12-25T12:41:15.636Z"
   },
   {
    "duration": 8,
    "start_time": "2023-12-25T12:41:15.688Z"
   },
   {
    "duration": 16,
    "start_time": "2023-12-25T12:41:15.697Z"
   },
   {
    "duration": 12,
    "start_time": "2023-12-25T12:41:15.715Z"
   },
   {
    "duration": 9,
    "start_time": "2023-12-25T12:41:15.728Z"
   },
   {
    "duration": 18,
    "start_time": "2023-12-25T12:41:15.738Z"
   },
   {
    "duration": 27,
    "start_time": "2023-12-25T12:41:15.757Z"
   },
   {
    "duration": 17,
    "start_time": "2023-12-25T12:41:15.786Z"
   },
   {
    "duration": 8,
    "start_time": "2023-12-25T12:41:15.805Z"
   },
   {
    "duration": 35,
    "start_time": "2023-12-25T12:41:15.815Z"
   },
   {
    "duration": 70,
    "start_time": "2023-12-25T12:41:15.852Z"
   },
   {
    "duration": 0,
    "start_time": "2023-12-25T12:41:15.924Z"
   },
   {
    "duration": 0,
    "start_time": "2023-12-25T12:41:15.925Z"
   },
   {
    "duration": 74,
    "start_time": "2023-12-25T12:42:09.326Z"
   },
   {
    "duration": 14,
    "start_time": "2023-12-25T12:42:09.402Z"
   },
   {
    "duration": 23,
    "start_time": "2023-12-25T12:42:09.417Z"
   },
   {
    "duration": 19,
    "start_time": "2023-12-25T12:42:09.441Z"
   },
   {
    "duration": 39,
    "start_time": "2023-12-25T12:42:09.461Z"
   },
   {
    "duration": 3,
    "start_time": "2023-12-25T12:42:09.501Z"
   },
   {
    "duration": 19,
    "start_time": "2023-12-25T12:42:09.505Z"
   },
   {
    "duration": 15,
    "start_time": "2023-12-25T12:42:09.525Z"
   },
   {
    "duration": 20,
    "start_time": "2023-12-25T12:42:09.542Z"
   },
   {
    "duration": 23,
    "start_time": "2023-12-25T12:42:09.564Z"
   },
   {
    "duration": 47,
    "start_time": "2023-12-25T12:42:09.588Z"
   },
   {
    "duration": 10,
    "start_time": "2023-12-25T12:42:09.637Z"
   },
   {
    "duration": 28,
    "start_time": "2023-12-25T12:42:09.649Z"
   },
   {
    "duration": 24,
    "start_time": "2023-12-25T12:42:09.678Z"
   },
   {
    "duration": 31,
    "start_time": "2023-12-25T12:42:09.704Z"
   },
   {
    "duration": 17,
    "start_time": "2023-12-25T12:42:09.737Z"
   },
   {
    "duration": 4,
    "start_time": "2023-12-25T12:42:09.756Z"
   },
   {
    "duration": 29,
    "start_time": "2023-12-25T12:42:09.761Z"
   },
   {
    "duration": 16,
    "start_time": "2023-12-25T12:42:09.792Z"
   },
   {
    "duration": 16,
    "start_time": "2023-12-25T12:42:09.810Z"
   },
   {
    "duration": 33,
    "start_time": "2023-12-25T12:42:09.828Z"
   },
   {
    "duration": 23,
    "start_time": "2023-12-25T12:42:09.862Z"
   },
   {
    "duration": 28,
    "start_time": "2023-12-25T12:42:09.887Z"
   },
   {
    "duration": 20,
    "start_time": "2023-12-25T12:42:09.917Z"
   },
   {
    "duration": 17,
    "start_time": "2023-12-25T12:42:09.938Z"
   },
   {
    "duration": 9,
    "start_time": "2023-12-25T12:42:09.956Z"
   },
   {
    "duration": 49,
    "start_time": "2023-12-25T12:42:09.966Z"
   },
   {
    "duration": 15,
    "start_time": "2023-12-25T12:42:10.019Z"
   },
   {
    "duration": 20,
    "start_time": "2023-12-25T12:42:10.036Z"
   },
   {
    "duration": 72,
    "start_time": "2023-12-25T14:39:08.259Z"
   },
   {
    "duration": 13,
    "start_time": "2023-12-25T14:39:08.333Z"
   },
   {
    "duration": 21,
    "start_time": "2023-12-25T14:39:08.347Z"
   },
   {
    "duration": 17,
    "start_time": "2023-12-25T14:39:08.370Z"
   },
   {
    "duration": 34,
    "start_time": "2023-12-25T14:39:08.388Z"
   },
   {
    "duration": 3,
    "start_time": "2023-12-25T14:39:08.423Z"
   },
   {
    "duration": 19,
    "start_time": "2023-12-25T14:39:08.428Z"
   },
   {
    "duration": 4,
    "start_time": "2023-12-25T14:39:08.448Z"
   },
   {
    "duration": 20,
    "start_time": "2023-12-25T14:39:08.453Z"
   },
   {
    "duration": 8,
    "start_time": "2023-12-25T14:39:08.476Z"
   },
   {
    "duration": 75,
    "start_time": "2023-12-25T14:39:08.485Z"
   },
   {
    "duration": 9,
    "start_time": "2023-12-25T14:39:08.562Z"
   },
   {
    "duration": 10,
    "start_time": "2023-12-25T14:39:08.572Z"
   },
   {
    "duration": 12,
    "start_time": "2023-12-25T14:39:08.583Z"
   },
   {
    "duration": 17,
    "start_time": "2023-12-25T14:39:08.597Z"
   },
   {
    "duration": 18,
    "start_time": "2023-12-25T14:39:08.615Z"
   },
   {
    "duration": 4,
    "start_time": "2023-12-25T14:39:08.634Z"
   },
   {
    "duration": 13,
    "start_time": "2023-12-25T14:39:08.639Z"
   },
   {
    "duration": 29,
    "start_time": "2023-12-25T14:39:08.653Z"
   },
   {
    "duration": 4,
    "start_time": "2023-12-25T14:39:08.683Z"
   },
   {
    "duration": 21,
    "start_time": "2023-12-25T14:39:08.688Z"
   },
   {
    "duration": 5,
    "start_time": "2023-12-25T14:39:08.710Z"
   },
   {
    "duration": 20,
    "start_time": "2023-12-25T14:39:08.716Z"
   },
   {
    "duration": 15,
    "start_time": "2023-12-25T14:39:08.737Z"
   },
   {
    "duration": 42,
    "start_time": "2023-12-25T14:39:08.754Z"
   },
   {
    "duration": 13,
    "start_time": "2023-12-25T14:39:08.797Z"
   },
   {
    "duration": 44,
    "start_time": "2023-12-25T14:39:08.812Z"
   },
   {
    "duration": 56,
    "start_time": "2023-12-25T14:39:08.859Z"
   },
   {
    "duration": 16,
    "start_time": "2023-12-25T14:39:08.916Z"
   },
   {
    "duration": 34,
    "start_time": "2023-12-25T14:39:34.074Z"
   },
   {
    "duration": 16,
    "start_time": "2023-12-25T14:39:40.898Z"
   },
   {
    "duration": 88,
    "start_time": "2023-12-25T14:40:11.350Z"
   },
   {
    "duration": 111,
    "start_time": "2023-12-25T14:40:20.069Z"
   },
   {
    "duration": 8,
    "start_time": "2023-12-25T14:40:36.053Z"
   },
   {
    "duration": 8,
    "start_time": "2023-12-25T14:40:42.849Z"
   },
   {
    "duration": 20,
    "start_time": "2023-12-25T14:40:52.505Z"
   },
   {
    "duration": 75,
    "start_time": "2023-12-25T14:43:11.369Z"
   },
   {
    "duration": 72,
    "start_time": "2023-12-25T14:43:55.404Z"
   },
   {
    "duration": 14,
    "start_time": "2023-12-25T14:43:55.478Z"
   },
   {
    "duration": 15,
    "start_time": "2023-12-25T14:43:55.494Z"
   },
   {
    "duration": 8,
    "start_time": "2023-12-25T14:43:55.511Z"
   },
   {
    "duration": 33,
    "start_time": "2023-12-25T14:43:55.521Z"
   },
   {
    "duration": 3,
    "start_time": "2023-12-25T14:43:55.555Z"
   },
   {
    "duration": 27,
    "start_time": "2023-12-25T14:43:55.560Z"
   },
   {
    "duration": 4,
    "start_time": "2023-12-25T14:43:55.588Z"
   },
   {
    "duration": 5,
    "start_time": "2023-12-25T14:43:55.594Z"
   },
   {
    "duration": 24,
    "start_time": "2023-12-25T14:43:55.601Z"
   },
   {
    "duration": 33,
    "start_time": "2023-12-25T14:43:55.626Z"
   },
   {
    "duration": 10,
    "start_time": "2023-12-25T14:43:55.660Z"
   },
   {
    "duration": 3,
    "start_time": "2023-12-25T14:43:55.681Z"
   },
   {
    "duration": 17,
    "start_time": "2023-12-25T14:43:55.685Z"
   },
   {
    "duration": 30,
    "start_time": "2023-12-25T14:43:55.704Z"
   },
   {
    "duration": 16,
    "start_time": "2023-12-25T14:43:55.735Z"
   },
   {
    "duration": 3,
    "start_time": "2023-12-25T14:43:55.752Z"
   },
   {
    "duration": 23,
    "start_time": "2023-12-25T14:43:55.756Z"
   },
   {
    "duration": 14,
    "start_time": "2023-12-25T14:43:55.780Z"
   },
   {
    "duration": 4,
    "start_time": "2023-12-25T14:43:55.795Z"
   },
   {
    "duration": 12,
    "start_time": "2023-12-25T14:43:55.800Z"
   },
   {
    "duration": 7,
    "start_time": "2023-12-25T14:43:55.813Z"
   },
   {
    "duration": 16,
    "start_time": "2023-12-25T14:43:55.821Z"
   },
   {
    "duration": 18,
    "start_time": "2023-12-25T14:43:55.839Z"
   },
   {
    "duration": 32,
    "start_time": "2023-12-25T14:43:55.859Z"
   },
   {
    "duration": 8,
    "start_time": "2023-12-25T14:43:55.892Z"
   },
   {
    "duration": 37,
    "start_time": "2023-12-25T14:43:55.901Z"
   },
   {
    "duration": 16,
    "start_time": "2023-12-25T14:43:55.941Z"
   },
   {
    "duration": 37,
    "start_time": "2023-12-25T14:43:55.958Z"
   },
   {
    "duration": 74,
    "start_time": "2023-12-25T14:49:09.316Z"
   },
   {
    "duration": 15,
    "start_time": "2023-12-25T14:49:09.391Z"
   },
   {
    "duration": 22,
    "start_time": "2023-12-25T14:49:09.407Z"
   },
   {
    "duration": 10,
    "start_time": "2023-12-25T14:49:09.431Z"
   },
   {
    "duration": 62,
    "start_time": "2023-12-25T14:49:09.442Z"
   },
   {
    "duration": 3,
    "start_time": "2023-12-25T14:49:09.505Z"
   },
   {
    "duration": 25,
    "start_time": "2023-12-25T14:49:09.509Z"
   },
   {
    "duration": 10,
    "start_time": "2023-12-25T14:49:09.536Z"
   },
   {
    "duration": 17,
    "start_time": "2023-12-25T14:49:09.547Z"
   },
   {
    "duration": 14,
    "start_time": "2023-12-25T14:49:09.567Z"
   },
   {
    "duration": 40,
    "start_time": "2023-12-25T14:49:09.583Z"
   },
   {
    "duration": 10,
    "start_time": "2023-12-25T14:49:09.625Z"
   },
   {
    "duration": 31,
    "start_time": "2023-12-25T14:49:09.637Z"
   },
   {
    "duration": 19,
    "start_time": "2023-12-25T14:49:09.669Z"
   },
   {
    "duration": 18,
    "start_time": "2023-12-25T14:49:09.689Z"
   },
   {
    "duration": 17,
    "start_time": "2023-12-25T14:49:09.709Z"
   },
   {
    "duration": 3,
    "start_time": "2023-12-25T14:49:09.727Z"
   },
   {
    "duration": 27,
    "start_time": "2023-12-25T14:49:09.732Z"
   },
   {
    "duration": 32,
    "start_time": "2023-12-25T14:49:09.761Z"
   },
   {
    "duration": 13,
    "start_time": "2023-12-25T14:49:09.794Z"
   },
   {
    "duration": 26,
    "start_time": "2023-12-25T14:49:09.808Z"
   },
   {
    "duration": 19,
    "start_time": "2023-12-25T14:49:09.835Z"
   },
   {
    "duration": 19,
    "start_time": "2023-12-25T14:49:09.855Z"
   },
   {
    "duration": 16,
    "start_time": "2023-12-25T14:49:09.876Z"
   },
   {
    "duration": 34,
    "start_time": "2023-12-25T14:49:09.894Z"
   },
   {
    "duration": 8,
    "start_time": "2023-12-25T14:49:09.930Z"
   },
   {
    "duration": 39,
    "start_time": "2023-12-25T14:49:09.939Z"
   },
   {
    "duration": 15,
    "start_time": "2023-12-25T14:49:09.981Z"
   },
   {
    "duration": 16,
    "start_time": "2023-12-25T14:49:09.998Z"
   },
   {
    "duration": 618,
    "start_time": "2023-12-25T15:39:57.534Z"
   },
   {
    "duration": 20,
    "start_time": "2023-12-25T15:39:58.154Z"
   },
   {
    "duration": 16,
    "start_time": "2023-12-25T15:39:58.175Z"
   },
   {
    "duration": 9,
    "start_time": "2023-12-25T15:39:58.193Z"
   },
   {
    "duration": 33,
    "start_time": "2023-12-25T15:39:58.203Z"
   },
   {
    "duration": 3,
    "start_time": "2023-12-25T15:39:58.238Z"
   },
   {
    "duration": 15,
    "start_time": "2023-12-25T15:39:58.243Z"
   },
   {
    "duration": 5,
    "start_time": "2023-12-25T15:39:58.282Z"
   },
   {
    "duration": 23,
    "start_time": "2023-12-25T15:39:58.288Z"
   },
   {
    "duration": 9,
    "start_time": "2023-12-25T15:39:58.314Z"
   },
   {
    "duration": 68,
    "start_time": "2023-12-25T15:39:58.324Z"
   },
   {
    "duration": 10,
    "start_time": "2023-12-25T15:39:58.394Z"
   },
   {
    "duration": 4,
    "start_time": "2023-12-25T15:39:58.405Z"
   },
   {
    "duration": 19,
    "start_time": "2023-12-25T15:39:58.410Z"
   },
   {
    "duration": 34,
    "start_time": "2023-12-25T15:39:58.430Z"
   },
   {
    "duration": 18,
    "start_time": "2023-12-25T15:39:58.465Z"
   },
   {
    "duration": 4,
    "start_time": "2023-12-25T15:39:58.484Z"
   },
   {
    "duration": 17,
    "start_time": "2023-12-25T15:39:58.489Z"
   },
   {
    "duration": 5,
    "start_time": "2023-12-25T15:39:58.507Z"
   },
   {
    "duration": 3,
    "start_time": "2023-12-25T15:39:58.513Z"
   },
   {
    "duration": 11,
    "start_time": "2023-12-25T15:39:58.517Z"
   },
   {
    "duration": 9,
    "start_time": "2023-12-25T15:39:58.529Z"
   },
   {
    "duration": 15,
    "start_time": "2023-12-25T15:39:58.539Z"
   },
   {
    "duration": 33,
    "start_time": "2023-12-25T15:39:58.555Z"
   },
   {
    "duration": 15,
    "start_time": "2023-12-25T15:39:58.589Z"
   },
   {
    "duration": 7,
    "start_time": "2023-12-25T15:39:58.605Z"
   },
   {
    "duration": 32,
    "start_time": "2023-12-25T15:39:58.613Z"
   },
   {
    "duration": 38,
    "start_time": "2023-12-25T15:39:58.647Z"
   },
   {
    "duration": 14,
    "start_time": "2023-12-25T15:39:58.686Z"
   },
   {
    "duration": 31,
    "start_time": "2023-12-25T16:31:18.228Z"
   }
  ],
  "colab": {
   "name": "dpp_template_part2.ipynb",
   "provenance": []
  },
  "kernelspec": {
   "display_name": "Python 3 (ipykernel)",
   "language": "python",
   "name": "python3"
  },
  "language_info": {
   "codemirror_mode": {
    "name": "ipython",
    "version": 3
   },
   "file_extension": ".py",
   "mimetype": "text/x-python",
   "name": "python",
   "nbconvert_exporter": "python",
   "pygments_lexer": "ipython3",
   "version": "3.9.19"
  },
  "toc": {
   "base_numbering": 1,
   "nav_menu": {
    "height": "295px",
    "width": "492.23px"
   },
   "number_sections": true,
   "sideBar": true,
   "skip_h1_title": true,
   "title_cell": "Table of Contents",
   "title_sidebar": "Contents",
   "toc_cell": false,
   "toc_position": {},
   "toc_section_display": true,
   "toc_window_display": false
  }
 },
 "nbformat": 4,
 "nbformat_minor": 5
}
