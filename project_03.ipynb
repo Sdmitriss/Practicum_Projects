{
 "cells": [
  {
   "cell_type": "markdown",
   "id": "5a961446",
   "metadata": {},
   "source": [
    "\n",
    "\n",
    "# Статистический анализ данных сервиса аренды самокатов GoFast\n"
   ]
  },
  {
   "cell_type": "code",
   "execution_count": 1,
   "id": "72576667",
   "metadata": {},
   "outputs": [],
   "source": [
    "# импортируем необходимые библиотеки \n",
    "import pandas as pd\n",
    "import matplotlib.pyplot as plt\n",
    "import scipy.stats as st\n",
    "import numpy as np\n"
   ]
  },
  {
   "cell_type": "markdown",
   "id": "c42cbe00",
   "metadata": {},
   "source": [
    "#### Шаг 1. Загрузка данных"
   ]
  },
  {
   "cell_type": "markdown",
   "id": "5d926c9e",
   "metadata": {},
   "source": [
    "Считаем данные из csv-файлов: **'/datasets/users_go.csv' , '/datasets/rides_go.csv', '/datasets/subscriptions_go.csv'** и напечатем таблицы для ознокомления.\n"
   ]
  },
  {
   "cell_type": "code",
   "execution_count": 2,
   "id": "eff9f206",
   "metadata": {},
   "outputs": [
    {
     "data": {
      "text/html": [
       "<div>\n",
       "<style scoped>\n",
       "    .dataframe tbody tr th:only-of-type {\n",
       "        vertical-align: middle;\n",
       "    }\n",
       "\n",
       "    .dataframe tbody tr th {\n",
       "        vertical-align: top;\n",
       "    }\n",
       "\n",
       "    .dataframe thead th {\n",
       "        text-align: right;\n",
       "    }\n",
       "</style>\n",
       "<table border=\"1\" class=\"dataframe\">\n",
       "  <thead>\n",
       "    <tr style=\"text-align: right;\">\n",
       "      <th></th>\n",
       "      <th>user_id</th>\n",
       "      <th>name</th>\n",
       "      <th>age</th>\n",
       "      <th>city</th>\n",
       "      <th>subscription_type</th>\n",
       "    </tr>\n",
       "  </thead>\n",
       "  <tbody>\n",
       "    <tr>\n",
       "      <th>0</th>\n",
       "      <td>1</td>\n",
       "      <td>Кира</td>\n",
       "      <td>22</td>\n",
       "      <td>Тюмень</td>\n",
       "      <td>ultra</td>\n",
       "    </tr>\n",
       "    <tr>\n",
       "      <th>1</th>\n",
       "      <td>2</td>\n",
       "      <td>Станислав</td>\n",
       "      <td>31</td>\n",
       "      <td>Омск</td>\n",
       "      <td>ultra</td>\n",
       "    </tr>\n",
       "    <tr>\n",
       "      <th>2</th>\n",
       "      <td>3</td>\n",
       "      <td>Алексей</td>\n",
       "      <td>20</td>\n",
       "      <td>Москва</td>\n",
       "      <td>ultra</td>\n",
       "    </tr>\n",
       "    <tr>\n",
       "      <th>3</th>\n",
       "      <td>4</td>\n",
       "      <td>Константин</td>\n",
       "      <td>26</td>\n",
       "      <td>Ростов-на-Дону</td>\n",
       "      <td>ultra</td>\n",
       "    </tr>\n",
       "    <tr>\n",
       "      <th>4</th>\n",
       "      <td>5</td>\n",
       "      <td>Адель</td>\n",
       "      <td>28</td>\n",
       "      <td>Омск</td>\n",
       "      <td>ultra</td>\n",
       "    </tr>\n",
       "  </tbody>\n",
       "</table>\n",
       "</div>"
      ],
      "text/plain": [
       "   user_id        name  age            city subscription_type\n",
       "0        1        Кира   22          Тюмень             ultra\n",
       "1        2   Станислав   31            Омск             ultra\n",
       "2        3     Алексей   20          Москва             ultra\n",
       "3        4  Константин   26  Ростов-на-Дону             ultra\n",
       "4        5       Адель   28            Омск             ultra"
      ]
     },
     "metadata": {},
     "output_type": "display_data"
    },
    {
     "data": {
      "text/html": [
       "<div>\n",
       "<style scoped>\n",
       "    .dataframe tbody tr th:only-of-type {\n",
       "        vertical-align: middle;\n",
       "    }\n",
       "\n",
       "    .dataframe tbody tr th {\n",
       "        vertical-align: top;\n",
       "    }\n",
       "\n",
       "    .dataframe thead th {\n",
       "        text-align: right;\n",
       "    }\n",
       "</style>\n",
       "<table border=\"1\" class=\"dataframe\">\n",
       "  <thead>\n",
       "    <tr style=\"text-align: right;\">\n",
       "      <th></th>\n",
       "      <th>user_id</th>\n",
       "      <th>distance</th>\n",
       "      <th>duration</th>\n",
       "      <th>date</th>\n",
       "    </tr>\n",
       "  </thead>\n",
       "  <tbody>\n",
       "    <tr>\n",
       "      <th>0</th>\n",
       "      <td>1</td>\n",
       "      <td>4409.919140</td>\n",
       "      <td>25.599769</td>\n",
       "      <td>2021-01-01</td>\n",
       "    </tr>\n",
       "    <tr>\n",
       "      <th>1</th>\n",
       "      <td>1</td>\n",
       "      <td>2617.592153</td>\n",
       "      <td>15.816871</td>\n",
       "      <td>2021-01-18</td>\n",
       "    </tr>\n",
       "    <tr>\n",
       "      <th>2</th>\n",
       "      <td>1</td>\n",
       "      <td>754.159807</td>\n",
       "      <td>6.232113</td>\n",
       "      <td>2021-04-20</td>\n",
       "    </tr>\n",
       "    <tr>\n",
       "      <th>3</th>\n",
       "      <td>1</td>\n",
       "      <td>2694.783254</td>\n",
       "      <td>18.511000</td>\n",
       "      <td>2021-08-11</td>\n",
       "    </tr>\n",
       "    <tr>\n",
       "      <th>4</th>\n",
       "      <td>1</td>\n",
       "      <td>4028.687306</td>\n",
       "      <td>26.265803</td>\n",
       "      <td>2021-08-28</td>\n",
       "    </tr>\n",
       "  </tbody>\n",
       "</table>\n",
       "</div>"
      ],
      "text/plain": [
       "   user_id     distance   duration        date\n",
       "0        1  4409.919140  25.599769  2021-01-01\n",
       "1        1  2617.592153  15.816871  2021-01-18\n",
       "2        1   754.159807   6.232113  2021-04-20\n",
       "3        1  2694.783254  18.511000  2021-08-11\n",
       "4        1  4028.687306  26.265803  2021-08-28"
      ]
     },
     "metadata": {},
     "output_type": "display_data"
    },
    {
     "data": {
      "text/html": [
       "<div>\n",
       "<style scoped>\n",
       "    .dataframe tbody tr th:only-of-type {\n",
       "        vertical-align: middle;\n",
       "    }\n",
       "\n",
       "    .dataframe tbody tr th {\n",
       "        vertical-align: top;\n",
       "    }\n",
       "\n",
       "    .dataframe thead th {\n",
       "        text-align: right;\n",
       "    }\n",
       "</style>\n",
       "<table border=\"1\" class=\"dataframe\">\n",
       "  <thead>\n",
       "    <tr style=\"text-align: right;\">\n",
       "      <th></th>\n",
       "      <th>subscription_type</th>\n",
       "      <th>minute_price</th>\n",
       "      <th>start_ride_price</th>\n",
       "      <th>subscription_fee</th>\n",
       "    </tr>\n",
       "  </thead>\n",
       "  <tbody>\n",
       "    <tr>\n",
       "      <th>0</th>\n",
       "      <td>free</td>\n",
       "      <td>8</td>\n",
       "      <td>50</td>\n",
       "      <td>0</td>\n",
       "    </tr>\n",
       "    <tr>\n",
       "      <th>1</th>\n",
       "      <td>ultra</td>\n",
       "      <td>6</td>\n",
       "      <td>0</td>\n",
       "      <td>199</td>\n",
       "    </tr>\n",
       "  </tbody>\n",
       "</table>\n",
       "</div>"
      ],
      "text/plain": [
       "  subscription_type  minute_price  start_ride_price  subscription_fee\n",
       "0              free             8                50                 0\n",
       "1             ultra             6                 0               199"
      ]
     },
     "metadata": {},
     "output_type": "display_data"
    }
   ],
   "source": [
    "df_users = pd.read_csv('users_go.csv')\n",
    "\n",
    "df_rides = pd.read_csv('rides_go.csv')\n",
    "\n",
    "df_subscriptions = pd.read_csv('subscriptions_go.csv')\n",
    "\n",
    "\n",
    "\n",
    "display(df_users.head(), df_rides.head(), df_subscriptions.head())"
   ]
  },
  {
   "cell_type": "markdown",
   "id": "78b17574",
   "metadata": {},
   "source": [
    "Изучим общую информацию о датафрейме  df.users:"
   ]
  },
  {
   "cell_type": "code",
   "execution_count": 3,
   "id": "a865ccc5",
   "metadata": {},
   "outputs": [
    {
     "data": {
      "text/html": [
       "<div>\n",
       "<style scoped>\n",
       "    .dataframe tbody tr th:only-of-type {\n",
       "        vertical-align: middle;\n",
       "    }\n",
       "\n",
       "    .dataframe tbody tr th {\n",
       "        vertical-align: top;\n",
       "    }\n",
       "\n",
       "    .dataframe thead th {\n",
       "        text-align: right;\n",
       "    }\n",
       "</style>\n",
       "<table border=\"1\" class=\"dataframe\">\n",
       "  <thead>\n",
       "    <tr style=\"text-align: right;\">\n",
       "      <th></th>\n",
       "      <th>user_id</th>\n",
       "      <th>name</th>\n",
       "      <th>age</th>\n",
       "      <th>city</th>\n",
       "      <th>subscription_type</th>\n",
       "    </tr>\n",
       "  </thead>\n",
       "  <tbody>\n",
       "    <tr>\n",
       "      <th>1543</th>\n",
       "      <td>153</td>\n",
       "      <td>Герман</td>\n",
       "      <td>23</td>\n",
       "      <td>Москва</td>\n",
       "      <td>ultra</td>\n",
       "    </tr>\n",
       "    <tr>\n",
       "      <th>326</th>\n",
       "      <td>327</td>\n",
       "      <td>Наташа</td>\n",
       "      <td>24</td>\n",
       "      <td>Краснодар</td>\n",
       "      <td>ultra</td>\n",
       "    </tr>\n",
       "    <tr>\n",
       "      <th>1172</th>\n",
       "      <td>1173</td>\n",
       "      <td>Алина</td>\n",
       "      <td>19</td>\n",
       "      <td>Пятигорск</td>\n",
       "      <td>free</td>\n",
       "    </tr>\n",
       "    <tr>\n",
       "      <th>1287</th>\n",
       "      <td>1288</td>\n",
       "      <td>Матвей</td>\n",
       "      <td>33</td>\n",
       "      <td>Ростов-на-Дону</td>\n",
       "      <td>free</td>\n",
       "    </tr>\n",
       "    <tr>\n",
       "      <th>1334</th>\n",
       "      <td>1335</td>\n",
       "      <td>Юлиана</td>\n",
       "      <td>27</td>\n",
       "      <td>Ростов-на-Дону</td>\n",
       "      <td>free</td>\n",
       "    </tr>\n",
       "    <tr>\n",
       "      <th>1531</th>\n",
       "      <td>1532</td>\n",
       "      <td>Алексей</td>\n",
       "      <td>26</td>\n",
       "      <td>Тюмень</td>\n",
       "      <td>free</td>\n",
       "    </tr>\n",
       "    <tr>\n",
       "      <th>545</th>\n",
       "      <td>546</td>\n",
       "      <td>Милена</td>\n",
       "      <td>22</td>\n",
       "      <td>Ростов-на-Дону</td>\n",
       "      <td>ultra</td>\n",
       "    </tr>\n",
       "    <tr>\n",
       "      <th>1333</th>\n",
       "      <td>1334</td>\n",
       "      <td>Мария</td>\n",
       "      <td>16</td>\n",
       "      <td>Ростов-на-Дону</td>\n",
       "      <td>free</td>\n",
       "    </tr>\n",
       "    <tr>\n",
       "      <th>81</th>\n",
       "      <td>82</td>\n",
       "      <td>Максим</td>\n",
       "      <td>19</td>\n",
       "      <td>Ростов-на-Дону</td>\n",
       "      <td>ultra</td>\n",
       "    </tr>\n",
       "    <tr>\n",
       "      <th>126</th>\n",
       "      <td>127</td>\n",
       "      <td>Павел</td>\n",
       "      <td>25</td>\n",
       "      <td>Пятигорск</td>\n",
       "      <td>ultra</td>\n",
       "    </tr>\n",
       "  </tbody>\n",
       "</table>\n",
       "</div>"
      ],
      "text/plain": [
       "      user_id     name  age            city subscription_type\n",
       "1543      153   Герман   23          Москва             ultra\n",
       "326       327   Наташа   24       Краснодар             ultra\n",
       "1172     1173    Алина   19       Пятигорск              free\n",
       "1287     1288   Матвей   33  Ростов-на-Дону              free\n",
       "1334     1335   Юлиана   27  Ростов-на-Дону              free\n",
       "1531     1532  Алексей   26          Тюмень              free\n",
       "545       546   Милена   22  Ростов-на-Дону             ultra\n",
       "1333     1334    Мария   16  Ростов-на-Дону              free\n",
       "81         82   Максим   19  Ростов-на-Дону             ultra\n",
       "126       127    Павел   25       Пятигорск             ultra"
      ]
     },
     "metadata": {},
     "output_type": "display_data"
    },
    {
     "name": "stdout",
     "output_type": "stream",
     "text": [
      "<class 'pandas.core.frame.DataFrame'>\n",
      "RangeIndex: 1565 entries, 0 to 1564\n",
      "Data columns (total 5 columns):\n",
      " #   Column             Non-Null Count  Dtype \n",
      "---  ------             --------------  ----- \n",
      " 0   user_id            1565 non-null   int64 \n",
      " 1   name               1565 non-null   object\n",
      " 2   age                1565 non-null   int64 \n",
      " 3   city               1565 non-null   object\n",
      " 4   subscription_type  1565 non-null   object\n",
      "dtypes: int64(2), object(3)\n",
      "memory usage: 61.3+ KB\n"
     ]
    }
   ],
   "source": [
    "display(df_users.sample(10))\n",
    "df_users.info()"
   ]
  },
  {
   "cell_type": "markdown",
   "id": "5c2844dd",
   "metadata": {},
   "source": [
    "В датафрейме содержится 1565 строк, пропущенных значений нет. Датафрейм необходимо проверить на наличие  явных и неявных дубликатов. Типы данных не требуют изменений.\n",
    "\n",
    "Изучим общую информацию о датафрейме `df_rides`:"
   ]
  },
  {
   "cell_type": "code",
   "execution_count": 4,
   "id": "0d877b7a",
   "metadata": {},
   "outputs": [
    {
     "data": {
      "text/html": [
       "<div>\n",
       "<style scoped>\n",
       "    .dataframe tbody tr th:only-of-type {\n",
       "        vertical-align: middle;\n",
       "    }\n",
       "\n",
       "    .dataframe tbody tr th {\n",
       "        vertical-align: top;\n",
       "    }\n",
       "\n",
       "    .dataframe thead th {\n",
       "        text-align: right;\n",
       "    }\n",
       "</style>\n",
       "<table border=\"1\" class=\"dataframe\">\n",
       "  <thead>\n",
       "    <tr style=\"text-align: right;\">\n",
       "      <th></th>\n",
       "      <th>user_id</th>\n",
       "      <th>distance</th>\n",
       "      <th>duration</th>\n",
       "      <th>date</th>\n",
       "    </tr>\n",
       "  </thead>\n",
       "  <tbody>\n",
       "    <tr>\n",
       "      <th>16031</th>\n",
       "      <td>1392</td>\n",
       "      <td>235.127167</td>\n",
       "      <td>5.282512</td>\n",
       "      <td>2021-03-07</td>\n",
       "    </tr>\n",
       "    <tr>\n",
       "      <th>15084</th>\n",
       "      <td>1322</td>\n",
       "      <td>5285.797316</td>\n",
       "      <td>33.821740</td>\n",
       "      <td>2021-03-23</td>\n",
       "    </tr>\n",
       "    <tr>\n",
       "      <th>7872</th>\n",
       "      <td>799</td>\n",
       "      <td>3274.136803</td>\n",
       "      <td>14.541226</td>\n",
       "      <td>2021-04-18</td>\n",
       "    </tr>\n",
       "    <tr>\n",
       "      <th>3555</th>\n",
       "      <td>382</td>\n",
       "      <td>3493.109112</td>\n",
       "      <td>21.122042</td>\n",
       "      <td>2021-06-23</td>\n",
       "    </tr>\n",
       "    <tr>\n",
       "      <th>13767</th>\n",
       "      <td>1229</td>\n",
       "      <td>1133.592229</td>\n",
       "      <td>7.429126</td>\n",
       "      <td>2021-01-15</td>\n",
       "    </tr>\n",
       "    <tr>\n",
       "      <th>8716</th>\n",
       "      <td>866</td>\n",
       "      <td>2172.744938</td>\n",
       "      <td>6.828322</td>\n",
       "      <td>2021-07-02</td>\n",
       "    </tr>\n",
       "    <tr>\n",
       "      <th>14845</th>\n",
       "      <td>1306</td>\n",
       "      <td>3619.320786</td>\n",
       "      <td>16.686370</td>\n",
       "      <td>2021-03-03</td>\n",
       "    </tr>\n",
       "    <tr>\n",
       "      <th>8226</th>\n",
       "      <td>828</td>\n",
       "      <td>4315.378815</td>\n",
       "      <td>17.928370</td>\n",
       "      <td>2021-07-31</td>\n",
       "    </tr>\n",
       "    <tr>\n",
       "      <th>13200</th>\n",
       "      <td>1190</td>\n",
       "      <td>2860.320847</td>\n",
       "      <td>17.720642</td>\n",
       "      <td>2021-09-14</td>\n",
       "    </tr>\n",
       "    <tr>\n",
       "      <th>13703</th>\n",
       "      <td>1224</td>\n",
       "      <td>5179.707927</td>\n",
       "      <td>25.281322</td>\n",
       "      <td>2021-10-05</td>\n",
       "    </tr>\n",
       "  </tbody>\n",
       "</table>\n",
       "</div>"
      ],
      "text/plain": [
       "       user_id     distance   duration        date\n",
       "16031     1392   235.127167   5.282512  2021-03-07\n",
       "15084     1322  5285.797316  33.821740  2021-03-23\n",
       "7872       799  3274.136803  14.541226  2021-04-18\n",
       "3555       382  3493.109112  21.122042  2021-06-23\n",
       "13767     1229  1133.592229   7.429126  2021-01-15\n",
       "8716       866  2172.744938   6.828322  2021-07-02\n",
       "14845     1306  3619.320786  16.686370  2021-03-03\n",
       "8226       828  4315.378815  17.928370  2021-07-31\n",
       "13200     1190  2860.320847  17.720642  2021-09-14\n",
       "13703     1224  5179.707927  25.281322  2021-10-05"
      ]
     },
     "metadata": {},
     "output_type": "display_data"
    },
    {
     "name": "stdout",
     "output_type": "stream",
     "text": [
      "<class 'pandas.core.frame.DataFrame'>\n",
      "RangeIndex: 18068 entries, 0 to 18067\n",
      "Data columns (total 4 columns):\n",
      " #   Column    Non-Null Count  Dtype  \n",
      "---  ------    --------------  -----  \n",
      " 0   user_id   18068 non-null  int64  \n",
      " 1   distance  18068 non-null  float64\n",
      " 2   duration  18068 non-null  float64\n",
      " 3   date      18068 non-null  object \n",
      "dtypes: float64(2), int64(1), object(1)\n",
      "memory usage: 564.8+ KB\n"
     ]
    }
   ],
   "source": [
    "display(df_rides.sample(10))\n",
    "df_rides.info()"
   ]
  },
  {
   "cell_type": "markdown",
   "id": "06cd3c19",
   "metadata": {},
   "source": [
    "Датафрейм содержит 18068 строк, что достаточно для проведения  анализа в рамках проекта. Пропущенных \n",
    "значений нет. Проверим датафрейм на наличие явных  и неявных дубликатов, также преобразуем \n",
    " типы данных, придерживаясь следующих принципов:\n",
    "1. Там где возможно и целесообразно приведем данны к целочисленному типу.\n",
    "2. Данные с датами приведем к типу данных datetime.\n",
    "\n",
    "Изучим общую информацию о датафрейме `df_subscriptions`:"
   ]
  },
  {
   "cell_type": "code",
   "execution_count": 5,
   "id": "231b4f68",
   "metadata": {},
   "outputs": [
    {
     "data": {
      "text/html": [
       "<div>\n",
       "<style scoped>\n",
       "    .dataframe tbody tr th:only-of-type {\n",
       "        vertical-align: middle;\n",
       "    }\n",
       "\n",
       "    .dataframe tbody tr th {\n",
       "        vertical-align: top;\n",
       "    }\n",
       "\n",
       "    .dataframe thead th {\n",
       "        text-align: right;\n",
       "    }\n",
       "</style>\n",
       "<table border=\"1\" class=\"dataframe\">\n",
       "  <thead>\n",
       "    <tr style=\"text-align: right;\">\n",
       "      <th></th>\n",
       "      <th>subscription_type</th>\n",
       "      <th>minute_price</th>\n",
       "      <th>start_ride_price</th>\n",
       "      <th>subscription_fee</th>\n",
       "    </tr>\n",
       "  </thead>\n",
       "  <tbody>\n",
       "    <tr>\n",
       "      <th>0</th>\n",
       "      <td>free</td>\n",
       "      <td>8</td>\n",
       "      <td>50</td>\n",
       "      <td>0</td>\n",
       "    </tr>\n",
       "    <tr>\n",
       "      <th>1</th>\n",
       "      <td>ultra</td>\n",
       "      <td>6</td>\n",
       "      <td>0</td>\n",
       "      <td>199</td>\n",
       "    </tr>\n",
       "  </tbody>\n",
       "</table>\n",
       "</div>"
      ],
      "text/plain": [
       "  subscription_type  minute_price  start_ride_price  subscription_fee\n",
       "0              free             8                50                 0\n",
       "1             ultra             6                 0               199"
      ]
     },
     "metadata": {},
     "output_type": "display_data"
    },
    {
     "name": "stdout",
     "output_type": "stream",
     "text": [
      "<class 'pandas.core.frame.DataFrame'>\n",
      "RangeIndex: 2 entries, 0 to 1\n",
      "Data columns (total 4 columns):\n",
      " #   Column             Non-Null Count  Dtype \n",
      "---  ------             --------------  ----- \n",
      " 0   subscription_type  2 non-null      object\n",
      " 1   minute_price       2 non-null      int64 \n",
      " 2   start_ride_price   2 non-null      int64 \n",
      " 3   subscription_fee   2 non-null      int64 \n",
      "dtypes: int64(3), object(1)\n",
      "memory usage: 192.0+ bytes\n"
     ]
    }
   ],
   "source": [
    "display(df_subscriptions)\n",
    "df_subscriptions.info()"
   ]
  },
  {
   "cell_type": "markdown",
   "id": "b158b115",
   "metadata": {},
   "source": [
    "Датафрейм с метаданными, дополняйщий информацию в датафрейме `df_users`, предобрабтка не требуется."
   ]
  },
  {
   "cell_type": "markdown",
   "id": "e95ebca7",
   "metadata": {},
   "source": [
    "#### Шаг 2. Предобработка данных"
   ]
  },
  {
   "cell_type": "markdown",
   "id": "91cf4bfd",
   "metadata": {},
   "source": [
    "##### Предобработка данных в таблице `df_users`\n",
    "\n",
    "Проверим наличие явных дубликатов в таблице и удалим найденные.\n"
   ]
  },
  {
   "cell_type": "code",
   "execution_count": 6,
   "id": "b2efa9b3",
   "metadata": {},
   "outputs": [
    {
     "data": {
      "text/plain": [
       "31"
      ]
     },
     "execution_count": 6,
     "metadata": {},
     "output_type": "execute_result"
    }
   ],
   "source": [
    "df_users.duplicated().sum()"
   ]
  },
  {
   "cell_type": "code",
   "execution_count": 7,
   "id": "46a5550b",
   "metadata": {},
   "outputs": [
    {
     "data": {
      "text/plain": [
       "0"
      ]
     },
     "execution_count": 7,
     "metadata": {},
     "output_type": "execute_result"
    }
   ],
   "source": [
    "df_users = df_users.drop_duplicates()\n",
    "df_users.duplicated().sum()"
   ]
  },
  {
   "cell_type": "markdown",
   "id": "1d6c1dbc",
   "metadata": {},
   "source": [
    "Проверим столбцы `name`,`city`на наличие неявных дубликтов."
   ]
  },
  {
   "cell_type": "code",
   "execution_count": 8,
   "id": "36a3edb4",
   "metadata": {
    "scrolled": true
   },
   "outputs": [
    {
     "name": "stdout",
     "output_type": "stream",
     "text": [
      "количество уникальных имен: 194\n"
     ]
    },
    {
     "data": {
      "text/plain": [
       "['Агата',\n",
       " 'Аделина',\n",
       " 'Адель',\n",
       " 'Айдар',\n",
       " 'Александр',\n",
       " 'Александра',\n",
       " 'Алексей',\n",
       " 'Алина',\n",
       " 'Алиса',\n",
       " 'Алия',\n",
       " 'Алла',\n",
       " 'Альберт',\n",
       " 'Альбина',\n",
       " 'Алёна',\n",
       " 'Амалия',\n",
       " 'Амина',\n",
       " 'Амир',\n",
       " 'Анастасия',\n",
       " 'Анатолий',\n",
       " 'Ангелина',\n",
       " 'Андрей',\n",
       " 'Анжелика',\n",
       " 'Анна',\n",
       " 'Антон',\n",
       " 'Антонина',\n",
       " 'Ариана',\n",
       " 'Арина',\n",
       " 'Арсен',\n",
       " 'Арсений',\n",
       " 'Артемий',\n",
       " 'Артур',\n",
       " 'Артём',\n",
       " 'Богдан',\n",
       " 'Борис',\n",
       " 'Вадим',\n",
       " 'Валентина',\n",
       " 'Валерий',\n",
       " 'Валерия',\n",
       " 'Варвара',\n",
       " 'Василий',\n",
       " 'Василина',\n",
       " 'Василиса',\n",
       " 'Вера',\n",
       " 'Вероника',\n",
       " 'Виктор',\n",
       " 'Виктория',\n",
       " 'Виолетта',\n",
       " 'Виталий',\n",
       " 'Виталина',\n",
       " 'Влад',\n",
       " 'Влада',\n",
       " 'Владимир',\n",
       " 'Владислав',\n",
       " 'Владислава',\n",
       " 'Всеволод',\n",
       " 'Вячеслав',\n",
       " 'Галина',\n",
       " 'Георгий',\n",
       " 'Герман',\n",
       " 'Глеб',\n",
       " 'Гордей',\n",
       " 'Григорий',\n",
       " 'Давид',\n",
       " 'Дамир',\n",
       " 'Даниил',\n",
       " 'Данил',\n",
       " 'Данила',\n",
       " 'Даниэль',\n",
       " 'Дарина',\n",
       " 'Дарья',\n",
       " 'Демид',\n",
       " 'Денис',\n",
       " 'Диана',\n",
       " 'Дмитрий',\n",
       " 'Ева',\n",
       " 'Евгений',\n",
       " 'Евгения',\n",
       " 'Егор',\n",
       " 'Екатерина',\n",
       " 'Елена',\n",
       " 'Елизавета',\n",
       " 'Елисей',\n",
       " 'Есения',\n",
       " 'Жанна',\n",
       " 'Зарина',\n",
       " 'Захар',\n",
       " 'Злата',\n",
       " 'Иван',\n",
       " 'Игнат',\n",
       " 'Игорь',\n",
       " 'Ильдар',\n",
       " 'Илья',\n",
       " 'Инна',\n",
       " 'Ирина',\n",
       " 'Камилла',\n",
       " 'Карина',\n",
       " 'Каролина',\n",
       " 'Кира',\n",
       " 'Кирилл',\n",
       " 'Константин',\n",
       " 'Кристина',\n",
       " 'Ксения',\n",
       " 'Лариса',\n",
       " 'Лев',\n",
       " 'Леонид',\n",
       " 'Лиана',\n",
       " 'Лидия',\n",
       " 'Лилия',\n",
       " 'Любовь',\n",
       " 'Людмила',\n",
       " 'Мадина',\n",
       " 'Майя',\n",
       " 'Макар',\n",
       " 'Максим',\n",
       " 'Марат',\n",
       " 'Маргарита',\n",
       " 'Марина',\n",
       " 'Мария',\n",
       " 'Марк',\n",
       " 'Марсель',\n",
       " 'Матвей',\n",
       " 'Мелания',\n",
       " 'Милана',\n",
       " 'Милена',\n",
       " 'Мирон',\n",
       " 'Мирослав',\n",
       " 'Мирослава',\n",
       " 'Михаил',\n",
       " 'Назар',\n",
       " 'Наталия',\n",
       " 'Наталья',\n",
       " 'Наташа',\n",
       " 'Нелли',\n",
       " 'Ника',\n",
       " 'Никита',\n",
       " 'Николай',\n",
       " 'Нина',\n",
       " 'Одиссей',\n",
       " 'Оксана',\n",
       " 'Олег',\n",
       " 'Олеся',\n",
       " 'Ольга',\n",
       " 'Павел',\n",
       " 'Петр',\n",
       " 'Платон',\n",
       " 'Полина',\n",
       " 'Радмир',\n",
       " 'Рамиль',\n",
       " 'Регина',\n",
       " 'Роберт',\n",
       " 'Родион',\n",
       " 'Роман',\n",
       " 'Ростислав',\n",
       " 'Руслан',\n",
       " 'Рустам',\n",
       " 'Савелий',\n",
       " 'Самир',\n",
       " 'Самира',\n",
       " 'Светлана',\n",
       " 'Святогор',\n",
       " 'Святослав',\n",
       " 'Семен',\n",
       " 'Сергей',\n",
       " 'Снежана',\n",
       " 'София',\n",
       " 'Софья',\n",
       " 'Станислав',\n",
       " 'Степан',\n",
       " 'Стефания',\n",
       " 'Таисия',\n",
       " 'Тамара',\n",
       " 'Тамерлан',\n",
       " 'Татьяна',\n",
       " 'Тимофей',\n",
       " 'Тимур',\n",
       " 'Тихон',\n",
       " 'Ульяна',\n",
       " 'Федор',\n",
       " 'Эвелина',\n",
       " 'Эдуард',\n",
       " 'Элина',\n",
       " 'Эльвира',\n",
       " 'Эльмира',\n",
       " 'Эмилия',\n",
       " 'Эмиль',\n",
       " 'Юлиана',\n",
       " 'Юлия',\n",
       " 'Юрий',\n",
       " 'Ян',\n",
       " 'Яна',\n",
       " 'Яромир',\n",
       " 'Ярослав',\n",
       " 'Ярослава',\n",
       " 'Ясмина']"
      ]
     },
     "execution_count": 8,
     "metadata": {},
     "output_type": "execute_result"
    }
   ],
   "source": [
    "print(f'количество уникальных имен: {len(df_users[\"name\"].unique())}')\n",
    "sorted(df_users['name'].unique())"
   ]
  },
  {
   "cell_type": "markdown",
   "id": "5324cb0b",
   "metadata": {},
   "source": [
    " В столбце содержатся 194 уникальных  имени клиентов сервиса, и при визуальном осмотре  списка\n",
    "    неявных дубликатов не обнаружено.\n",
    "    \n",
    "Проверим столбец `cyty` на неявные дубликаты."
   ]
  },
  {
   "cell_type": "code",
   "execution_count": 9,
   "id": "8aa15359",
   "metadata": {},
   "outputs": [
    {
     "name": "stdout",
     "output_type": "stream",
     "text": [
      "количество уникальных имен: 8\n"
     ]
    },
    {
     "data": {
      "text/plain": [
       "['Екатеринбург',\n",
       " 'Краснодар',\n",
       " 'Москва',\n",
       " 'Омск',\n",
       " 'Пятигорск',\n",
       " 'Ростов-на-Дону',\n",
       " 'Сочи',\n",
       " 'Тюмень']"
      ]
     },
     "execution_count": 9,
     "metadata": {},
     "output_type": "execute_result"
    }
   ],
   "source": [
    "print(f'количество уникальных имен: {len(df_users[\"city\"].unique())}')\n",
    "sorted(df_users['city'].unique())"
   ]
  },
  {
   "cell_type": "markdown",
   "id": "3c0289ca",
   "metadata": {},
   "source": [
    "В столбце содержится 8 уникальных имен, неявных дубликатов не обнаружено.\n",
    "\n",
    "Убедимся в том, что столбец `subscription_type`содержит только два уникальных названия, которые\n",
    "можно будет использовать в качестве маркеров категорий."
   ]
  },
  {
   "cell_type": "code",
   "execution_count": 10,
   "id": "4d2eae56",
   "metadata": {},
   "outputs": [
    {
     "data": {
      "text/plain": [
       "subscription_type\n",
       "free                 835\n",
       "ultra                699\n",
       "dtype: int64"
      ]
     },
     "execution_count": 10,
     "metadata": {},
     "output_type": "execute_result"
    }
   ],
   "source": [
    "df_users[['subscription_type']].value_counts()"
   ]
  },
  {
   "cell_type": "markdown",
   "id": "8e047937",
   "metadata": {},
   "source": [
    "##### Предобработка данных в таблице `df_rides`\n",
    "\n",
    "Проверим наличие явных дубликатов в таблице и удалим найденные."
   ]
  },
  {
   "cell_type": "code",
   "execution_count": 11,
   "id": "8b5e411b",
   "metadata": {},
   "outputs": [
    {
     "data": {
      "text/plain": [
       "0"
      ]
     },
     "execution_count": 11,
     "metadata": {},
     "output_type": "execute_result"
    }
   ],
   "source": [
    "df_rides.duplicated().sum()"
   ]
  },
  {
   "cell_type": "code",
   "execution_count": 12,
   "id": "b48edaab",
   "metadata": {},
   "outputs": [
    {
     "data": {
      "text/html": [
       "<div>\n",
       "<style scoped>\n",
       "    .dataframe tbody tr th:only-of-type {\n",
       "        vertical-align: middle;\n",
       "    }\n",
       "\n",
       "    .dataframe tbody tr th {\n",
       "        vertical-align: top;\n",
       "    }\n",
       "\n",
       "    .dataframe thead th {\n",
       "        text-align: right;\n",
       "    }\n",
       "</style>\n",
       "<table border=\"1\" class=\"dataframe\">\n",
       "  <thead>\n",
       "    <tr style=\"text-align: right;\">\n",
       "      <th></th>\n",
       "      <th>user_id</th>\n",
       "      <th>distance</th>\n",
       "      <th>duration</th>\n",
       "    </tr>\n",
       "  </thead>\n",
       "  <tbody>\n",
       "    <tr>\n",
       "      <th>count</th>\n",
       "      <td>18068.000000</td>\n",
       "      <td>18068.000000</td>\n",
       "      <td>18068.000000</td>\n",
       "    </tr>\n",
       "    <tr>\n",
       "      <th>mean</th>\n",
       "      <td>842.869936</td>\n",
       "      <td>3070.659976</td>\n",
       "      <td>17.805011</td>\n",
       "    </tr>\n",
       "    <tr>\n",
       "      <th>std</th>\n",
       "      <td>434.734317</td>\n",
       "      <td>1116.831209</td>\n",
       "      <td>6.091051</td>\n",
       "    </tr>\n",
       "    <tr>\n",
       "      <th>min</th>\n",
       "      <td>1.000000</td>\n",
       "      <td>0.855683</td>\n",
       "      <td>0.500000</td>\n",
       "    </tr>\n",
       "    <tr>\n",
       "      <th>25%</th>\n",
       "      <td>487.000000</td>\n",
       "      <td>2543.226360</td>\n",
       "      <td>13.597563</td>\n",
       "    </tr>\n",
       "    <tr>\n",
       "      <th>50%</th>\n",
       "      <td>889.000000</td>\n",
       "      <td>3133.609994</td>\n",
       "      <td>17.678395</td>\n",
       "    </tr>\n",
       "    <tr>\n",
       "      <th>75%</th>\n",
       "      <td>1213.250000</td>\n",
       "      <td>3776.222735</td>\n",
       "      <td>21.724800</td>\n",
       "    </tr>\n",
       "    <tr>\n",
       "      <th>max</th>\n",
       "      <td>1534.000000</td>\n",
       "      <td>7211.007745</td>\n",
       "      <td>40.823963</td>\n",
       "    </tr>\n",
       "  </tbody>\n",
       "</table>\n",
       "</div>"
      ],
      "text/plain": [
       "            user_id      distance      duration\n",
       "count  18068.000000  18068.000000  18068.000000\n",
       "mean     842.869936   3070.659976     17.805011\n",
       "std      434.734317   1116.831209      6.091051\n",
       "min        1.000000      0.855683      0.500000\n",
       "25%      487.000000   2543.226360     13.597563\n",
       "50%      889.000000   3133.609994     17.678395\n",
       "75%     1213.250000   3776.222735     21.724800\n",
       "max     1534.000000   7211.007745     40.823963"
      ]
     },
     "execution_count": 12,
     "metadata": {},
     "output_type": "execute_result"
    }
   ],
   "source": [
    "df_rides.describe()"
   ]
  },
  {
   "cell_type": "markdown",
   "id": "67beb8f0",
   "metadata": {},
   "source": [
    "Приведем  столбец `date` к типу данных **datetime**.\n",
    "\n",
    "Данные в столбце `distance` округлим до целочисленного значения и приведем к **'int64'**.\n",
    "\n",
    "Данные  о продолжительносьти поездки из столбца `duration`округлим до следующего цлого и преведем к **'int64'**. \n",
    "\n",
    "Проверим результат методом .info(), также выведем несколько строк таблицы"
   ]
  },
  {
   "cell_type": "code",
   "execution_count": 13,
   "id": "719c7c8e",
   "metadata": {},
   "outputs": [
    {
     "name": "stdout",
     "output_type": "stream",
     "text": [
      "<class 'pandas.core.frame.DataFrame'>\n",
      "RangeIndex: 18068 entries, 0 to 18067\n",
      "Data columns (total 4 columns):\n",
      " #   Column    Non-Null Count  Dtype         \n",
      "---  ------    --------------  -----         \n",
      " 0   user_id   18068 non-null  int64         \n",
      " 1   distance  18068 non-null  int32         \n",
      " 2   duration  18068 non-null  int32         \n",
      " 3   date      18068 non-null  datetime64[ns]\n",
      "dtypes: datetime64[ns](1), int32(2), int64(1)\n",
      "memory usage: 423.6 KB\n"
     ]
    },
    {
     "data": {
      "text/plain": [
       "None"
      ]
     },
     "metadata": {},
     "output_type": "display_data"
    },
    {
     "data": {
      "text/html": [
       "<div>\n",
       "<style scoped>\n",
       "    .dataframe tbody tr th:only-of-type {\n",
       "        vertical-align: middle;\n",
       "    }\n",
       "\n",
       "    .dataframe tbody tr th {\n",
       "        vertical-align: top;\n",
       "    }\n",
       "\n",
       "    .dataframe thead th {\n",
       "        text-align: right;\n",
       "    }\n",
       "</style>\n",
       "<table border=\"1\" class=\"dataframe\">\n",
       "  <thead>\n",
       "    <tr style=\"text-align: right;\">\n",
       "      <th></th>\n",
       "      <th>user_id</th>\n",
       "      <th>distance</th>\n",
       "      <th>duration</th>\n",
       "      <th>date</th>\n",
       "    </tr>\n",
       "  </thead>\n",
       "  <tbody>\n",
       "    <tr>\n",
       "      <th>0</th>\n",
       "      <td>1</td>\n",
       "      <td>4410</td>\n",
       "      <td>26</td>\n",
       "      <td>2021-01-01</td>\n",
       "    </tr>\n",
       "    <tr>\n",
       "      <th>1</th>\n",
       "      <td>1</td>\n",
       "      <td>2618</td>\n",
       "      <td>16</td>\n",
       "      <td>2021-01-18</td>\n",
       "    </tr>\n",
       "    <tr>\n",
       "      <th>2</th>\n",
       "      <td>1</td>\n",
       "      <td>754</td>\n",
       "      <td>7</td>\n",
       "      <td>2021-04-20</td>\n",
       "    </tr>\n",
       "    <tr>\n",
       "      <th>3</th>\n",
       "      <td>1</td>\n",
       "      <td>2695</td>\n",
       "      <td>19</td>\n",
       "      <td>2021-08-11</td>\n",
       "    </tr>\n",
       "    <tr>\n",
       "      <th>4</th>\n",
       "      <td>1</td>\n",
       "      <td>4029</td>\n",
       "      <td>27</td>\n",
       "      <td>2021-08-28</td>\n",
       "    </tr>\n",
       "  </tbody>\n",
       "</table>\n",
       "</div>"
      ],
      "text/plain": [
       "   user_id  distance  duration       date\n",
       "0        1      4410        26 2021-01-01\n",
       "1        1      2618        16 2021-01-18\n",
       "2        1       754         7 2021-04-20\n",
       "3        1      2695        19 2021-08-11\n",
       "4        1      4029        27 2021-08-28"
      ]
     },
     "metadata": {},
     "output_type": "display_data"
    }
   ],
   "source": [
    "df_rides['date'] = pd.to_datetime( df_rides['date'], format = '%Y-%m-%d')\n",
    "df_rides['distance'] = df_rides['distance'].round().astype('int')\n",
    "df_rides['duration'] =np.ceil(df_rides['duration']).astype('int')\n",
    "display(df_rides.info(),df_rides.head())"
   ]
  },
  {
   "cell_type": "markdown",
   "id": "10956269",
   "metadata": {},
   "source": [
    "Создадим столбец с номeром месяца `month_` на основе столбца `date`. Номер месяца возможно использовать для агрегации данных\n",
    "помесячно, при условии, что интервал времени охватывает полный год. В случае отсутствия такого соответствия требуется разбивка данных по годам."
   ]
  },
  {
   "cell_type": "code",
   "execution_count": 16,
   "id": "f49e58a3",
   "metadata": {},
   "outputs": [
    {
     "data": {
      "text/plain": [
       "2021    18068\n",
       "Name: date, dtype: int64"
      ]
     },
     "execution_count": 16,
     "metadata": {},
     "output_type": "execute_result"
    }
   ],
   "source": [
    "df_rides['date'].dt.year.value_counts()"
   ]
  },
  {
   "cell_type": "markdown",
   "id": "5d5e9063",
   "metadata": {},
   "source": [
    "Убедились, что данные охватывают период  в один год."
   ]
  },
  {
   "cell_type": "code",
   "execution_count": 17,
   "id": "4d6e20a4",
   "metadata": {},
   "outputs": [],
   "source": [
    "df_rides['month'] = df_rides['date'].dt.month"
   ]
  },
  {
   "cell_type": "code",
   "execution_count": 18,
   "id": "76a12bf9",
   "metadata": {},
   "outputs": [
    {
     "data": {
      "text/html": [
       "<div>\n",
       "<style scoped>\n",
       "    .dataframe tbody tr th:only-of-type {\n",
       "        vertical-align: middle;\n",
       "    }\n",
       "\n",
       "    .dataframe tbody tr th {\n",
       "        vertical-align: top;\n",
       "    }\n",
       "\n",
       "    .dataframe thead th {\n",
       "        text-align: right;\n",
       "    }\n",
       "</style>\n",
       "<table border=\"1\" class=\"dataframe\">\n",
       "  <thead>\n",
       "    <tr style=\"text-align: right;\">\n",
       "      <th></th>\n",
       "      <th>user_id</th>\n",
       "      <th>distance</th>\n",
       "      <th>duration</th>\n",
       "      <th>date</th>\n",
       "      <th>month</th>\n",
       "    </tr>\n",
       "  </thead>\n",
       "  <tbody>\n",
       "    <tr>\n",
       "      <th>0</th>\n",
       "      <td>1</td>\n",
       "      <td>4410</td>\n",
       "      <td>26</td>\n",
       "      <td>2021-01-01</td>\n",
       "      <td>1</td>\n",
       "    </tr>\n",
       "    <tr>\n",
       "      <th>1</th>\n",
       "      <td>1</td>\n",
       "      <td>2618</td>\n",
       "      <td>16</td>\n",
       "      <td>2021-01-18</td>\n",
       "      <td>1</td>\n",
       "    </tr>\n",
       "    <tr>\n",
       "      <th>2</th>\n",
       "      <td>1</td>\n",
       "      <td>754</td>\n",
       "      <td>7</td>\n",
       "      <td>2021-04-20</td>\n",
       "      <td>4</td>\n",
       "    </tr>\n",
       "    <tr>\n",
       "      <th>3</th>\n",
       "      <td>1</td>\n",
       "      <td>2695</td>\n",
       "      <td>19</td>\n",
       "      <td>2021-08-11</td>\n",
       "      <td>8</td>\n",
       "    </tr>\n",
       "    <tr>\n",
       "      <th>4</th>\n",
       "      <td>1</td>\n",
       "      <td>4029</td>\n",
       "      <td>27</td>\n",
       "      <td>2021-08-28</td>\n",
       "      <td>8</td>\n",
       "    </tr>\n",
       "  </tbody>\n",
       "</table>\n",
       "</div>"
      ],
      "text/plain": [
       "   user_id  distance  duration       date  month\n",
       "0        1      4410        26 2021-01-01      1\n",
       "1        1      2618        16 2021-01-18      1\n",
       "2        1       754         7 2021-04-20      4\n",
       "3        1      2695        19 2021-08-11      8\n",
       "4        1      4029        27 2021-08-28      8"
      ]
     },
     "execution_count": 18,
     "metadata": {},
     "output_type": "execute_result"
    }
   ],
   "source": [
    "df_rides.head() "
   ]
  },
  {
   "cell_type": "markdown",
   "id": "4a32b912",
   "metadata": {},
   "source": [
    "Количество пользователей без подписки превышает общее число пользователей, за исключением Москвы и Омска, где оно одинаково."
   ]
  },
  {
   "cell_type": "markdown",
   "id": "47105e82",
   "metadata": {},
   "source": [
    "##### Оценка возраста пользователей"
   ]
  },
  {
   "cell_type": "code",
   "execution_count": 19,
   "id": "021d0b21",
   "metadata": {},
   "outputs": [
    {
     "data": {
      "text/html": [
       "<div>\n",
       "<style scoped>\n",
       "    .dataframe tbody tr th:only-of-type {\n",
       "        vertical-align: middle;\n",
       "    }\n",
       "\n",
       "    .dataframe tbody tr th {\n",
       "        vertical-align: top;\n",
       "    }\n",
       "\n",
       "    .dataframe thead th {\n",
       "        text-align: right;\n",
       "    }\n",
       "</style>\n",
       "<table border=\"1\" class=\"dataframe\">\n",
       "  <thead>\n",
       "    <tr style=\"text-align: right;\">\n",
       "      <th></th>\n",
       "      <th>user_id</th>\n",
       "      <th>age</th>\n",
       "    </tr>\n",
       "  </thead>\n",
       "  <tbody>\n",
       "    <tr>\n",
       "      <th>count</th>\n",
       "      <td>1534.000000</td>\n",
       "      <td>1534.000000</td>\n",
       "    </tr>\n",
       "    <tr>\n",
       "      <th>mean</th>\n",
       "      <td>767.500000</td>\n",
       "      <td>24.903520</td>\n",
       "    </tr>\n",
       "    <tr>\n",
       "      <th>std</th>\n",
       "      <td>442.971971</td>\n",
       "      <td>4.572367</td>\n",
       "    </tr>\n",
       "    <tr>\n",
       "      <th>min</th>\n",
       "      <td>1.000000</td>\n",
       "      <td>12.000000</td>\n",
       "    </tr>\n",
       "    <tr>\n",
       "      <th>25%</th>\n",
       "      <td>384.250000</td>\n",
       "      <td>22.000000</td>\n",
       "    </tr>\n",
       "    <tr>\n",
       "      <th>50%</th>\n",
       "      <td>767.500000</td>\n",
       "      <td>25.000000</td>\n",
       "    </tr>\n",
       "    <tr>\n",
       "      <th>75%</th>\n",
       "      <td>1150.750000</td>\n",
       "      <td>28.000000</td>\n",
       "    </tr>\n",
       "    <tr>\n",
       "      <th>max</th>\n",
       "      <td>1534.000000</td>\n",
       "      <td>43.000000</td>\n",
       "    </tr>\n",
       "  </tbody>\n",
       "</table>\n",
       "</div>"
      ],
      "text/plain": [
       "           user_id          age\n",
       "count  1534.000000  1534.000000\n",
       "mean    767.500000    24.903520\n",
       "std     442.971971     4.572367\n",
       "min       1.000000    12.000000\n",
       "25%     384.250000    22.000000\n",
       "50%     767.500000    25.000000\n",
       "75%    1150.750000    28.000000\n",
       "max    1534.000000    43.000000"
      ]
     },
     "execution_count": 19,
     "metadata": {},
     "output_type": "execute_result"
    }
   ],
   "source": [
    "df_users.describe()"
   ]
  },
  {
   "cell_type": "code",
   "execution_count": 20,
   "id": "9dfc0dbf",
   "metadata": {},
   "outputs": [
    {
     "data": {
      "image/png": "[encoded data removed]",
      "text/plain": [
       "<Figure size 1200x600 with 1 Axes>"
      ]
     },
     "metadata": {},
     "output_type": "display_data"
    }
   ],
   "source": [
    "df_users.pivot_table(index = 'age',values = 'user_id', aggfunc ='count')\\\n",
    "                  .plot(kind = 'bar',figsize=(12,6),legend=False, grid=True)\n",
    "plt.title('Распределение возраста пользователей',fontsize = 14)\n",
    "plt.xlabel('Возраст',fontsize = 14)\n",
    "plt.ylabel('частота встречаемости',fontsize=12)\n",
    "plt.show()"
   ]
  },
  {
   "cell_type": "markdown",
   "id": "585e830f",
   "metadata": {},
   "source": [
    "Распределение возраста пользователей близко к нормальному. Медианное и среднее значения составляют около 25 лет, что указывает на симметричность распределения. Максимальный возраст клиентов составляет 43 года, в то время как минимальный возраст — 12 лет.\n",
    "\n",
    " Отметим, что в представленных данных отсутствуют аномальные значения."
   ]
  },
  {
   "cell_type": "markdown",
   "id": "21e6519d",
   "metadata": {},
   "source": [
    "##### расстояние для одной поездки\n"
   ]
  },
  {
   "cell_type": "code",
   "execution_count": 21,
   "id": "f89dd608",
   "metadata": {},
   "outputs": [
    {
     "data": {
      "text/html": [
       "<div>\n",
       "<style scoped>\n",
       "    .dataframe tbody tr th:only-of-type {\n",
       "        vertical-align: middle;\n",
       "    }\n",
       "\n",
       "    .dataframe tbody tr th {\n",
       "        vertical-align: top;\n",
       "    }\n",
       "\n",
       "    .dataframe thead th {\n",
       "        text-align: right;\n",
       "    }\n",
       "</style>\n",
       "<table border=\"1\" class=\"dataframe\">\n",
       "  <thead>\n",
       "    <tr style=\"text-align: right;\">\n",
       "      <th></th>\n",
       "      <th>user_id</th>\n",
       "      <th>distance</th>\n",
       "      <th>duration</th>\n",
       "      <th>month</th>\n",
       "    </tr>\n",
       "  </thead>\n",
       "  <tbody>\n",
       "    <tr>\n",
       "      <th>count</th>\n",
       "      <td>18068.000000</td>\n",
       "      <td>18068.000000</td>\n",
       "      <td>18068.000000</td>\n",
       "      <td>18068.000000</td>\n",
       "    </tr>\n",
       "    <tr>\n",
       "      <th>mean</th>\n",
       "      <td>842.869936</td>\n",
       "      <td>3070.659010</td>\n",
       "      <td>18.303520</td>\n",
       "      <td>6.486772</td>\n",
       "    </tr>\n",
       "    <tr>\n",
       "      <th>std</th>\n",
       "      <td>434.734317</td>\n",
       "      <td>1116.832209</td>\n",
       "      <td>6.094928</td>\n",
       "      <td>3.437410</td>\n",
       "    </tr>\n",
       "    <tr>\n",
       "      <th>min</th>\n",
       "      <td>1.000000</td>\n",
       "      <td>1.000000</td>\n",
       "      <td>1.000000</td>\n",
       "      <td>1.000000</td>\n",
       "    </tr>\n",
       "    <tr>\n",
       "      <th>25%</th>\n",
       "      <td>487.000000</td>\n",
       "      <td>2543.000000</td>\n",
       "      <td>14.000000</td>\n",
       "      <td>4.000000</td>\n",
       "    </tr>\n",
       "    <tr>\n",
       "      <th>50%</th>\n",
       "      <td>889.000000</td>\n",
       "      <td>3134.000000</td>\n",
       "      <td>18.000000</td>\n",
       "      <td>6.000000</td>\n",
       "    </tr>\n",
       "    <tr>\n",
       "      <th>75%</th>\n",
       "      <td>1213.250000</td>\n",
       "      <td>3776.000000</td>\n",
       "      <td>22.000000</td>\n",
       "      <td>9.000000</td>\n",
       "    </tr>\n",
       "    <tr>\n",
       "      <th>max</th>\n",
       "      <td>1534.000000</td>\n",
       "      <td>7211.000000</td>\n",
       "      <td>41.000000</td>\n",
       "      <td>12.000000</td>\n",
       "    </tr>\n",
       "  </tbody>\n",
       "</table>\n",
       "</div>"
      ],
      "text/plain": [
       "            user_id      distance      duration         month\n",
       "count  18068.000000  18068.000000  18068.000000  18068.000000\n",
       "mean     842.869936   3070.659010     18.303520      6.486772\n",
       "std      434.734317   1116.832209      6.094928      3.437410\n",
       "min        1.000000      1.000000      1.000000      1.000000\n",
       "25%      487.000000   2543.000000     14.000000      4.000000\n",
       "50%      889.000000   3134.000000     18.000000      6.000000\n",
       "75%     1213.250000   3776.000000     22.000000      9.000000\n",
       "max     1534.000000   7211.000000     41.000000     12.000000"
      ]
     },
     "execution_count": 21,
     "metadata": {},
     "output_type": "execute_result"
    }
   ],
   "source": [
    "df_rides.describe()"
   ]
  },
  {
   "cell_type": "markdown",
   "id": "6ca10aaf",
   "metadata": {},
   "source": [
    "Построим гистограммы с разным диапазоном значений и боксплот для оценки выбросов."
   ]
  },
  {
   "cell_type": "code",
   "execution_count": 22,
   "id": "992dd200",
   "metadata": {},
   "outputs": [
    {
     "data": {
      "image/png": "[encoded data removed]",
      "text/plain": [
       "<Figure size 1400x800 with 4 Axes>"
      ]
     },
     "metadata": {},
     "output_type": "display_data"
    }
   ],
   "source": [
    "# создадим фигуру  с двумя строками  идвумя столбцами.\n",
    "fig, axes = plt.subplots(nrows=2, ncols=2, figsize=(14, 8))\n",
    "fig.suptitle('Расстояние одной поездки', fontsize=16)\n",
    "\n",
    "axes[0,0].hist(df_rides['distance'],bins=100,)\n",
    "axes[0,0].set_title(' весь диапазон значений')\n",
    "axes[0,0].set_ylabel('частота встречаемости',fontsize=10)\n",
    "\n",
    "axes[0,1].hist(df_rides['distance'],bins=50,range = (0,1700))\n",
    "axes[0,1].set_title('диапазон от 0 до 1700м.')\n",
    "axes[0,1].set_ylabel('частота встречаемости',fontsize=10)\n",
    "\n",
    "axes[1,0].hist(df_rides['distance'],bins=10,range = (0,100))\n",
    "axes[1,0].set_title('диапазон поездок от 0 до 100м.')\n",
    "axes[1,0].set_ylabel('частота встречаемости',fontsize=10)\n",
    "\n",
    "axes[1,1].hist(df_rides['distance'],bins=100,range = (6000,7500))\n",
    "axes[1,1].set_title('длинные поездки. более 6000м.')\n",
    "axes[1,1].set_ylabel('частота встречаемости',fontsize=10)\n",
    "plt.show()"
   ]
  },
  {
   "cell_type": "code",
   "execution_count": 23,
   "id": "e8555ede",
   "metadata": {},
   "outputs": [
    {
     "data": {
      "image/png": "[encoded data removed]",
      "text/plain": [
       "<Figure size 600x1200 with 1 Axes>"
      ]
     },
     "metadata": {},
     "output_type": "display_data"
    }
   ],
   "source": [
    "df_rides[['distance']].boxplot(figsize=(6,12))\n",
    "plt.show()"
   ]
  },
  {
   "cell_type": "markdown",
   "id": "c31514d3",
   "metadata": {},
   "source": [
    "На гистограмме, охватывающей весь диапазон выделяются две основные области распределения расстояний по поездкам:\n",
    "1. Короткие поездки (0-1500 м): Наблюдается небольшая область коротких поездок с пиком, приходящимся  на 750 метров.\n",
    "2. Долгие поездки (примерно 3300 м): Основная доля поездок сосредотачивается в области длинных расстояний, с пиком, приходящимся\n",
    "    на 3300 метров.\n",
    "    \n",
    "Отделено стоит рассмотреть короткие поездки дальностью менее 100м. Решение об их удалении примем после исследования длительности поездок.\n",
    "\n",
    "Поездки на расстояние более 5700 метров, хотя относятся к выбросам согласно диаграмме размаха, оставим в датафрейме, так как они вписываются в логику работы сервиса и не кажутся слишком завышенными.\n",
    "\n",
    "Также оставим поездки с расстоянием менее 800 метров, несмотря на данные боксплота.\n",
    "\n",
    "Рассмотрим срез датафрейма с дистанциями менее 100 и оценим его размер.\n",
    "\n",
    "\n",
    "\n",
    "\n",
    "\n"
   ]
  },
  {
   "cell_type": "code",
   "execution_count": 24,
   "id": "1a1c787c",
   "metadata": {},
   "outputs": [
    {
     "data": {
      "text/html": [
       "<div>\n",
       "<style scoped>\n",
       "    .dataframe tbody tr th:only-of-type {\n",
       "        vertical-align: middle;\n",
       "    }\n",
       "\n",
       "    .dataframe tbody tr th {\n",
       "        vertical-align: top;\n",
       "    }\n",
       "\n",
       "    .dataframe thead th {\n",
       "        text-align: right;\n",
       "    }\n",
       "</style>\n",
       "<table border=\"1\" class=\"dataframe\">\n",
       "  <thead>\n",
       "    <tr style=\"text-align: right;\">\n",
       "      <th></th>\n",
       "      <th>user_id</th>\n",
       "      <th>distance</th>\n",
       "      <th>duration</th>\n",
       "      <th>date</th>\n",
       "      <th>month</th>\n",
       "    </tr>\n",
       "  </thead>\n",
       "  <tbody>\n",
       "    <tr>\n",
       "      <th>6611</th>\n",
       "      <td>707</td>\n",
       "      <td>29</td>\n",
       "      <td>15</td>\n",
       "      <td>2021-09-12</td>\n",
       "      <td>9</td>\n",
       "    </tr>\n",
       "    <tr>\n",
       "      <th>6691</th>\n",
       "      <td>712</td>\n",
       "      <td>24</td>\n",
       "      <td>3</td>\n",
       "      <td>2021-11-22</td>\n",
       "      <td>11</td>\n",
       "    </tr>\n",
       "    <tr>\n",
       "      <th>6816</th>\n",
       "      <td>721</td>\n",
       "      <td>63</td>\n",
       "      <td>8</td>\n",
       "      <td>2021-09-25</td>\n",
       "      <td>9</td>\n",
       "    </tr>\n",
       "    <tr>\n",
       "      <th>6850</th>\n",
       "      <td>724</td>\n",
       "      <td>30</td>\n",
       "      <td>4</td>\n",
       "      <td>2021-05-09</td>\n",
       "      <td>5</td>\n",
       "    </tr>\n",
       "    <tr>\n",
       "      <th>7367</th>\n",
       "      <td>760</td>\n",
       "      <td>55</td>\n",
       "      <td>9</td>\n",
       "      <td>2021-10-13</td>\n",
       "      <td>10</td>\n",
       "    </tr>\n",
       "    <tr>\n",
       "      <th>...</th>\n",
       "      <td>...</td>\n",
       "      <td>...</td>\n",
       "      <td>...</td>\n",
       "      <td>...</td>\n",
       "      <td>...</td>\n",
       "    </tr>\n",
       "    <tr>\n",
       "      <th>17414</th>\n",
       "      <td>1489</td>\n",
       "      <td>22</td>\n",
       "      <td>7</td>\n",
       "      <td>2021-10-06</td>\n",
       "      <td>10</td>\n",
       "    </tr>\n",
       "    <tr>\n",
       "      <th>17502</th>\n",
       "      <td>1495</td>\n",
       "      <td>79</td>\n",
       "      <td>10</td>\n",
       "      <td>2021-05-16</td>\n",
       "      <td>5</td>\n",
       "    </tr>\n",
       "    <tr>\n",
       "      <th>17646</th>\n",
       "      <td>1506</td>\n",
       "      <td>37</td>\n",
       "      <td>5</td>\n",
       "      <td>2021-06-27</td>\n",
       "      <td>6</td>\n",
       "    </tr>\n",
       "    <tr>\n",
       "      <th>17722</th>\n",
       "      <td>1511</td>\n",
       "      <td>87</td>\n",
       "      <td>4</td>\n",
       "      <td>2021-01-21</td>\n",
       "      <td>1</td>\n",
       "    </tr>\n",
       "    <tr>\n",
       "      <th>17760</th>\n",
       "      <td>1514</td>\n",
       "      <td>76</td>\n",
       "      <td>6</td>\n",
       "      <td>2021-01-26</td>\n",
       "      <td>1</td>\n",
       "    </tr>\n",
       "  </tbody>\n",
       "</table>\n",
       "<p>77 rows × 5 columns</p>\n",
       "</div>"
      ],
      "text/plain": [
       "       user_id  distance  duration       date  month\n",
       "6611       707        29        15 2021-09-12      9\n",
       "6691       712        24         3 2021-11-22     11\n",
       "6816       721        63         8 2021-09-25      9\n",
       "6850       724        30         4 2021-05-09      5\n",
       "7367       760        55         9 2021-10-13     10\n",
       "...        ...       ...       ...        ...    ...\n",
       "17414     1489        22         7 2021-10-06     10\n",
       "17502     1495        79        10 2021-05-16      5\n",
       "17646     1506        37         5 2021-06-27      6\n",
       "17722     1511        87         4 2021-01-21      1\n",
       "17760     1514        76         6 2021-01-26      1\n",
       "\n",
       "[77 rows x 5 columns]"
      ]
     },
     "execution_count": 24,
     "metadata": {},
     "output_type": "execute_result"
    }
   ],
   "source": [
    "df_rides.query('distance<100')"
   ]
  },
  {
   "cell_type": "markdown",
   "id": "30601a90",
   "metadata": {},
   "source": [
    "Количество таких поездок невилико и составляет менеее 0.5% от общего числа."
   ]
  },
  {
   "cell_type": "markdown",
   "id": "97c940cf",
   "metadata": {},
   "source": [
    "##### Исследование продолжительности поездки."
   ]
  },
  {
   "cell_type": "markdown",
   "id": "829adc09",
   "metadata": {},
   "source": [
    "Построим гистограммы для всего диапазона и для диапазона  коротких поездок до 5 мин."
   ]
  },
  {
   "cell_type": "code",
   "execution_count": 25,
   "id": "25317e67",
   "metadata": {},
   "outputs": [
    {
     "data": {
      "image/png": "[encoded data removed]",
      "text/plain": [
       "<Figure size 1200x600 with 2 Axes>"
      ]
     },
     "metadata": {},
     "output_type": "display_data"
    }
   ],
   "source": [
    "# создадим фигуру для двух графиков\n",
    "fig, axes = plt.subplots(nrows=1, ncols=2, figsize=(12, 6))\n",
    "fig.suptitle('Длительность одной поездки', fontsize=16)\n",
    "# гистограмма для всего диапазона значений\n",
    "axes[0].hist(df_rides['duration'],bins=100)\n",
    "axes[0].set_title(' весь диапазон значений.')\n",
    "axes[0].set_xlabel('время. мин.')\n",
    "axes[0].grid(True)\n",
    "\n",
    "# диаграмма для диапазона (0,5)\n",
    "axes[1].hist(df_rides['duration'],bins=50,range = (0,5))\n",
    "axes[1].set_title('диапазон от 0 до 5 мин.')\n",
    "axes[1].set_xlabel('время. мин.')\n",
    "axes[1].set_ylim(0,100)\n",
    "axes[1].grid(True)\n",
    "plt.show()"
   ]
  },
  {
   "cell_type": "markdown",
   "id": "7ab406ee",
   "metadata": {},
   "source": [
    "На гистограммах заметен выброс при значении 1 мин. Выручка сервиса зависит от времени ииспользования самоката. Исследуем поздки\n",
    "длительностью в одну минуту, проанализируем расстояния таких поездок. \n",
    "\n"
   ]
  },
  {
   "cell_type": "code",
   "execution_count": 26,
   "id": "ddb90aeb",
   "metadata": {},
   "outputs": [
    {
     "data": {
      "text/html": [
       "<div>\n",
       "<style scoped>\n",
       "    .dataframe tbody tr th:only-of-type {\n",
       "        vertical-align: middle;\n",
       "    }\n",
       "\n",
       "    .dataframe tbody tr th {\n",
       "        vertical-align: top;\n",
       "    }\n",
       "\n",
       "    .dataframe thead th {\n",
       "        text-align: right;\n",
       "    }\n",
       "</style>\n",
       "<table border=\"1\" class=\"dataframe\">\n",
       "  <thead>\n",
       "    <tr style=\"text-align: right;\">\n",
       "      <th></th>\n",
       "      <th>distance</th>\n",
       "    </tr>\n",
       "  </thead>\n",
       "  <tbody>\n",
       "    <tr>\n",
       "      <th>count</th>\n",
       "      <td>95.000000</td>\n",
       "    </tr>\n",
       "    <tr>\n",
       "      <th>mean</th>\n",
       "      <td>5113.168421</td>\n",
       "    </tr>\n",
       "    <tr>\n",
       "      <th>std</th>\n",
       "      <td>658.312505</td>\n",
       "    </tr>\n",
       "    <tr>\n",
       "      <th>min</th>\n",
       "      <td>4030.000000</td>\n",
       "    </tr>\n",
       "    <tr>\n",
       "      <th>25%</th>\n",
       "      <td>4611.500000</td>\n",
       "    </tr>\n",
       "    <tr>\n",
       "      <th>50%</th>\n",
       "      <td>5053.000000</td>\n",
       "    </tr>\n",
       "    <tr>\n",
       "      <th>75%</th>\n",
       "      <td>5488.500000</td>\n",
       "    </tr>\n",
       "    <tr>\n",
       "      <th>max</th>\n",
       "      <td>7211.000000</td>\n",
       "    </tr>\n",
       "  </tbody>\n",
       "</table>\n",
       "</div>"
      ],
      "text/plain": [
       "          distance\n",
       "count    95.000000\n",
       "mean   5113.168421\n",
       "std     658.312505\n",
       "min    4030.000000\n",
       "25%    4611.500000\n",
       "50%    5053.000000\n",
       "75%    5488.500000\n",
       "max    7211.000000"
      ]
     },
     "execution_count": 26,
     "metadata": {},
     "output_type": "execute_result"
    }
   ],
   "source": [
    "df_rides.query('duration ==1 ')[['distance']].describe()\n"
   ]
  },
  {
   "cell_type": "markdown",
   "id": "506244a3",
   "metadata": {},
   "source": [
    " Исследуемые  поездки находятся в диапазоне от 4030м до 7211м, что позволяет сделать вывод о недостоверности указанного времени в 1 минуту на преодоление таких расстояний. Доля таких поездок составляет около 1%\n",
    "Классифицируем их как  аномалии и удалим такие записи.\n",
    "\n",
    "Рекомендуем техническим службам более детально изучить и устранить прчины таких аномалий. Даже небольшая доля таких случаев снижает  выручку."
   ]
  },
  {
   "cell_type": "code",
   "execution_count": 27,
   "id": "d532ad9a",
   "metadata": {},
   "outputs": [],
   "source": [
    "df_rides = df_rides.query('duration !=1')\n"
   ]
  },
  {
   "cell_type": "markdown",
   "id": "508af97a",
   "metadata": {},
   "source": [
    "Проверим  короткие поездки на предмет аномальных расстояний."
   ]
  },
  {
   "cell_type": "code",
   "execution_count": 28,
   "id": "f9012f2f",
   "metadata": {},
   "outputs": [
    {
     "data": {
      "text/html": [
       "<div>\n",
       "<style scoped>\n",
       "    .dataframe tbody tr th:only-of-type {\n",
       "        vertical-align: middle;\n",
       "    }\n",
       "\n",
       "    .dataframe tbody tr th {\n",
       "        vertical-align: top;\n",
       "    }\n",
       "\n",
       "    .dataframe thead th {\n",
       "        text-align: right;\n",
       "    }\n",
       "</style>\n",
       "<table border=\"1\" class=\"dataframe\">\n",
       "  <thead>\n",
       "    <tr style=\"text-align: right;\">\n",
       "      <th></th>\n",
       "      <th>distance</th>\n",
       "    </tr>\n",
       "    <tr>\n",
       "      <th>duration</th>\n",
       "      <th></th>\n",
       "    </tr>\n",
       "  </thead>\n",
       "  <tbody>\n",
       "    <tr>\n",
       "      <th>3</th>\n",
       "      <td>466</td>\n",
       "    </tr>\n",
       "    <tr>\n",
       "      <th>4</th>\n",
       "      <td>753</td>\n",
       "    </tr>\n",
       "    <tr>\n",
       "      <th>5</th>\n",
       "      <td>1310</td>\n",
       "    </tr>\n",
       "  </tbody>\n",
       "</table>\n",
       "</div>"
      ],
      "text/plain": [
       "          distance\n",
       "duration          \n",
       "3              466\n",
       "4              753\n",
       "5             1310"
      ]
     },
     "execution_count": 28,
     "metadata": {},
     "output_type": "execute_result"
    }
   ],
   "source": [
    "df_rides.query('duration<=5').pivot_table(index='duration',values='distance', aggfunc='max')"
   ]
  },
  {
   "cell_type": "markdown",
   "id": "2b48ad39",
   "metadata": {},
   "source": [
    "В оставшихся коротких поездках аномалий невыявлено."
   ]
  },
  {
   "cell_type": "markdown",
   "id": "81b45ac2",
   "metadata": {},
   "source": [
    "После произведенных измений выведем статистические данные, отражающие основные данные о поездках  и подведем итоги."
   ]
  },
  {
   "cell_type": "code",
   "execution_count": 29,
   "id": "65766a18",
   "metadata": {},
   "outputs": [
    {
     "data": {
      "text/html": [
       "<div>\n",
       "<style scoped>\n",
       "    .dataframe tbody tr th:only-of-type {\n",
       "        vertical-align: middle;\n",
       "    }\n",
       "\n",
       "    .dataframe tbody tr th {\n",
       "        vertical-align: top;\n",
       "    }\n",
       "\n",
       "    .dataframe thead th {\n",
       "        text-align: right;\n",
       "    }\n",
       "</style>\n",
       "<table border=\"1\" class=\"dataframe\">\n",
       "  <thead>\n",
       "    <tr style=\"text-align: right;\">\n",
       "      <th></th>\n",
       "      <th>user_id</th>\n",
       "      <th>distance</th>\n",
       "      <th>duration</th>\n",
       "      <th>month</th>\n",
       "    </tr>\n",
       "  </thead>\n",
       "  <tbody>\n",
       "    <tr>\n",
       "      <th>count</th>\n",
       "      <td>17973.000000</td>\n",
       "      <td>17973.000000</td>\n",
       "      <td>17973.000000</td>\n",
       "      <td>17973.000000</td>\n",
       "    </tr>\n",
       "    <tr>\n",
       "      <th>mean</th>\n",
       "      <td>841.551995</td>\n",
       "      <td>3059.862905</td>\n",
       "      <td>18.394981</td>\n",
       "      <td>6.486786</td>\n",
       "    </tr>\n",
       "    <tr>\n",
       "      <th>std</th>\n",
       "      <td>435.144929</td>\n",
       "      <td>1108.815513</td>\n",
       "      <td>5.979419</td>\n",
       "      <td>3.436024</td>\n",
       "    </tr>\n",
       "    <tr>\n",
       "      <th>min</th>\n",
       "      <td>1.000000</td>\n",
       "      <td>1.000000</td>\n",
       "      <td>3.000000</td>\n",
       "      <td>1.000000</td>\n",
       "    </tr>\n",
       "    <tr>\n",
       "      <th>25%</th>\n",
       "      <td>484.000000</td>\n",
       "      <td>2539.000000</td>\n",
       "      <td>14.000000</td>\n",
       "      <td>4.000000</td>\n",
       "    </tr>\n",
       "    <tr>\n",
       "      <th>50%</th>\n",
       "      <td>887.000000</td>\n",
       "      <td>3129.000000</td>\n",
       "      <td>18.000000</td>\n",
       "      <td>6.000000</td>\n",
       "    </tr>\n",
       "    <tr>\n",
       "      <th>75%</th>\n",
       "      <td>1213.000000</td>\n",
       "      <td>3763.000000</td>\n",
       "      <td>22.000000</td>\n",
       "      <td>9.000000</td>\n",
       "    </tr>\n",
       "    <tr>\n",
       "      <th>max</th>\n",
       "      <td>1534.000000</td>\n",
       "      <td>7066.000000</td>\n",
       "      <td>41.000000</td>\n",
       "      <td>12.000000</td>\n",
       "    </tr>\n",
       "  </tbody>\n",
       "</table>\n",
       "</div>"
      ],
      "text/plain": [
       "            user_id      distance      duration         month\n",
       "count  17973.000000  17973.000000  17973.000000  17973.000000\n",
       "mean     841.551995   3059.862905     18.394981      6.486786\n",
       "std      435.144929   1108.815513      5.979419      3.436024\n",
       "min        1.000000      1.000000      3.000000      1.000000\n",
       "25%      484.000000   2539.000000     14.000000      4.000000\n",
       "50%      887.000000   3129.000000     18.000000      6.000000\n",
       "75%     1213.000000   3763.000000     22.000000      9.000000\n",
       "max     1534.000000   7066.000000     41.000000     12.000000"
      ]
     },
     "execution_count": 29,
     "metadata": {},
     "output_type": "execute_result"
    }
   ],
   "source": [
    "df_rides.describe()"
   ]
  },
  {
   "cell_type": "markdown",
   "id": "85b5294d",
   "metadata": {},
   "source": [
    "Общее количество пользователей сотавляет 1534 человека, из них 699 с подпиской 835 без.\n",
    "Количество пользователей без подписки превышает общее число пользователей, за исключением Москвы и Омска, где оно одинаково.\n",
    "\n",
    "Среднее значение возраста составляют около 25 лет. Максимальный возраст клиентов составляет 43 года, в то время как минимальный возраст — 12 лет.\n",
    "\n",
    "Среднее расстояние поездки составляет 3059м, при этом максимальное расстояние достигает 7066м., а минимальное 1м.\n",
    "\n",
    "Среднее время, затраченное на одну поездку составляет около 18мин.м,при этом максимальное время составляет 41мин., а минимальное 3 мин.\n",
    "\n",
    "В данных были аномальные значения поездок длительность 1 мин на расстояние в диапазоне от 4030м до 7211м.\n",
    "Рекомендуем техническим службам более детально изучить устранить причины появления таких аномалий."
   ]
  },
  {
   "cell_type": "markdown",
   "id": "4ef51331",
   "metadata": {},
   "source": [
    "#### Шаг 4. Объединение данных"
   ]
  },
  {
   "cell_type": "markdown",
   "id": "57cd6c29",
   "metadata": {},
   "source": [
    "Объединим  датафремы `df_rides`,`df_users`,`df_subscriptions` и запишем в новую таблицу:  \n",
    "**`data_total `**\n"
   ]
  },
  {
   "cell_type": "code",
   "execution_count": 30,
   "id": "025ee920",
   "metadata": {},
   "outputs": [],
   "source": [
    "# присоединеним df_users к df_rides по общему столбцу user_id и запишем в data_total.\n",
    "data_total = df_rides.merge(right=df_users, how='left', on='user_id')\n",
    "\n",
    "# к data_total присоединим df_subscriptions по общему столбцу subscription_type.\n",
    "data_total = data_total.merge(right=df_subscriptions, on='subscription_type',how='left' )\n"
   ]
  },
  {
   "cell_type": "markdown",
   "id": "d66b391d",
   "metadata": {},
   "source": [
    "Оценим корректность объединения таблиц."
   ]
  },
  {
   "cell_type": "code",
   "execution_count": 31,
   "id": "a2de24d2",
   "metadata": {},
   "outputs": [
    {
     "name": "stdout",
     "output_type": "stream",
     "text": [
      "Размер df_rides:(17973, 5), размер df_users:(1534, 5), размер df_subscriptions:(2, 4)\n",
      "размер итогового датафрема data_total:(17973, 12)\n"
     ]
    }
   ],
   "source": [
    "print(f'Размер df_rides:{df_rides.shape}, размер df_users:{df_users.shape}, размер df_subscriptions:{df_subscriptions.shape}')\n",
    "print(f'размер итогового датафрема data_total:{data_total.shape}')"
   ]
  },
  {
   "cell_type": "markdown",
   "id": "babf9c52",
   "metadata": {},
   "source": [
    "Данные присоединяли к `data_rides`.\n",
    "Kоличество строк в `data_total` и в `data_rides` равное.\n",
    "Количество столбцов `data_total` равно 12, что соответствует количеству  столбцов в объединяемых датафреймах за минусом двух\n",
    "общих.\n",
    "\n",
    "Проверим пропуски и тип данных в `data_total` и выведем несколько строк итоговой таблицы.\n"
   ]
  },
  {
   "cell_type": "code",
   "execution_count": 32,
   "id": "b029fcca",
   "metadata": {},
   "outputs": [
    {
     "name": "stdout",
     "output_type": "stream",
     "text": [
      "<class 'pandas.core.frame.DataFrame'>\n",
      "Int64Index: 17973 entries, 0 to 17972\n",
      "Data columns (total 12 columns):\n",
      " #   Column             Non-Null Count  Dtype         \n",
      "---  ------             --------------  -----         \n",
      " 0   user_id            17973 non-null  int64         \n",
      " 1   distance           17973 non-null  int32         \n",
      " 2   duration           17973 non-null  int32         \n",
      " 3   date               17973 non-null  datetime64[ns]\n",
      " 4   month              17973 non-null  int64         \n",
      " 5   name               17973 non-null  object        \n",
      " 6   age                17973 non-null  int64         \n",
      " 7   city               17973 non-null  object        \n",
      " 8   subscription_type  17973 non-null  object        \n",
      " 9   minute_price       17973 non-null  int64         \n",
      " 10  start_ride_price   17973 non-null  int64         \n",
      " 11  subscription_fee   17973 non-null  int64         \n",
      "dtypes: datetime64[ns](1), int32(2), int64(6), object(3)\n",
      "memory usage: 1.6+ MB\n"
     ]
    }
   ],
   "source": [
    "data_total.info()"
   ]
  },
  {
   "cell_type": "code",
   "execution_count": 33,
   "id": "f1300eb2",
   "metadata": {},
   "outputs": [
    {
     "data": {
      "text/html": [
       "<div>\n",
       "<style scoped>\n",
       "    .dataframe tbody tr th:only-of-type {\n",
       "        vertical-align: middle;\n",
       "    }\n",
       "\n",
       "    .dataframe tbody tr th {\n",
       "        vertical-align: top;\n",
       "    }\n",
       "\n",
       "    .dataframe thead th {\n",
       "        text-align: right;\n",
       "    }\n",
       "</style>\n",
       "<table border=\"1\" class=\"dataframe\">\n",
       "  <thead>\n",
       "    <tr style=\"text-align: right;\">\n",
       "      <th></th>\n",
       "      <th>user_id</th>\n",
       "      <th>distance</th>\n",
       "      <th>duration</th>\n",
       "      <th>date</th>\n",
       "      <th>month</th>\n",
       "      <th>name</th>\n",
       "      <th>age</th>\n",
       "      <th>city</th>\n",
       "      <th>subscription_type</th>\n",
       "      <th>minute_price</th>\n",
       "      <th>start_ride_price</th>\n",
       "      <th>subscription_fee</th>\n",
       "    </tr>\n",
       "  </thead>\n",
       "  <tbody>\n",
       "    <tr>\n",
       "      <th>0</th>\n",
       "      <td>1</td>\n",
       "      <td>4410</td>\n",
       "      <td>26</td>\n",
       "      <td>2021-01-01</td>\n",
       "      <td>1</td>\n",
       "      <td>Кира</td>\n",
       "      <td>22</td>\n",
       "      <td>Тюмень</td>\n",
       "      <td>ultra</td>\n",
       "      <td>6</td>\n",
       "      <td>0</td>\n",
       "      <td>199</td>\n",
       "    </tr>\n",
       "    <tr>\n",
       "      <th>1</th>\n",
       "      <td>1</td>\n",
       "      <td>2618</td>\n",
       "      <td>16</td>\n",
       "      <td>2021-01-18</td>\n",
       "      <td>1</td>\n",
       "      <td>Кира</td>\n",
       "      <td>22</td>\n",
       "      <td>Тюмень</td>\n",
       "      <td>ultra</td>\n",
       "      <td>6</td>\n",
       "      <td>0</td>\n",
       "      <td>199</td>\n",
       "    </tr>\n",
       "    <tr>\n",
       "      <th>2</th>\n",
       "      <td>1</td>\n",
       "      <td>754</td>\n",
       "      <td>7</td>\n",
       "      <td>2021-04-20</td>\n",
       "      <td>4</td>\n",
       "      <td>Кира</td>\n",
       "      <td>22</td>\n",
       "      <td>Тюмень</td>\n",
       "      <td>ultra</td>\n",
       "      <td>6</td>\n",
       "      <td>0</td>\n",
       "      <td>199</td>\n",
       "    </tr>\n",
       "    <tr>\n",
       "      <th>3</th>\n",
       "      <td>1</td>\n",
       "      <td>2695</td>\n",
       "      <td>19</td>\n",
       "      <td>2021-08-11</td>\n",
       "      <td>8</td>\n",
       "      <td>Кира</td>\n",
       "      <td>22</td>\n",
       "      <td>Тюмень</td>\n",
       "      <td>ultra</td>\n",
       "      <td>6</td>\n",
       "      <td>0</td>\n",
       "      <td>199</td>\n",
       "    </tr>\n",
       "    <tr>\n",
       "      <th>4</th>\n",
       "      <td>1</td>\n",
       "      <td>4029</td>\n",
       "      <td>27</td>\n",
       "      <td>2021-08-28</td>\n",
       "      <td>8</td>\n",
       "      <td>Кира</td>\n",
       "      <td>22</td>\n",
       "      <td>Тюмень</td>\n",
       "      <td>ultra</td>\n",
       "      <td>6</td>\n",
       "      <td>0</td>\n",
       "      <td>199</td>\n",
       "    </tr>\n",
       "  </tbody>\n",
       "</table>\n",
       "</div>"
      ],
      "text/plain": [
       "   user_id  distance  duration       date  month  name  age    city  \\\n",
       "0        1      4410        26 2021-01-01      1  Кира   22  Тюмень   \n",
       "1        1      2618        16 2021-01-18      1  Кира   22  Тюмень   \n",
       "2        1       754         7 2021-04-20      4  Кира   22  Тюмень   \n",
       "3        1      2695        19 2021-08-11      8  Кира   22  Тюмень   \n",
       "4        1      4029        27 2021-08-28      8  Кира   22  Тюмень   \n",
       "\n",
       "  subscription_type  minute_price  start_ride_price  subscription_fee  \n",
       "0             ultra             6                 0               199  \n",
       "1             ultra             6                 0               199  \n",
       "2             ultra             6                 0               199  \n",
       "3             ultra             6                 0               199  \n",
       "4             ultra             6                 0               199  "
      ]
     },
     "execution_count": 33,
     "metadata": {},
     "output_type": "execute_result"
    }
   ],
   "source": [
    "data_total.head()\n"
   ]
  },
  {
   "cell_type": "code",
   "execution_count": 34,
   "id": "64c94756",
   "metadata": {},
   "outputs": [],
   "source": [
    "data_total_ultra = data_total.query('subscription_type == \"ultra\"')\n",
    "data_total_free = data_total.query('subscription_type == \"free\"')"
   ]
  },
  {
   "cell_type": "code",
   "execution_count": 35,
   "id": "6bf288b5",
   "metadata": {
    "scrolled": true
   },
   "outputs": [
    {
     "data": {
      "text/html": [
       "<div>\n",
       "<style scoped>\n",
       "    .dataframe tbody tr th:only-of-type {\n",
       "        vertical-align: middle;\n",
       "    }\n",
       "\n",
       "    .dataframe tbody tr th {\n",
       "        vertical-align: top;\n",
       "    }\n",
       "\n",
       "    .dataframe thead th {\n",
       "        text-align: right;\n",
       "    }\n",
       "</style>\n",
       "<table border=\"1\" class=\"dataframe\">\n",
       "  <thead>\n",
       "    <tr style=\"text-align: right;\">\n",
       "      <th></th>\n",
       "      <th>user_id</th>\n",
       "      <th>distance</th>\n",
       "      <th>duration</th>\n",
       "      <th>date</th>\n",
       "      <th>month</th>\n",
       "      <th>name</th>\n",
       "      <th>age</th>\n",
       "      <th>city</th>\n",
       "      <th>subscription_type</th>\n",
       "      <th>minute_price</th>\n",
       "      <th>start_ride_price</th>\n",
       "      <th>subscription_fee</th>\n",
       "    </tr>\n",
       "  </thead>\n",
       "  <tbody>\n",
       "    <tr>\n",
       "      <th>4086</th>\n",
       "      <td>440</td>\n",
       "      <td>2760</td>\n",
       "      <td>18</td>\n",
       "      <td>2021-05-14</td>\n",
       "      <td>5</td>\n",
       "      <td>Амалия</td>\n",
       "      <td>20</td>\n",
       "      <td>Тюмень</td>\n",
       "      <td>ultra</td>\n",
       "      <td>6</td>\n",
       "      <td>0</td>\n",
       "      <td>199</td>\n",
       "    </tr>\n",
       "    <tr>\n",
       "      <th>256</th>\n",
       "      <td>27</td>\n",
       "      <td>3087</td>\n",
       "      <td>16</td>\n",
       "      <td>2021-07-12</td>\n",
       "      <td>7</td>\n",
       "      <td>Эдуард</td>\n",
       "      <td>20</td>\n",
       "      <td>Краснодар</td>\n",
       "      <td>ultra</td>\n",
       "      <td>6</td>\n",
       "      <td>0</td>\n",
       "      <td>199</td>\n",
       "    </tr>\n",
       "    <tr>\n",
       "      <th>2967</th>\n",
       "      <td>319</td>\n",
       "      <td>2760</td>\n",
       "      <td>13</td>\n",
       "      <td>2021-02-17</td>\n",
       "      <td>2</td>\n",
       "      <td>Юрий</td>\n",
       "      <td>26</td>\n",
       "      <td>Омск</td>\n",
       "      <td>ultra</td>\n",
       "      <td>6</td>\n",
       "      <td>0</td>\n",
       "      <td>199</td>\n",
       "    </tr>\n",
       "    <tr>\n",
       "      <th>4532</th>\n",
       "      <td>488</td>\n",
       "      <td>2966</td>\n",
       "      <td>18</td>\n",
       "      <td>2021-11-24</td>\n",
       "      <td>11</td>\n",
       "      <td>Владимир</td>\n",
       "      <td>31</td>\n",
       "      <td>Пятигорск</td>\n",
       "      <td>ultra</td>\n",
       "      <td>6</td>\n",
       "      <td>0</td>\n",
       "      <td>199</td>\n",
       "    </tr>\n",
       "    <tr>\n",
       "      <th>4971</th>\n",
       "      <td>535</td>\n",
       "      <td>3482</td>\n",
       "      <td>16</td>\n",
       "      <td>2021-07-10</td>\n",
       "      <td>7</td>\n",
       "      <td>Юрий</td>\n",
       "      <td>25</td>\n",
       "      <td>Ростов-на-Дону</td>\n",
       "      <td>ultra</td>\n",
       "      <td>6</td>\n",
       "      <td>0</td>\n",
       "      <td>199</td>\n",
       "    </tr>\n",
       "  </tbody>\n",
       "</table>\n",
       "</div>"
      ],
      "text/plain": [
       "      user_id  distance  duration       date  month      name  age  \\\n",
       "4086      440      2760        18 2021-05-14      5    Амалия   20   \n",
       "256        27      3087        16 2021-07-12      7    Эдуард   20   \n",
       "2967      319      2760        13 2021-02-17      2      Юрий   26   \n",
       "4532      488      2966        18 2021-11-24     11  Владимир   31   \n",
       "4971      535      3482        16 2021-07-10      7      Юрий   25   \n",
       "\n",
       "                city subscription_type  minute_price  start_ride_price  \\\n",
       "4086          Тюмень             ultra             6                 0   \n",
       "256        Краснодар             ultra             6                 0   \n",
       "2967            Омск             ultra             6                 0   \n",
       "4532       Пятигорск             ultra             6                 0   \n",
       "4971  Ростов-на-Дону             ultra             6                 0   \n",
       "\n",
       "      subscription_fee  \n",
       "4086               199  \n",
       "256                199  \n",
       "2967               199  \n",
       "4532               199  \n",
       "4971               199  "
      ]
     },
     "execution_count": 35,
     "metadata": {},
     "output_type": "execute_result"
    }
   ],
   "source": [
    "data_total_ultra.sample(5) "
   ]
  },
  {
   "cell_type": "code",
   "execution_count": 36,
   "id": "d8bf03bb",
   "metadata": {},
   "outputs": [
    {
     "data": {
      "text/html": [
       "<div>\n",
       "<style scoped>\n",
       "    .dataframe tbody tr th:only-of-type {\n",
       "        vertical-align: middle;\n",
       "    }\n",
       "\n",
       "    .dataframe tbody tr th {\n",
       "        vertical-align: top;\n",
       "    }\n",
       "\n",
       "    .dataframe thead th {\n",
       "        text-align: right;\n",
       "    }\n",
       "</style>\n",
       "<table border=\"1\" class=\"dataframe\">\n",
       "  <thead>\n",
       "    <tr style=\"text-align: right;\">\n",
       "      <th></th>\n",
       "      <th>user_id</th>\n",
       "      <th>distance</th>\n",
       "      <th>duration</th>\n",
       "      <th>date</th>\n",
       "      <th>month</th>\n",
       "      <th>name</th>\n",
       "      <th>age</th>\n",
       "      <th>city</th>\n",
       "      <th>subscription_type</th>\n",
       "      <th>minute_price</th>\n",
       "      <th>start_ride_price</th>\n",
       "      <th>subscription_fee</th>\n",
       "    </tr>\n",
       "  </thead>\n",
       "  <tbody>\n",
       "    <tr>\n",
       "      <th>11360</th>\n",
       "      <td>1058</td>\n",
       "      <td>191</td>\n",
       "      <td>5</td>\n",
       "      <td>2021-09-27</td>\n",
       "      <td>9</td>\n",
       "      <td>Артемий</td>\n",
       "      <td>25</td>\n",
       "      <td>Омск</td>\n",
       "      <td>free</td>\n",
       "      <td>8</td>\n",
       "      <td>50</td>\n",
       "      <td>0</td>\n",
       "    </tr>\n",
       "    <tr>\n",
       "      <th>7021</th>\n",
       "      <td>736</td>\n",
       "      <td>2951</td>\n",
       "      <td>15</td>\n",
       "      <td>2021-05-21</td>\n",
       "      <td>5</td>\n",
       "      <td>Ильдар</td>\n",
       "      <td>26</td>\n",
       "      <td>Пятигорск</td>\n",
       "      <td>free</td>\n",
       "      <td>8</td>\n",
       "      <td>50</td>\n",
       "      <td>0</td>\n",
       "    </tr>\n",
       "    <tr>\n",
       "      <th>8320</th>\n",
       "      <td>836</td>\n",
       "      <td>4170</td>\n",
       "      <td>22</td>\n",
       "      <td>2021-07-23</td>\n",
       "      <td>7</td>\n",
       "      <td>Всеволод</td>\n",
       "      <td>21</td>\n",
       "      <td>Тюмень</td>\n",
       "      <td>free</td>\n",
       "      <td>8</td>\n",
       "      <td>50</td>\n",
       "      <td>0</td>\n",
       "    </tr>\n",
       "    <tr>\n",
       "      <th>9792</th>\n",
       "      <td>946</td>\n",
       "      <td>4057</td>\n",
       "      <td>15</td>\n",
       "      <td>2021-07-29</td>\n",
       "      <td>7</td>\n",
       "      <td>Олег</td>\n",
       "      <td>29</td>\n",
       "      <td>Екатеринбург</td>\n",
       "      <td>free</td>\n",
       "      <td>8</td>\n",
       "      <td>50</td>\n",
       "      <td>0</td>\n",
       "    </tr>\n",
       "    <tr>\n",
       "      <th>16208</th>\n",
       "      <td>1409</td>\n",
       "      <td>2128</td>\n",
       "      <td>11</td>\n",
       "      <td>2021-12-16</td>\n",
       "      <td>12</td>\n",
       "      <td>Юрий</td>\n",
       "      <td>29</td>\n",
       "      <td>Екатеринбург</td>\n",
       "      <td>free</td>\n",
       "      <td>8</td>\n",
       "      <td>50</td>\n",
       "      <td>0</td>\n",
       "    </tr>\n",
       "  </tbody>\n",
       "</table>\n",
       "</div>"
      ],
      "text/plain": [
       "       user_id  distance  duration       date  month      name  age  \\\n",
       "11360     1058       191         5 2021-09-27      9   Артемий   25   \n",
       "7021       736      2951        15 2021-05-21      5    Ильдар   26   \n",
       "8320       836      4170        22 2021-07-23      7  Всеволод   21   \n",
       "9792       946      4057        15 2021-07-29      7      Олег   29   \n",
       "16208     1409      2128        11 2021-12-16     12      Юрий   29   \n",
       "\n",
       "               city subscription_type  minute_price  start_ride_price  \\\n",
       "11360          Омск              free             8                50   \n",
       "7021      Пятигорск              free             8                50   \n",
       "8320         Тюмень              free             8                50   \n",
       "9792   Екатеринбург              free             8                50   \n",
       "16208  Екатеринбург              free             8                50   \n",
       "\n",
       "       subscription_fee  \n",
       "11360                 0  \n",
       "7021                  0  \n",
       "8320                  0  \n",
       "9792                  0  \n",
       "16208                 0  "
      ]
     },
     "execution_count": 36,
     "metadata": {},
     "output_type": "execute_result"
    }
   ],
   "source": [
    "data_total_free.sample(5)"
   ]
  },
  {
   "cell_type": "markdown",
   "id": "644b7d78",
   "metadata": {},
   "source": [
    "Проверим размерности полученных датофреймов  с исходным"
   ]
  },
  {
   "cell_type": "code",
   "execution_count": 37,
   "id": "983acc53",
   "metadata": {},
   "outputs": [
    {
     "name": "stdout",
     "output_type": "stream",
     "text": [
      "Совокупный размер созданных датафремов:17973 \n",
      "Размер исходного датафрейма:17973\n"
     ]
    }
   ],
   "source": [
    "# размеры определим методом shape[0], выведем сумму полученных датафреймов и размер исходного.\n",
    "print(f'Совокупный размер созданных датафремов:{data_total_free.shape[0]+data_total_ultra.shape[0]} \\n\\\n",
    "Размер исходного датафрейма:{data_total.shape[0]}')\n"
   ]
  },
  {
   "cell_type": "markdown",
   "id": "edd58468",
   "metadata": {},
   "source": [
    "Визуализируем информацию о расстоянии и времени поездок для пользователей обеих категорий"
   ]
  },
  {
   "cell_type": "code",
   "execution_count": 38,
   "id": "2b46fb17",
   "metadata": {},
   "outputs": [
    {
     "data": {
      "image/png": "[encoded data removed]",
      "text/plain": [
       "<Figure size 1200x600 with 1 Axes>"
      ]
     },
     "metadata": {},
     "output_type": "display_data"
    }
   ],
   "source": [
    "# создадим фигуру для двух графиков\n",
    "fig, axes = plt.subplots(figsize=(12, 6))\n",
    "fig.suptitle('Распределение времени одной поездки для клиентов с подпиской и без.'\n",
    "             , fontsize=16)\n",
    "# гистограмма для всего диапазона значений\n",
    "axes.hist(data_total_ultra['duration'],bins=50,label='есть подписка', alpha=0.7)\n",
    "axes.set_xlabel('время. мин.',fontsize=12)\n",
    "axes.grid(True)\n",
    "axes.set_ylabel('частота',fontsize=12)\n",
    "\n",
    "# диаграмма для диапазона (0,5)\n",
    "axes.hist(data_total_free['duration'],bins=50, label='без подписки',alpha=0.5)\n",
    "axes.legend()\n",
    "plt.show()"
   ]
  },
  {
   "cell_type": "code",
   "execution_count": 39,
   "id": "4f7e257d",
   "metadata": {},
   "outputs": [
    {
     "data": {
      "image/png": "[encoded data removed]",
      "text/plain": [
       "<Figure size 1200x600 with 1 Axes>"
      ]
     },
     "metadata": {},
     "output_type": "display_data"
    }
   ],
   "source": [
    "# создадим фигуру для двух графиков\n",
    "fig, axes = plt.subplots(figsize=(12, 6))\n",
    "fig.suptitle('Распределение расстояния одной поездки для клиентов с подпиской и без.'\n",
    "             , fontsize=16)\n",
    "# гистограмма для всего диапазона значений\n",
    "axes.hist(data_total_ultra['distance'],bins=100,alpha=0.5,label='есть подписка')\n",
    "axes.set_xlabel('расстояние, м.',fontsize=12)\n",
    "axes.grid(True)\n",
    "axes.set_ylabel('частота',fontsize=12)\n",
    "# диаграмма для диапазона (0,5)\n",
    "\n",
    "axes.hist(data_total_free['distance'],bins=100,alpha=0.3,label='без подписки')\n",
    "axes.legend()\n",
    "plt.show()"
   ]
  },
  {
   "cell_type": "markdown",
   "id": "660afb66",
   "metadata": {},
   "source": [
    "Составим таблицу с основными статтистическим  характеристиками:\n",
    "1. Клиенты с подпиской - столбцы `distance_ultra`,`duration-ultra`, соответственно расстояние  и время.\n",
    "2. Клиенты без подписки - столбцы `distance_ultra`,`duration-ultra`, соответственно расстояние  и время."
   ]
  },
  {
   "cell_type": "code",
   "execution_count": 40,
   "id": "6b3d3126",
   "metadata": {},
   "outputs": [
    {
     "data": {
      "text/html": [
       "<div>\n",
       "<style scoped>\n",
       "    .dataframe tbody tr th:only-of-type {\n",
       "        vertical-align: middle;\n",
       "    }\n",
       "\n",
       "    .dataframe tbody tr th {\n",
       "        vertical-align: top;\n",
       "    }\n",
       "\n",
       "    .dataframe thead th {\n",
       "        text-align: right;\n",
       "    }\n",
       "</style>\n",
       "<table border=\"1\" class=\"dataframe\">\n",
       "  <thead>\n",
       "    <tr style=\"text-align: right;\">\n",
       "      <th></th>\n",
       "      <th>distance_ultra</th>\n",
       "      <th>duration_ultra</th>\n",
       "      <th>distance_free</th>\n",
       "      <th>duration_free</th>\n",
       "    </tr>\n",
       "  </thead>\n",
       "  <tbody>\n",
       "    <tr>\n",
       "      <th>count</th>\n",
       "      <td>6500.000000</td>\n",
       "      <td>6500.000000</td>\n",
       "      <td>11473.000000</td>\n",
       "      <td>11473.000000</td>\n",
       "    </tr>\n",
       "    <tr>\n",
       "      <th>mean</th>\n",
       "      <td>3115.443385</td>\n",
       "      <td>19.037692</td>\n",
       "      <td>3028.373921</td>\n",
       "      <td>18.030855</td>\n",
       "    </tr>\n",
       "    <tr>\n",
       "      <th>std</th>\n",
       "      <td>836.898137</td>\n",
       "      <td>5.577439</td>\n",
       "      <td>1235.541284</td>\n",
       "      <td>6.166175</td>\n",
       "    </tr>\n",
       "    <tr>\n",
       "      <th>min</th>\n",
       "      <td>244.000000</td>\n",
       "      <td>4.000000</td>\n",
       "      <td>1.000000</td>\n",
       "      <td>3.000000</td>\n",
       "    </tr>\n",
       "    <tr>\n",
       "      <th>25%</th>\n",
       "      <td>2785.000000</td>\n",
       "      <td>15.000000</td>\n",
       "      <td>2361.000000</td>\n",
       "      <td>14.000000</td>\n",
       "    </tr>\n",
       "    <tr>\n",
       "      <th>50%</th>\n",
       "      <td>3149.000000</td>\n",
       "      <td>19.000000</td>\n",
       "      <td>3102.000000</td>\n",
       "      <td>18.000000</td>\n",
       "    </tr>\n",
       "    <tr>\n",
       "      <th>75%</th>\n",
       "      <td>3561.000000</td>\n",
       "      <td>22.000000</td>\n",
       "      <td>3884.000000</td>\n",
       "      <td>22.000000</td>\n",
       "    </tr>\n",
       "    <tr>\n",
       "      <th>max</th>\n",
       "      <td>5700.000000</td>\n",
       "      <td>41.000000</td>\n",
       "      <td>7066.000000</td>\n",
       "      <td>35.000000</td>\n",
       "    </tr>\n",
       "  </tbody>\n",
       "</table>\n",
       "</div>"
      ],
      "text/plain": [
       "       distance_ultra  duration_ultra  distance_free  duration_free\n",
       "count     6500.000000     6500.000000   11473.000000   11473.000000\n",
       "mean      3115.443385       19.037692    3028.373921      18.030855\n",
       "std        836.898137        5.577439    1235.541284       6.166175\n",
       "min        244.000000        4.000000       1.000000       3.000000\n",
       "25%       2785.000000       15.000000    2361.000000      14.000000\n",
       "50%       3149.000000       19.000000    3102.000000      18.000000\n",
       "75%       3561.000000       22.000000    3884.000000      22.000000\n",
       "max       5700.000000       41.000000    7066.000000      35.000000"
      ]
     },
     "execution_count": 40,
     "metadata": {},
     "output_type": "execute_result"
    }
   ],
   "source": [
    "# создадим датафрейм data_stat, объединив  в него таблицы  со стат. данными, полученными\n",
    "# методом .describe().\n",
    "data_stat = pd.concat(\n",
    "      [data_total_ultra[['distance','duration']].describe(),\n",
    "      data_total_free[['distance','duration']].describe()],\n",
    "      axis=1 )\n",
    "# переименуем столбцы.\n",
    "data_stat.columns =['distance_ultra','duration_ultra','distance_free','duration_free']  \n",
    "data_stat"
   ]
  },
  {
   "cell_type": "markdown",
   "id": "5d57da4e",
   "metadata": {},
   "source": [
    "Сравнительный анализ между клиентами с подпиской и без показывает, что средние и медианные значения для расстояния и времени поездки в обеих категориях не имеют значительных различий..К тому же среднее значение близкое к медианному,\n",
    " указывает на отсутствие существенных выбросов и нормальное распределение данных.\n",
    " \n",
    "Ллиенты без подписки имеют более высокие максимальные показатели дистанции по сравнению с теми, у кого есть подписка, при этом\n",
    "время одной поездки остается примерно одинаковым для обеих категорий.\n",
    "\n",
    "\n"
   ]
  },
  {
   "cell_type": "markdown",
   "id": "402d620f",
   "metadata": {},
   "source": [
    "#### Шаг 5. Подсчёт выручки"
   ]
  },
  {
   "cell_type": "code",
   "execution_count": 41,
   "id": "67bdad8b",
   "metadata": {},
   "outputs": [
    {
     "name": "stdout",
     "output_type": "stream",
     "text": [
      "<class 'pandas.core.frame.DataFrame'>\n",
      "Int64Index: 17973 entries, 0 to 17972\n",
      "Data columns (total 12 columns):\n",
      " #   Column             Non-Null Count  Dtype         \n",
      "---  ------             --------------  -----         \n",
      " 0   user_id            17973 non-null  int64         \n",
      " 1   distance           17973 non-null  int32         \n",
      " 2   duration           17973 non-null  int32         \n",
      " 3   date               17973 non-null  datetime64[ns]\n",
      " 4   month              17973 non-null  int64         \n",
      " 5   name               17973 non-null  object        \n",
      " 6   age                17973 non-null  int64         \n",
      " 7   city               17973 non-null  object        \n",
      " 8   subscription_type  17973 non-null  object        \n",
      " 9   minute_price       17973 non-null  int64         \n",
      " 10  start_ride_price   17973 non-null  int64         \n",
      " 11  subscription_fee   17973 non-null  int64         \n",
      "dtypes: datetime64[ns](1), int32(2), int64(6), object(3)\n",
      "memory usage: 1.6+ MB\n"
     ]
    }
   ],
   "source": [
    "data_total.info()"
   ]
  },
  {
   "cell_type": "markdown",
   "id": "09afa3a4",
   "metadata": {},
   "source": [
    "Создадим датафрем `data_total_agg`с агрегированными c данными по каждому клиенту помесячно:\n",
    "1. Суммарное расстояние.\n",
    "2. Количество поездок\n",
    "3. Суммарное время.\n",
    "\n",
    "Также добавим в таблицу `data_total_agg` столбец  с помесячной выручкой от каждого пользователя.\n",
    "\n",
    "За основу возьмем данные датафрема `data_total`."
   ]
  },
  {
   "cell_type": "markdown",
   "id": "9f23169e",
   "metadata": {},
   "source": [
    "Создадим data_total_agg, объект типа DataFrameGroupBy, сгруппированный по столбцам `user_id`, `month`датафрема `data_total`.\n",
    "Сформируем агрегированный датофрейм `data_total_agg`со столбцами:\n",
    "1. `distance` - суммарное расстояние.(метод .sum )\n",
    "2. `name`- количество поездок. (метод .count)\n",
    "3.  `duration`-cуммарное время поездок (метод .sum)\n",
    "4. `start_ride_price`- стоимость поездки без подписки (метод .max)\n",
    "5. `subscription_fee`- стоимость подписки на месяц (метод.max)\n",
    "6.  `minute_price ` - стоимость минуты(метод .max)\n",
    "\n",
    "Добавим столбец `revenue`, для этого перемножим значения соответствующих ячеек в столбцах `minute_price` и `duration`, затем прибавим значения соответствующих ячеек столбцов `start_ride_price` и `subscription_fee`.\n",
    "Результатом будет помесячная выручка от каждого клиента.\n",
    "\n",
    "Переименуем столбец `name` в `trips`.\n",
    "\n",
    "                                                                                               "
   ]
  },
  {
   "cell_type": "code",
   "execution_count": 42,
   "id": "3cae2852",
   "metadata": {
    "scrolled": true
   },
   "outputs": [
    {
     "data": {
      "text/html": [
       "<div>\n",
       "<style scoped>\n",
       "    .dataframe tbody tr th:only-of-type {\n",
       "        vertical-align: middle;\n",
       "    }\n",
       "\n",
       "    .dataframe tbody tr th {\n",
       "        vertical-align: top;\n",
       "    }\n",
       "\n",
       "    .dataframe thead th {\n",
       "        text-align: right;\n",
       "    }\n",
       "</style>\n",
       "<table border=\"1\" class=\"dataframe\">\n",
       "  <thead>\n",
       "    <tr style=\"text-align: right;\">\n",
       "      <th></th>\n",
       "      <th>user_id</th>\n",
       "      <th>month</th>\n",
       "      <th>distance</th>\n",
       "      <th>trips</th>\n",
       "      <th>duration</th>\n",
       "      <th>minute_price</th>\n",
       "      <th>start_ride_price</th>\n",
       "      <th>subscription_fee</th>\n",
       "      <th>revenue</th>\n",
       "    </tr>\n",
       "  </thead>\n",
       "  <tbody>\n",
       "    <tr>\n",
       "      <th>0</th>\n",
       "      <td>1</td>\n",
       "      <td>1</td>\n",
       "      <td>7028</td>\n",
       "      <td>2</td>\n",
       "      <td>42</td>\n",
       "      <td>6</td>\n",
       "      <td>0</td>\n",
       "      <td>199</td>\n",
       "      <td>451</td>\n",
       "    </tr>\n",
       "    <tr>\n",
       "      <th>1</th>\n",
       "      <td>1</td>\n",
       "      <td>4</td>\n",
       "      <td>754</td>\n",
       "      <td>1</td>\n",
       "      <td>7</td>\n",
       "      <td>6</td>\n",
       "      <td>0</td>\n",
       "      <td>199</td>\n",
       "      <td>241</td>\n",
       "    </tr>\n",
       "    <tr>\n",
       "      <th>2</th>\n",
       "      <td>1</td>\n",
       "      <td>8</td>\n",
       "      <td>6724</td>\n",
       "      <td>2</td>\n",
       "      <td>46</td>\n",
       "      <td>6</td>\n",
       "      <td>0</td>\n",
       "      <td>199</td>\n",
       "      <td>475</td>\n",
       "    </tr>\n",
       "    <tr>\n",
       "      <th>3</th>\n",
       "      <td>1</td>\n",
       "      <td>10</td>\n",
       "      <td>5810</td>\n",
       "      <td>2</td>\n",
       "      <td>32</td>\n",
       "      <td>6</td>\n",
       "      <td>0</td>\n",
       "      <td>199</td>\n",
       "      <td>391</td>\n",
       "    </tr>\n",
       "    <tr>\n",
       "      <th>4</th>\n",
       "      <td>1</td>\n",
       "      <td>11</td>\n",
       "      <td>7004</td>\n",
       "      <td>3</td>\n",
       "      <td>56</td>\n",
       "      <td>6</td>\n",
       "      <td>0</td>\n",
       "      <td>199</td>\n",
       "      <td>535</td>\n",
       "    </tr>\n",
       "    <tr>\n",
       "      <th>...</th>\n",
       "      <td>...</td>\n",
       "      <td>...</td>\n",
       "      <td>...</td>\n",
       "      <td>...</td>\n",
       "      <td>...</td>\n",
       "      <td>...</td>\n",
       "      <td>...</td>\n",
       "      <td>...</td>\n",
       "      <td>...</td>\n",
       "    </tr>\n",
       "    <tr>\n",
       "      <th>11295</th>\n",
       "      <td>1534</td>\n",
       "      <td>6</td>\n",
       "      <td>3409</td>\n",
       "      <td>2</td>\n",
       "      <td>26</td>\n",
       "      <td>8</td>\n",
       "      <td>50</td>\n",
       "      <td>0</td>\n",
       "      <td>308</td>\n",
       "    </tr>\n",
       "    <tr>\n",
       "      <th>11296</th>\n",
       "      <td>1534</td>\n",
       "      <td>8</td>\n",
       "      <td>7623</td>\n",
       "      <td>2</td>\n",
       "      <td>48</td>\n",
       "      <td>8</td>\n",
       "      <td>50</td>\n",
       "      <td>0</td>\n",
       "      <td>484</td>\n",
       "    </tr>\n",
       "    <tr>\n",
       "      <th>11297</th>\n",
       "      <td>1534</td>\n",
       "      <td>9</td>\n",
       "      <td>4928</td>\n",
       "      <td>1</td>\n",
       "      <td>23</td>\n",
       "      <td>8</td>\n",
       "      <td>50</td>\n",
       "      <td>0</td>\n",
       "      <td>234</td>\n",
       "    </tr>\n",
       "    <tr>\n",
       "      <th>11298</th>\n",
       "      <td>1534</td>\n",
       "      <td>11</td>\n",
       "      <td>13349</td>\n",
       "      <td>4</td>\n",
       "      <td>78</td>\n",
       "      <td>8</td>\n",
       "      <td>50</td>\n",
       "      <td>0</td>\n",
       "      <td>824</td>\n",
       "    </tr>\n",
       "    <tr>\n",
       "      <th>11299</th>\n",
       "      <td>1534</td>\n",
       "      <td>12</td>\n",
       "      <td>2372</td>\n",
       "      <td>1</td>\n",
       "      <td>16</td>\n",
       "      <td>8</td>\n",
       "      <td>50</td>\n",
       "      <td>0</td>\n",
       "      <td>178</td>\n",
       "    </tr>\n",
       "  </tbody>\n",
       "</table>\n",
       "<p>11300 rows × 9 columns</p>\n",
       "</div>"
      ],
      "text/plain": [
       "       user_id  month  distance  trips  duration  minute_price  \\\n",
       "0            1      1      7028      2        42             6   \n",
       "1            1      4       754      1         7             6   \n",
       "2            1      8      6724      2        46             6   \n",
       "3            1     10      5810      2        32             6   \n",
       "4            1     11      7004      3        56             6   \n",
       "...        ...    ...       ...    ...       ...           ...   \n",
       "11295     1534      6      3409      2        26             8   \n",
       "11296     1534      8      7623      2        48             8   \n",
       "11297     1534      9      4928      1        23             8   \n",
       "11298     1534     11     13349      4        78             8   \n",
       "11299     1534     12      2372      1        16             8   \n",
       "\n",
       "       start_ride_price  subscription_fee  revenue  \n",
       "0                     0               199      451  \n",
       "1                     0               199      241  \n",
       "2                     0               199      475  \n",
       "3                     0               199      391  \n",
       "4                     0               199      535  \n",
       "...                 ...               ...      ...  \n",
       "11295                50                 0      308  \n",
       "11296                50                 0      484  \n",
       "11297                50                 0      234  \n",
       "11298                50                 0      824  \n",
       "11299                50                 0      178  \n",
       "\n",
       "[11300 rows x 9 columns]"
      ]
     },
     "execution_count": 42,
     "metadata": {},
     "output_type": "execute_result"
    }
   ],
   "source": [
    "# cгруппируем датафрейм 'data-total' по столбцам `user_id`, `month`.\n",
    "data_total_agg = data_total.groupby(by=['user_id','month'])\n",
    "# сформируем датафрейм 'data_total_agg'\n",
    "data_total_agg= data_total_agg.agg({'distance':'sum','name':'count','duration':'sum','minute_price':'max',\n",
    "                                      'start_ride_price':'max','subscription_fee':'max'}).reset_index()\n",
    "# добавим столбец 'revenue'\n",
    "data_total_agg['revenue'] =data_total_agg\\\n",
    ".apply(lambda x: x['minute_price']*x['duration']+x['start_ride_price']*x['name']+x['subscription_fee'],axis=1)\n",
    "\n",
    "# переименуем столбец 'name' в 'trips' \n",
    "data_total_agg.rename(columns={'name':'trips'}, inplace=True)\n",
    "\n",
    "data_total_agg "
   ]
  },
  {
   "cell_type": "markdown",
   "id": "239308dd",
   "metadata": {},
   "source": [
    "#### Шаг 6. Проверка гипотез"
   ]
  },
  {
   "cell_type": "markdown",
   "id": "d5c23efc",
   "metadata": {},
   "source": [
    "##### Тратят ли пользователи с подпиской больше времени на поездки."
   ]
  },
  {
   "cell_type": "markdown",
   "id": "002ccc6d",
   "metadata": {},
   "source": [
    "Сформулируем нулевую гипотезу **HO: время, затраченное на поездки пользователями с подпиской и без одинковое**.\n",
    "Альтернативная гипотеза **Н1 время, затраченное на поездки  пользователей с подпиской в целом больше времени затраченного на поездки пользователей без подписки**.\n",
    "\n",
    "Проверим Н0 на уровне статитстической значимости 5%.  "
   ]
  },
  {
   "cell_type": "code",
   "execution_count": 43,
   "id": "089dc310",
   "metadata": {},
   "outputs": [
    {
     "data": {
      "text/html": [
       "<div>\n",
       "<style scoped>\n",
       "    .dataframe tbody tr th:only-of-type {\n",
       "        vertical-align: middle;\n",
       "    }\n",
       "\n",
       "    .dataframe tbody tr th {\n",
       "        vertical-align: top;\n",
       "    }\n",
       "\n",
       "    .dataframe thead th {\n",
       "        text-align: right;\n",
       "    }\n",
       "</style>\n",
       "<table border=\"1\" class=\"dataframe\">\n",
       "  <thead>\n",
       "    <tr style=\"text-align: right;\">\n",
       "      <th></th>\n",
       "      <th>duration</th>\n",
       "    </tr>\n",
       "  </thead>\n",
       "  <tbody>\n",
       "    <tr>\n",
       "      <th>count</th>\n",
       "      <td>6500.000000</td>\n",
       "    </tr>\n",
       "    <tr>\n",
       "      <th>mean</th>\n",
       "      <td>19.037692</td>\n",
       "    </tr>\n",
       "    <tr>\n",
       "      <th>std</th>\n",
       "      <td>5.577439</td>\n",
       "    </tr>\n",
       "    <tr>\n",
       "      <th>min</th>\n",
       "      <td>4.000000</td>\n",
       "    </tr>\n",
       "    <tr>\n",
       "      <th>25%</th>\n",
       "      <td>15.000000</td>\n",
       "    </tr>\n",
       "    <tr>\n",
       "      <th>50%</th>\n",
       "      <td>19.000000</td>\n",
       "    </tr>\n",
       "    <tr>\n",
       "      <th>75%</th>\n",
       "      <td>22.000000</td>\n",
       "    </tr>\n",
       "    <tr>\n",
       "      <th>max</th>\n",
       "      <td>41.000000</td>\n",
       "    </tr>\n",
       "  </tbody>\n",
       "</table>\n",
       "</div>"
      ],
      "text/plain": [
       "          duration\n",
       "count  6500.000000\n",
       "mean     19.037692\n",
       "std       5.577439\n",
       "min       4.000000\n",
       "25%      15.000000\n",
       "50%      19.000000\n",
       "75%      22.000000\n",
       "max      41.000000"
      ]
     },
     "metadata": {},
     "output_type": "display_data"
    },
    {
     "data": {
      "text/html": [
       "<div>\n",
       "<style scoped>\n",
       "    .dataframe tbody tr th:only-of-type {\n",
       "        vertical-align: middle;\n",
       "    }\n",
       "\n",
       "    .dataframe tbody tr th {\n",
       "        vertical-align: top;\n",
       "    }\n",
       "\n",
       "    .dataframe thead th {\n",
       "        text-align: right;\n",
       "    }\n",
       "</style>\n",
       "<table border=\"1\" class=\"dataframe\">\n",
       "  <thead>\n",
       "    <tr style=\"text-align: right;\">\n",
       "      <th></th>\n",
       "      <th>duration</th>\n",
       "    </tr>\n",
       "  </thead>\n",
       "  <tbody>\n",
       "    <tr>\n",
       "      <th>count</th>\n",
       "      <td>11473.000000</td>\n",
       "    </tr>\n",
       "    <tr>\n",
       "      <th>mean</th>\n",
       "      <td>18.030855</td>\n",
       "    </tr>\n",
       "    <tr>\n",
       "      <th>std</th>\n",
       "      <td>6.166175</td>\n",
       "    </tr>\n",
       "    <tr>\n",
       "      <th>min</th>\n",
       "      <td>3.000000</td>\n",
       "    </tr>\n",
       "    <tr>\n",
       "      <th>25%</th>\n",
       "      <td>14.000000</td>\n",
       "    </tr>\n",
       "    <tr>\n",
       "      <th>50%</th>\n",
       "      <td>18.000000</td>\n",
       "    </tr>\n",
       "    <tr>\n",
       "      <th>75%</th>\n",
       "      <td>22.000000</td>\n",
       "    </tr>\n",
       "    <tr>\n",
       "      <th>max</th>\n",
       "      <td>35.000000</td>\n",
       "    </tr>\n",
       "  </tbody>\n",
       "</table>\n",
       "</div>"
      ],
      "text/plain": [
       "           duration\n",
       "count  11473.000000\n",
       "mean      18.030855\n",
       "std        6.166175\n",
       "min        3.000000\n",
       "25%       14.000000\n",
       "50%       18.000000\n",
       "75%       22.000000\n",
       "max       35.000000"
      ]
     },
     "metadata": {},
     "output_type": "display_data"
    }
   ],
   "source": [
    "display(data_total_ultra[['duration']].describe(),data_total_free[['duration']].describe())"
   ]
  },
  {
   "cell_type": "markdown",
   "id": "25ffd89f",
   "metadata": {},
   "source": []
  },
  {
   "cell_type": "code",
   "execution_count": 44,
   "id": "64570e22",
   "metadata": {
    "scrolled": true
   },
   "outputs": [
    {
     "name": "stdout",
     "output_type": "stream",
     "text": [
      "значение p-value : 8.577910347796266e-28\n",
      "На уровне значимости 0.05, отвергается нулевая гипотеза H0\n"
     ]
    }
   ],
   "source": [
    "alpha= 0.05\n",
    "results = st.ttest_ind(data_total_ultra['duration'],data_total_free['duration']\n",
    "                       ,alternative='greater')\n",
    "print(f'значение p-value : {results.pvalue}')\n",
    "if results.pvalue < alpha:\n",
    "    print(f'На уровне значимости {alpha}, отвергается нулевая гипотеза H0')\n",
    "else:\n",
    "    print(f'Нулевая гипотеза H0:не отвергается на уровне значимости {alpha}') \n",
    "    \n",
    "   "
   ]
  },
  {
   "cell_type": "markdown",
   "id": "20bb77aa",
   "metadata": {},
   "source": [
    "Нулевая гипотеза Н0:время, затраченное на поездки пользователями с подпиской и без одинаковое, отвергнута,\n",
    "есть основания утверждать, что **время, затраченное на поездки  пользователей с подпиской в целом больше времени затраченного на поездки пользователей без подписки**."
   ]
  },
  {
   "cell_type": "markdown",
   "id": "cd2c6473",
   "metadata": {},
   "source": [
    "##### Соответствие расстояния одной поездки пользователей с подпиской максимальному."
   ]
  },
  {
   "cell_type": "markdown",
   "id": "d956b32b",
   "metadata": {},
   "source": [
    "С точки зрения износа самоката оптимальное расстояние поездки 3130 м.\n",
    "Сформулируем нулевую гипотезу **Н0:среднее расстояние одной поездки для пользователей с подпиской\n",
    " равно 3130м или меньше**.\n",
    "\n",
    "Альтернативная гипотеза **Н1: среднее расстояние одной поездки для пользователей с подпиской больше 3130м.**.\n",
    "\n",
    "Проверим Н0 на уровне статитстической значимости 5%."
   ]
  },
  {
   "cell_type": "code",
   "execution_count": 45,
   "id": "6d33ae24",
   "metadata": {},
   "outputs": [
    {
     "name": "stdout",
     "output_type": "stream",
     "text": [
      "значение p-value : 0.9195649894697724\n",
      "Нулевая гипотеза H0:не отвергается на уровне значимости 0.05\n"
     ]
    }
   ],
   "source": [
    "#\n",
    "distance = 3130\n",
    "# уровень статистической значимости\n",
    "alpha=0.05\n",
    "# датафрем data_total_ultra- данны  о пользователях с подпиской\n",
    "results =  st.ttest_1samp(data_total_ultra['distance'], distance, alternative='greater')\n",
    "print(f'значение p-value : {results.pvalue}')\n",
    "\n",
    "if results.pvalue < alpha:\n",
    "    print(f'На уровне значимости {alpha}, отвергается нулевая гипотеза H0')\n",
    "else:\n",
    "    print(f'Нулевая гипотеза H0:не отвергается на уровне значимости {alpha}') \n",
    "   "
   ]
  },
  {
   "cell_type": "markdown",
   "id": "30f7cd36",
   "metadata": {},
   "source": [
    "Результаты статистического теста говорят о том, что среднее расстояние поездки для пользователей с подпиской, вероятно, меньше или равно 3130 м., **это может считаться оптимальным расстоянием с точки зрения износа самоката, поскольку данное значение находится в пределах установленной нормы**"
   ]
  },
  {
   "cell_type": "markdown",
   "id": "b583396d",
   "metadata": {},
   "source": [
    "#####  Сравнение помесячной выручки пользователей с подпиской и без."
   ]
  },
  {
   "cell_type": "markdown",
   "id": "ddd84029",
   "metadata": {},
   "source": [
    "Сформулируем нулевую гипотезу: **H0: помесячная выручка у клиентов с подпиской и без не отличается**.\n",
    "\n",
    "Альтернативнач гипотеза: **Н1: помесячная выручка клиентов с подпиской выше чем у клиентов без подписки**.\n",
    "\n",
    "Проверим Н0 на уровне статитстической значимости 5%.\n",
    "\n",
    "Для проверки воспользуемся данными  таблицы `data_total_agg`, маркером пользователей без подписки\n",
    "является значение '0' в столбце `subscription_fee`."
   ]
  },
  {
   "cell_type": "code",
   "execution_count": 46,
   "id": "b7985a84",
   "metadata": {},
   "outputs": [
    {
     "name": "stdout",
     "output_type": "stream",
     "text": [
      "значение p-value : 2.0314113674863288e-30\n",
      "На уровне значимости 0.05, отвергается нулевая гипотеза H0\n"
     ]
    }
   ],
   "source": [
    "# уровень статистической значимости\n",
    "alpha= 0.05\n",
    "# сформируем выборки клиентов с подпиской  и без.\n",
    "data_total_agg_ultra=data_total_agg.query('subscription_fee != 0')\n",
    "data_total_agg_free=data_total_agg.query('subscription_fee == 0')\n",
    "# проверка гипотезы на равенство среднего (правостороння H1)\n",
    "results = st.ttest_ind(data_total_agg_ultra['revenue'],data_total_agg_free['revenue'],\n",
    "                      alternative='greater' )\n",
    "print(f'значение p-value : {results.pvalue}')\n",
    "if results.pvalue < alpha:\n",
    "    print(f'На уровне значимости {alpha}, отвергается нулевая гипотеза H0')\n",
    "else:\n",
    "    print(f'Нулевая гипотеза H0:не отвергается на уровне значимости {alpha}') \n",
    "   "
   ]
  },
  {
   "cell_type": "markdown",
   "id": "9fc0ec1d",
   "metadata": {},
   "source": [
    "Результаты статистического теста говорят о том, что **помесячная выручка клиентов с подпиской статистически значимо превышает выручку, клиентов без подписки**.\n"
   ]
  },
  {
   "cell_type": "markdown",
   "id": "bd25f29d",
   "metadata": {},
   "source": [
    "##### Оценка и выбор метода проверки гипотезы."
   ]
  },
  {
   "cell_type": "markdown",
   "id": "5f20e2f3",
   "metadata": {},
   "source": [
    "В данном задании предлагается сравнить две зависимые выборки. Выборки\n",
    "в задании будут парные, для одних и тех же пользователей изменятся количество обращений до и после\n",
    "изменений. Для проверки гипотезы следует использовать метод **scipy.stats.ttest_rel()**, в качестве\n",
    "аргументов передать две парные выборки до изменения и после. Проверять будем в сторону уменьшения т.к. логика работы сервисной\n",
    "команды направлена на уменьшение количества обращений. При вызове этого метода параметру 'alternative'присвоим значение 'less', что позволяет проверить гипотезу о том, что среднее количество обращений во второй выборке меньше, чем в первой."
   ]
  },
  {
   "cell_type": "markdown",
   "id": "c79e1619",
   "metadata": {},
   "source": [
    "В результате проверки гипотез пришли кследующим выводам:\n",
    "1. Время, затраченное на поездки пользователей с подпиской в целом больше времени затраченного на поездки пользователей без подписки.\n",
    "2. Среднее расстояние поездки для пользователей с подпиской, вероятно, меньше или равно 3130 м., это может считаться оптимальным расстоянием с точки зрения износа самоката, поскольку данное значение находится в пределах установленной нормы.\n",
    "3. Результаты статистического теста говорят о том, что помесячная выручка клиентов с подпиской статистически значимо превышает выручку, клиентов без подписки.\n"
   ]
  },
  {
   "cell_type": "markdown",
   "id": "61213c5e",
   "metadata": {},
   "source": [
    "#### Шаг 7. Распределения"
   ]
  },
  {
   "cell_type": "markdown",
   "id": "5931e405",
   "metadata": {},
   "source": [
    "#####  Расчет минимального количества промокодов для достижения целевого покрытия аудитории."
   ]
  },
  {
   "cell_type": "markdown",
   "id": "1e36e590",
   "metadata": {},
   "source": [
    "Акция c раздачей промокодов на подписку моделируется биноминальным распределением c вероятностью упеха p=0.1. Число испытаний  n подберем таким, чтобы P(X>=100)>=95% ( вероятность продления 100 \n",
    "подписок 95%).Найдем такое значение n при котором выполняется условие:\n",
    "{F(99,n)<0.05,F(99,n-1)>=0.05)}. \n"
   ]
  },
  {
   "cell_type": "code",
   "execution_count": 47,
   "id": "d1c19eb2",
   "metadata": {},
   "outputs": [
    {
     "name": "stdout",
     "output_type": "stream",
     "text": [
      "количество промокодов 1161, P(X1=100)=95.02%\n"
     ]
    },
    {
     "name": "stderr",
     "output_type": "stream",
     "text": [
      "C:\\Users\\dmitr\\anaconda3\\envs\\final_practicum\\lib\\site-packages\\scipy\\stats\\_discrete_distns.py:69: RuntimeWarning: divide by zero encountered in _binom_pdf\n",
      "  return _boost._binom_pdf(x, n, p)\n"
     ]
    },
    {
     "data": {
      "image/png": "[encoded data removed]",
      "text/plain": [
       "<Figure size 1200x1200 with 2 Axes>"
      ]
     },
     "metadata": {},
     "output_type": "display_data"
    }
   ],
   "source": [
    "from scipy.stats import binom\n",
    "# количество попыток.\n",
    "n=100\n",
    "# вероятность успеха\n",
    "p=0.1\n",
    "# количество успехов\n",
    "k=99 \n",
    "# цикл будет выполнятся до выполнения условия F(100)<5%\n",
    "while binom.cdf(k,n,p)>=0.05:\n",
    "    #print(binom.cdf(k,n,p),n)\n",
    "    n=n+1\n",
    "print(f'количество промокодов {n}, P(X1=100)={(1-binom.cdf(k,n,p)):.2%}')\n",
    "\n",
    "# distr_pmf, distr_cdf соответственно массивы для B(1172,0.1)  pmf и cdf соответственно\n",
    "distr_pmf = []\n",
    "distr_cdf = []\n",
    "for t in range(0,n+1):\n",
    "    distr_pmf.append (binom.pmf(t,n,p))\n",
    "    distr_cdf.append (binom.cdf(t,n,p))\n",
    "# создадим фигуру из двух строк для графиков pmf , cdf    \n",
    "fig, axes = plt.subplots(nrows=2, ncols=1, figsize=(12, 12))\n",
    "# график pmf \n",
    "axes[0].bar(range(0,n+1),distr_pmf)\n",
    "axes[0].set_title('Биноминальное распределение P=0.1,n=1172.',fontsize = 14)\n",
    "axes[0].set_xlabel('\"количество \"успехов\"')\n",
    "axes[0].grid(True)\n",
    "axes[0].set_xlim(50, 175)\n",
    "\n",
    "# график сdf\n",
    "axes[1].plot(range(0,n+1),distr_cdf)\n",
    "axes[1].set_title('Функция распределения F(x;1172,0.1)',fontsize = 14)\n",
    "axes[1].set_xlabel('\"количество \"успехов\"')\n",
    "axes[1].grid(True)\n",
    "axes[1].set_xlim(50, 175)\n",
    "new_y_ticks = np.arange(0, 1, 0.05)  # Пример: от 0 до 1 с шагом 0.1\n",
    "axes[1].set_yticks(new_y_ticks)\n",
    "axes[1].scatter([99], [ 0.04954795210203071], color='red')\n",
    "plt.show()\n"
   ]
  },
  {
   "cell_type": "markdown",
   "id": "7b68e8fc",
   "metadata": {},
   "source": [
    "Биноминальное распределене Х ~(1161,0.1) соответствует условию поставленной задачи. Для успешной реализации акции, в которой планируется привлечение сто новых подписчиков с вероятностью не выполнения плана менее 5%, необходимо раздать как минимум 1161 промокода."
   ]
  },
  {
   "cell_type": "markdown",
   "id": "3e6659a2",
   "metadata": {},
   "source": [
    "<div class=\"alert alert-warning\" style=\"border-radius: 15px; box-shadow: 4px 4px 4px; border: 1px solid \">\n",
    "<h2> Комментарий ревьюера v_1: <a class=\"tocSkip\"> </h2>\n",
    "    \n",
    "⚠️ Только здесь k не 100, а 99 будет. Т.к. в задании указано, что как минимум 100 клиентов должны продлить подписку, а не \"более 100 клиентов\". Нужно найти такое минимальное значение, чтобы вероятность не выполнить план (меньше 100) была равна 0.05. \n"
   ]
  },
  {
   "cell_type": "markdown",
   "id": "e8b8441a",
   "metadata": {},
   "source": [
    "<div class=\"alert alert-info\"  style=\"border-radius: 15px; box-shadow: 4px 4px 4px; border: 1px solid \">\n",
    "    \n",
    "<h2>Комментарий студента v_1: <a class=\"tocSkip\"> </h2>\n",
    "\n",
    "Исправил.\n",
    "\n",
    "При выполнении задания я долго колебался и выбрал неправильный вариант."
   ]
  },
  {
   "cell_type": "markdown",
   "id": "9a26b75e",
   "metadata": {},
   "source": [
    "<div class=\"alert alert-success\" style=\"border-radius: 15px; box-shadow: 4px 4px 4px; border: 1px solid \">\n",
    "<h2> Комментарий ревьюера v_2: <a class=\"tocSkip\"> </h2>\n",
    "    \n",
    "✅ 1161 - правильный результат"
   ]
  },
  {
   "cell_type": "markdown",
   "id": "232c41d4",
   "metadata": {},
   "source": [
    "##### Оценка вероятности просмотра пользователями уведомления."
   ]
  },
  {
   "cell_type": "markdown",
   "id": "6c9daea9",
   "metadata": {},
   "source": [
    "Вероятность просмотра пользователем уведомленя составляет 40%, p=0.4.\n",
    "Количество уведомлений 1.000.000 шт., n=1e+6.\n",
    "Найдем вероятность того, что уведомление откроют не болеее 399.500 человек.\n",
    "\n",
    "Данная задача моделируется биноминальным распределением, но исходя из характера вопроса, учитывая что вероятность 'успеха'приближается к 0.5 и количество опытов достаточно велико можно использовать апроксимацию биноминального распределения нормальным спарметрами:\n",
    "1. Метиматическое ожидание Е=n*p\n",
    "2. Диспрсия  SD^2=n*p(1-p)\n",
    "\n",
    "Значеник CDF(a) , a=399500 будет вероятностью того что уведомление прочитают не более 399500 человек.\n",
    "\n",
    "Также проверим условия апроксимации:интервал [E-3*SD,E+3*SD] лежит в диапазоне [0,n]\n",
    "( в коде применим более жесткое условие[E-4*SD,E+4*SD] )"
   ]
  },
  {
   "cell_type": "code",
   "execution_count": 48,
   "id": "ff8d6d1c",
   "metadata": {},
   "outputs": [
    {
     "name": "stdout",
     "output_type": "stream",
     "text": [
      "искомая вероятность 0.15\n",
      "математическое ожидание400000, стандартное отклонение489.90,интервал [ 398040 ,401959 ]\n"
     ]
    },
    {
     "data": {
      "image/png": "[encoded data removed]",
      "text/plain": [
       "<Figure size 1200x800 with 1 Axes>"
      ]
     },
     "metadata": {},
     "output_type": "display_data"
    }
   ],
   "source": [
    "from scipy.stats import norm\n",
    "from math import sqrt\n",
    "p = 0.4\n",
    "n=1e+6\n",
    "value =399500\n",
    "# расчитаем параметры для нормального распределения\n",
    "mu =int(n*p)\n",
    "sigma=sqrt(n*p*(1-p))\n",
    "# вычислим cdf в целевой точке.\n",
    "results = norm.cdf(value,mu,sigma)\n",
    "print(f'искомая вероятность {results:.2f}')\n",
    "\n",
    "# вычислим интервал распределения\n",
    "left = int(n * p - 4 * sigma)\n",
    "right = int(n * p + 4 * sigma)\n",
    "print(f'математическое ожидание{mu}, стандартное отклонение{sigma:.2f},интервал [ {left} ,{right} ]')\n",
    "\n",
    "# создадим массив значений в границах интервала [left, right] \n",
    "x = np.arange(left,right )\n",
    "# создадим дата фрейм  с массивом pdf значений и индексами соответствующим массиву x\n",
    "df_distr=pd.DataFrame(norm.pdf(x,mu,sigma))\n",
    "df_distr['tick']=x\n",
    "df_distr.set_index('tick', inplace=True)\n",
    "\n",
    "#построим график плотности вероятности \n",
    "ax=df_distr.plot(figsize=(12,8),grid=True)\n",
    "ax.scatter([399500], [ 0.000484], color='red')\n",
    "ax.set_title('Функция плотности вероятности X~ N(400000, 498.9)')\n",
    "ax.set_xlabel('Число пользователей')\n",
    "plt.show()\n"
   ]
  },
  {
   "cell_type": "markdown",
   "id": "b09a37fc",
   "metadata": {},
   "source": [
    "Данная задача моделируется  нормальным распределением с математическое ожиданием 400000, стандартным отклонением 489.90.\n",
    "Вероятность того, что уведомления откроют не более 399500 пользователей составляет 15%.\n"
   ]
  },
  {
   "cell_type": "markdown",
   "id": "374be6cd",
   "metadata": {},
   "source": [
    "#### Общий вывод\n",
    "\n"
   ]
  },
  {
   "cell_type": "markdown",
   "id": "73bfb540",
   "metadata": {},
   "source": [
    "В проекте исследованны данные сервиса аренды самокатов GoFast, проверены гипотезы, а также решены задачи с помощью\n",
    "распределений вероятности. На этапе предобработки  проверили данные на наличие дубликатов и пропусков.\n",
    "Обнаруженные дубликаты удалили, пропущенных значений не было. Данные в датафреймах привели к нужным форматам. \n",
    "В ходе исследования выяснили ,что для части  длительных поездок  в диапазоне от 4030м до 7211м. затрачивается\n",
    "аномально малое время- минута. Рекомендуем техническим службам более детально изучить и устранить причины аномалии.\n",
    "\n",
    "\n",
    "Объединили данные в один датафрейм, убедились в отсутсвии ошибок.\n",
    "\n",
    "Основные выводы на этапе исследования данных:\n",
    "1. GoFast имеет 1534 пользователя. Из них 699 с подпиской и 835 без. Количество пользователей без подписки превышает общее число пользователей, за исключением Москвы и Омска, где оно одинаково.\n",
    "2. Средний возраст клиентов — 25 лет. Максимальный — 43 года, минимальный — 12 лет.\n",
    "3. Среднее расстояние поездки — 3059 м, диапазон: 1м. - 7066 м.\n",
    "4. Среднее время поездки — 18 мин, диапазон: 3 мин - 41 мин.\n",
    "\n",
    "На этапе прверки гипотез пришли к следующим выводам:\n",
    "1. Время, затраченное на поездки пользователей превышает время затраченное на поездки пользователей без подписки.\n",
    "2. Среднее расстояние поездки для пользователей с подпиской, меньше или равно 3130 м., что является оптимальным с точки зрения\n",
    "    износа самоката.\n",
    "3. Помесячная выручка клиентов превышает выручку, клиентов без подписки.  \n",
    "\n",
    "Определили, что для успешной маркетинговой акции необходимо распределить не менее 1161 промокодов.  \n",
    "Рассчитали вероятность того, что заданное количество пользователей откроют уведомление - 15%.\n",
    "\n",
    "\n",
    "\n"
   ]
  }
 ],
 "metadata": {
  "ExecuteTimeLog": [
   {
    "duration": 423,
    "start_time": "2024-01-28T08:31:46.329Z"
   },
   {
    "duration": 458,
    "start_time": "2024-01-28T08:41:40.220Z"
   },
   {
    "duration": 471,
    "start_time": "2024-01-28T08:43:27.432Z"
   },
   {
    "duration": 74,
    "start_time": "2024-01-28T08:49:56.623Z"
   },
   {
    "duration": 28,
    "start_time": "2024-01-28T08:50:04.103Z"
   },
   {
    "duration": 54,
    "start_time": "2024-01-28T08:50:23.691Z"
   },
   {
    "duration": 38,
    "start_time": "2024-01-28T08:50:37.554Z"
   },
   {
    "duration": 32,
    "start_time": "2024-01-28T08:53:04.335Z"
   },
   {
    "duration": 32,
    "start_time": "2024-01-28T08:53:15.379Z"
   },
   {
    "duration": 32,
    "start_time": "2024-01-28T08:53:23.647Z"
   },
   {
    "duration": 34,
    "start_time": "2024-01-28T08:56:11.398Z"
   },
   {
    "duration": 32,
    "start_time": "2024-01-28T08:56:28.515Z"
   },
   {
    "duration": 28,
    "start_time": "2024-01-28T08:56:40.906Z"
   },
   {
    "duration": 99,
    "start_time": "2024-01-28T08:57:00.502Z"
   },
   {
    "duration": 84,
    "start_time": "2024-01-28T09:00:13.990Z"
   },
   {
    "duration": 110,
    "start_time": "2024-01-28T09:00:31.170Z"
   },
   {
    "duration": 75,
    "start_time": "2024-01-28T09:00:58.614Z"
   },
   {
    "duration": 76,
    "start_time": "2024-01-28T09:02:59.294Z"
   },
   {
    "duration": 69,
    "start_time": "2024-01-28T09:03:14.370Z"
   },
   {
    "duration": 91,
    "start_time": "2024-01-28T09:03:26.306Z"
   },
   {
    "duration": 89,
    "start_time": "2024-01-28T09:04:08.482Z"
   },
   {
    "duration": 80,
    "start_time": "2024-01-28T09:04:35.566Z"
   },
   {
    "duration": 76,
    "start_time": "2024-01-28T09:04:56.562Z"
   },
   {
    "duration": 87,
    "start_time": "2024-01-28T09:05:47.633Z"
   },
   {
    "duration": 361,
    "start_time": "2024-01-28T09:05:56.994Z"
   },
   {
    "duration": 79,
    "start_time": "2024-01-28T09:06:20.641Z"
   },
   {
    "duration": 77,
    "start_time": "2024-01-28T09:14:21.373Z"
   },
   {
    "duration": 83,
    "start_time": "2024-01-28T09:18:05.905Z"
   },
   {
    "duration": 8,
    "start_time": "2024-01-28T09:18:39.001Z"
   },
   {
    "duration": 8,
    "start_time": "2024-01-28T09:18:55.041Z"
   },
   {
    "duration": 18,
    "start_time": "2024-01-28T09:19:22.077Z"
   },
   {
    "duration": 16,
    "start_time": "2024-01-28T09:33:21.908Z"
   },
   {
    "duration": 85,
    "start_time": "2024-01-28T09:37:21.623Z"
   },
   {
    "duration": 13,
    "start_time": "2024-01-28T09:44:05.873Z"
   },
   {
    "duration": 96,
    "start_time": "2024-01-28T09:49:50.531Z"
   },
   {
    "duration": 1327,
    "start_time": "2024-01-28T13:24:48.219Z"
   },
   {
    "duration": 95,
    "start_time": "2024-01-28T13:24:49.548Z"
   },
   {
    "duration": 0,
    "start_time": "2024-01-28T13:24:49.645Z"
   },
   {
    "duration": 0,
    "start_time": "2024-01-28T13:24:49.646Z"
   },
   {
    "duration": 0,
    "start_time": "2024-01-28T13:24:49.647Z"
   },
   {
    "duration": 0,
    "start_time": "2024-01-28T13:24:49.649Z"
   },
   {
    "duration": 3,
    "start_time": "2024-01-28T13:25:04.772Z"
   },
   {
    "duration": 214,
    "start_time": "2024-01-28T13:25:04.777Z"
   },
   {
    "duration": 18,
    "start_time": "2024-01-28T13:25:04.993Z"
   },
   {
    "duration": 18,
    "start_time": "2024-01-28T13:25:05.013Z"
   },
   {
    "duration": 32,
    "start_time": "2024-01-28T13:25:05.033Z"
   },
   {
    "duration": 118,
    "start_time": "2024-01-28T13:29:48.922Z"
   },
   {
    "duration": 8,
    "start_time": "2024-01-28T13:30:17.665Z"
   },
   {
    "duration": 6,
    "start_time": "2024-01-28T13:30:46.517Z"
   },
   {
    "duration": 5,
    "start_time": "2024-01-28T13:31:16.673Z"
   },
   {
    "duration": 11,
    "start_time": "2024-01-28T13:31:58.245Z"
   },
   {
    "duration": 12,
    "start_time": "2024-01-28T13:32:48.608Z"
   },
   {
    "duration": 11,
    "start_time": "2024-01-28T13:35:12.699Z"
   },
   {
    "duration": 6,
    "start_time": "2024-01-28T13:39:19.842Z"
   },
   {
    "duration": 5,
    "start_time": "2024-01-28T13:39:37.898Z"
   },
   {
    "duration": 8,
    "start_time": "2024-01-28T13:40:00.094Z"
   },
   {
    "duration": 6,
    "start_time": "2024-01-28T13:42:21.874Z"
   },
   {
    "duration": 9,
    "start_time": "2024-01-28T13:43:57.213Z"
   },
   {
    "duration": 6,
    "start_time": "2024-01-28T13:44:03.029Z"
   },
   {
    "duration": 8,
    "start_time": "2024-01-28T13:47:39.349Z"
   },
   {
    "duration": 9,
    "start_time": "2024-01-28T13:47:55.220Z"
   },
   {
    "duration": 69,
    "start_time": "2024-01-28T13:48:11.284Z"
   },
   {
    "duration": 4,
    "start_time": "2024-01-28T13:48:22.772Z"
   },
   {
    "duration": 76,
    "start_time": "2024-01-28T13:49:57.092Z"
   },
   {
    "duration": 4,
    "start_time": "2024-01-28T13:50:06.884Z"
   },
   {
    "duration": 7,
    "start_time": "2024-01-28T13:50:27.996Z"
   },
   {
    "duration": 7,
    "start_time": "2024-01-28T13:50:36.460Z"
   },
   {
    "duration": 7,
    "start_time": "2024-01-28T13:51:07.092Z"
   },
   {
    "duration": 6,
    "start_time": "2024-01-28T13:51:15.079Z"
   },
   {
    "duration": 1174,
    "start_time": "2024-01-28T13:56:02.991Z"
   },
   {
    "duration": 5,
    "start_time": "2024-01-28T13:56:38.675Z"
   },
   {
    "duration": 6,
    "start_time": "2024-01-28T13:56:58.219Z"
   },
   {
    "duration": 9,
    "start_time": "2024-01-28T13:57:23.931Z"
   },
   {
    "duration": 10,
    "start_time": "2024-01-28T13:59:32.247Z"
   },
   {
    "duration": 7,
    "start_time": "2024-01-28T14:01:40.210Z"
   },
   {
    "duration": 78,
    "start_time": "2024-01-28T14:13:11.957Z"
   },
   {
    "duration": 6,
    "start_time": "2024-01-28T14:13:40.209Z"
   },
   {
    "duration": 9,
    "start_time": "2024-01-28T14:14:07.192Z"
   },
   {
    "duration": 6,
    "start_time": "2024-01-28T14:14:26.577Z"
   },
   {
    "duration": 5,
    "start_time": "2024-01-28T14:15:09.844Z"
   },
   {
    "duration": 51,
    "start_time": "2024-01-29T07:50:01.658Z"
   },
   {
    "duration": 1368,
    "start_time": "2024-01-29T07:50:17.946Z"
   },
   {
    "duration": 316,
    "start_time": "2024-01-29T07:50:19.316Z"
   },
   {
    "duration": 19,
    "start_time": "2024-01-29T07:50:19.634Z"
   },
   {
    "duration": 33,
    "start_time": "2024-01-29T07:50:19.655Z"
   },
   {
    "duration": 20,
    "start_time": "2024-01-29T07:50:19.689Z"
   },
   {
    "duration": 34,
    "start_time": "2024-01-29T07:50:19.711Z"
   },
   {
    "duration": 43,
    "start_time": "2024-01-29T07:50:19.747Z"
   },
   {
    "duration": 94,
    "start_time": "2024-01-29T07:50:19.792Z"
   },
   {
    "duration": 0,
    "start_time": "2024-01-29T07:50:19.888Z"
   },
   {
    "duration": 0,
    "start_time": "2024-01-29T07:50:19.889Z"
   },
   {
    "duration": 7,
    "start_time": "2024-01-29T07:50:39.618Z"
   },
   {
    "duration": 5,
    "start_time": "2024-01-29T07:50:45.314Z"
   },
   {
    "duration": 74,
    "start_time": "2024-01-29T07:51:08.070Z"
   },
   {
    "duration": 8,
    "start_time": "2024-01-29T07:51:18.498Z"
   },
   {
    "duration": 8,
    "start_time": "2024-01-29T07:51:20.994Z"
   },
   {
    "duration": 11,
    "start_time": "2024-01-29T07:51:27.390Z"
   },
   {
    "duration": 9,
    "start_time": "2024-01-29T08:02:44.992Z"
   },
   {
    "duration": 11,
    "start_time": "2024-01-29T08:09:31.763Z"
   },
   {
    "duration": 14,
    "start_time": "2024-01-29T08:09:56.427Z"
   },
   {
    "duration": 9,
    "start_time": "2024-01-29T08:10:40.243Z"
   },
   {
    "duration": 22,
    "start_time": "2024-01-29T08:11:08.942Z"
   },
   {
    "duration": 9,
    "start_time": "2024-01-29T08:16:02.418Z"
   },
   {
    "duration": 10,
    "start_time": "2024-01-29T08:22:20.997Z"
   },
   {
    "duration": 12,
    "start_time": "2024-01-29T08:22:35.633Z"
   },
   {
    "duration": 8,
    "start_time": "2024-01-29T08:23:30.005Z"
   },
   {
    "duration": 9,
    "start_time": "2024-01-29T08:23:40.697Z"
   },
   {
    "duration": 9,
    "start_time": "2024-01-29T08:24:11.616Z"
   },
   {
    "duration": 10,
    "start_time": "2024-01-29T08:24:27.932Z"
   },
   {
    "duration": 16,
    "start_time": "2024-01-29T08:32:21.868Z"
   },
   {
    "duration": 12,
    "start_time": "2024-01-29T08:32:36.688Z"
   },
   {
    "duration": 13,
    "start_time": "2024-01-29T08:32:58.669Z"
   },
   {
    "duration": 86,
    "start_time": "2024-01-29T08:33:25.236Z"
   },
   {
    "duration": 92,
    "start_time": "2024-01-29T08:33:33.160Z"
   },
   {
    "duration": 15,
    "start_time": "2024-01-29T08:33:40.044Z"
   },
   {
    "duration": 13,
    "start_time": "2024-01-29T08:33:43.012Z"
   },
   {
    "duration": 20,
    "start_time": "2024-01-29T08:35:01.300Z"
   },
   {
    "duration": 12,
    "start_time": "2024-01-29T08:40:52.847Z"
   },
   {
    "duration": 4,
    "start_time": "2024-01-29T08:42:34.087Z"
   },
   {
    "duration": 5,
    "start_time": "2024-01-29T08:50:32.233Z"
   },
   {
    "duration": 5,
    "start_time": "2024-01-29T08:50:42.181Z"
   },
   {
    "duration": 9,
    "start_time": "2024-01-29T08:51:34.733Z"
   },
   {
    "duration": 5,
    "start_time": "2024-01-29T08:52:24.173Z"
   },
   {
    "duration": 10,
    "start_time": "2024-01-29T08:52:26.097Z"
   },
   {
    "duration": 10,
    "start_time": "2024-01-29T08:52:36.137Z"
   },
   {
    "duration": 9,
    "start_time": "2024-01-29T08:52:55.749Z"
   },
   {
    "duration": 1204,
    "start_time": "2024-01-29T08:53:17.197Z"
   },
   {
    "duration": 90,
    "start_time": "2024-01-29T08:53:18.403Z"
   },
   {
    "duration": 19,
    "start_time": "2024-01-29T08:53:18.495Z"
   },
   {
    "duration": 18,
    "start_time": "2024-01-29T08:53:18.517Z"
   },
   {
    "duration": 47,
    "start_time": "2024-01-29T08:53:18.537Z"
   },
   {
    "duration": 43,
    "start_time": "2024-01-29T08:53:18.585Z"
   },
   {
    "duration": 36,
    "start_time": "2024-01-29T08:53:18.629Z"
   },
   {
    "duration": 39,
    "start_time": "2024-01-29T08:53:18.667Z"
   },
   {
    "duration": 34,
    "start_time": "2024-01-29T08:53:18.708Z"
   },
   {
    "duration": 23,
    "start_time": "2024-01-29T08:53:18.744Z"
   },
   {
    "duration": 31,
    "start_time": "2024-01-29T08:53:18.769Z"
   },
   {
    "duration": 25,
    "start_time": "2024-01-29T08:53:18.802Z"
   },
   {
    "duration": 9,
    "start_time": "2024-01-29T08:53:18.828Z"
   },
   {
    "duration": 9,
    "start_time": "2024-01-29T08:53:45.504Z"
   },
   {
    "duration": 1178,
    "start_time": "2024-01-29T08:54:01.912Z"
   },
   {
    "duration": 90,
    "start_time": "2024-01-29T08:54:04.299Z"
   },
   {
    "duration": 19,
    "start_time": "2024-01-29T08:54:06.072Z"
   },
   {
    "duration": 19,
    "start_time": "2024-01-29T08:54:07.888Z"
   },
   {
    "duration": 15,
    "start_time": "2024-01-29T08:54:09.640Z"
   },
   {
    "duration": 6,
    "start_time": "2024-01-29T08:54:11.652Z"
   },
   {
    "duration": 9,
    "start_time": "2024-01-29T08:54:13.172Z"
   },
   {
    "duration": 7,
    "start_time": "2024-01-29T08:54:14.984Z"
   },
   {
    "duration": 5,
    "start_time": "2024-01-29T08:54:15.748Z"
   },
   {
    "duration": 8,
    "start_time": "2024-01-29T08:54:18.911Z"
   },
   {
    "duration": 13,
    "start_time": "2024-01-29T08:54:19.836Z"
   },
   {
    "duration": 20,
    "start_time": "2024-01-29T08:54:19.883Z"
   },
   {
    "duration": 9,
    "start_time": "2024-01-29T08:54:21.535Z"
   },
   {
    "duration": 6,
    "start_time": "2024-01-29T08:54:23.683Z"
   },
   {
    "duration": 9,
    "start_time": "2024-01-29T08:54:23.723Z"
   },
   {
    "duration": 8,
    "start_time": "2024-01-29T09:04:02.689Z"
   },
   {
    "duration": 768,
    "start_time": "2024-01-29T09:55:40.576Z"
   },
   {
    "duration": 147,
    "start_time": "2024-01-29T09:56:18.038Z"
   },
   {
    "duration": 118,
    "start_time": "2024-01-29T09:58:52.623Z"
   },
   {
    "duration": 30972,
    "start_time": "2024-01-29T10:11:18.341Z"
   },
   {
    "duration": 460,
    "start_time": "2024-01-29T10:11:53.191Z"
   },
   {
    "duration": 3,
    "start_time": "2024-01-29T10:12:53.042Z"
   },
   {
    "duration": 91,
    "start_time": "2024-01-29T10:13:02.731Z"
   },
   {
    "duration": 145,
    "start_time": "2024-01-29T10:13:09.419Z"
   },
   {
    "duration": 155,
    "start_time": "2024-01-29T10:13:24.378Z"
   },
   {
    "duration": 147,
    "start_time": "2024-01-29T10:13:32.035Z"
   },
   {
    "duration": 151,
    "start_time": "2024-01-29T10:15:37.273Z"
   },
   {
    "duration": 160,
    "start_time": "2024-01-29T10:16:07.883Z"
   },
   {
    "duration": 89,
    "start_time": "2024-01-29T10:16:59.402Z"
   },
   {
    "duration": 161,
    "start_time": "2024-01-29T10:17:32.934Z"
   },
   {
    "duration": 156,
    "start_time": "2024-01-29T10:17:49.137Z"
   },
   {
    "duration": 185,
    "start_time": "2024-01-29T10:23:36.376Z"
   },
   {
    "duration": 192,
    "start_time": "2024-01-29T10:23:41.036Z"
   },
   {
    "duration": 163,
    "start_time": "2024-01-29T10:23:55.561Z"
   },
   {
    "duration": 173,
    "start_time": "2024-01-29T10:24:26.492Z"
   },
   {
    "duration": 183,
    "start_time": "2024-01-29T10:25:06.024Z"
   },
   {
    "duration": 162,
    "start_time": "2024-01-29T10:25:18.368Z"
   },
   {
    "duration": 4,
    "start_time": "2024-01-29T10:26:47.231Z"
   },
   {
    "duration": 169,
    "start_time": "2024-01-29T10:27:02.380Z"
   },
   {
    "duration": 157,
    "start_time": "2024-01-29T10:27:10.320Z"
   },
   {
    "duration": 90,
    "start_time": "2024-01-29T10:28:28.019Z"
   },
   {
    "duration": 120,
    "start_time": "2024-01-29T10:29:00.287Z"
   },
   {
    "duration": 172,
    "start_time": "2024-01-29T10:29:12.503Z"
   },
   {
    "duration": 155,
    "start_time": "2024-01-29T10:32:02.218Z"
   },
   {
    "duration": 89,
    "start_time": "2024-01-29T10:37:18.324Z"
   },
   {
    "duration": 4,
    "start_time": "2024-01-29T10:37:39.412Z"
   },
   {
    "duration": 248,
    "start_time": "2024-01-29T10:38:00.108Z"
   },
   {
    "duration": 1215,
    "start_time": "2024-01-29T10:38:16.220Z"
   },
   {
    "duration": 274,
    "start_time": "2024-01-29T10:38:47.788Z"
   },
   {
    "duration": 192,
    "start_time": "2024-01-29T10:40:57.477Z"
   },
   {
    "duration": 276,
    "start_time": "2024-01-29T10:41:19.968Z"
   },
   {
    "duration": 263,
    "start_time": "2024-01-29T10:41:32.924Z"
   },
   {
    "duration": 249,
    "start_time": "2024-01-29T10:41:39.295Z"
   },
   {
    "duration": 258,
    "start_time": "2024-01-29T10:41:47.052Z"
   },
   {
    "duration": 264,
    "start_time": "2024-01-29T10:41:54.724Z"
   },
   {
    "duration": 264,
    "start_time": "2024-01-29T10:42:00.644Z"
   },
   {
    "duration": 291,
    "start_time": "2024-01-29T10:46:34.331Z"
   },
   {
    "duration": 145,
    "start_time": "2024-01-29T10:47:04.260Z"
   },
   {
    "duration": 144,
    "start_time": "2024-01-29T10:47:16.704Z"
   },
   {
    "duration": 86,
    "start_time": "2024-01-29T10:48:08.807Z"
   },
   {
    "duration": 89,
    "start_time": "2024-01-29T10:48:28.536Z"
   },
   {
    "duration": 81,
    "start_time": "2024-01-29T10:49:02.123Z"
   },
   {
    "duration": 142,
    "start_time": "2024-01-29T10:51:45.875Z"
   },
   {
    "duration": 90,
    "start_time": "2024-01-29T10:51:55.827Z"
   },
   {
    "duration": 98,
    "start_time": "2024-01-29T10:52:14.283Z"
   },
   {
    "duration": 98,
    "start_time": "2024-01-29T10:52:30.955Z"
   },
   {
    "duration": 97,
    "start_time": "2024-01-29T10:52:49.699Z"
   },
   {
    "duration": 167,
    "start_time": "2024-01-29T10:53:39.224Z"
   },
   {
    "duration": 143,
    "start_time": "2024-01-29T10:53:53.363Z"
   },
   {
    "duration": 174,
    "start_time": "2024-01-29T10:54:15.031Z"
   },
   {
    "duration": 164,
    "start_time": "2024-01-29T10:54:22.595Z"
   },
   {
    "duration": 161,
    "start_time": "2024-01-29T10:54:49.395Z"
   },
   {
    "duration": 91,
    "start_time": "2024-01-29T11:07:45.753Z"
   },
   {
    "duration": 161,
    "start_time": "2024-01-29T11:07:58.473Z"
   },
   {
    "duration": 167,
    "start_time": "2024-01-29T11:09:53.731Z"
   },
   {
    "duration": 154,
    "start_time": "2024-01-29T11:12:38.459Z"
   },
   {
    "duration": 153,
    "start_time": "2024-01-29T11:15:25.566Z"
   },
   {
    "duration": 168,
    "start_time": "2024-01-29T11:15:36.642Z"
   },
   {
    "duration": 157,
    "start_time": "2024-01-29T11:15:44.402Z"
   },
   {
    "duration": 158,
    "start_time": "2024-01-29T11:15:52.210Z"
   },
   {
    "duration": 160,
    "start_time": "2024-01-29T11:20:14.845Z"
   },
   {
    "duration": 161,
    "start_time": "2024-01-29T11:20:20.060Z"
   },
   {
    "duration": 154,
    "start_time": "2024-01-29T11:20:30.620Z"
   },
   {
    "duration": 155,
    "start_time": "2024-01-29T11:20:34.540Z"
   },
   {
    "duration": 159,
    "start_time": "2024-01-29T11:20:38.992Z"
   },
   {
    "duration": 1298,
    "start_time": "2024-01-29T14:38:25.092Z"
   },
   {
    "duration": 225,
    "start_time": "2024-01-29T14:38:26.392Z"
   },
   {
    "duration": 18,
    "start_time": "2024-01-29T14:38:26.619Z"
   },
   {
    "duration": 29,
    "start_time": "2024-01-29T14:38:26.639Z"
   },
   {
    "duration": 13,
    "start_time": "2024-01-29T14:38:26.669Z"
   },
   {
    "duration": 22,
    "start_time": "2024-01-29T14:38:26.684Z"
   },
   {
    "duration": 24,
    "start_time": "2024-01-29T14:38:26.708Z"
   },
   {
    "duration": 13,
    "start_time": "2024-01-29T14:38:26.733Z"
   },
   {
    "duration": 8,
    "start_time": "2024-01-29T14:38:26.748Z"
   },
   {
    "duration": 13,
    "start_time": "2024-01-29T14:38:26.758Z"
   },
   {
    "duration": 19,
    "start_time": "2024-01-29T14:38:26.773Z"
   },
   {
    "duration": 24,
    "start_time": "2024-01-29T14:38:26.793Z"
   },
   {
    "duration": 10,
    "start_time": "2024-01-29T14:38:26.818Z"
   },
   {
    "duration": 23,
    "start_time": "2024-01-29T14:38:26.829Z"
   },
   {
    "duration": 16,
    "start_time": "2024-01-29T14:38:26.853Z"
   },
   {
    "duration": 35,
    "start_time": "2024-01-29T14:38:26.871Z"
   },
   {
    "duration": 196,
    "start_time": "2024-01-29T14:38:26.907Z"
   },
   {
    "duration": 16,
    "start_time": "2024-01-29T14:39:41.472Z"
   },
   {
    "duration": 17,
    "start_time": "2024-01-29T14:40:06.432Z"
   },
   {
    "duration": 9,
    "start_time": "2024-01-29T14:43:44.843Z"
   },
   {
    "duration": 153,
    "start_time": "2024-01-29T14:48:45.292Z"
   },
   {
    "duration": 8,
    "start_time": "2024-01-29T14:49:30.205Z"
   },
   {
    "duration": 106,
    "start_time": "2024-01-29T14:58:33.062Z"
   },
   {
    "duration": 119,
    "start_time": "2024-01-29T14:58:58.344Z"
   },
   {
    "duration": 111,
    "start_time": "2024-01-29T14:59:31.892Z"
   },
   {
    "duration": 76,
    "start_time": "2024-01-29T14:59:55.901Z"
   },
   {
    "duration": 127,
    "start_time": "2024-01-29T15:00:01.788Z"
   },
   {
    "duration": 96,
    "start_time": "2024-01-29T15:01:53.276Z"
   },
   {
    "duration": 82,
    "start_time": "2024-01-29T15:02:27.580Z"
   },
   {
    "duration": 101,
    "start_time": "2024-01-29T15:03:01.767Z"
   },
   {
    "duration": 87,
    "start_time": "2024-01-29T15:03:51.551Z"
   },
   {
    "duration": 147,
    "start_time": "2024-01-29T15:04:00.539Z"
   },
   {
    "duration": 99,
    "start_time": "2024-01-29T15:04:10.378Z"
   },
   {
    "duration": 94,
    "start_time": "2024-01-29T15:04:16.047Z"
   },
   {
    "duration": 89,
    "start_time": "2024-01-29T15:04:25.298Z"
   },
   {
    "duration": 104,
    "start_time": "2024-01-29T15:04:32.318Z"
   },
   {
    "duration": 86,
    "start_time": "2024-01-29T15:04:40.266Z"
   },
   {
    "duration": 95,
    "start_time": "2024-01-29T15:04:48.491Z"
   },
   {
    "duration": 89,
    "start_time": "2024-01-29T15:04:58.027Z"
   },
   {
    "duration": 87,
    "start_time": "2024-01-29T15:05:03.278Z"
   },
   {
    "duration": 81,
    "start_time": "2024-01-29T15:06:29.218Z"
   },
   {
    "duration": 126,
    "start_time": "2024-01-29T15:08:58.325Z"
   },
   {
    "duration": 84,
    "start_time": "2024-01-29T15:09:28.205Z"
   },
   {
    "duration": 70,
    "start_time": "2024-01-29T15:15:09.468Z"
   },
   {
    "duration": 81,
    "start_time": "2024-01-29T15:15:16.315Z"
   },
   {
    "duration": 90,
    "start_time": "2024-01-29T15:15:42.387Z"
   },
   {
    "duration": 90,
    "start_time": "2024-01-29T15:16:03.256Z"
   },
   {
    "duration": 124,
    "start_time": "2024-01-29T15:16:32.507Z"
   },
   {
    "duration": 81,
    "start_time": "2024-01-29T15:16:48.211Z"
   },
   {
    "duration": 81,
    "start_time": "2024-01-29T15:16:58.179Z"
   },
   {
    "duration": 79,
    "start_time": "2024-01-29T15:17:04.922Z"
   },
   {
    "duration": 157,
    "start_time": "2024-01-29T15:17:32.923Z"
   },
   {
    "duration": 111,
    "start_time": "2024-01-29T15:17:40.299Z"
   },
   {
    "duration": 126,
    "start_time": "2024-01-29T15:20:26.522Z"
   },
   {
    "duration": 93,
    "start_time": "2024-01-29T15:20:50.238Z"
   },
   {
    "duration": 87,
    "start_time": "2024-01-29T15:21:22.930Z"
   },
   {
    "duration": 89,
    "start_time": "2024-01-29T15:21:29.322Z"
   },
   {
    "duration": 104,
    "start_time": "2024-01-29T15:23:40.617Z"
   },
   {
    "duration": 151,
    "start_time": "2024-01-29T15:25:11.257Z"
   },
   {
    "duration": 173,
    "start_time": "2024-01-29T15:25:28.417Z"
   },
   {
    "duration": 172,
    "start_time": "2024-01-29T15:25:52.889Z"
   },
   {
    "duration": 3,
    "start_time": "2024-01-29T15:26:20.893Z"
   },
   {
    "duration": 146,
    "start_time": "2024-01-29T15:26:35.353Z"
   },
   {
    "duration": 158,
    "start_time": "2024-01-29T15:27:59.808Z"
   },
   {
    "duration": 153,
    "start_time": "2024-01-29T15:28:17.588Z"
   },
   {
    "duration": 93,
    "start_time": "2024-01-29T15:32:22.028Z"
   },
   {
    "duration": 90,
    "start_time": "2024-01-29T15:35:33.075Z"
   },
   {
    "duration": 90,
    "start_time": "2024-01-29T15:35:48.851Z"
   },
   {
    "duration": 92,
    "start_time": "2024-01-29T15:36:07.839Z"
   },
   {
    "duration": 174,
    "start_time": "2024-01-29T15:36:20.379Z"
   },
   {
    "duration": 149,
    "start_time": "2024-01-29T15:38:07.943Z"
   },
   {
    "duration": 101,
    "start_time": "2024-01-29T15:40:42.943Z"
   },
   {
    "duration": 106,
    "start_time": "2024-01-29T15:40:57.042Z"
   },
   {
    "duration": 92,
    "start_time": "2024-01-29T15:41:09.235Z"
   },
   {
    "duration": 102,
    "start_time": "2024-01-29T15:41:18.722Z"
   },
   {
    "duration": 113,
    "start_time": "2024-01-29T15:43:31.014Z"
   },
   {
    "duration": 105,
    "start_time": "2024-01-29T15:44:00.858Z"
   },
   {
    "duration": 105,
    "start_time": "2024-01-29T15:44:58.822Z"
   },
   {
    "duration": 102,
    "start_time": "2024-01-29T15:45:19.381Z"
   },
   {
    "duration": 7,
    "start_time": "2024-01-29T15:51:19.301Z"
   },
   {
    "duration": 15,
    "start_time": "2024-01-29T15:51:32.252Z"
   },
   {
    "duration": 15549,
    "start_time": "2024-01-29T15:56:06.796Z"
   },
   {
    "duration": 17714,
    "start_time": "2024-01-29T15:56:37.911Z"
   },
   {
    "duration": 18571,
    "start_time": "2024-01-29T15:57:03.083Z"
   },
   {
    "duration": 18670,
    "start_time": "2024-01-29T15:57:27.584Z"
   },
   {
    "duration": 73,
    "start_time": "2024-01-29T15:58:04.732Z"
   },
   {
    "duration": 18113,
    "start_time": "2024-01-29T15:58:14.351Z"
   },
   {
    "duration": 18415,
    "start_time": "2024-01-29T15:58:41.047Z"
   },
   {
    "duration": 6,
    "start_time": "2024-01-29T16:00:04.003Z"
   },
   {
    "duration": 11,
    "start_time": "2024-01-29T16:02:01.467Z"
   },
   {
    "duration": 10,
    "start_time": "2024-01-29T16:03:28.686Z"
   },
   {
    "duration": 244,
    "start_time": "2024-01-29T16:03:45.429Z"
   },
   {
    "duration": 8,
    "start_time": "2024-01-29T16:06:45.733Z"
   },
   {
    "duration": 14,
    "start_time": "2024-01-29T16:06:53.517Z"
   },
   {
    "duration": 269,
    "start_time": "2024-01-29T16:07:10.541Z"
   },
   {
    "duration": 15,
    "start_time": "2024-01-29T16:07:43.136Z"
   },
   {
    "duration": 298,
    "start_time": "2024-01-29T16:09:47.392Z"
   },
   {
    "duration": 259,
    "start_time": "2024-01-29T16:11:10.836Z"
   },
   {
    "duration": 243,
    "start_time": "2024-01-29T16:12:56.663Z"
   },
   {
    "duration": 98,
    "start_time": "2024-01-29T16:13:56.459Z"
   },
   {
    "duration": 250,
    "start_time": "2024-01-29T16:14:14.211Z"
   },
   {
    "duration": 267,
    "start_time": "2024-01-29T16:14:23.535Z"
   },
   {
    "duration": 279,
    "start_time": "2024-01-29T16:14:39.419Z"
   },
   {
    "duration": 274,
    "start_time": "2024-01-29T16:15:38.539Z"
   },
   {
    "duration": 268,
    "start_time": "2024-01-29T16:16:19.854Z"
   },
   {
    "duration": 77,
    "start_time": "2024-01-29T16:41:08.188Z"
   },
   {
    "duration": 75,
    "start_time": "2024-01-29T16:41:19.771Z"
   },
   {
    "duration": 65,
    "start_time": "2024-01-29T16:41:29.711Z"
   },
   {
    "duration": 77,
    "start_time": "2024-01-29T16:41:36.431Z"
   },
   {
    "duration": 115,
    "start_time": "2024-01-29T16:42:31.051Z"
   },
   {
    "duration": 76,
    "start_time": "2024-01-29T16:43:00.194Z"
   },
   {
    "duration": 11,
    "start_time": "2024-01-29T16:43:08.054Z"
   },
   {
    "duration": 86,
    "start_time": "2024-01-29T16:44:39.738Z"
   },
   {
    "duration": 83,
    "start_time": "2024-01-29T16:47:51.485Z"
   },
   {
    "duration": 68,
    "start_time": "2024-01-29T16:48:47.096Z"
   },
   {
    "duration": 22,
    "start_time": "2024-01-29T16:50:38.536Z"
   },
   {
    "duration": 20,
    "start_time": "2024-01-29T16:52:06.530Z"
   },
   {
    "duration": 19,
    "start_time": "2024-01-29T16:52:20.831Z"
   },
   {
    "duration": 19,
    "start_time": "2024-01-29T16:54:30.311Z"
   },
   {
    "duration": 20,
    "start_time": "2024-01-29T16:55:54.902Z"
   },
   {
    "duration": 17,
    "start_time": "2024-01-29T16:59:45.621Z"
   },
   {
    "duration": 18,
    "start_time": "2024-01-29T17:00:33.228Z"
   },
   {
    "duration": 17,
    "start_time": "2024-01-29T17:00:47.565Z"
   },
   {
    "duration": 17,
    "start_time": "2024-01-29T17:01:10.324Z"
   },
   {
    "duration": 111,
    "start_time": "2024-01-29T17:03:37.252Z"
   },
   {
    "duration": 9,
    "start_time": "2024-01-29T17:27:03.508Z"
   },
   {
    "duration": 15,
    "start_time": "2024-01-29T17:27:21.088Z"
   },
   {
    "duration": 11,
    "start_time": "2024-01-29T17:27:40.087Z"
   },
   {
    "duration": 18,
    "start_time": "2024-01-29T17:28:09.743Z"
   },
   {
    "duration": 4,
    "start_time": "2024-01-29T17:31:25.843Z"
   },
   {
    "duration": 79,
    "start_time": "2024-01-29T17:31:37.235Z"
   },
   {
    "duration": 72,
    "start_time": "2024-01-29T17:31:51.567Z"
   },
   {
    "duration": 16,
    "start_time": "2024-01-29T17:32:12.651Z"
   },
   {
    "duration": 16,
    "start_time": "2024-01-29T17:33:54.815Z"
   },
   {
    "duration": 18,
    "start_time": "2024-01-29T17:34:22.319Z"
   },
   {
    "duration": 18,
    "start_time": "2024-01-29T17:35:13.718Z"
   },
   {
    "duration": 17,
    "start_time": "2024-01-29T17:39:14.191Z"
   },
   {
    "duration": 18,
    "start_time": "2024-01-29T17:40:10.519Z"
   },
   {
    "duration": 16,
    "start_time": "2024-01-29T17:40:38.998Z"
   },
   {
    "duration": 16,
    "start_time": "2024-01-29T17:40:50.091Z"
   },
   {
    "duration": 16,
    "start_time": "2024-01-29T17:41:24.262Z"
   },
   {
    "duration": 73,
    "start_time": "2024-01-29T17:41:48.686Z"
   },
   {
    "duration": 105,
    "start_time": "2024-01-29T17:42:11.494Z"
   },
   {
    "duration": 192,
    "start_time": "2024-01-29T17:42:20.046Z"
   },
   {
    "duration": 184,
    "start_time": "2024-01-29T17:43:13.758Z"
   },
   {
    "duration": 202,
    "start_time": "2024-01-29T17:44:22.441Z"
   },
   {
    "duration": 204,
    "start_time": "2024-01-29T17:44:43.753Z"
   },
   {
    "duration": 202,
    "start_time": "2024-01-29T17:47:50.763Z"
   },
   {
    "duration": 201,
    "start_time": "2024-01-29T17:48:23.867Z"
   },
   {
    "duration": 223,
    "start_time": "2024-01-29T17:48:33.294Z"
   },
   {
    "duration": 207,
    "start_time": "2024-01-29T17:48:53.282Z"
   },
   {
    "duration": 205,
    "start_time": "2024-01-29T17:49:01.611Z"
   },
   {
    "duration": 213,
    "start_time": "2024-01-29T17:49:18.825Z"
   },
   {
    "duration": 243,
    "start_time": "2024-01-29T17:50:08.657Z"
   },
   {
    "duration": 210,
    "start_time": "2024-01-29T17:50:52.057Z"
   },
   {
    "duration": 218,
    "start_time": "2024-01-29T17:51:13.396Z"
   },
   {
    "duration": 222,
    "start_time": "2024-01-29T17:51:41.653Z"
   },
   {
    "duration": 221,
    "start_time": "2024-01-29T17:58:20.693Z"
   },
   {
    "duration": 182,
    "start_time": "2024-01-29T17:58:34.849Z"
   },
   {
    "duration": 183,
    "start_time": "2024-01-29T18:02:06.528Z"
   },
   {
    "duration": 210,
    "start_time": "2024-01-29T18:02:15.823Z"
   },
   {
    "duration": 21,
    "start_time": "2024-01-29T18:04:25.491Z"
   },
   {
    "duration": 8,
    "start_time": "2024-01-29T18:05:50.234Z"
   },
   {
    "duration": 10,
    "start_time": "2024-01-29T18:05:57.287Z"
   },
   {
    "duration": 137,
    "start_time": "2024-01-29T18:06:28.754Z"
   },
   {
    "duration": 18,
    "start_time": "2024-01-29T18:06:37.758Z"
   },
   {
    "duration": 243,
    "start_time": "2024-01-29T18:06:45.562Z"
   },
   {
    "duration": 76,
    "start_time": "2024-01-29T18:12:59.293Z"
   },
   {
    "duration": 593,
    "start_time": "2024-01-29T18:13:21.624Z"
   },
   {
    "duration": 444,
    "start_time": "2024-01-29T18:13:44.740Z"
   },
   {
    "duration": 425,
    "start_time": "2024-01-29T18:13:54.296Z"
   },
   {
    "duration": 1150,
    "start_time": "2024-01-29T18:14:00.764Z"
   },
   {
    "duration": 435,
    "start_time": "2024-01-29T18:14:22.371Z"
   },
   {
    "duration": 444,
    "start_time": "2024-01-29T18:15:49.428Z"
   },
   {
    "duration": 470,
    "start_time": "2024-01-29T18:16:22.075Z"
   },
   {
    "duration": 110,
    "start_time": "2024-01-29T18:19:42.548Z"
   },
   {
    "duration": 298,
    "start_time": "2024-01-29T18:19:52.544Z"
   },
   {
    "duration": 471,
    "start_time": "2024-01-29T18:20:00.964Z"
   },
   {
    "duration": 331,
    "start_time": "2024-01-29T18:20:13.948Z"
   },
   {
    "duration": 71,
    "start_time": "2024-01-29T18:21:51.602Z"
   },
   {
    "duration": 466,
    "start_time": "2024-01-29T18:21:59.482Z"
   },
   {
    "duration": 523,
    "start_time": "2024-01-29T18:22:12.514Z"
   },
   {
    "duration": 601,
    "start_time": "2024-01-29T18:22:45.175Z"
   },
   {
    "duration": 941,
    "start_time": "2024-01-29T18:23:28.671Z"
   },
   {
    "duration": 615,
    "start_time": "2024-01-29T18:23:42.463Z"
   },
   {
    "duration": 84,
    "start_time": "2024-01-29T18:24:20.643Z"
   },
   {
    "duration": 638,
    "start_time": "2024-01-29T18:24:30.671Z"
   },
   {
    "duration": 765,
    "start_time": "2024-01-29T18:24:40.347Z"
   },
   {
    "duration": 778,
    "start_time": "2024-01-29T18:24:51.968Z"
   },
   {
    "duration": 707,
    "start_time": "2024-01-29T18:25:22.168Z"
   },
   {
    "duration": 593,
    "start_time": "2024-01-29T18:25:44.712Z"
   },
   {
    "duration": 1118,
    "start_time": "2024-01-29T18:25:57.148Z"
   },
   {
    "duration": 719,
    "start_time": "2024-01-29T18:26:20.224Z"
   },
   {
    "duration": 633,
    "start_time": "2024-01-29T18:26:27.096Z"
   },
   {
    "duration": 847,
    "start_time": "2024-01-29T18:26:55.944Z"
   },
   {
    "duration": 681,
    "start_time": "2024-01-29T18:27:23.927Z"
   },
   {
    "duration": 687,
    "start_time": "2024-01-29T18:27:54.449Z"
   },
   {
    "duration": 1191,
    "start_time": "2024-01-29T18:28:26.480Z"
   },
   {
    "duration": 1276,
    "start_time": "2024-01-29T18:29:10.261Z"
   },
   {
    "duration": 10,
    "start_time": "2024-01-29T18:29:23.617Z"
   },
   {
    "duration": 126,
    "start_time": "2024-01-29T18:29:41.929Z"
   },
   {
    "duration": 8,
    "start_time": "2024-01-29T18:30:34.645Z"
   },
   {
    "duration": 128,
    "start_time": "2024-01-29T18:30:40.862Z"
   },
   {
    "duration": 15,
    "start_time": "2024-01-29T18:33:15.946Z"
   },
   {
    "duration": 14,
    "start_time": "2024-01-29T18:33:24.441Z"
   },
   {
    "duration": 9,
    "start_time": "2024-01-29T18:34:36.350Z"
   },
   {
    "duration": 7,
    "start_time": "2024-01-29T18:35:03.202Z"
   },
   {
    "duration": 11,
    "start_time": "2024-01-29T18:35:57.242Z"
   },
   {
    "duration": 15,
    "start_time": "2024-01-29T18:37:35.258Z"
   },
   {
    "duration": 15,
    "start_time": "2024-01-29T18:38:29.161Z"
   },
   {
    "duration": 42,
    "start_time": "2024-01-29T18:39:29.158Z"
   },
   {
    "duration": 15,
    "start_time": "2024-01-29T18:39:36.262Z"
   },
   {
    "duration": 11,
    "start_time": "2024-01-29T18:40:16.118Z"
   },
   {
    "duration": 17,
    "start_time": "2024-01-29T18:40:27.266Z"
   },
   {
    "duration": 17,
    "start_time": "2024-01-29T18:41:22.982Z"
   },
   {
    "duration": 11,
    "start_time": "2024-01-29T18:41:44.090Z"
   },
   {
    "duration": 16,
    "start_time": "2024-01-29T18:41:50.654Z"
   },
   {
    "duration": 16,
    "start_time": "2024-01-29T18:42:07.734Z"
   },
   {
    "duration": 903,
    "start_time": "2024-01-29T18:46:18.294Z"
   },
   {
    "duration": 907,
    "start_time": "2024-01-29T18:48:22.197Z"
   },
   {
    "duration": 880,
    "start_time": "2024-01-29T18:48:54.257Z"
   },
   {
    "duration": 831,
    "start_time": "2024-01-29T18:49:19.897Z"
   },
   {
    "duration": 1368,
    "start_time": "2024-01-29T18:50:32.987Z"
   },
   {
    "duration": 905,
    "start_time": "2024-01-29T18:51:11.819Z"
   },
   {
    "duration": 977,
    "start_time": "2024-01-29T18:52:51.019Z"
   },
   {
    "duration": 873,
    "start_time": "2024-01-29T18:53:09.731Z"
   },
   {
    "duration": 3,
    "start_time": "2024-01-29T18:55:44.882Z"
   },
   {
    "duration": 4,
    "start_time": "2024-01-29T18:55:47.966Z"
   },
   {
    "duration": 80,
    "start_time": "2024-01-29T18:59:13.526Z"
   },
   {
    "duration": 743,
    "start_time": "2024-01-29T18:59:19.182Z"
   },
   {
    "duration": 207,
    "start_time": "2024-01-29T18:59:45.713Z"
   },
   {
    "duration": 151,
    "start_time": "2024-01-29T19:00:23.862Z"
   },
   {
    "duration": 113,
    "start_time": "2024-01-29T19:00:46.841Z"
   },
   {
    "duration": 133,
    "start_time": "2024-01-29T19:00:58.389Z"
   },
   {
    "duration": 111,
    "start_time": "2024-01-29T19:01:08.266Z"
   },
   {
    "duration": 122,
    "start_time": "2024-01-29T19:01:20.529Z"
   },
   {
    "duration": 98,
    "start_time": "2024-01-29T19:49:34.821Z"
   },
   {
    "duration": 196,
    "start_time": "2024-01-29T19:49:49.904Z"
   },
   {
    "duration": 876,
    "start_time": "2024-01-29T19:50:13.888Z"
   },
   {
    "duration": 398,
    "start_time": "2024-01-29T19:50:34.200Z"
   },
   {
    "duration": 8,
    "start_time": "2024-01-29T19:52:22.697Z"
   },
   {
    "duration": 17,
    "start_time": "2024-01-29T19:52:42.341Z"
   },
   {
    "duration": 10,
    "start_time": "2024-01-29T19:52:59.572Z"
   },
   {
    "duration": 16,
    "start_time": "2024-01-29T19:53:31.180Z"
   },
   {
    "duration": 15,
    "start_time": "2024-01-29T19:53:40.572Z"
   },
   {
    "duration": 15,
    "start_time": "2024-01-29T19:54:39.851Z"
   },
   {
    "duration": 88,
    "start_time": "2024-01-29T19:54:58.059Z"
   },
   {
    "duration": 29,
    "start_time": "2024-01-29T19:55:03.419Z"
   },
   {
    "duration": 17,
    "start_time": "2024-01-29T19:55:24.551Z"
   },
   {
    "duration": 11,
    "start_time": "2024-01-29T19:56:28.316Z"
   },
   {
    "duration": 10,
    "start_time": "2024-01-29T19:57:25.375Z"
   },
   {
    "duration": 17,
    "start_time": "2024-01-29T19:57:32.727Z"
   },
   {
    "duration": 519,
    "start_time": "2024-01-29T20:01:28.451Z"
   },
   {
    "duration": 209,
    "start_time": "2024-01-29T20:01:44.376Z"
   },
   {
    "duration": 404,
    "start_time": "2024-01-29T20:04:29.567Z"
   },
   {
    "duration": 419,
    "start_time": "2024-01-29T20:04:45.535Z"
   },
   {
    "duration": 392,
    "start_time": "2024-01-29T20:05:10.171Z"
   },
   {
    "duration": 384,
    "start_time": "2024-01-29T20:06:23.628Z"
   },
   {
    "duration": 333,
    "start_time": "2024-01-29T20:07:04.427Z"
   },
   {
    "duration": 388,
    "start_time": "2024-01-29T20:07:41.147Z"
   },
   {
    "duration": 412,
    "start_time": "2024-01-29T20:07:56.939Z"
   },
   {
    "duration": 410,
    "start_time": "2024-01-29T20:08:15.111Z"
   },
   {
    "duration": 387,
    "start_time": "2024-01-29T20:11:41.207Z"
   },
   {
    "duration": 874,
    "start_time": "2024-01-29T20:12:11.822Z"
   },
   {
    "duration": 436,
    "start_time": "2024-01-29T20:14:22.427Z"
   },
   {
    "duration": 414,
    "start_time": "2024-01-29T20:14:41.323Z"
   },
   {
    "duration": 8,
    "start_time": "2024-01-29T20:26:51.282Z"
   },
   {
    "duration": 11,
    "start_time": "2024-01-29T20:26:56.233Z"
   },
   {
    "duration": 20,
    "start_time": "2024-01-29T20:27:23.817Z"
   },
   {
    "duration": 22,
    "start_time": "2024-01-29T20:27:44.002Z"
   },
   {
    "duration": 24,
    "start_time": "2024-01-29T20:28:13.961Z"
   },
   {
    "duration": 1179,
    "start_time": "2024-01-29T20:28:27.329Z"
   },
   {
    "duration": 91,
    "start_time": "2024-01-29T20:28:28.510Z"
   },
   {
    "duration": 19,
    "start_time": "2024-01-29T20:28:28.603Z"
   },
   {
    "duration": 26,
    "start_time": "2024-01-29T20:28:28.625Z"
   },
   {
    "duration": 13,
    "start_time": "2024-01-29T20:28:28.652Z"
   },
   {
    "duration": 5,
    "start_time": "2024-01-29T20:28:28.667Z"
   },
   {
    "duration": 14,
    "start_time": "2024-01-29T20:28:28.673Z"
   },
   {
    "duration": 35,
    "start_time": "2024-01-29T20:28:28.689Z"
   },
   {
    "duration": 23,
    "start_time": "2024-01-29T20:28:28.726Z"
   },
   {
    "duration": 8,
    "start_time": "2024-01-29T20:28:28.752Z"
   },
   {
    "duration": 10,
    "start_time": "2024-01-29T20:28:28.762Z"
   },
   {
    "duration": 22,
    "start_time": "2024-01-29T20:28:28.774Z"
   },
   {
    "duration": 22,
    "start_time": "2024-01-29T20:28:28.798Z"
   },
   {
    "duration": 5,
    "start_time": "2024-01-29T20:28:28.822Z"
   },
   {
    "duration": 19,
    "start_time": "2024-01-29T20:28:28.829Z"
   },
   {
    "duration": 14,
    "start_time": "2024-01-29T20:28:28.850Z"
   },
   {
    "duration": 208,
    "start_time": "2024-01-29T20:28:28.866Z"
   },
   {
    "duration": 8,
    "start_time": "2024-01-29T20:28:29.075Z"
   },
   {
    "duration": 143,
    "start_time": "2024-01-29T20:28:29.085Z"
   },
   {
    "duration": 247,
    "start_time": "2024-01-29T20:28:29.231Z"
   },
   {
    "duration": 14,
    "start_time": "2024-01-29T20:28:29.480Z"
   },
   {
    "duration": 342,
    "start_time": "2024-01-29T20:28:29.496Z"
   },
   {
    "duration": 22,
    "start_time": "2024-01-29T20:28:29.840Z"
   },
   {
    "duration": 1112,
    "start_time": "2024-01-29T20:28:29.863Z"
   },
   {
    "duration": 166,
    "start_time": "2024-01-29T20:28:30.976Z"
   },
   {
    "duration": 13,
    "start_time": "2024-01-29T20:28:31.144Z"
   },
   {
    "duration": 505,
    "start_time": "2024-01-29T20:28:31.159Z"
   },
   {
    "duration": 21,
    "start_time": "2024-01-29T20:28:38.443Z"
   },
   {
    "duration": 20,
    "start_time": "2024-01-29T20:29:35.664Z"
   },
   {
    "duration": 1218,
    "start_time": "2024-01-29T20:33:52.083Z"
   },
   {
    "duration": 94,
    "start_time": "2024-01-29T20:33:53.303Z"
   },
   {
    "duration": 16,
    "start_time": "2024-01-29T20:33:53.398Z"
   },
   {
    "duration": 28,
    "start_time": "2024-01-29T20:33:53.416Z"
   },
   {
    "duration": 14,
    "start_time": "2024-01-29T20:33:53.445Z"
   },
   {
    "duration": 6,
    "start_time": "2024-01-29T20:33:53.461Z"
   },
   {
    "duration": 8,
    "start_time": "2024-01-29T20:33:53.468Z"
   },
   {
    "duration": 6,
    "start_time": "2024-01-29T20:33:53.477Z"
   },
   {
    "duration": 41,
    "start_time": "2024-01-29T20:33:53.485Z"
   },
   {
    "duration": 11,
    "start_time": "2024-01-29T20:33:53.531Z"
   },
   {
    "duration": 10,
    "start_time": "2024-01-29T20:33:53.545Z"
   },
   {
    "duration": 19,
    "start_time": "2024-01-29T20:33:53.557Z"
   },
   {
    "duration": 8,
    "start_time": "2024-01-29T20:33:53.579Z"
   },
   {
    "duration": 5,
    "start_time": "2024-01-29T20:33:53.620Z"
   },
   {
    "duration": 19,
    "start_time": "2024-01-29T20:33:53.628Z"
   },
   {
    "duration": 9,
    "start_time": "2024-01-29T20:33:53.649Z"
   },
   {
    "duration": 222,
    "start_time": "2024-01-29T20:33:53.659Z"
   },
   {
    "duration": 7,
    "start_time": "2024-01-29T20:33:53.883Z"
   },
   {
    "duration": 123,
    "start_time": "2024-01-29T20:33:53.891Z"
   },
   {
    "duration": 262,
    "start_time": "2024-01-29T20:33:54.021Z"
   },
   {
    "duration": 13,
    "start_time": "2024-01-29T20:33:54.284Z"
   },
   {
    "duration": 292,
    "start_time": "2024-01-29T20:33:54.299Z"
   },
   {
    "duration": 21,
    "start_time": "2024-01-29T20:33:54.592Z"
   },
   {
    "duration": 1083,
    "start_time": "2024-01-29T20:33:54.621Z"
   },
   {
    "duration": 168,
    "start_time": "2024-01-29T20:33:55.705Z"
   },
   {
    "duration": 14,
    "start_time": "2024-01-29T20:33:55.875Z"
   },
   {
    "duration": 488,
    "start_time": "2024-01-29T20:33:55.891Z"
   },
   {
    "duration": 5,
    "start_time": "2024-01-29T20:34:07.128Z"
   },
   {
    "duration": 86,
    "start_time": "2024-01-29T20:34:07.137Z"
   },
   {
    "duration": 23,
    "start_time": "2024-01-29T20:34:07.226Z"
   },
   {
    "duration": 18,
    "start_time": "2024-01-29T20:34:07.250Z"
   },
   {
    "duration": 14,
    "start_time": "2024-01-29T20:34:07.269Z"
   },
   {
    "duration": 38,
    "start_time": "2024-01-29T20:34:07.284Z"
   },
   {
    "duration": 14,
    "start_time": "2024-01-29T20:34:07.325Z"
   },
   {
    "duration": 8,
    "start_time": "2024-01-29T20:34:07.341Z"
   },
   {
    "duration": 6,
    "start_time": "2024-01-29T20:34:07.350Z"
   },
   {
    "duration": 13,
    "start_time": "2024-01-29T20:34:07.357Z"
   },
   {
    "duration": 13,
    "start_time": "2024-01-29T20:34:07.373Z"
   },
   {
    "duration": 59,
    "start_time": "2024-01-29T20:34:07.387Z"
   },
   {
    "duration": 9,
    "start_time": "2024-01-29T20:34:07.447Z"
   },
   {
    "duration": 7,
    "start_time": "2024-01-29T20:34:07.457Z"
   },
   {
    "duration": 8,
    "start_time": "2024-01-29T20:34:07.466Z"
   },
   {
    "duration": 22,
    "start_time": "2024-01-29T20:34:07.477Z"
   },
   {
    "duration": 191,
    "start_time": "2024-01-29T20:34:07.500Z"
   },
   {
    "duration": 7,
    "start_time": "2024-01-29T20:34:07.693Z"
   },
   {
    "duration": 138,
    "start_time": "2024-01-29T20:34:07.702Z"
   },
   {
    "duration": 234,
    "start_time": "2024-01-29T20:34:07.842Z"
   },
   {
    "duration": 20,
    "start_time": "2024-01-29T20:34:08.079Z"
   },
   {
    "duration": 313,
    "start_time": "2024-01-29T20:34:08.101Z"
   },
   {
    "duration": 32,
    "start_time": "2024-01-29T20:34:08.420Z"
   },
   {
    "duration": 1070,
    "start_time": "2024-01-29T20:34:08.454Z"
   },
   {
    "duration": 153,
    "start_time": "2024-01-29T20:34:09.526Z"
   },
   {
    "duration": 15,
    "start_time": "2024-01-29T20:34:09.681Z"
   },
   {
    "duration": 499,
    "start_time": "2024-01-29T20:34:09.698Z"
   },
   {
    "duration": 21,
    "start_time": "2024-01-29T20:34:18.299Z"
   },
   {
    "duration": 21,
    "start_time": "2024-01-29T20:34:44.523Z"
   },
   {
    "duration": 1134,
    "start_time": "2024-01-29T20:35:11.896Z"
   },
   {
    "duration": 87,
    "start_time": "2024-01-29T20:35:13.032Z"
   },
   {
    "duration": 17,
    "start_time": "2024-01-29T20:35:13.120Z"
   },
   {
    "duration": 17,
    "start_time": "2024-01-29T20:35:13.139Z"
   },
   {
    "duration": 12,
    "start_time": "2024-01-29T20:35:13.157Z"
   },
   {
    "duration": 13,
    "start_time": "2024-01-29T20:35:13.171Z"
   },
   {
    "duration": 7,
    "start_time": "2024-01-29T20:35:13.186Z"
   },
   {
    "duration": 7,
    "start_time": "2024-01-29T20:35:13.221Z"
   },
   {
    "duration": 16,
    "start_time": "2024-01-29T20:35:13.229Z"
   },
   {
    "duration": 32,
    "start_time": "2024-01-29T20:35:13.247Z"
   },
   {
    "duration": 17,
    "start_time": "2024-01-29T20:35:13.281Z"
   },
   {
    "duration": 19,
    "start_time": "2024-01-29T20:35:13.299Z"
   },
   {
    "duration": 10,
    "start_time": "2024-01-29T20:35:13.320Z"
   },
   {
    "duration": 5,
    "start_time": "2024-01-29T20:35:13.332Z"
   },
   {
    "duration": 10,
    "start_time": "2024-01-29T20:35:13.339Z"
   },
   {
    "duration": 15,
    "start_time": "2024-01-29T20:35:13.350Z"
   },
   {
    "duration": 191,
    "start_time": "2024-01-29T20:35:13.367Z"
   },
   {
    "duration": 8,
    "start_time": "2024-01-29T20:35:13.560Z"
   },
   {
    "duration": 119,
    "start_time": "2024-01-29T20:35:13.569Z"
   },
   {
    "duration": 220,
    "start_time": "2024-01-29T20:35:13.690Z"
   },
   {
    "duration": 19,
    "start_time": "2024-01-29T20:35:13.911Z"
   },
   {
    "duration": 286,
    "start_time": "2024-01-29T20:35:13.931Z"
   },
   {
    "duration": 22,
    "start_time": "2024-01-29T20:35:14.220Z"
   },
   {
    "duration": 916,
    "start_time": "2024-01-29T20:35:14.244Z"
   },
   {
    "duration": 140,
    "start_time": "2024-01-29T20:35:15.162Z"
   },
   {
    "duration": 27,
    "start_time": "2024-01-29T20:35:15.304Z"
   },
   {
    "duration": 400,
    "start_time": "2024-01-29T20:35:26.059Z"
   },
   {
    "duration": 75,
    "start_time": "2024-01-29T20:35:41.883Z"
   },
   {
    "duration": 6,
    "start_time": "2024-01-29T20:35:56.867Z"
   },
   {
    "duration": 21,
    "start_time": "2024-01-29T20:35:59.675Z"
   },
   {
    "duration": 549,
    "start_time": "2024-01-29T20:37:58.411Z"
   },
   {
    "duration": 437,
    "start_time": "2024-01-29T20:38:19.711Z"
   },
   {
    "duration": 307,
    "start_time": "2024-01-29T20:39:08.930Z"
   },
   {
    "duration": 193,
    "start_time": "2024-01-29T20:39:24.224Z"
   },
   {
    "duration": 95,
    "start_time": "2024-01-29T20:52:13.163Z"
   },
   {
    "duration": 8,
    "start_time": "2024-01-29T20:52:33.871Z"
   },
   {
    "duration": 10,
    "start_time": "2024-01-29T20:52:46.659Z"
   },
   {
    "duration": 16,
    "start_time": "2024-01-29T20:53:07.371Z"
   },
   {
    "duration": 7,
    "start_time": "2024-01-29T20:54:39.743Z"
   },
   {
    "duration": 12,
    "start_time": "2024-01-29T20:54:46.179Z"
   },
   {
    "duration": 85,
    "start_time": "2024-01-29T20:55:29.519Z"
   },
   {
    "duration": 84,
    "start_time": "2024-01-29T20:55:41.462Z"
   },
   {
    "duration": 81,
    "start_time": "2024-01-29T20:55:49.098Z"
   },
   {
    "duration": 51,
    "start_time": "2024-01-30T07:48:05.327Z"
   },
   {
    "duration": 1369,
    "start_time": "2024-01-30T07:48:17.259Z"
   },
   {
    "duration": 323,
    "start_time": "2024-01-30T07:48:18.631Z"
   },
   {
    "duration": 19,
    "start_time": "2024-01-30T07:48:18.955Z"
   },
   {
    "duration": 19,
    "start_time": "2024-01-30T07:48:18.977Z"
   },
   {
    "duration": 16,
    "start_time": "2024-01-30T07:48:18.997Z"
   },
   {
    "duration": 6,
    "start_time": "2024-01-30T07:48:19.015Z"
   },
   {
    "duration": 8,
    "start_time": "2024-01-30T07:48:19.023Z"
   },
   {
    "duration": 7,
    "start_time": "2024-01-30T07:48:19.032Z"
   },
   {
    "duration": 9,
    "start_time": "2024-01-30T07:48:19.041Z"
   },
   {
    "duration": 43,
    "start_time": "2024-01-30T07:48:19.053Z"
   },
   {
    "duration": 9,
    "start_time": "2024-01-30T07:48:19.098Z"
   },
   {
    "duration": 21,
    "start_time": "2024-01-30T07:48:19.109Z"
   },
   {
    "duration": 10,
    "start_time": "2024-01-30T07:48:19.131Z"
   },
   {
    "duration": 13,
    "start_time": "2024-01-30T07:48:19.142Z"
   },
   {
    "duration": 36,
    "start_time": "2024-01-30T07:48:19.157Z"
   },
   {
    "duration": 9,
    "start_time": "2024-01-30T07:48:19.194Z"
   },
   {
    "duration": 195,
    "start_time": "2024-01-30T07:48:19.205Z"
   },
   {
    "duration": 8,
    "start_time": "2024-01-30T07:48:19.402Z"
   },
   {
    "duration": 126,
    "start_time": "2024-01-30T07:48:19.412Z"
   },
   {
    "duration": 263,
    "start_time": "2024-01-30T07:48:19.540Z"
   },
   {
    "duration": 20,
    "start_time": "2024-01-30T07:48:19.805Z"
   },
   {
    "duration": 323,
    "start_time": "2024-01-30T07:48:19.827Z"
   },
   {
    "duration": 23,
    "start_time": "2024-01-30T07:48:20.152Z"
   },
   {
    "duration": 1069,
    "start_time": "2024-01-30T07:48:20.177Z"
   },
   {
    "duration": 155,
    "start_time": "2024-01-30T07:48:21.249Z"
   },
   {
    "duration": 16,
    "start_time": "2024-01-30T07:48:21.406Z"
   },
   {
    "duration": 461,
    "start_time": "2024-01-30T07:48:21.424Z"
   },
   {
    "duration": 9,
    "start_time": "2024-01-30T07:48:21.888Z"
   },
   {
    "duration": 23,
    "start_time": "2024-01-30T07:48:26.387Z"
   },
   {
    "duration": 12,
    "start_time": "2024-01-30T07:48:31.998Z"
   },
   {
    "duration": 18,
    "start_time": "2024-01-30T07:48:32.251Z"
   },
   {
    "duration": 11,
    "start_time": "2024-01-30T07:48:48.939Z"
   },
   {
    "duration": 15,
    "start_time": "2024-01-30T07:54:10.130Z"
   },
   {
    "duration": 13,
    "start_time": "2024-01-30T07:54:19.950Z"
   },
   {
    "duration": 30,
    "start_time": "2024-01-30T07:54:55.109Z"
   },
   {
    "duration": 28,
    "start_time": "2024-01-30T07:55:07.594Z"
   },
   {
    "duration": 16,
    "start_time": "2024-01-30T08:01:03.513Z"
   },
   {
    "duration": 93,
    "start_time": "2024-01-30T08:06:04.971Z"
   },
   {
    "duration": 7,
    "start_time": "2024-01-30T08:06:36.592Z"
   },
   {
    "duration": 14,
    "start_time": "2024-01-30T08:07:01.744Z"
   },
   {
    "duration": 4,
    "start_time": "2024-01-30T08:07:24.300Z"
   },
   {
    "duration": 10,
    "start_time": "2024-01-30T08:07:57.195Z"
   },
   {
    "duration": 64,
    "start_time": "2024-01-30T08:08:42.672Z"
   },
   {
    "duration": 4,
    "start_time": "2024-01-30T08:08:54.283Z"
   },
   {
    "duration": 3,
    "start_time": "2024-01-30T08:09:56.315Z"
   },
   {
    "duration": 9,
    "start_time": "2024-01-30T08:11:06.132Z"
   },
   {
    "duration": 24,
    "start_time": "2024-01-30T08:11:19.787Z"
   },
   {
    "duration": 27,
    "start_time": "2024-01-30T08:12:14.978Z"
   },
   {
    "duration": 471,
    "start_time": "2024-01-30T08:16:10.362Z"
   },
   {
    "duration": 493,
    "start_time": "2024-01-30T08:16:29.802Z"
   },
   {
    "duration": 586,
    "start_time": "2024-01-30T08:16:43.342Z"
   },
   {
    "duration": 390,
    "start_time": "2024-01-30T08:18:33.245Z"
   },
   {
    "duration": 397,
    "start_time": "2024-01-30T08:19:30.449Z"
   },
   {
    "duration": 427,
    "start_time": "2024-01-30T08:21:25.517Z"
   },
   {
    "duration": 408,
    "start_time": "2024-01-30T08:22:30.333Z"
   },
   {
    "duration": 537,
    "start_time": "2024-01-30T08:22:38.597Z"
   },
   {
    "duration": 401,
    "start_time": "2024-01-30T08:24:58.428Z"
   },
   {
    "duration": 463,
    "start_time": "2024-01-30T08:25:35.472Z"
   },
   {
    "duration": 33,
    "start_time": "2024-01-30T08:26:46.352Z"
   },
   {
    "duration": 1271,
    "start_time": "2024-01-30T08:28:03.863Z"
   },
   {
    "duration": 22,
    "start_time": "2024-01-30T08:28:21.847Z"
   },
   {
    "duration": 8,
    "start_time": "2024-01-30T08:30:18.279Z"
   },
   {
    "duration": 28,
    "start_time": "2024-01-30T08:30:27.442Z"
   },
   {
    "duration": 12,
    "start_time": "2024-01-30T08:38:45.886Z"
   },
   {
    "duration": 26,
    "start_time": "2024-01-30T08:39:22.997Z"
   },
   {
    "duration": 19,
    "start_time": "2024-01-30T08:39:39.401Z"
   },
   {
    "duration": 30,
    "start_time": "2024-01-30T08:40:11.569Z"
   },
   {
    "duration": 25,
    "start_time": "2024-01-30T08:40:19.309Z"
   },
   {
    "duration": 21,
    "start_time": "2024-01-30T08:41:55.425Z"
   },
   {
    "duration": 27,
    "start_time": "2024-01-30T08:43:53.640Z"
   },
   {
    "duration": 27,
    "start_time": "2024-01-30T08:45:08.460Z"
   },
   {
    "duration": 505,
    "start_time": "2024-01-30T08:51:11.015Z"
   },
   {
    "duration": 617,
    "start_time": "2024-01-30T08:51:27.691Z"
   },
   {
    "duration": 426,
    "start_time": "2024-01-30T08:51:51.702Z"
   },
   {
    "duration": 421,
    "start_time": "2024-01-30T08:52:23.491Z"
   },
   {
    "duration": 452,
    "start_time": "2024-01-30T08:52:45.399Z"
   },
   {
    "duration": 534,
    "start_time": "2024-01-30T08:54:50.031Z"
   },
   {
    "duration": 641,
    "start_time": "2024-01-30T08:55:30.198Z"
   },
   {
    "duration": 5,
    "start_time": "2024-01-30T09:46:35.527Z"
   },
   {
    "duration": 48,
    "start_time": "2024-01-30T13:27:41.684Z"
   },
   {
    "duration": 1360,
    "start_time": "2024-01-30T13:27:56.212Z"
   },
   {
    "duration": 223,
    "start_time": "2024-01-30T13:27:57.574Z"
   },
   {
    "duration": 17,
    "start_time": "2024-01-30T13:27:57.799Z"
   },
   {
    "duration": 29,
    "start_time": "2024-01-30T13:27:57.818Z"
   },
   {
    "duration": 17,
    "start_time": "2024-01-30T13:27:57.848Z"
   },
   {
    "duration": 18,
    "start_time": "2024-01-30T13:27:57.866Z"
   },
   {
    "duration": 14,
    "start_time": "2024-01-30T13:27:57.886Z"
   },
   {
    "duration": 17,
    "start_time": "2024-01-30T13:27:57.901Z"
   },
   {
    "duration": 25,
    "start_time": "2024-01-30T13:27:57.921Z"
   },
   {
    "duration": 13,
    "start_time": "2024-01-30T13:27:57.948Z"
   },
   {
    "duration": 37,
    "start_time": "2024-01-30T13:27:57.963Z"
   },
   {
    "duration": 42,
    "start_time": "2024-01-30T13:27:58.001Z"
   },
   {
    "duration": 10,
    "start_time": "2024-01-30T13:27:58.045Z"
   },
   {
    "duration": 18,
    "start_time": "2024-01-30T13:27:58.057Z"
   },
   {
    "duration": 14,
    "start_time": "2024-01-30T13:27:58.077Z"
   },
   {
    "duration": 41,
    "start_time": "2024-01-30T13:27:58.093Z"
   },
   {
    "duration": 181,
    "start_time": "2024-01-30T13:27:58.135Z"
   },
   {
    "duration": 8,
    "start_time": "2024-01-30T13:27:58.320Z"
   },
   {
    "duration": 109,
    "start_time": "2024-01-30T13:27:58.329Z"
   },
   {
    "duration": 224,
    "start_time": "2024-01-30T13:27:58.440Z"
   },
   {
    "duration": 14,
    "start_time": "2024-01-30T13:27:58.665Z"
   },
   {
    "duration": 298,
    "start_time": "2024-01-30T13:27:58.681Z"
   },
   {
    "duration": 26,
    "start_time": "2024-01-30T13:27:58.981Z"
   },
   {
    "duration": 980,
    "start_time": "2024-01-30T13:27:59.020Z"
   },
   {
    "duration": 157,
    "start_time": "2024-01-30T13:28:00.002Z"
   },
   {
    "duration": 18,
    "start_time": "2024-01-30T13:28:00.161Z"
   },
   {
    "duration": 727,
    "start_time": "2024-01-30T13:28:00.180Z"
   },
   {
    "duration": 12,
    "start_time": "2024-01-30T13:28:00.910Z"
   },
   {
    "duration": 135,
    "start_time": "2024-01-30T13:28:00.923Z"
   },
   {
    "duration": 295,
    "start_time": "2024-01-30T13:28:01.060Z"
   },
   {
    "duration": 161,
    "start_time": "2024-01-30T13:28:01.356Z"
   },
   {
    "duration": 89,
    "start_time": "2024-01-30T13:28:01.518Z"
   },
   {
    "duration": 139,
    "start_time": "2024-01-30T13:28:01.608Z"
   },
   {
    "duration": 450,
    "start_time": "2024-01-30T13:28:01.749Z"
   },
   {
    "duration": 562,
    "start_time": "2024-01-30T13:28:02.201Z"
   },
   {
    "duration": 26,
    "start_time": "2024-01-30T13:28:02.765Z"
   },
   {
    "duration": 4,
    "start_time": "2024-01-30T13:28:10.212Z"
   },
   {
    "duration": 3,
    "start_time": "2024-01-30T13:28:13.048Z"
   },
   {
    "duration": 3,
    "start_time": "2024-01-30T13:33:50.268Z"
   },
   {
    "duration": 11,
    "start_time": "2024-01-30T13:34:21.816Z"
   },
   {
    "duration": 15,
    "start_time": "2024-01-30T13:34:38.923Z"
   },
   {
    "duration": 11,
    "start_time": "2024-01-30T13:35:06.972Z"
   },
   {
    "duration": 11,
    "start_time": "2024-01-30T13:36:14.552Z"
   },
   {
    "duration": 36,
    "start_time": "2024-01-30T13:36:14.595Z"
   },
   {
    "duration": 12,
    "start_time": "2024-01-30T13:36:16.767Z"
   },
   {
    "duration": 8,
    "start_time": "2024-01-30T13:38:06.211Z"
   },
   {
    "duration": 77,
    "start_time": "2024-01-30T13:56:50.990Z"
   },
   {
    "duration": 18,
    "start_time": "2024-01-30T14:10:09.603Z"
   },
   {
    "duration": 23,
    "start_time": "2024-01-30T14:10:30.595Z"
   },
   {
    "duration": 13,
    "start_time": "2024-01-30T14:12:26.458Z"
   },
   {
    "duration": 23,
    "start_time": "2024-01-30T14:12:35.290Z"
   },
   {
    "duration": 4,
    "start_time": "2024-01-30T14:59:12.049Z"
   },
   {
    "duration": 134,
    "start_time": "2024-01-30T14:59:36.553Z"
   },
   {
    "duration": 106,
    "start_time": "2024-01-30T15:00:07.680Z"
   },
   {
    "duration": 69,
    "start_time": "2024-01-30T15:00:20.165Z"
   },
   {
    "duration": 97,
    "start_time": "2024-01-30T15:00:36.348Z"
   },
   {
    "duration": 132,
    "start_time": "2024-01-30T15:00:57.296Z"
   },
   {
    "duration": 87,
    "start_time": "2024-01-30T15:01:16.480Z"
   },
   {
    "duration": 80,
    "start_time": "2024-01-30T15:01:26.080Z"
   },
   {
    "duration": 113,
    "start_time": "2024-01-30T15:01:50.735Z"
   },
   {
    "duration": 1215,
    "start_time": "2024-01-30T15:02:02.306Z"
   },
   {
    "duration": 107,
    "start_time": "2024-01-30T15:02:03.523Z"
   },
   {
    "duration": 17,
    "start_time": "2024-01-30T15:02:03.632Z"
   },
   {
    "duration": 35,
    "start_time": "2024-01-30T15:02:03.651Z"
   },
   {
    "duration": 20,
    "start_time": "2024-01-30T15:02:03.687Z"
   },
   {
    "duration": 45,
    "start_time": "2024-01-30T15:02:03.709Z"
   },
   {
    "duration": 50,
    "start_time": "2024-01-30T15:02:03.755Z"
   },
   {
    "duration": 42,
    "start_time": "2024-01-30T15:02:03.807Z"
   },
   {
    "duration": 39,
    "start_time": "2024-01-30T15:02:03.851Z"
   },
   {
    "duration": 43,
    "start_time": "2024-01-30T15:02:03.893Z"
   },
   {
    "duration": 55,
    "start_time": "2024-01-30T15:02:03.937Z"
   },
   {
    "duration": 39,
    "start_time": "2024-01-30T15:02:03.993Z"
   },
   {
    "duration": 8,
    "start_time": "2024-01-30T15:02:04.034Z"
   },
   {
    "duration": 35,
    "start_time": "2024-01-30T15:02:04.044Z"
   },
   {
    "duration": 15,
    "start_time": "2024-01-30T15:02:04.081Z"
   },
   {
    "duration": 33,
    "start_time": "2024-01-30T15:02:04.097Z"
   },
   {
    "duration": 177,
    "start_time": "2024-01-30T15:02:04.131Z"
   },
   {
    "duration": 13,
    "start_time": "2024-01-30T15:02:04.310Z"
   },
   {
    "duration": 121,
    "start_time": "2024-01-30T15:02:04.325Z"
   },
   {
    "duration": 224,
    "start_time": "2024-01-30T15:02:04.447Z"
   },
   {
    "duration": 16,
    "start_time": "2024-01-30T15:02:04.673Z"
   },
   {
    "duration": 309,
    "start_time": "2024-01-30T15:02:04.691Z"
   },
   {
    "duration": 27,
    "start_time": "2024-01-30T15:02:05.001Z"
   },
   {
    "duration": 1012,
    "start_time": "2024-01-30T15:02:05.029Z"
   },
   {
    "duration": 162,
    "start_time": "2024-01-30T15:02:06.043Z"
   },
   {
    "duration": 20,
    "start_time": "2024-01-30T15:02:06.207Z"
   },
   {
    "duration": 436,
    "start_time": "2024-01-30T15:02:06.229Z"
   },
   {
    "duration": 5,
    "start_time": "2024-01-30T15:02:06.668Z"
   },
   {
    "duration": 25,
    "start_time": "2024-01-30T15:02:06.675Z"
   },
   {
    "duration": 25,
    "start_time": "2024-01-30T15:02:06.701Z"
   },
   {
    "duration": 57,
    "start_time": "2024-01-30T15:02:06.727Z"
   },
   {
    "duration": 17,
    "start_time": "2024-01-30T15:02:06.785Z"
   },
   {
    "duration": 23,
    "start_time": "2024-01-30T15:02:06.804Z"
   },
   {
    "duration": 384,
    "start_time": "2024-01-30T15:02:06.828Z"
   },
   {
    "duration": 493,
    "start_time": "2024-01-30T15:02:07.214Z"
   },
   {
    "duration": 31,
    "start_time": "2024-01-30T15:02:07.708Z"
   },
   {
    "duration": 4,
    "start_time": "2024-01-30T15:02:07.740Z"
   },
   {
    "duration": 187,
    "start_time": "2024-01-30T15:02:11.743Z"
   },
   {
    "duration": 5,
    "start_time": "2024-01-30T15:02:44.402Z"
   },
   {
    "duration": 5,
    "start_time": "2024-01-30T15:02:58.432Z"
   },
   {
    "duration": 1712,
    "start_time": "2024-01-30T15:03:08.226Z"
   },
   {
    "duration": 13,
    "start_time": "2024-01-30T15:03:53.973Z"
   },
   {
    "duration": 1462,
    "start_time": "2024-01-30T15:06:54.163Z"
   },
   {
    "duration": 1528,
    "start_time": "2024-01-30T15:07:39.928Z"
   },
   {
    "duration": 1639,
    "start_time": "2024-01-30T15:08:42.235Z"
   },
   {
    "duration": 1754,
    "start_time": "2024-01-30T15:09:46.443Z"
   },
   {
    "duration": 81,
    "start_time": "2024-01-30T15:10:26.934Z"
   },
   {
    "duration": 10,
    "start_time": "2024-01-30T15:10:35.278Z"
   },
   {
    "duration": 12,
    "start_time": "2024-01-30T15:10:47.270Z"
   },
   {
    "duration": 11,
    "start_time": "2024-01-30T15:11:18.442Z"
   },
   {
    "duration": 14,
    "start_time": "2024-01-30T15:11:43.553Z"
   },
   {
    "duration": 71,
    "start_time": "2024-01-30T15:13:32.412Z"
   },
   {
    "duration": 11,
    "start_time": "2024-01-30T15:13:50.096Z"
   },
   {
    "duration": 18,
    "start_time": "2024-01-30T15:14:28.520Z"
   },
   {
    "duration": 707,
    "start_time": "2024-01-30T15:25:45.783Z"
   },
   {
    "duration": 146,
    "start_time": "2024-01-30T15:25:53.315Z"
   },
   {
    "duration": 1209,
    "start_time": "2024-01-30T17:03:39.199Z"
   },
   {
    "duration": 210,
    "start_time": "2024-01-30T17:03:40.410Z"
   },
   {
    "duration": 17,
    "start_time": "2024-01-30T17:03:40.622Z"
   },
   {
    "duration": 24,
    "start_time": "2024-01-30T17:03:40.641Z"
   },
   {
    "duration": 13,
    "start_time": "2024-01-30T17:03:40.667Z"
   },
   {
    "duration": 6,
    "start_time": "2024-01-30T17:03:40.681Z"
   },
   {
    "duration": 14,
    "start_time": "2024-01-30T17:03:40.689Z"
   },
   {
    "duration": 12,
    "start_time": "2024-01-30T17:03:40.705Z"
   },
   {
    "duration": 29,
    "start_time": "2024-01-30T17:03:40.718Z"
   },
   {
    "duration": 19,
    "start_time": "2024-01-30T17:03:40.750Z"
   },
   {
    "duration": 31,
    "start_time": "2024-01-30T17:03:40.770Z"
   },
   {
    "duration": 18,
    "start_time": "2024-01-30T17:03:40.802Z"
   },
   {
    "duration": 8,
    "start_time": "2024-01-30T17:03:40.821Z"
   },
   {
    "duration": 21,
    "start_time": "2024-01-30T17:03:40.830Z"
   },
   {
    "duration": 18,
    "start_time": "2024-01-30T17:03:40.852Z"
   },
   {
    "duration": 20,
    "start_time": "2024-01-30T17:03:40.872Z"
   },
   {
    "duration": 186,
    "start_time": "2024-01-30T17:03:40.893Z"
   },
   {
    "duration": 7,
    "start_time": "2024-01-30T17:03:41.080Z"
   },
   {
    "duration": 106,
    "start_time": "2024-01-30T17:03:41.088Z"
   },
   {
    "duration": 202,
    "start_time": "2024-01-30T17:03:41.195Z"
   },
   {
    "duration": 13,
    "start_time": "2024-01-30T17:03:41.398Z"
   },
   {
    "duration": 278,
    "start_time": "2024-01-30T17:03:41.412Z"
   },
   {
    "duration": 19,
    "start_time": "2024-01-30T17:03:41.692Z"
   },
   {
    "duration": 907,
    "start_time": "2024-01-30T17:03:41.713Z"
   },
   {
    "duration": 149,
    "start_time": "2024-01-30T17:03:42.622Z"
   },
   {
    "duration": 15,
    "start_time": "2024-01-30T17:03:42.772Z"
   },
   {
    "duration": 431,
    "start_time": "2024-01-30T17:03:42.788Z"
   },
   {
    "duration": 6,
    "start_time": "2024-01-30T17:03:43.221Z"
   },
   {
    "duration": 25,
    "start_time": "2024-01-30T17:03:43.228Z"
   },
   {
    "duration": 14,
    "start_time": "2024-01-30T17:03:43.266Z"
   },
   {
    "duration": 13,
    "start_time": "2024-01-30T17:03:43.281Z"
   },
   {
    "duration": 10,
    "start_time": "2024-01-30T17:03:43.296Z"
   },
   {
    "duration": 19,
    "start_time": "2024-01-30T17:03:43.307Z"
   },
   {
    "duration": 395,
    "start_time": "2024-01-30T17:03:43.328Z"
   },
   {
    "duration": 451,
    "start_time": "2024-01-30T17:03:43.724Z"
   },
   {
    "duration": 23,
    "start_time": "2024-01-30T17:03:44.176Z"
   },
   {
    "duration": 11,
    "start_time": "2024-01-30T17:03:44.200Z"
   },
   {
    "duration": 101,
    "start_time": "2024-01-30T17:03:56.044Z"
   },
   {
    "duration": 7,
    "start_time": "2024-01-30T17:04:10.119Z"
   },
   {
    "duration": 7,
    "start_time": "2024-01-30T17:04:57.191Z"
   },
   {
    "duration": 8,
    "start_time": "2024-01-30T17:05:15.518Z"
   },
   {
    "duration": 1017,
    "start_time": "2024-01-30T17:06:07.593Z"
   },
   {
    "duration": 86,
    "start_time": "2024-01-30T17:06:08.612Z"
   },
   {
    "duration": 15,
    "start_time": "2024-01-30T17:06:08.700Z"
   },
   {
    "duration": 22,
    "start_time": "2024-01-30T17:06:08.717Z"
   },
   {
    "duration": 48,
    "start_time": "2024-01-30T17:06:08.741Z"
   },
   {
    "duration": 26,
    "start_time": "2024-01-30T17:06:08.791Z"
   },
   {
    "duration": 22,
    "start_time": "2024-01-30T17:06:08.819Z"
   },
   {
    "duration": 27,
    "start_time": "2024-01-30T17:06:08.842Z"
   },
   {
    "duration": 23,
    "start_time": "2024-01-30T17:06:08.871Z"
   },
   {
    "duration": 35,
    "start_time": "2024-01-30T17:06:08.897Z"
   },
   {
    "duration": 26,
    "start_time": "2024-01-30T17:06:08.933Z"
   },
   {
    "duration": 36,
    "start_time": "2024-01-30T17:06:08.961Z"
   },
   {
    "duration": 25,
    "start_time": "2024-01-30T17:06:08.999Z"
   },
   {
    "duration": 19,
    "start_time": "2024-01-30T17:06:09.026Z"
   },
   {
    "duration": 36,
    "start_time": "2024-01-30T17:06:09.047Z"
   },
   {
    "duration": 27,
    "start_time": "2024-01-30T17:06:09.086Z"
   },
   {
    "duration": 180,
    "start_time": "2024-01-30T17:06:09.115Z"
   },
   {
    "duration": 10,
    "start_time": "2024-01-30T17:06:09.297Z"
   },
   {
    "duration": 125,
    "start_time": "2024-01-30T17:06:09.308Z"
   },
   {
    "duration": 228,
    "start_time": "2024-01-30T17:06:09.434Z"
   },
   {
    "duration": 14,
    "start_time": "2024-01-30T17:06:09.665Z"
   },
   {
    "duration": 275,
    "start_time": "2024-01-30T17:06:09.681Z"
   },
   {
    "duration": 26,
    "start_time": "2024-01-30T17:06:09.957Z"
   },
   {
    "duration": 948,
    "start_time": "2024-01-30T17:06:09.984Z"
   },
   {
    "duration": 140,
    "start_time": "2024-01-30T17:06:10.934Z"
   },
   {
    "duration": 14,
    "start_time": "2024-01-30T17:06:11.075Z"
   },
   {
    "duration": 420,
    "start_time": "2024-01-30T17:06:11.091Z"
   },
   {
    "duration": 6,
    "start_time": "2024-01-30T17:06:11.514Z"
   },
   {
    "duration": 53,
    "start_time": "2024-01-30T17:06:11.521Z"
   },
   {
    "duration": 35,
    "start_time": "2024-01-30T17:06:11.575Z"
   },
   {
    "duration": 14,
    "start_time": "2024-01-30T17:06:11.611Z"
   },
   {
    "duration": 10,
    "start_time": "2024-01-30T17:06:11.626Z"
   },
   {
    "duration": 21,
    "start_time": "2024-01-30T17:06:11.638Z"
   },
   {
    "duration": 377,
    "start_time": "2024-01-30T17:06:11.661Z"
   },
   {
    "duration": 461,
    "start_time": "2024-01-30T17:06:12.040Z"
   },
   {
    "duration": 25,
    "start_time": "2024-01-30T17:06:12.502Z"
   },
   {
    "duration": 30,
    "start_time": "2024-01-30T17:06:12.528Z"
   },
   {
    "duration": 93,
    "start_time": "2024-01-30T17:06:40.994Z"
   },
   {
    "duration": 8,
    "start_time": "2024-01-30T17:09:10.986Z"
   },
   {
    "duration": 7,
    "start_time": "2024-01-30T17:09:26.271Z"
   },
   {
    "duration": 8,
    "start_time": "2024-01-30T17:09:54.282Z"
   },
   {
    "duration": 8,
    "start_time": "2024-01-30T17:10:01.354Z"
   },
   {
    "duration": 11,
    "start_time": "2024-01-30T17:10:20.102Z"
   },
   {
    "duration": 7,
    "start_time": "2024-01-30T17:10:51.978Z"
   },
   {
    "duration": 13,
    "start_time": "2024-01-30T17:11:30.481Z"
   },
   {
    "duration": 15,
    "start_time": "2024-01-30T17:11:55.245Z"
   },
   {
    "duration": 65,
    "start_time": "2024-01-30T17:13:14.852Z"
   },
   {
    "duration": 15,
    "start_time": "2024-01-30T17:13:29.072Z"
   },
   {
    "duration": 17,
    "start_time": "2024-01-30T17:13:32.624Z"
   },
   {
    "duration": 18,
    "start_time": "2024-01-30T17:14:04.372Z"
   },
   {
    "duration": 4,
    "start_time": "2024-01-30T17:14:35.779Z"
   },
   {
    "duration": 15,
    "start_time": "2024-01-30T17:15:02.772Z"
   },
   {
    "duration": 13,
    "start_time": "2024-01-30T17:15:17.991Z"
   },
   {
    "duration": 3,
    "start_time": "2024-01-30T17:15:26.511Z"
   },
   {
    "duration": 1184,
    "start_time": "2024-01-30T17:17:41.186Z"
   },
   {
    "duration": 1227,
    "start_time": "2024-01-30T17:17:44.886Z"
   },
   {
    "duration": 4,
    "start_time": "2024-01-30T17:18:15.830Z"
   },
   {
    "duration": 8,
    "start_time": "2024-01-30T17:20:47.185Z"
   },
   {
    "duration": 1513,
    "start_time": "2024-01-30T17:21:04.029Z"
   },
   {
    "duration": 20,
    "start_time": "2024-01-30T17:21:29.413Z"
   },
   {
    "duration": 13,
    "start_time": "2024-01-30T17:21:33.992Z"
   },
   {
    "duration": 16,
    "start_time": "2024-01-30T17:21:46.992Z"
   },
   {
    "duration": 15,
    "start_time": "2024-01-30T17:21:50.513Z"
   },
   {
    "duration": 17,
    "start_time": "2024-01-30T17:22:16.288Z"
   },
   {
    "duration": 14,
    "start_time": "2024-01-30T17:22:18.896Z"
   },
   {
    "duration": 20,
    "start_time": "2024-01-30T17:24:01.651Z"
   },
   {
    "duration": 12,
    "start_time": "2024-01-30T17:24:04.203Z"
   },
   {
    "duration": 19,
    "start_time": "2024-01-30T17:25:35.235Z"
   },
   {
    "duration": 3,
    "start_time": "2024-01-30T17:25:39.255Z"
   },
   {
    "duration": 20,
    "start_time": "2024-01-30T17:25:55.811Z"
   },
   {
    "duration": 21,
    "start_time": "2024-01-30T17:30:58.334Z"
   },
   {
    "duration": 12,
    "start_time": "2024-01-30T17:31:01.681Z"
   },
   {
    "duration": 21,
    "start_time": "2024-01-30T17:31:32.361Z"
   },
   {
    "duration": 10,
    "start_time": "2024-01-30T17:31:45.741Z"
   },
   {
    "duration": 27,
    "start_time": "2024-01-30T17:32:42.429Z"
   },
   {
    "duration": 28,
    "start_time": "2024-01-30T17:33:35.161Z"
   },
   {
    "duration": 28,
    "start_time": "2024-01-30T17:33:43.969Z"
   },
   {
    "duration": 70,
    "start_time": "2024-01-30T17:34:34.538Z"
   },
   {
    "duration": 41,
    "start_time": "2024-01-30T17:34:40.757Z"
   },
   {
    "duration": 36,
    "start_time": "2024-01-30T17:35:22.090Z"
   },
   {
    "duration": 13,
    "start_time": "2024-01-30T17:38:25.072Z"
   },
   {
    "duration": 28,
    "start_time": "2024-01-30T17:38:43.500Z"
   },
   {
    "duration": 12,
    "start_time": "2024-01-30T17:40:17.252Z"
   },
   {
    "duration": 29,
    "start_time": "2024-01-30T17:40:53.701Z"
   },
   {
    "duration": 28,
    "start_time": "2024-01-30T17:41:23.417Z"
   },
   {
    "duration": 12,
    "start_time": "2024-01-30T17:41:36.225Z"
   },
   {
    "duration": 4,
    "start_time": "2024-01-30T17:44:59.422Z"
   },
   {
    "duration": 26,
    "start_time": "2024-01-30T17:55:53.155Z"
   },
   {
    "duration": 10,
    "start_time": "2024-01-30T19:15:53.328Z"
   },
   {
    "duration": 13,
    "start_time": "2024-01-30T19:16:04.951Z"
   },
   {
    "duration": 20,
    "start_time": "2024-01-30T19:16:45.119Z"
   },
   {
    "duration": 74,
    "start_time": "2024-01-30T19:28:19.746Z"
   },
   {
    "duration": 5,
    "start_time": "2024-01-30T19:28:29.014Z"
   },
   {
    "duration": 4,
    "start_time": "2024-01-30T19:33:54.908Z"
   },
   {
    "duration": 4,
    "start_time": "2024-01-30T19:34:23.944Z"
   },
   {
    "duration": 3,
    "start_time": "2024-01-30T19:34:30.181Z"
   },
   {
    "duration": 4,
    "start_time": "2024-01-30T19:34:49.380Z"
   },
   {
    "duration": 3,
    "start_time": "2024-01-30T19:34:53.453Z"
   },
   {
    "duration": 4,
    "start_time": "2024-01-30T19:34:54.780Z"
   },
   {
    "duration": 4,
    "start_time": "2024-01-30T19:35:17.165Z"
   },
   {
    "duration": 4,
    "start_time": "2024-01-30T19:35:19.320Z"
   },
   {
    "duration": 5,
    "start_time": "2024-01-30T19:37:19.316Z"
   },
   {
    "duration": 85,
    "start_time": "2024-01-30T19:42:17.420Z"
   },
   {
    "duration": 5,
    "start_time": "2024-01-30T19:44:31.071Z"
   },
   {
    "duration": 87,
    "start_time": "2024-01-30T19:51:43.937Z"
   },
   {
    "duration": 5,
    "start_time": "2024-01-30T19:51:49.757Z"
   },
   {
    "duration": 1226,
    "start_time": "2024-01-31T08:09:37.961Z"
   },
   {
    "duration": 203,
    "start_time": "2024-01-31T08:09:39.188Z"
   },
   {
    "duration": 16,
    "start_time": "2024-01-31T08:09:39.393Z"
   },
   {
    "duration": 17,
    "start_time": "2024-01-31T08:09:39.410Z"
   },
   {
    "duration": 11,
    "start_time": "2024-01-31T08:09:39.428Z"
   },
   {
    "duration": 5,
    "start_time": "2024-01-31T08:09:39.441Z"
   },
   {
    "duration": 13,
    "start_time": "2024-01-31T08:09:39.447Z"
   },
   {
    "duration": 14,
    "start_time": "2024-01-31T08:09:39.461Z"
   },
   {
    "duration": 16,
    "start_time": "2024-01-31T08:09:39.476Z"
   },
   {
    "duration": 11,
    "start_time": "2024-01-31T08:09:39.494Z"
   },
   {
    "duration": 8,
    "start_time": "2024-01-31T08:09:39.506Z"
   },
   {
    "duration": 24,
    "start_time": "2024-01-31T08:09:39.515Z"
   },
   {
    "duration": 8,
    "start_time": "2024-01-31T08:09:39.540Z"
   },
   {
    "duration": 6,
    "start_time": "2024-01-31T08:09:39.549Z"
   },
   {
    "duration": 17,
    "start_time": "2024-01-31T08:09:39.556Z"
   },
   {
    "duration": 18,
    "start_time": "2024-01-31T08:09:39.575Z"
   },
   {
    "duration": 178,
    "start_time": "2024-01-31T08:09:39.594Z"
   },
   {
    "duration": 10,
    "start_time": "2024-01-31T08:09:39.774Z"
   },
   {
    "duration": 123,
    "start_time": "2024-01-31T08:09:39.786Z"
   },
   {
    "duration": 200,
    "start_time": "2024-01-31T08:09:39.911Z"
   },
   {
    "duration": 22,
    "start_time": "2024-01-31T08:09:40.113Z"
   },
   {
    "duration": 259,
    "start_time": "2024-01-31T08:09:40.136Z"
   },
   {
    "duration": 19,
    "start_time": "2024-01-31T08:09:40.396Z"
   },
   {
    "duration": 898,
    "start_time": "2024-01-31T08:09:40.416Z"
   },
   {
    "duration": 126,
    "start_time": "2024-01-31T08:09:41.315Z"
   },
   {
    "duration": 13,
    "start_time": "2024-01-31T08:09:41.443Z"
   },
   {
    "duration": 386,
    "start_time": "2024-01-31T08:09:41.458Z"
   },
   {
    "duration": 5,
    "start_time": "2024-01-31T08:09:41.847Z"
   },
   {
    "duration": 19,
    "start_time": "2024-01-31T08:09:41.853Z"
   },
   {
    "duration": 13,
    "start_time": "2024-01-31T08:09:41.873Z"
   },
   {
    "duration": 11,
    "start_time": "2024-01-31T08:09:41.887Z"
   },
   {
    "duration": 33,
    "start_time": "2024-01-31T08:09:41.900Z"
   },
   {
    "duration": 18,
    "start_time": "2024-01-31T08:09:41.934Z"
   },
   {
    "duration": 338,
    "start_time": "2024-01-31T08:09:41.954Z"
   },
   {
    "duration": 471,
    "start_time": "2024-01-31T08:09:42.293Z"
   },
   {
    "duration": 25,
    "start_time": "2024-01-31T08:09:42.766Z"
   },
   {
    "duration": 12,
    "start_time": "2024-01-31T08:09:42.793Z"
   },
   {
    "duration": 40,
    "start_time": "2024-01-31T08:09:42.806Z"
   },
   {
    "duration": 12,
    "start_time": "2024-01-31T08:09:42.848Z"
   },
   {
    "duration": 110,
    "start_time": "2024-01-31T08:09:42.861Z"
   },
   {
    "duration": 0,
    "start_time": "2024-01-31T08:09:42.972Z"
   },
   {
    "duration": 0,
    "start_time": "2024-01-31T08:09:42.973Z"
   },
   {
    "duration": 0,
    "start_time": "2024-01-31T08:09:42.974Z"
   },
   {
    "duration": 5,
    "start_time": "2024-01-31T08:10:17.061Z"
   },
   {
    "duration": 18,
    "start_time": "2024-01-31T08:12:07.430Z"
   },
   {
    "duration": 5,
    "start_time": "2024-01-31T08:12:10.993Z"
   },
   {
    "duration": 10,
    "start_time": "2024-01-31T08:13:43.404Z"
   },
   {
    "duration": 4,
    "start_time": "2024-01-31T08:15:13.116Z"
   },
   {
    "duration": 5,
    "start_time": "2024-01-31T08:15:43.972Z"
   },
   {
    "duration": 4,
    "start_time": "2024-01-31T08:16:03.272Z"
   },
   {
    "duration": 4,
    "start_time": "2024-01-31T08:16:21.816Z"
   },
   {
    "duration": 5,
    "start_time": "2024-01-31T08:16:32.127Z"
   },
   {
    "duration": 5,
    "start_time": "2024-01-31T08:17:03.259Z"
   },
   {
    "duration": 5,
    "start_time": "2024-01-31T08:25:12.211Z"
   },
   {
    "duration": 1078,
    "start_time": "2024-01-31T09:47:53.734Z"
   },
   {
    "duration": 82,
    "start_time": "2024-01-31T09:47:54.814Z"
   },
   {
    "duration": 15,
    "start_time": "2024-01-31T09:47:54.897Z"
   },
   {
    "duration": 33,
    "start_time": "2024-01-31T09:47:54.914Z"
   },
   {
    "duration": 33,
    "start_time": "2024-01-31T09:47:54.949Z"
   },
   {
    "duration": 17,
    "start_time": "2024-01-31T09:47:54.983Z"
   },
   {
    "duration": 35,
    "start_time": "2024-01-31T09:47:55.001Z"
   },
   {
    "duration": 38,
    "start_time": "2024-01-31T09:47:55.037Z"
   },
   {
    "duration": 48,
    "start_time": "2024-01-31T09:47:55.076Z"
   },
   {
    "duration": 18,
    "start_time": "2024-01-31T09:47:55.127Z"
   },
   {
    "duration": 45,
    "start_time": "2024-01-31T09:47:55.147Z"
   },
   {
    "duration": 51,
    "start_time": "2024-01-31T09:47:55.194Z"
   },
   {
    "duration": 49,
    "start_time": "2024-01-31T09:47:55.246Z"
   },
   {
    "duration": 36,
    "start_time": "2024-01-31T09:47:55.297Z"
   },
   {
    "duration": 42,
    "start_time": "2024-01-31T09:47:55.334Z"
   },
   {
    "duration": 57,
    "start_time": "2024-01-31T09:47:55.378Z"
   },
   {
    "duration": 214,
    "start_time": "2024-01-31T09:47:55.437Z"
   },
   {
    "duration": 7,
    "start_time": "2024-01-31T09:47:55.653Z"
   },
   {
    "duration": 137,
    "start_time": "2024-01-31T09:47:55.661Z"
   },
   {
    "duration": 210,
    "start_time": "2024-01-31T09:47:55.800Z"
   },
   {
    "duration": 22,
    "start_time": "2024-01-31T09:47:56.011Z"
   },
   {
    "duration": 257,
    "start_time": "2024-01-31T09:47:56.034Z"
   },
   {
    "duration": 19,
    "start_time": "2024-01-31T09:47:56.293Z"
   },
   {
    "duration": 888,
    "start_time": "2024-01-31T09:47:56.314Z"
   },
   {
    "duration": 132,
    "start_time": "2024-01-31T09:47:57.203Z"
   },
   {
    "duration": 14,
    "start_time": "2024-01-31T09:47:57.337Z"
   },
   {
    "duration": 405,
    "start_time": "2024-01-31T09:47:57.353Z"
   },
   {
    "duration": 6,
    "start_time": "2024-01-31T09:47:57.761Z"
   },
   {
    "duration": 23,
    "start_time": "2024-01-31T09:47:57.768Z"
   },
   {
    "duration": 18,
    "start_time": "2024-01-31T09:47:57.793Z"
   },
   {
    "duration": 32,
    "start_time": "2024-01-31T09:47:57.813Z"
   },
   {
    "duration": 13,
    "start_time": "2024-01-31T09:47:57.846Z"
   },
   {
    "duration": 29,
    "start_time": "2024-01-31T09:47:57.860Z"
   },
   {
    "duration": 394,
    "start_time": "2024-01-31T09:47:57.890Z"
   },
   {
    "duration": 435,
    "start_time": "2024-01-31T09:47:58.285Z"
   },
   {
    "duration": 22,
    "start_time": "2024-01-31T09:47:58.722Z"
   },
   {
    "duration": 18,
    "start_time": "2024-01-31T09:47:58.746Z"
   },
   {
    "duration": 21,
    "start_time": "2024-01-31T09:48:25.047Z"
   },
   {
    "duration": 12,
    "start_time": "2024-01-31T09:48:27.083Z"
   },
   {
    "duration": 12,
    "start_time": "2024-01-31T09:58:10.101Z"
   },
   {
    "duration": 1028,
    "start_time": "2024-01-31T10:05:15.065Z"
   },
   {
    "duration": 82,
    "start_time": "2024-01-31T10:05:16.095Z"
   },
   {
    "duration": 15,
    "start_time": "2024-01-31T10:05:16.179Z"
   },
   {
    "duration": 66,
    "start_time": "2024-01-31T10:05:16.195Z"
   },
   {
    "duration": 12,
    "start_time": "2024-01-31T10:05:16.263Z"
   },
   {
    "duration": 25,
    "start_time": "2024-01-31T10:05:16.276Z"
   },
   {
    "duration": 46,
    "start_time": "2024-01-31T10:05:16.302Z"
   },
   {
    "duration": 33,
    "start_time": "2024-01-31T10:05:16.349Z"
   },
   {
    "duration": 43,
    "start_time": "2024-01-31T10:05:16.383Z"
   },
   {
    "duration": 24,
    "start_time": "2024-01-31T10:05:16.429Z"
   },
   {
    "duration": 36,
    "start_time": "2024-01-31T10:05:16.454Z"
   },
   {
    "duration": 41,
    "start_time": "2024-01-31T10:05:16.492Z"
   },
   {
    "duration": 15,
    "start_time": "2024-01-31T10:05:16.534Z"
   },
   {
    "duration": 37,
    "start_time": "2024-01-31T10:05:16.550Z"
   },
   {
    "duration": 42,
    "start_time": "2024-01-31T10:05:16.589Z"
   },
   {
    "duration": 37,
    "start_time": "2024-01-31T10:05:16.632Z"
   },
   {
    "duration": 176,
    "start_time": "2024-01-31T10:05:16.671Z"
   },
   {
    "duration": 7,
    "start_time": "2024-01-31T10:05:16.848Z"
   },
   {
    "duration": 123,
    "start_time": "2024-01-31T10:05:16.856Z"
   },
   {
    "duration": 215,
    "start_time": "2024-01-31T10:05:16.980Z"
   },
   {
    "duration": 13,
    "start_time": "2024-01-31T10:05:17.197Z"
   },
   {
    "duration": 300,
    "start_time": "2024-01-31T10:05:17.212Z"
   },
   {
    "duration": 28,
    "start_time": "2024-01-31T10:05:17.514Z"
   },
   {
    "duration": 904,
    "start_time": "2024-01-31T10:05:17.544Z"
   },
   {
    "duration": 140,
    "start_time": "2024-01-31T10:05:18.449Z"
   },
   {
    "duration": 15,
    "start_time": "2024-01-31T10:05:18.590Z"
   },
   {
    "duration": 404,
    "start_time": "2024-01-31T10:05:18.606Z"
   },
   {
    "duration": 5,
    "start_time": "2024-01-31T10:05:19.013Z"
   },
   {
    "duration": 28,
    "start_time": "2024-01-31T10:05:19.020Z"
   },
   {
    "duration": 15,
    "start_time": "2024-01-31T10:05:19.049Z"
   },
   {
    "duration": 19,
    "start_time": "2024-01-31T10:05:19.066Z"
   },
   {
    "duration": 13,
    "start_time": "2024-01-31T10:05:19.087Z"
   },
   {
    "duration": 33,
    "start_time": "2024-01-31T10:05:19.102Z"
   },
   {
    "duration": 352,
    "start_time": "2024-01-31T10:05:19.136Z"
   },
   {
    "duration": 453,
    "start_time": "2024-01-31T10:05:19.489Z"
   },
   {
    "duration": 31,
    "start_time": "2024-01-31T10:05:19.944Z"
   },
   {
    "duration": 11,
    "start_time": "2024-01-31T10:05:19.977Z"
   },
   {
    "duration": 43,
    "start_time": "2024-01-31T10:05:19.990Z"
   },
   {
    "duration": 4,
    "start_time": "2024-01-31T10:05:20.034Z"
   },
   {
    "duration": 43,
    "start_time": "2024-01-31T10:05:20.040Z"
   },
   {
    "duration": 8,
    "start_time": "2024-01-31T10:05:20.085Z"
   },
   {
    "duration": 6,
    "start_time": "2024-01-31T10:05:31.902Z"
   },
   {
    "duration": 4,
    "start_time": "2024-01-31T10:05:38.993Z"
   },
   {
    "duration": 20,
    "start_time": "2024-01-31T10:06:14.513Z"
   },
   {
    "duration": 12,
    "start_time": "2024-01-31T10:06:42.801Z"
   },
   {
    "duration": 12,
    "start_time": "2024-01-31T10:08:30.794Z"
   },
   {
    "duration": 87,
    "start_time": "2024-01-31T10:19:54.606Z"
   },
   {
    "duration": 8,
    "start_time": "2024-01-31T10:20:04.962Z"
   },
   {
    "duration": 12,
    "start_time": "2024-01-31T10:20:07.250Z"
   },
   {
    "duration": 14,
    "start_time": "2024-01-31T10:20:27.463Z"
   },
   {
    "duration": 15,
    "start_time": "2024-01-31T10:20:43.986Z"
   },
   {
    "duration": 13,
    "start_time": "2024-01-31T10:29:01.886Z"
   },
   {
    "duration": 8,
    "start_time": "2024-01-31T10:29:14.685Z"
   },
   {
    "duration": 12,
    "start_time": "2024-01-31T10:29:21.817Z"
   },
   {
    "duration": 10,
    "start_time": "2024-01-31T10:30:13.369Z"
   },
   {
    "duration": 10,
    "start_time": "2024-01-31T10:30:43.642Z"
   },
   {
    "duration": 28,
    "start_time": "2024-01-31T10:30:52.417Z"
   },
   {
    "duration": 25,
    "start_time": "2024-01-31T10:31:22.981Z"
   },
   {
    "duration": 25,
    "start_time": "2024-01-31T10:31:40.162Z"
   },
   {
    "duration": 8,
    "start_time": "2024-01-31T10:32:27.010Z"
   },
   {
    "duration": 8,
    "start_time": "2024-01-31T10:33:09.825Z"
   },
   {
    "duration": 9,
    "start_time": "2024-01-31T10:34:54.697Z"
   },
   {
    "duration": 8,
    "start_time": "2024-01-31T10:35:29.702Z"
   },
   {
    "duration": 9,
    "start_time": "2024-01-31T10:36:12.337Z"
   },
   {
    "duration": 11,
    "start_time": "2024-01-31T10:36:23.422Z"
   },
   {
    "duration": 11,
    "start_time": "2024-01-31T10:36:42.534Z"
   },
   {
    "duration": 9,
    "start_time": "2024-01-31T10:48:19.998Z"
   },
   {
    "duration": 10,
    "start_time": "2024-01-31T10:48:58.590Z"
   },
   {
    "duration": 5,
    "start_time": "2024-01-31T10:49:21.513Z"
   },
   {
    "duration": 10,
    "start_time": "2024-01-31T10:49:31.121Z"
   },
   {
    "duration": 5,
    "start_time": "2024-01-31T10:49:54.329Z"
   },
   {
    "duration": 12,
    "start_time": "2024-01-31T10:56:09.313Z"
   },
   {
    "duration": 102,
    "start_time": "2024-01-31T11:45:07.845Z"
   },
   {
    "duration": 73,
    "start_time": "2024-01-31T11:59:25.696Z"
   },
   {
    "duration": 3,
    "start_time": "2024-01-31T12:27:26.458Z"
   },
   {
    "duration": 11,
    "start_time": "2024-01-31T12:43:14.917Z"
   },
   {
    "duration": 9,
    "start_time": "2024-01-31T12:43:28.777Z"
   },
   {
    "duration": 7,
    "start_time": "2024-01-31T12:43:39.662Z"
   },
   {
    "duration": 9,
    "start_time": "2024-01-31T12:44:39.282Z"
   },
   {
    "duration": 9,
    "start_time": "2024-01-31T12:44:41.517Z"
   },
   {
    "duration": 9,
    "start_time": "2024-01-31T12:45:10.413Z"
   },
   {
    "duration": 11,
    "start_time": "2024-01-31T12:46:34.297Z"
   },
   {
    "duration": 77,
    "start_time": "2024-01-31T12:46:51.169Z"
   },
   {
    "duration": 84,
    "start_time": "2024-01-31T12:47:24.606Z"
   },
   {
    "duration": 77,
    "start_time": "2024-01-31T12:49:52.216Z"
   },
   {
    "duration": 86,
    "start_time": "2024-01-31T12:50:34.443Z"
   },
   {
    "duration": 85,
    "start_time": "2024-01-31T12:52:58.035Z"
   },
   {
    "duration": 69,
    "start_time": "2024-01-31T12:53:13.322Z"
   },
   {
    "duration": 79,
    "start_time": "2024-01-31T12:54:08.266Z"
   },
   {
    "duration": 84,
    "start_time": "2024-01-31T12:54:14.774Z"
   },
   {
    "duration": 90,
    "start_time": "2024-01-31T12:54:45.642Z"
   },
   {
    "duration": 83,
    "start_time": "2024-01-31T12:54:51.946Z"
   },
   {
    "duration": 10,
    "start_time": "2024-01-31T12:56:33.602Z"
   },
   {
    "duration": 9,
    "start_time": "2024-01-31T12:56:43.254Z"
   },
   {
    "duration": 22093,
    "start_time": "2024-01-31T12:57:00.590Z"
   },
   {
    "duration": 9,
    "start_time": "2024-01-31T12:57:50.773Z"
   },
   {
    "duration": 8,
    "start_time": "2024-01-31T12:58:27.333Z"
   },
   {
    "duration": 3,
    "start_time": "2024-01-31T12:58:35.025Z"
   },
   {
    "duration": 88,
    "start_time": "2024-01-31T12:58:42.600Z"
   },
   {
    "duration": 87,
    "start_time": "2024-01-31T12:59:25.569Z"
   },
   {
    "duration": 111,
    "start_time": "2024-01-31T12:59:58.784Z"
   },
   {
    "duration": 126,
    "start_time": "2024-01-31T13:00:20.444Z"
   },
   {
    "duration": 14758,
    "start_time": "2024-01-31T13:00:27.697Z"
   },
   {
    "duration": 110,
    "start_time": "2024-01-31T13:01:29.356Z"
   },
   {
    "duration": 794,
    "start_time": "2024-01-31T16:12:20.633Z"
   },
   {
    "duration": 6,
    "start_time": "2024-01-31T16:12:49.495Z"
   },
   {
    "duration": 4,
    "start_time": "2024-01-31T16:13:12.940Z"
   },
   {
    "duration": 5,
    "start_time": "2024-01-31T16:13:41.181Z"
   },
   {
    "duration": 668,
    "start_time": "2024-01-31T16:15:01.372Z"
   },
   {
    "duration": 387,
    "start_time": "2024-01-31T16:15:02.042Z"
   },
   {
    "duration": 18,
    "start_time": "2024-01-31T16:15:02.431Z"
   },
   {
    "duration": 91,
    "start_time": "2024-01-31T16:15:02.451Z"
   },
   {
    "duration": 32,
    "start_time": "2024-01-31T16:15:02.544Z"
   },
   {
    "duration": 7,
    "start_time": "2024-01-31T16:15:02.577Z"
   },
   {
    "duration": 17,
    "start_time": "2024-01-31T16:15:02.585Z"
   },
   {
    "duration": 7,
    "start_time": "2024-01-31T16:15:02.604Z"
   },
   {
    "duration": 26,
    "start_time": "2024-01-31T16:15:02.613Z"
   },
   {
    "duration": 9,
    "start_time": "2024-01-31T16:15:02.641Z"
   },
   {
    "duration": 9,
    "start_time": "2024-01-31T16:15:02.651Z"
   },
   {
    "duration": 19,
    "start_time": "2024-01-31T16:15:02.662Z"
   },
   {
    "duration": 15,
    "start_time": "2024-01-31T16:15:02.688Z"
   },
   {
    "duration": 20,
    "start_time": "2024-01-31T16:15:02.705Z"
   },
   {
    "duration": 37,
    "start_time": "2024-01-31T16:15:02.727Z"
   },
   {
    "duration": 33,
    "start_time": "2024-01-31T16:15:02.766Z"
   },
   {
    "duration": 201,
    "start_time": "2024-01-31T16:15:02.801Z"
   },
   {
    "duration": 9,
    "start_time": "2024-01-31T16:15:03.004Z"
   },
   {
    "duration": 143,
    "start_time": "2024-01-31T16:15:03.015Z"
   },
   {
    "duration": 248,
    "start_time": "2024-01-31T16:15:03.159Z"
   },
   {
    "duration": 15,
    "start_time": "2024-01-31T16:15:03.408Z"
   },
   {
    "duration": 349,
    "start_time": "2024-01-31T16:15:03.425Z"
   },
   {
    "duration": 40,
    "start_time": "2024-01-31T16:15:03.776Z"
   },
   {
    "duration": 979,
    "start_time": "2024-01-31T16:15:03.818Z"
   },
   {
    "duration": 222,
    "start_time": "2024-01-31T16:15:04.802Z"
   },
   {
    "duration": 15,
    "start_time": "2024-01-31T16:15:05.026Z"
   },
   {
    "duration": 476,
    "start_time": "2024-01-31T16:15:05.042Z"
   },
   {
    "duration": 8,
    "start_time": "2024-01-31T16:15:05.521Z"
   },
   {
    "duration": 23,
    "start_time": "2024-01-31T16:15:05.530Z"
   },
   {
    "duration": 34,
    "start_time": "2024-01-31T16:15:05.555Z"
   },
   {
    "duration": 19,
    "start_time": "2024-01-31T16:15:05.591Z"
   },
   {
    "duration": 20,
    "start_time": "2024-01-31T16:15:05.611Z"
   },
   {
    "duration": 22,
    "start_time": "2024-01-31T16:15:05.633Z"
   },
   {
    "duration": 424,
    "start_time": "2024-01-31T16:15:05.656Z"
   },
   {
    "duration": 530,
    "start_time": "2024-01-31T16:15:06.081Z"
   },
   {
    "duration": 25,
    "start_time": "2024-01-31T16:15:06.613Z"
   },
   {
    "duration": 12,
    "start_time": "2024-01-31T16:15:06.640Z"
   },
   {
    "duration": 45,
    "start_time": "2024-01-31T16:15:06.654Z"
   },
   {
    "duration": 15,
    "start_time": "2024-01-31T16:15:06.701Z"
   },
   {
    "duration": 22,
    "start_time": "2024-01-31T16:15:06.717Z"
   },
   {
    "duration": 6,
    "start_time": "2024-01-31T16:15:06.740Z"
   },
   {
    "duration": 9,
    "start_time": "2024-01-31T16:15:06.747Z"
   },
   {
    "duration": 43,
    "start_time": "2024-01-31T16:15:06.758Z"
   },
   {
    "duration": 15,
    "start_time": "2024-01-31T16:15:06.803Z"
   },
   {
    "duration": 5,
    "start_time": "2024-01-31T16:15:50.472Z"
   },
   {
    "duration": 0,
    "start_time": "2024-01-31T16:17:56.527Z"
   },
   {
    "duration": 107,
    "start_time": "2024-01-31T16:19:17.583Z"
   },
   {
    "duration": 93,
    "start_time": "2024-01-31T16:19:26.359Z"
   },
   {
    "duration": 5,
    "start_time": "2024-01-31T16:19:35.124Z"
   },
   {
    "duration": 9,
    "start_time": "2024-01-31T16:20:54.143Z"
   },
   {
    "duration": 4,
    "start_time": "2024-01-31T16:21:07.751Z"
   },
   {
    "duration": 4,
    "start_time": "2024-01-31T16:21:48.424Z"
   },
   {
    "duration": 4,
    "start_time": "2024-01-31T16:22:10.923Z"
   },
   {
    "duration": 5,
    "start_time": "2024-01-31T16:22:22.818Z"
   },
   {
    "duration": 4,
    "start_time": "2024-01-31T16:22:36.815Z"
   },
   {
    "duration": 3,
    "start_time": "2024-01-31T16:22:56.603Z"
   },
   {
    "duration": 4,
    "start_time": "2024-01-31T16:23:03.954Z"
   },
   {
    "duration": 4,
    "start_time": "2024-01-31T16:25:04.347Z"
   },
   {
    "duration": 4,
    "start_time": "2024-01-31T16:25:15.831Z"
   },
   {
    "duration": 84,
    "start_time": "2024-01-31T16:27:02.335Z"
   },
   {
    "duration": 113,
    "start_time": "2024-01-31T16:27:07.722Z"
   },
   {
    "duration": 117,
    "start_time": "2024-01-31T16:27:39.426Z"
   },
   {
    "duration": 57,
    "start_time": "2024-01-31T16:27:46.386Z"
   },
   {
    "duration": 7,
    "start_time": "2024-01-31T16:28:00.793Z"
   },
   {
    "duration": 17,
    "start_time": "2024-01-31T16:28:11.131Z"
   },
   {
    "duration": 18,
    "start_time": "2024-01-31T16:30:22.230Z"
   },
   {
    "duration": 85,
    "start_time": "2024-01-31T16:30:55.538Z"
   },
   {
    "duration": 4,
    "start_time": "2024-01-31T16:31:08.434Z"
   },
   {
    "duration": 4,
    "start_time": "2024-01-31T16:31:24.853Z"
   },
   {
    "duration": 5,
    "start_time": "2024-01-31T16:31:37.749Z"
   },
   {
    "duration": 3,
    "start_time": "2024-01-31T16:42:33.259Z"
   },
   {
    "duration": 5,
    "start_time": "2024-01-31T16:44:03.947Z"
   },
   {
    "duration": 4,
    "start_time": "2024-01-31T16:46:19.979Z"
   },
   {
    "duration": 5,
    "start_time": "2024-01-31T16:46:30.055Z"
   },
   {
    "duration": 3,
    "start_time": "2024-01-31T16:46:35.583Z"
   },
   {
    "duration": 87,
    "start_time": "2024-01-31T16:48:06.014Z"
   },
   {
    "duration": 3,
    "start_time": "2024-01-31T16:48:25.370Z"
   },
   {
    "duration": 4,
    "start_time": "2024-01-31T16:48:36.038Z"
   },
   {
    "duration": 85,
    "start_time": "2024-01-31T16:49:14.214Z"
   },
   {
    "duration": 3,
    "start_time": "2024-01-31T16:49:23.551Z"
   },
   {
    "duration": 129,
    "start_time": "2024-01-31T16:49:34.906Z"
   },
   {
    "duration": 9,
    "start_time": "2024-01-31T16:50:17.662Z"
   },
   {
    "duration": 5,
    "start_time": "2024-01-31T16:50:22.474Z"
   },
   {
    "duration": 4,
    "start_time": "2024-01-31T16:50:32.766Z"
   },
   {
    "duration": 4,
    "start_time": "2024-01-31T16:50:37.566Z"
   },
   {
    "duration": 127,
    "start_time": "2024-01-31T16:51:07.733Z"
   },
   {
    "duration": 127,
    "start_time": "2024-01-31T16:52:49.605Z"
   },
   {
    "duration": 4,
    "start_time": "2024-01-31T16:53:05.442Z"
   },
   {
    "duration": 4,
    "start_time": "2024-01-31T16:53:25.166Z"
   },
   {
    "duration": 5,
    "start_time": "2024-01-31T16:53:31.717Z"
   },
   {
    "duration": 125,
    "start_time": "2024-01-31T16:53:48.662Z"
   },
   {
    "duration": 4,
    "start_time": "2024-01-31T16:54:24.438Z"
   },
   {
    "duration": 4,
    "start_time": "2024-01-31T16:55:05.709Z"
   },
   {
    "duration": 4,
    "start_time": "2024-01-31T16:55:30.466Z"
   },
   {
    "duration": 4,
    "start_time": "2024-01-31T16:55:41.057Z"
   },
   {
    "duration": 5,
    "start_time": "2024-01-31T16:56:01.489Z"
   },
   {
    "duration": 130,
    "start_time": "2024-01-31T16:56:43.242Z"
   },
   {
    "duration": 4,
    "start_time": "2024-01-31T16:57:17.189Z"
   },
   {
    "duration": 5,
    "start_time": "2024-01-31T16:57:17.229Z"
   },
   {
    "duration": 0,
    "start_time": "2024-01-31T17:05:29.442Z"
   },
   {
    "duration": 5,
    "start_time": "2024-01-31T17:05:38.815Z"
   },
   {
    "duration": 5,
    "start_time": "2024-01-31T17:05:51.051Z"
   },
   {
    "duration": 5,
    "start_time": "2024-01-31T17:06:03.119Z"
   },
   {
    "duration": 4,
    "start_time": "2024-01-31T17:06:28.404Z"
   },
   {
    "duration": 5,
    "start_time": "2024-01-31T17:06:41.683Z"
   },
   {
    "duration": 132,
    "start_time": "2024-01-31T17:07:05.768Z"
   },
   {
    "duration": 129,
    "start_time": "2024-01-31T17:07:27.199Z"
   },
   {
    "duration": 135,
    "start_time": "2024-01-31T17:07:40.931Z"
   },
   {
    "duration": 129,
    "start_time": "2024-01-31T17:07:47.215Z"
   },
   {
    "duration": 126,
    "start_time": "2024-01-31T17:08:01.559Z"
   },
   {
    "duration": 135,
    "start_time": "2024-01-31T17:08:47.187Z"
   },
   {
    "duration": 823,
    "start_time": "2024-01-31T17:09:22.187Z"
   },
   {
    "duration": 149,
    "start_time": "2024-01-31T17:12:05.359Z"
   },
   {
    "duration": 142,
    "start_time": "2024-01-31T17:12:24.555Z"
   },
   {
    "duration": 126,
    "start_time": "2024-01-31T17:13:47.194Z"
   },
   {
    "duration": 13,
    "start_time": "2024-01-31T17:29:30.392Z"
   },
   {
    "duration": 5,
    "start_time": "2024-01-31T17:29:39.460Z"
   },
   {
    "duration": 80,
    "start_time": "2024-01-31T17:34:26.420Z"
   },
   {
    "duration": 136,
    "start_time": "2024-01-31T17:34:36.032Z"
   },
   {
    "duration": 124,
    "start_time": "2024-01-31T17:42:10.486Z"
   },
   {
    "duration": 129,
    "start_time": "2024-01-31T17:46:44.941Z"
   },
   {
    "duration": 131,
    "start_time": "2024-01-31T17:57:25.517Z"
   },
   {
    "duration": 114,
    "start_time": "2024-01-31T18:02:00.441Z"
   },
   {
    "duration": 278,
    "start_time": "2024-01-31T18:02:07.560Z"
   },
   {
    "duration": 434,
    "start_time": "2024-01-31T18:03:16.181Z"
   },
   {
    "duration": 496,
    "start_time": "2024-01-31T18:03:38.459Z"
   },
   {
    "duration": 390,
    "start_time": "2024-01-31T18:04:34.931Z"
   },
   {
    "duration": 89,
    "start_time": "2024-01-31T18:05:39.423Z"
   },
   {
    "duration": 1948,
    "start_time": "2024-01-31T18:06:17.474Z"
   },
   {
    "duration": 495,
    "start_time": "2024-01-31T18:07:14.259Z"
   },
   {
    "duration": 1974,
    "start_time": "2024-01-31T18:07:48.679Z"
   },
   {
    "duration": 1972,
    "start_time": "2024-01-31T18:08:18.618Z"
   },
   {
    "duration": 1949,
    "start_time": "2024-01-31T18:09:09.306Z"
   },
   {
    "duration": 2094,
    "start_time": "2024-01-31T18:09:20.823Z"
   },
   {
    "duration": 1977,
    "start_time": "2024-01-31T18:09:50.947Z"
   },
   {
    "duration": 2024,
    "start_time": "2024-01-31T18:10:03.478Z"
   },
   {
    "duration": 2061,
    "start_time": "2024-01-31T18:11:31.178Z"
   },
   {
    "duration": 2088,
    "start_time": "2024-01-31T18:12:30.162Z"
   },
   {
    "duration": 352,
    "start_time": "2024-01-31T18:13:45.086Z"
   },
   {
    "duration": 2227,
    "start_time": "2024-01-31T18:14:06.457Z"
   },
   {
    "duration": 2210,
    "start_time": "2024-01-31T18:14:21.530Z"
   },
   {
    "duration": 2246,
    "start_time": "2024-01-31T18:14:35.099Z"
   },
   {
    "duration": 2140,
    "start_time": "2024-01-31T18:14:47.762Z"
   },
   {
    "duration": 2069,
    "start_time": "2024-01-31T18:15:16.195Z"
   },
   {
    "duration": 2107,
    "start_time": "2024-01-31T18:19:28.706Z"
   },
   {
    "duration": 2205,
    "start_time": "2024-01-31T18:19:44.121Z"
   },
   {
    "duration": 2165,
    "start_time": "2024-01-31T18:20:03.894Z"
   },
   {
    "duration": 2128,
    "start_time": "2024-01-31T18:21:04.325Z"
   },
   {
    "duration": 2178,
    "start_time": "2024-01-31T18:22:01.865Z"
   },
   {
    "duration": 2037,
    "start_time": "2024-01-31T18:22:55.068Z"
   },
   {
    "duration": 1951,
    "start_time": "2024-01-31T18:23:40.500Z"
   },
   {
    "duration": 2060,
    "start_time": "2024-01-31T18:25:05.105Z"
   },
   {
    "duration": 2008,
    "start_time": "2024-01-31T18:26:50.848Z"
   },
   {
    "duration": 2036,
    "start_time": "2024-01-31T18:28:54.235Z"
   },
   {
    "duration": 2076,
    "start_time": "2024-01-31T18:29:11.224Z"
   },
   {
    "duration": 2254,
    "start_time": "2024-01-31T18:29:58.423Z"
   },
   {
    "duration": 2149,
    "start_time": "2024-01-31T18:31:03.847Z"
   },
   {
    "duration": 1103,
    "start_time": "2024-01-31T18:31:36.427Z"
   },
   {
    "duration": 91,
    "start_time": "2024-01-31T18:31:37.532Z"
   },
   {
    "duration": 15,
    "start_time": "2024-01-31T18:31:37.624Z"
   },
   {
    "duration": 15,
    "start_time": "2024-01-31T18:31:37.641Z"
   },
   {
    "duration": 11,
    "start_time": "2024-01-31T18:31:37.657Z"
   },
   {
    "duration": 17,
    "start_time": "2024-01-31T18:31:37.670Z"
   },
   {
    "duration": 17,
    "start_time": "2024-01-31T18:31:37.691Z"
   },
   {
    "duration": 11,
    "start_time": "2024-01-31T18:31:37.710Z"
   },
   {
    "duration": 5,
    "start_time": "2024-01-31T18:31:37.722Z"
   },
   {
    "duration": 6,
    "start_time": "2024-01-31T18:31:37.729Z"
   },
   {
    "duration": 8,
    "start_time": "2024-01-31T18:31:37.737Z"
   },
   {
    "duration": 17,
    "start_time": "2024-01-31T18:31:37.746Z"
   },
   {
    "duration": 20,
    "start_time": "2024-01-31T18:31:37.792Z"
   },
   {
    "duration": 5,
    "start_time": "2024-01-31T18:31:37.815Z"
   },
   {
    "duration": 8,
    "start_time": "2024-01-31T18:31:37.821Z"
   },
   {
    "duration": 10,
    "start_time": "2024-01-31T18:31:37.831Z"
   },
   {
    "duration": 187,
    "start_time": "2024-01-31T18:31:37.842Z"
   },
   {
    "duration": 7,
    "start_time": "2024-01-31T18:31:38.030Z"
   },
   {
    "duration": 114,
    "start_time": "2024-01-31T18:31:38.038Z"
   },
   {
    "duration": 233,
    "start_time": "2024-01-31T18:31:38.153Z"
   },
   {
    "duration": 17,
    "start_time": "2024-01-31T18:31:38.392Z"
   },
   {
    "duration": 282,
    "start_time": "2024-01-31T18:31:38.410Z"
   },
   {
    "duration": 26,
    "start_time": "2024-01-31T18:31:38.695Z"
   },
   {
    "duration": 990,
    "start_time": "2024-01-31T18:31:38.722Z"
   },
   {
    "duration": 135,
    "start_time": "2024-01-31T18:31:39.715Z"
   },
   {
    "duration": 13,
    "start_time": "2024-01-31T18:31:39.852Z"
   },
   {
    "duration": 454,
    "start_time": "2024-01-31T18:31:39.866Z"
   },
   {
    "duration": 5,
    "start_time": "2024-01-31T18:31:40.323Z"
   },
   {
    "duration": 28,
    "start_time": "2024-01-31T18:31:40.329Z"
   },
   {
    "duration": 14,
    "start_time": "2024-01-31T18:31:40.358Z"
   },
   {
    "duration": 31,
    "start_time": "2024-01-31T18:31:40.374Z"
   },
   {
    "duration": 13,
    "start_time": "2024-01-31T18:31:40.409Z"
   },
   {
    "duration": 25,
    "start_time": "2024-01-31T18:31:40.423Z"
   },
   {
    "duration": 416,
    "start_time": "2024-01-31T18:31:40.449Z"
   },
   {
    "duration": 510,
    "start_time": "2024-01-31T18:31:40.866Z"
   },
   {
    "duration": 30,
    "start_time": "2024-01-31T18:31:41.378Z"
   },
   {
    "duration": 13,
    "start_time": "2024-01-31T18:31:41.415Z"
   },
   {
    "duration": 18,
    "start_time": "2024-01-31T18:31:41.429Z"
   },
   {
    "duration": 11,
    "start_time": "2024-01-31T18:31:41.449Z"
   },
   {
    "duration": 38,
    "start_time": "2024-01-31T18:31:41.461Z"
   },
   {
    "duration": 9,
    "start_time": "2024-01-31T18:31:41.501Z"
   },
   {
    "duration": 5,
    "start_time": "2024-01-31T18:31:41.513Z"
   },
   {
    "duration": 11,
    "start_time": "2024-01-31T18:31:41.520Z"
   },
   {
    "duration": 10,
    "start_time": "2024-01-31T18:31:41.533Z"
   },
   {
    "duration": 2060,
    "start_time": "2024-01-31T18:32:02.103Z"
   },
   {
    "duration": 576,
    "start_time": "2024-01-31T18:33:10.707Z"
   },
   {
    "duration": 2093,
    "start_time": "2024-01-31T18:33:32.542Z"
   },
   {
    "duration": 2091,
    "start_time": "2024-01-31T18:33:44.230Z"
   },
   {
    "duration": 3,
    "start_time": "2024-01-31T19:33:16.756Z"
   },
   {
    "duration": 3,
    "start_time": "2024-01-31T19:33:26.451Z"
   },
   {
    "duration": 3,
    "start_time": "2024-01-31T19:34:18.973Z"
   },
   {
    "duration": 4,
    "start_time": "2024-01-31T19:34:59.705Z"
   },
   {
    "duration": 12,
    "start_time": "2024-01-31T19:39:57.788Z"
   },
   {
    "duration": 13,
    "start_time": "2024-01-31T19:40:03.907Z"
   },
   {
    "duration": 3,
    "start_time": "2024-01-31T19:40:24.063Z"
   },
   {
    "duration": 5,
    "start_time": "2024-01-31T19:40:45.607Z"
   },
   {
    "duration": 4,
    "start_time": "2024-01-31T19:41:16.514Z"
   },
   {
    "duration": 9,
    "start_time": "2024-01-31T19:41:26.798Z"
   },
   {
    "duration": 4,
    "start_time": "2024-01-31T19:41:36.222Z"
   },
   {
    "duration": 4,
    "start_time": "2024-01-31T19:42:01.546Z"
   },
   {
    "duration": 6,
    "start_time": "2024-01-31T19:45:15.493Z"
   },
   {
    "duration": 10,
    "start_time": "2024-01-31T19:59:55.037Z"
   },
   {
    "duration": 1028,
    "start_time": "2024-01-31T20:00:44.838Z"
   },
   {
    "duration": 84,
    "start_time": "2024-01-31T20:00:45.868Z"
   },
   {
    "duration": 14,
    "start_time": "2024-01-31T20:00:45.954Z"
   },
   {
    "duration": 14,
    "start_time": "2024-01-31T20:00:45.970Z"
   },
   {
    "duration": 20,
    "start_time": "2024-01-31T20:00:45.986Z"
   },
   {
    "duration": 23,
    "start_time": "2024-01-31T20:00:46.007Z"
   },
   {
    "duration": 16,
    "start_time": "2024-01-31T20:00:46.032Z"
   },
   {
    "duration": 8,
    "start_time": "2024-01-31T20:00:46.049Z"
   },
   {
    "duration": 20,
    "start_time": "2024-01-31T20:00:46.059Z"
   },
   {
    "duration": 23,
    "start_time": "2024-01-31T20:00:46.081Z"
   },
   {
    "duration": 19,
    "start_time": "2024-01-31T20:00:46.105Z"
   },
   {
    "duration": 34,
    "start_time": "2024-01-31T20:00:46.126Z"
   },
   {
    "duration": 9,
    "start_time": "2024-01-31T20:00:46.161Z"
   },
   {
    "duration": 32,
    "start_time": "2024-01-31T20:00:46.173Z"
   },
   {
    "duration": 10,
    "start_time": "2024-01-31T20:00:46.207Z"
   },
   {
    "duration": 42,
    "start_time": "2024-01-31T20:00:46.218Z"
   },
   {
    "duration": 186,
    "start_time": "2024-01-31T20:00:46.261Z"
   },
   {
    "duration": 9,
    "start_time": "2024-01-31T20:00:46.449Z"
   },
   {
    "duration": 103,
    "start_time": "2024-01-31T20:00:46.459Z"
   },
   {
    "duration": 204,
    "start_time": "2024-01-31T20:00:46.563Z"
   },
   {
    "duration": 29,
    "start_time": "2024-01-31T20:00:46.768Z"
   },
   {
    "duration": 252,
    "start_time": "2024-01-31T20:00:46.798Z"
   },
   {
    "duration": 18,
    "start_time": "2024-01-31T20:00:47.052Z"
   },
   {
    "duration": 892,
    "start_time": "2024-01-31T20:00:47.071Z"
   },
   {
    "duration": 137,
    "start_time": "2024-01-31T20:00:47.965Z"
   },
   {
    "duration": 13,
    "start_time": "2024-01-31T20:00:48.103Z"
   },
   {
    "duration": 398,
    "start_time": "2024-01-31T20:00:48.118Z"
   },
   {
    "duration": 5,
    "start_time": "2024-01-31T20:00:48.518Z"
   },
   {
    "duration": 30,
    "start_time": "2024-01-31T20:00:48.524Z"
   },
   {
    "duration": 16,
    "start_time": "2024-01-31T20:00:48.556Z"
   },
   {
    "duration": 25,
    "start_time": "2024-01-31T20:00:48.574Z"
   },
   {
    "duration": 10,
    "start_time": "2024-01-31T20:00:48.601Z"
   },
   {
    "duration": 29,
    "start_time": "2024-01-31T20:00:48.612Z"
   },
   {
    "duration": 358,
    "start_time": "2024-01-31T20:00:48.643Z"
   },
   {
    "duration": 434,
    "start_time": "2024-01-31T20:00:49.003Z"
   },
   {
    "duration": 23,
    "start_time": "2024-01-31T20:00:49.438Z"
   },
   {
    "duration": 11,
    "start_time": "2024-01-31T20:00:49.462Z"
   },
   {
    "duration": 23,
    "start_time": "2024-01-31T20:00:49.490Z"
   },
   {
    "duration": 11,
    "start_time": "2024-01-31T20:00:49.514Z"
   },
   {
    "duration": 20,
    "start_time": "2024-01-31T20:00:49.527Z"
   },
   {
    "duration": 4,
    "start_time": "2024-01-31T20:00:49.550Z"
   },
   {
    "duration": 18,
    "start_time": "2024-01-31T20:00:49.555Z"
   },
   {
    "duration": 32,
    "start_time": "2024-01-31T20:00:49.575Z"
   },
   {
    "duration": 11,
    "start_time": "2024-01-31T20:00:49.608Z"
   },
   {
    "duration": 1831,
    "start_time": "2024-01-31T20:00:49.620Z"
   },
   {
    "duration": 1828,
    "start_time": "2024-01-31T20:00:58.899Z"
   },
   {
    "duration": 88,
    "start_time": "2024-01-31T20:01:05.417Z"
   },
   {
    "duration": 9,
    "start_time": "2024-01-31T20:02:12.593Z"
   },
   {
    "duration": 9,
    "start_time": "2024-01-31T20:02:32.108Z"
   },
   {
    "duration": 20783,
    "start_time": "2024-01-31T20:03:57.771Z"
   },
   {
    "duration": 6,
    "start_time": "2024-01-31T20:08:15.572Z"
   },
   {
    "duration": 93,
    "start_time": "2024-01-31T20:08:30.160Z"
   },
   {
    "duration": 10,
    "start_time": "2024-01-31T20:08:44.208Z"
   },
   {
    "duration": 10,
    "start_time": "2024-01-31T20:09:42.796Z"
   },
   {
    "duration": 125,
    "start_time": "2024-01-31T20:10:54.996Z"
   },
   {
    "duration": 84,
    "start_time": "2024-01-31T20:12:27.192Z"
   },
   {
    "duration": 117,
    "start_time": "2024-01-31T20:12:34.200Z"
   },
   {
    "duration": 122,
    "start_time": "2024-01-31T20:12:52.039Z"
   },
   {
    "duration": 113,
    "start_time": "2024-01-31T20:14:53.103Z"
   },
   {
    "duration": 88,
    "start_time": "2024-01-31T20:18:51.947Z"
   },
   {
    "duration": 119,
    "start_time": "2024-01-31T20:18:59.417Z"
   },
   {
    "duration": 108,
    "start_time": "2024-01-31T20:19:51.109Z"
   },
   {
    "duration": 124,
    "start_time": "2024-01-31T20:20:03.677Z"
   },
   {
    "duration": 262,
    "start_time": "2024-01-31T20:20:09.998Z"
   },
   {
    "duration": 1743,
    "start_time": "2024-01-31T20:20:42.161Z"
   },
   {
    "duration": 1634,
    "start_time": "2024-01-31T20:22:26.868Z"
   },
   {
    "duration": 1815,
    "start_time": "2024-01-31T20:23:03.497Z"
   },
   {
    "duration": 1833,
    "start_time": "2024-01-31T20:23:25.413Z"
   },
   {
    "duration": 665,
    "start_time": "2024-01-31T20:24:10.441Z"
   },
   {
    "duration": 689,
    "start_time": "2024-01-31T20:26:45.068Z"
   },
   {
    "duration": 1045,
    "start_time": "2024-01-31T20:27:20.048Z"
   },
   {
    "duration": 304,
    "start_time": "2024-01-31T20:27:21.094Z"
   },
   {
    "duration": 16,
    "start_time": "2024-01-31T20:27:21.399Z"
   },
   {
    "duration": 15,
    "start_time": "2024-01-31T20:27:21.416Z"
   },
   {
    "duration": 13,
    "start_time": "2024-01-31T20:27:21.432Z"
   },
   {
    "duration": 12,
    "start_time": "2024-01-31T20:27:21.446Z"
   },
   {
    "duration": 7,
    "start_time": "2024-01-31T20:27:21.459Z"
   },
   {
    "duration": 8,
    "start_time": "2024-01-31T20:27:21.488Z"
   },
   {
    "duration": 18,
    "start_time": "2024-01-31T20:27:21.497Z"
   },
   {
    "duration": 7,
    "start_time": "2024-01-31T20:27:21.518Z"
   },
   {
    "duration": 9,
    "start_time": "2024-01-31T20:27:21.526Z"
   },
   {
    "duration": 18,
    "start_time": "2024-01-31T20:27:21.536Z"
   },
   {
    "duration": 32,
    "start_time": "2024-01-31T20:27:21.555Z"
   },
   {
    "duration": 4,
    "start_time": "2024-01-31T20:27:21.589Z"
   },
   {
    "duration": 10,
    "start_time": "2024-01-31T20:27:21.594Z"
   },
   {
    "duration": 22,
    "start_time": "2024-01-31T20:27:21.605Z"
   },
   {
    "duration": 159,
    "start_time": "2024-01-31T20:27:21.629Z"
   },
   {
    "duration": 7,
    "start_time": "2024-01-31T20:27:21.790Z"
   },
   {
    "duration": 101,
    "start_time": "2024-01-31T20:27:21.798Z"
   },
   {
    "duration": 199,
    "start_time": "2024-01-31T20:27:21.900Z"
   },
   {
    "duration": 13,
    "start_time": "2024-01-31T20:27:22.101Z"
   },
   {
    "duration": 260,
    "start_time": "2024-01-31T20:27:22.116Z"
   },
   {
    "duration": 25,
    "start_time": "2024-01-31T20:27:22.377Z"
   },
   {
    "duration": 832,
    "start_time": "2024-01-31T20:27:22.403Z"
   },
   {
    "duration": 127,
    "start_time": "2024-01-31T20:27:23.237Z"
   },
   {
    "duration": 26,
    "start_time": "2024-01-31T20:27:23.365Z"
   },
   {
    "duration": 394,
    "start_time": "2024-01-31T20:27:23.392Z"
   },
   {
    "duration": 5,
    "start_time": "2024-01-31T20:27:23.789Z"
   },
   {
    "duration": 19,
    "start_time": "2024-01-31T20:27:23.796Z"
   },
   {
    "duration": 13,
    "start_time": "2024-01-31T20:27:23.816Z"
   },
   {
    "duration": 11,
    "start_time": "2024-01-31T20:27:23.831Z"
   },
   {
    "duration": 10,
    "start_time": "2024-01-31T20:27:23.843Z"
   },
   {
    "duration": 45,
    "start_time": "2024-01-31T20:27:23.854Z"
   },
   {
    "duration": 340,
    "start_time": "2024-01-31T20:27:23.900Z"
   },
   {
    "duration": 452,
    "start_time": "2024-01-31T20:27:24.241Z"
   },
   {
    "duration": 24,
    "start_time": "2024-01-31T20:27:24.695Z"
   },
   {
    "duration": 11,
    "start_time": "2024-01-31T20:27:24.720Z"
   },
   {
    "duration": 19,
    "start_time": "2024-01-31T20:27:24.733Z"
   },
   {
    "duration": 36,
    "start_time": "2024-01-31T20:27:24.753Z"
   },
   {
    "duration": 18,
    "start_time": "2024-01-31T20:27:24.790Z"
   },
   {
    "duration": 4,
    "start_time": "2024-01-31T20:27:24.809Z"
   },
   {
    "duration": 4,
    "start_time": "2024-01-31T20:27:24.815Z"
   },
   {
    "duration": 14,
    "start_time": "2024-01-31T20:27:24.820Z"
   },
   {
    "duration": 11,
    "start_time": "2024-01-31T20:27:24.835Z"
   },
   {
    "duration": 1773,
    "start_time": "2024-01-31T20:27:24.847Z"
   },
   {
    "duration": 1872,
    "start_time": "2024-01-31T20:27:46.520Z"
   },
   {
    "duration": 1881,
    "start_time": "2024-01-31T20:29:15.492Z"
   },
   {
    "duration": 3611,
    "start_time": "2024-01-31T20:30:03.700Z"
   },
   {
    "duration": 116,
    "start_time": "2024-01-31T20:30:40.275Z"
   },
   {
    "duration": 83,
    "start_time": "2024-01-31T20:30:53.167Z"
   },
   {
    "duration": 678,
    "start_time": "2024-01-31T20:31:08.583Z"
   },
   {
    "duration": 394,
    "start_time": "2024-01-31T20:31:40.089Z"
   },
   {
    "duration": 348,
    "start_time": "2024-01-31T20:31:40.484Z"
   },
   {
    "duration": 16,
    "start_time": "2024-01-31T20:31:40.833Z"
   },
   {
    "duration": 21,
    "start_time": "2024-01-31T20:31:40.851Z"
   },
   {
    "duration": 13,
    "start_time": "2024-01-31T20:31:40.873Z"
   },
   {
    "duration": 16,
    "start_time": "2024-01-31T20:31:40.888Z"
   },
   {
    "duration": 17,
    "start_time": "2024-01-31T20:31:40.906Z"
   },
   {
    "duration": 6,
    "start_time": "2024-01-31T20:31:40.925Z"
   },
   {
    "duration": 14,
    "start_time": "2024-01-31T20:31:40.932Z"
   },
   {
    "duration": 24,
    "start_time": "2024-01-31T20:31:40.948Z"
   },
   {
    "duration": 9,
    "start_time": "2024-01-31T20:31:40.973Z"
   },
   {
    "duration": 28,
    "start_time": "2024-01-31T20:31:40.983Z"
   },
   {
    "duration": 14,
    "start_time": "2024-01-31T20:31:41.012Z"
   },
   {
    "duration": 8,
    "start_time": "2024-01-31T20:31:41.027Z"
   },
   {
    "duration": 19,
    "start_time": "2024-01-31T20:31:41.036Z"
   },
   {
    "duration": 23,
    "start_time": "2024-01-31T20:31:41.057Z"
   },
   {
    "duration": 166,
    "start_time": "2024-01-31T20:31:41.082Z"
   },
   {
    "duration": 7,
    "start_time": "2024-01-31T20:31:41.249Z"
   },
   {
    "duration": 95,
    "start_time": "2024-01-31T20:31:41.257Z"
   },
   {
    "duration": 191,
    "start_time": "2024-01-31T20:31:41.353Z"
   },
   {
    "duration": 12,
    "start_time": "2024-01-31T20:31:41.546Z"
   },
   {
    "duration": 251,
    "start_time": "2024-01-31T20:31:41.559Z"
   },
   {
    "duration": 19,
    "start_time": "2024-01-31T20:31:41.812Z"
   },
   {
    "duration": 813,
    "start_time": "2024-01-31T20:31:41.832Z"
   },
   {
    "duration": 189,
    "start_time": "2024-01-31T20:31:42.647Z"
   },
   {
    "duration": 13,
    "start_time": "2024-01-31T20:31:42.838Z"
   },
   {
    "duration": 409,
    "start_time": "2024-01-31T20:31:42.853Z"
   },
   {
    "duration": 5,
    "start_time": "2024-01-31T20:31:43.265Z"
   },
   {
    "duration": 27,
    "start_time": "2024-01-31T20:31:43.271Z"
   },
   {
    "duration": 28,
    "start_time": "2024-01-31T20:31:43.300Z"
   },
   {
    "duration": 20,
    "start_time": "2024-01-31T20:31:43.329Z"
   },
   {
    "duration": 10,
    "start_time": "2024-01-31T20:31:43.351Z"
   },
   {
    "duration": 30,
    "start_time": "2024-01-31T20:31:43.362Z"
   },
   {
    "duration": 370,
    "start_time": "2024-01-31T20:31:43.394Z"
   },
   {
    "duration": 450,
    "start_time": "2024-01-31T20:31:43.766Z"
   },
   {
    "duration": 24,
    "start_time": "2024-01-31T20:31:44.218Z"
   },
   {
    "duration": 22,
    "start_time": "2024-01-31T20:31:44.244Z"
   },
   {
    "duration": 35,
    "start_time": "2024-01-31T20:31:44.267Z"
   },
   {
    "duration": 49,
    "start_time": "2024-01-31T20:31:44.304Z"
   },
   {
    "duration": 32,
    "start_time": "2024-01-31T20:31:44.357Z"
   },
   {
    "duration": 5,
    "start_time": "2024-01-31T20:31:44.391Z"
   },
   {
    "duration": 27,
    "start_time": "2024-01-31T20:31:44.398Z"
   },
   {
    "duration": 25,
    "start_time": "2024-01-31T20:31:44.427Z"
   },
   {
    "duration": 14,
    "start_time": "2024-01-31T20:31:44.454Z"
   },
   {
    "duration": 1846,
    "start_time": "2024-01-31T20:31:44.470Z"
   },
   {
    "duration": 1895,
    "start_time": "2024-01-31T20:32:06.865Z"
   },
   {
    "duration": 289,
    "start_time": "2024-01-31T20:32:49.121Z"
   },
   {
    "duration": 1705,
    "start_time": "2024-01-31T20:33:07.393Z"
   },
   {
    "duration": 1023,
    "start_time": "2024-01-31T20:33:39.305Z"
   },
   {
    "duration": 304,
    "start_time": "2024-01-31T20:33:40.330Z"
   },
   {
    "duration": 15,
    "start_time": "2024-01-31T20:33:40.635Z"
   },
   {
    "duration": 21,
    "start_time": "2024-01-31T20:33:40.652Z"
   },
   {
    "duration": 11,
    "start_time": "2024-01-31T20:33:40.675Z"
   },
   {
    "duration": 5,
    "start_time": "2024-01-31T20:33:40.687Z"
   },
   {
    "duration": 8,
    "start_time": "2024-01-31T20:33:40.694Z"
   },
   {
    "duration": 6,
    "start_time": "2024-01-31T20:33:40.703Z"
   },
   {
    "duration": 7,
    "start_time": "2024-01-31T20:33:40.710Z"
   },
   {
    "duration": 6,
    "start_time": "2024-01-31T20:33:40.720Z"
   },
   {
    "duration": 9,
    "start_time": "2024-01-31T20:33:40.728Z"
   },
   {
    "duration": 50,
    "start_time": "2024-01-31T20:33:40.738Z"
   },
   {
    "duration": 9,
    "start_time": "2024-01-31T20:33:40.789Z"
   },
   {
    "duration": 11,
    "start_time": "2024-01-31T20:33:40.801Z"
   },
   {
    "duration": 11,
    "start_time": "2024-01-31T20:33:40.813Z"
   },
   {
    "duration": 19,
    "start_time": "2024-01-31T20:33:40.825Z"
   },
   {
    "duration": 153,
    "start_time": "2024-01-31T20:33:40.846Z"
   },
   {
    "duration": 8,
    "start_time": "2024-01-31T20:33:41.000Z"
   },
   {
    "duration": 102,
    "start_time": "2024-01-31T20:33:41.009Z"
   },
   {
    "duration": 202,
    "start_time": "2024-01-31T20:33:41.113Z"
   },
   {
    "duration": 13,
    "start_time": "2024-01-31T20:33:41.316Z"
   },
   {
    "duration": 254,
    "start_time": "2024-01-31T20:33:41.330Z"
   },
   {
    "duration": 20,
    "start_time": "2024-01-31T20:33:41.587Z"
   },
   {
    "duration": 864,
    "start_time": "2024-01-31T20:33:41.609Z"
   },
   {
    "duration": 128,
    "start_time": "2024-01-31T20:33:42.475Z"
   },
   {
    "duration": 13,
    "start_time": "2024-01-31T20:33:42.605Z"
   },
   {
    "duration": 394,
    "start_time": "2024-01-31T20:33:42.620Z"
   },
   {
    "duration": 6,
    "start_time": "2024-01-31T20:33:43.016Z"
   },
   {
    "duration": 42,
    "start_time": "2024-01-31T20:33:43.023Z"
   },
   {
    "duration": 14,
    "start_time": "2024-01-31T20:33:43.066Z"
   },
   {
    "duration": 47,
    "start_time": "2024-01-31T20:33:43.081Z"
   },
   {
    "duration": 26,
    "start_time": "2024-01-31T20:33:43.129Z"
   },
   {
    "duration": 29,
    "start_time": "2024-01-31T20:33:43.156Z"
   },
   {
    "duration": 370,
    "start_time": "2024-01-31T20:33:43.187Z"
   },
   {
    "duration": 452,
    "start_time": "2024-01-31T20:33:43.558Z"
   },
   {
    "duration": 24,
    "start_time": "2024-01-31T20:33:44.012Z"
   },
   {
    "duration": 42,
    "start_time": "2024-01-31T20:33:44.038Z"
   },
   {
    "duration": 49,
    "start_time": "2024-01-31T20:33:44.081Z"
   },
   {
    "duration": 11,
    "start_time": "2024-01-31T20:33:44.132Z"
   },
   {
    "duration": 28,
    "start_time": "2024-01-31T20:33:44.145Z"
   },
   {
    "duration": 5,
    "start_time": "2024-01-31T20:33:44.174Z"
   },
   {
    "duration": 15,
    "start_time": "2024-01-31T20:33:44.180Z"
   },
   {
    "duration": 17,
    "start_time": "2024-01-31T20:33:44.197Z"
   },
   {
    "duration": 12,
    "start_time": "2024-01-31T20:33:44.215Z"
   },
   {
    "duration": 1829,
    "start_time": "2024-01-31T20:33:44.228Z"
   },
   {
    "duration": 1083,
    "start_time": "2024-01-31T20:35:29.561Z"
   },
   {
    "duration": 312,
    "start_time": "2024-01-31T20:35:30.646Z"
   },
   {
    "duration": 16,
    "start_time": "2024-01-31T20:35:30.959Z"
   },
   {
    "duration": 48,
    "start_time": "2024-01-31T20:35:30.977Z"
   },
   {
    "duration": 55,
    "start_time": "2024-01-31T20:35:31.026Z"
   },
   {
    "duration": 32,
    "start_time": "2024-01-31T20:35:31.082Z"
   },
   {
    "duration": 24,
    "start_time": "2024-01-31T20:35:31.115Z"
   },
   {
    "duration": 32,
    "start_time": "2024-01-31T20:35:31.140Z"
   },
   {
    "duration": 32,
    "start_time": "2024-01-31T20:35:31.173Z"
   },
   {
    "duration": 53,
    "start_time": "2024-01-31T20:35:31.208Z"
   },
   {
    "duration": 26,
    "start_time": "2024-01-31T20:35:31.263Z"
   },
   {
    "duration": 30,
    "start_time": "2024-01-31T20:35:31.290Z"
   },
   {
    "duration": 15,
    "start_time": "2024-01-31T20:35:31.321Z"
   },
   {
    "duration": 31,
    "start_time": "2024-01-31T20:35:31.338Z"
   },
   {
    "duration": 29,
    "start_time": "2024-01-31T20:35:31.370Z"
   },
   {
    "duration": 38,
    "start_time": "2024-01-31T20:35:31.401Z"
   },
   {
    "duration": 165,
    "start_time": "2024-01-31T20:35:31.440Z"
   },
   {
    "duration": 7,
    "start_time": "2024-01-31T20:35:31.606Z"
   },
   {
    "duration": 175,
    "start_time": "2024-01-31T20:35:31.614Z"
   },
   {
    "duration": 188,
    "start_time": "2024-01-31T20:35:31.790Z"
   },
   {
    "duration": 18,
    "start_time": "2024-01-31T20:35:31.979Z"
   },
   {
    "duration": 334,
    "start_time": "2024-01-31T20:35:31.999Z"
   },
   {
    "duration": 18,
    "start_time": "2024-01-31T20:35:32.335Z"
   },
   {
    "duration": 852,
    "start_time": "2024-01-31T20:35:32.355Z"
   },
   {
    "duration": 136,
    "start_time": "2024-01-31T20:35:33.208Z"
   },
   {
    "duration": 13,
    "start_time": "2024-01-31T20:35:33.346Z"
   },
   {
    "duration": 393,
    "start_time": "2024-01-31T20:35:33.360Z"
   },
   {
    "duration": 5,
    "start_time": "2024-01-31T20:35:33.756Z"
   },
   {
    "duration": 36,
    "start_time": "2024-01-31T20:35:33.762Z"
   },
   {
    "duration": 14,
    "start_time": "2024-01-31T20:35:33.799Z"
   },
   {
    "duration": 12,
    "start_time": "2024-01-31T20:35:33.815Z"
   },
   {
    "duration": 10,
    "start_time": "2024-01-31T20:35:33.829Z"
   },
   {
    "duration": 47,
    "start_time": "2024-01-31T20:35:33.841Z"
   },
   {
    "duration": 348,
    "start_time": "2024-01-31T20:35:33.890Z"
   },
   {
    "duration": 483,
    "start_time": "2024-01-31T20:35:34.239Z"
   },
   {
    "duration": 23,
    "start_time": "2024-01-31T20:35:34.724Z"
   },
   {
    "duration": 12,
    "start_time": "2024-01-31T20:35:34.748Z"
   },
   {
    "duration": 42,
    "start_time": "2024-01-31T20:35:34.762Z"
   },
   {
    "duration": 12,
    "start_time": "2024-01-31T20:35:34.805Z"
   },
   {
    "duration": 17,
    "start_time": "2024-01-31T20:35:34.819Z"
   },
   {
    "duration": 5,
    "start_time": "2024-01-31T20:35:34.838Z"
   },
   {
    "duration": 5,
    "start_time": "2024-01-31T20:35:34.844Z"
   },
   {
    "duration": 39,
    "start_time": "2024-01-31T20:35:34.850Z"
   },
   {
    "duration": 11,
    "start_time": "2024-01-31T20:35:34.890Z"
   },
   {
    "duration": 1983,
    "start_time": "2024-01-31T20:35:34.902Z"
   },
   {
    "duration": 1875,
    "start_time": "2024-01-31T20:35:51.145Z"
   },
   {
    "duration": 136,
    "start_time": "2024-01-31T20:38:53.522Z"
   },
   {
    "duration": 1554,
    "start_time": "2024-01-31T20:39:59.468Z"
   },
   {
    "duration": 1575,
    "start_time": "2024-01-31T20:40:13.549Z"
   },
   {
    "duration": 152,
    "start_time": "2024-01-31T20:41:44.432Z"
   },
   {
    "duration": 5,
    "start_time": "2024-01-31T20:42:26.809Z"
   },
   {
    "duration": 5,
    "start_time": "2024-01-31T20:42:39.676Z"
   },
   {
    "duration": 5,
    "start_time": "2024-01-31T20:43:15.404Z"
   },
   {
    "duration": 89,
    "start_time": "2024-01-31T20:44:09.753Z"
   },
   {
    "duration": 6,
    "start_time": "2024-01-31T20:44:44.776Z"
   },
   {
    "duration": 5,
    "start_time": "2024-01-31T20:49:01.073Z"
   },
   {
    "duration": 135,
    "start_time": "2024-01-31T20:49:39.445Z"
   },
   {
    "duration": 93,
    "start_time": "2024-01-31T20:50:21.145Z"
   },
   {
    "duration": 10,
    "start_time": "2024-01-31T20:50:50.781Z"
   },
   {
    "duration": 143,
    "start_time": "2024-01-31T20:51:09.141Z"
   },
   {
    "duration": 141,
    "start_time": "2024-01-31T20:51:23.201Z"
   },
   {
    "duration": 139,
    "start_time": "2024-01-31T20:54:21.777Z"
   },
   {
    "duration": 146,
    "start_time": "2024-01-31T20:54:27.973Z"
   },
   {
    "duration": 289,
    "start_time": "2024-01-31T20:55:15.161Z"
   },
   {
    "duration": 134,
    "start_time": "2024-01-31T20:55:26.281Z"
   },
   {
    "duration": 136,
    "start_time": "2024-01-31T20:55:42.344Z"
   },
   {
    "duration": 136,
    "start_time": "2024-01-31T20:57:05.621Z"
   },
   {
    "duration": 149,
    "start_time": "2024-01-31T20:58:05.717Z"
   },
   {
    "duration": 87,
    "start_time": "2024-01-31T20:59:55.829Z"
   },
   {
    "duration": 162,
    "start_time": "2024-01-31T21:00:03.804Z"
   },
   {
    "duration": 95,
    "start_time": "2024-01-31T21:02:24.636Z"
   },
   {
    "duration": 13,
    "start_time": "2024-01-31T21:02:34.341Z"
   },
   {
    "duration": 131,
    "start_time": "2024-01-31T21:03:28.848Z"
   },
   {
    "duration": 154,
    "start_time": "2024-01-31T21:03:48.224Z"
   },
   {
    "duration": 163,
    "start_time": "2024-01-31T21:06:55.795Z"
   },
   {
    "duration": 42223,
    "start_time": "2024-01-31T21:07:09.495Z"
   },
   {
    "duration": 27005,
    "start_time": "2024-01-31T21:08:35.547Z"
   },
   {
    "duration": 12,
    "start_time": "2024-01-31T21:10:02.716Z"
   },
   {
    "duration": 42620,
    "start_time": "2024-01-31T21:10:14.559Z"
   },
   {
    "duration": 180,
    "start_time": "2024-01-31T21:11:14.839Z"
   },
   {
    "duration": 14,
    "start_time": "2024-01-31T21:11:47.632Z"
   },
   {
    "duration": 244,
    "start_time": "2024-01-31T21:14:49.079Z"
   },
   {
    "duration": 175,
    "start_time": "2024-01-31T21:15:03.694Z"
   },
   {
    "duration": 172,
    "start_time": "2024-01-31T21:17:47.614Z"
   },
   {
    "duration": 1147,
    "start_time": "2024-01-31T21:25:35.077Z"
   },
   {
    "duration": 9,
    "start_time": "2024-01-31T21:26:05.824Z"
   },
   {
    "duration": 5,
    "start_time": "2024-01-31T21:27:08.853Z"
   },
   {
    "duration": 188,
    "start_time": "2024-01-31T21:27:56.753Z"
   },
   {
    "duration": 172,
    "start_time": "2024-01-31T21:32:52.791Z"
   },
   {
    "duration": 180,
    "start_time": "2024-01-31T21:33:13.691Z"
   },
   {
    "duration": 1301,
    "start_time": "2024-02-01T08:08:42.566Z"
   },
   {
    "duration": 326,
    "start_time": "2024-02-01T08:08:43.869Z"
   },
   {
    "duration": 18,
    "start_time": "2024-02-01T08:08:44.196Z"
   },
   {
    "duration": 49,
    "start_time": "2024-02-01T08:08:44.216Z"
   },
   {
    "duration": 67,
    "start_time": "2024-02-01T08:08:44.266Z"
   },
   {
    "duration": 16,
    "start_time": "2024-02-01T08:08:44.335Z"
   },
   {
    "duration": 36,
    "start_time": "2024-02-01T08:08:44.353Z"
   },
   {
    "duration": 46,
    "start_time": "2024-02-01T08:08:44.391Z"
   },
   {
    "duration": 11,
    "start_time": "2024-02-01T08:08:44.439Z"
   },
   {
    "duration": 16,
    "start_time": "2024-02-01T08:08:44.453Z"
   },
   {
    "duration": 30,
    "start_time": "2024-02-01T08:08:44.471Z"
   },
   {
    "duration": 18,
    "start_time": "2024-02-01T08:08:44.502Z"
   },
   {
    "duration": 9,
    "start_time": "2024-02-01T08:08:44.521Z"
   },
   {
    "duration": 8,
    "start_time": "2024-02-01T08:08:44.532Z"
   },
   {
    "duration": 24,
    "start_time": "2024-02-01T08:08:44.542Z"
   },
   {
    "duration": 27,
    "start_time": "2024-02-01T08:08:44.568Z"
   },
   {
    "duration": 188,
    "start_time": "2024-02-01T08:08:44.597Z"
   },
   {
    "duration": 8,
    "start_time": "2024-02-01T08:08:44.787Z"
   },
   {
    "duration": 126,
    "start_time": "2024-02-01T08:08:44.796Z"
   },
   {
    "duration": 232,
    "start_time": "2024-02-01T08:08:44.924Z"
   },
   {
    "duration": 14,
    "start_time": "2024-02-01T08:08:45.158Z"
   },
   {
    "duration": 324,
    "start_time": "2024-02-01T08:08:45.186Z"
   },
   {
    "duration": 21,
    "start_time": "2024-02-01T08:08:45.512Z"
   },
   {
    "duration": 956,
    "start_time": "2024-02-01T08:08:45.534Z"
   },
   {
    "duration": 139,
    "start_time": "2024-02-01T08:08:46.492Z"
   },
   {
    "duration": 15,
    "start_time": "2024-02-01T08:08:46.633Z"
   },
   {
    "duration": 446,
    "start_time": "2024-02-01T08:08:46.649Z"
   },
   {
    "duration": 6,
    "start_time": "2024-02-01T08:08:47.098Z"
   },
   {
    "duration": 35,
    "start_time": "2024-02-01T08:08:47.105Z"
   },
   {
    "duration": 23,
    "start_time": "2024-02-01T08:08:47.141Z"
   },
   {
    "duration": 14,
    "start_time": "2024-02-01T08:08:47.166Z"
   },
   {
    "duration": 19,
    "start_time": "2024-02-01T08:08:47.182Z"
   },
   {
    "duration": 38,
    "start_time": "2024-02-01T08:08:47.204Z"
   },
   {
    "duration": 384,
    "start_time": "2024-02-01T08:08:47.244Z"
   },
   {
    "duration": 497,
    "start_time": "2024-02-01T08:08:47.629Z"
   },
   {
    "duration": 25,
    "start_time": "2024-02-01T08:08:48.127Z"
   },
   {
    "duration": 16,
    "start_time": "2024-02-01T08:08:48.154Z"
   },
   {
    "duration": 22,
    "start_time": "2024-02-01T08:08:48.187Z"
   },
   {
    "duration": 16,
    "start_time": "2024-02-01T08:08:48.211Z"
   },
   {
    "duration": 35,
    "start_time": "2024-02-01T08:08:48.228Z"
   },
   {
    "duration": 5,
    "start_time": "2024-02-01T08:08:48.265Z"
   },
   {
    "duration": 17,
    "start_time": "2024-02-01T08:08:48.271Z"
   },
   {
    "duration": 25,
    "start_time": "2024-02-01T08:08:48.289Z"
   },
   {
    "duration": 18,
    "start_time": "2024-02-01T08:08:48.316Z"
   },
   {
    "duration": 2661,
    "start_time": "2024-02-01T08:08:56.909Z"
   },
   {
    "duration": 2667,
    "start_time": "2024-02-01T08:09:58.085Z"
   },
   {
    "duration": 1927,
    "start_time": "2024-02-01T08:11:19.920Z"
   },
   {
    "duration": 1847,
    "start_time": "2024-02-01T08:12:31.296Z"
   },
   {
    "duration": 1898,
    "start_time": "2024-02-01T08:13:30.440Z"
   },
   {
    "duration": 1922,
    "start_time": "2024-02-01T08:14:23.728Z"
   },
   {
    "duration": 2001,
    "start_time": "2024-02-01T08:15:29.680Z"
   },
   {
    "duration": 1835,
    "start_time": "2024-02-01T08:16:12.199Z"
   },
   {
    "duration": 1762,
    "start_time": "2024-02-01T08:17:13.646Z"
   },
   {
    "duration": 1772,
    "start_time": "2024-02-01T08:18:30.106Z"
   },
   {
    "duration": 1824,
    "start_time": "2024-02-01T08:21:41.617Z"
   },
   {
    "duration": 1945,
    "start_time": "2024-02-01T08:22:38.153Z"
   },
   {
    "duration": 3185,
    "start_time": "2024-02-01T08:23:18.233Z"
   },
   {
    "duration": 517,
    "start_time": "2024-02-01T08:24:48.089Z"
   },
   {
    "duration": 102,
    "start_time": "2024-02-01T08:34:16.403Z"
   },
   {
    "duration": 93,
    "start_time": "2024-02-01T08:34:28.846Z"
   },
   {
    "duration": 106,
    "start_time": "2024-02-01T08:35:14.727Z"
   },
   {
    "duration": 2259,
    "start_time": "2024-02-01T08:36:03.974Z"
   },
   {
    "duration": 560,
    "start_time": "2024-02-01T08:39:06.134Z"
   },
   {
    "duration": 549,
    "start_time": "2024-02-01T08:39:32.658Z"
   },
   {
    "duration": 2032,
    "start_time": "2024-02-01T08:40:05.552Z"
   },
   {
    "duration": 2002,
    "start_time": "2024-02-01T08:41:30.742Z"
   },
   {
    "duration": 2050,
    "start_time": "2024-02-01T08:42:19.090Z"
   },
   {
    "duration": 2003,
    "start_time": "2024-02-01T08:43:13.953Z"
   },
   {
    "duration": 2139,
    "start_time": "2024-02-01T08:43:33.815Z"
   },
   {
    "duration": 2012,
    "start_time": "2024-02-01T08:43:44.537Z"
   },
   {
    "duration": 2104,
    "start_time": "2024-02-01T08:47:02.133Z"
   },
   {
    "duration": 2130,
    "start_time": "2024-02-01T08:50:08.269Z"
   },
   {
    "duration": 2199,
    "start_time": "2024-02-01T08:51:54.309Z"
   },
   {
    "duration": 2056,
    "start_time": "2024-02-01T08:52:19.064Z"
   },
   {
    "duration": 4,
    "start_time": "2024-02-01T09:09:24.494Z"
   },
   {
    "duration": 2109,
    "start_time": "2024-02-01T09:09:47.705Z"
   },
   {
    "duration": 97,
    "start_time": "2024-02-01T09:44:02.835Z"
   },
   {
    "duration": 90,
    "start_time": "2024-02-01T09:44:19.679Z"
   },
   {
    "duration": 98,
    "start_time": "2024-02-01T09:44:28.747Z"
   },
   {
    "duration": 87,
    "start_time": "2024-02-01T09:44:52.711Z"
   },
   {
    "duration": 92,
    "start_time": "2024-02-01T09:45:05.115Z"
   },
   {
    "duration": 211,
    "start_time": "2024-02-01T09:45:19.887Z"
   },
   {
    "duration": 197,
    "start_time": "2024-02-01T09:45:28.071Z"
   },
   {
    "duration": 91,
    "start_time": "2024-02-01T09:49:16.242Z"
   },
   {
    "duration": 198,
    "start_time": "2024-02-01T09:49:27.190Z"
   },
   {
    "duration": 5,
    "start_time": "2024-02-01T09:49:52.499Z"
   },
   {
    "duration": 298,
    "start_time": "2024-02-01T09:50:52.186Z"
   },
   {
    "duration": 11,
    "start_time": "2024-02-01T09:51:42.155Z"
   },
   {
    "duration": 11,
    "start_time": "2024-02-01T09:51:52.738Z"
   },
   {
    "duration": 232,
    "start_time": "2024-02-01T09:52:41.395Z"
   },
   {
    "duration": 92,
    "start_time": "2024-02-01T10:02:02.922Z"
   },
   {
    "duration": 237,
    "start_time": "2024-02-01T10:02:14.472Z"
   },
   {
    "duration": 231,
    "start_time": "2024-02-01T10:05:52.197Z"
   },
   {
    "duration": 258,
    "start_time": "2024-02-01T10:07:17.373Z"
   },
   {
    "duration": 1258,
    "start_time": "2024-02-01T14:43:25.975Z"
   },
   {
    "duration": 300,
    "start_time": "2024-02-01T14:43:44.689Z"
   },
   {
    "duration": 17,
    "start_time": "2024-02-01T14:43:49.621Z"
   },
   {
    "duration": 16,
    "start_time": "2024-02-01T14:43:55.850Z"
   },
   {
    "duration": 26,
    "start_time": "2024-02-01T14:44:06.761Z"
   },
   {
    "duration": 15,
    "start_time": "2024-02-01T14:44:09.682Z"
   },
   {
    "duration": 13,
    "start_time": "2024-02-01T14:48:29.640Z"
   },
   {
    "duration": 16,
    "start_time": "2024-02-01T14:48:35.584Z"
   },
   {
    "duration": 13,
    "start_time": "2024-02-01T14:48:38.927Z"
   },
   {
    "duration": 7,
    "start_time": "2024-02-01T14:48:45.747Z"
   },
   {
    "duration": 7,
    "start_time": "2024-02-01T14:48:46.576Z"
   },
   {
    "duration": 7,
    "start_time": "2024-02-01T14:48:56.460Z"
   },
   {
    "duration": 7,
    "start_time": "2024-02-01T14:49:11.844Z"
   },
   {
    "duration": 7,
    "start_time": "2024-02-01T14:49:21.487Z"
   },
   {
    "duration": 8,
    "start_time": "2024-02-01T14:49:36.872Z"
   },
   {
    "duration": 17,
    "start_time": "2024-02-01T14:49:40.119Z"
   },
   {
    "duration": 9,
    "start_time": "2024-02-01T14:49:56.295Z"
   },
   {
    "duration": 8,
    "start_time": "2024-02-01T14:50:05.080Z"
   },
   {
    "duration": 9,
    "start_time": "2024-02-01T14:50:07.727Z"
   },
   {
    "duration": 8,
    "start_time": "2024-02-01T14:50:13.791Z"
   },
   {
    "duration": 153,
    "start_time": "2024-02-01T14:50:15.895Z"
   },
   {
    "duration": 12,
    "start_time": "2024-02-01T14:50:49.069Z"
   },
   {
    "duration": 95,
    "start_time": "2024-02-01T14:51:39.838Z"
   },
   {
    "duration": 108,
    "start_time": "2024-02-01T14:52:37.827Z"
   },
   {
    "duration": 103,
    "start_time": "2024-02-01T14:53:48.991Z"
   },
   {
    "duration": 237,
    "start_time": "2024-02-01T14:54:57.863Z"
   },
   {
    "duration": 21,
    "start_time": "2024-02-01T14:58:03.555Z"
   },
   {
    "duration": 260,
    "start_time": "2024-02-01T14:58:08.128Z"
   },
   {
    "duration": 20,
    "start_time": "2024-02-01T14:58:50.979Z"
   },
   {
    "duration": 902,
    "start_time": "2024-02-01T14:59:01.755Z"
   },
   {
    "duration": 152,
    "start_time": "2024-02-01T15:00:21.924Z"
   },
   {
    "duration": 415,
    "start_time": "2024-02-01T15:02:21.191Z"
   },
   {
    "duration": 15,
    "start_time": "2024-02-01T15:25:26.227Z"
   },
   {
    "duration": 372,
    "start_time": "2024-02-01T15:27:07.863Z"
   },
   {
    "duration": 7,
    "start_time": "2024-02-01T15:33:16.082Z"
   },
   {
    "duration": 22,
    "start_time": "2024-02-01T15:33:18.242Z"
   },
   {
    "duration": 15,
    "start_time": "2024-02-01T15:51:35.903Z"
   },
   {
    "duration": 14,
    "start_time": "2024-02-01T15:51:37.766Z"
   },
   {
    "duration": 20,
    "start_time": "2024-02-01T15:52:15.263Z"
   },
   {
    "duration": 11,
    "start_time": "2024-02-01T15:52:28.786Z"
   },
   {
    "duration": 21,
    "start_time": "2024-02-01T15:52:31.631Z"
   },
   {
    "duration": 349,
    "start_time": "2024-02-01T15:54:05.054Z"
   },
   {
    "duration": 443,
    "start_time": "2024-02-01T15:54:24.534Z"
   },
   {
    "duration": 618,
    "start_time": "2024-02-01T15:54:35.263Z"
   },
   {
    "duration": 24,
    "start_time": "2024-02-01T15:55:13.166Z"
   },
   {
    "duration": 13,
    "start_time": "2024-02-01T16:03:15.396Z"
   },
   {
    "duration": 21,
    "start_time": "2024-02-01T16:11:36.739Z"
   },
   {
    "duration": 19,
    "start_time": "2024-02-01T16:12:40.707Z"
   },
   {
    "duration": 6,
    "start_time": "2024-02-01T16:12:44.382Z"
   },
   {
    "duration": 4,
    "start_time": "2024-02-01T16:12:47.758Z"
   },
   {
    "duration": 10,
    "start_time": "2024-02-01T16:12:54.178Z"
   },
   {
    "duration": 11,
    "start_time": "2024-02-01T16:12:57.686Z"
   },
   {
    "duration": 2119,
    "start_time": "2024-02-01T16:13:20.065Z"
   },
   {
    "duration": 1997,
    "start_time": "2024-02-01T16:13:27.390Z"
   },
   {
    "duration": 95,
    "start_time": "2024-02-01T16:13:59.235Z"
   },
   {
    "duration": 14,
    "start_time": "2024-02-01T16:14:17.590Z"
   },
   {
    "duration": 197,
    "start_time": "2024-02-01T16:15:35.554Z"
   },
   {
    "duration": 10,
    "start_time": "2024-02-01T17:16:21.473Z"
   },
   {
    "duration": 2215,
    "start_time": "2024-02-01T17:19:23.650Z"
   },
   {
    "duration": 2491,
    "start_time": "2024-02-01T17:19:36.746Z"
   },
   {
    "duration": 9,
    "start_time": "2024-02-01T17:48:56.972Z"
   },
   {
    "duration": 4,
    "start_time": "2024-02-01T18:00:33.232Z"
   },
   {
    "duration": 79,
    "start_time": "2024-02-01T18:00:36.329Z"
   },
   {
    "duration": 17,
    "start_time": "2024-02-01T18:00:37.040Z"
   },
   {
    "duration": 16,
    "start_time": "2024-02-01T18:00:38.599Z"
   },
   {
    "duration": 13,
    "start_time": "2024-02-01T18:00:40.140Z"
   },
   {
    "duration": 5,
    "start_time": "2024-02-01T18:00:43.332Z"
   },
   {
    "duration": 7,
    "start_time": "2024-02-01T18:00:43.888Z"
   },
   {
    "duration": 7,
    "start_time": "2024-02-01T18:00:45.196Z"
   },
   {
    "duration": 6,
    "start_time": "2024-02-01T18:00:46.580Z"
   },
   {
    "duration": 7,
    "start_time": "2024-02-01T18:00:47.832Z"
   },
   {
    "duration": 9,
    "start_time": "2024-02-01T18:00:49.443Z"
   },
   {
    "duration": 17,
    "start_time": "2024-02-01T18:00:50.080Z"
   },
   {
    "duration": 10,
    "start_time": "2024-02-01T18:00:51.379Z"
   },
   {
    "duration": 5,
    "start_time": "2024-02-01T18:00:52.352Z"
   },
   {
    "duration": 9,
    "start_time": "2024-02-01T18:00:53.387Z"
   },
   {
    "duration": 11,
    "start_time": "2024-02-01T18:00:54.977Z"
   },
   {
    "duration": 173,
    "start_time": "2024-02-01T18:00:55.800Z"
   },
   {
    "duration": 88,
    "start_time": "2024-02-01T18:00:57.804Z"
   },
   {
    "duration": 225,
    "start_time": "2024-02-01T18:00:59.177Z"
   },
   {
    "duration": 16,
    "start_time": "2024-02-01T18:01:01.136Z"
   },
   {
    "duration": 258,
    "start_time": "2024-02-01T18:01:02.205Z"
   },
   {
    "duration": 29,
    "start_time": "2024-02-01T18:01:03.852Z"
   },
   {
    "duration": 1075,
    "start_time": "2024-02-01T18:01:04.917Z"
   },
   {
    "duration": 131,
    "start_time": "2024-02-01T18:01:05.994Z"
   },
   {
    "duration": 13,
    "start_time": "2024-02-01T18:01:10.224Z"
   },
   {
    "duration": 402,
    "start_time": "2024-02-01T18:01:12.604Z"
   },
   {
    "duration": 6,
    "start_time": "2024-02-01T18:01:14.264Z"
   },
   {
    "duration": 20,
    "start_time": "2024-02-01T18:01:15.356Z"
   },
   {
    "duration": 15,
    "start_time": "2024-02-01T18:01:17.508Z"
   },
   {
    "duration": 11,
    "start_time": "2024-02-01T18:01:18.144Z"
   },
   {
    "duration": 12,
    "start_time": "2024-02-01T18:01:19.183Z"
   },
   {
    "duration": 21,
    "start_time": "2024-02-01T18:01:19.673Z"
   },
   {
    "duration": 370,
    "start_time": "2024-02-01T18:01:20.620Z"
   },
   {
    "duration": 456,
    "start_time": "2024-02-01T18:01:21.112Z"
   },
   {
    "duration": 23,
    "start_time": "2024-02-01T18:01:21.744Z"
   },
   {
    "duration": 17,
    "start_time": "2024-02-01T18:01:23.452Z"
   },
   {
    "duration": 20,
    "start_time": "2024-02-01T18:01:25.356Z"
   },
   {
    "duration": 12,
    "start_time": "2024-02-01T18:01:25.900Z"
   },
   {
    "duration": 21,
    "start_time": "2024-02-01T18:01:28.028Z"
   },
   {
    "duration": 4,
    "start_time": "2024-02-01T18:01:29.196Z"
   },
   {
    "duration": 5,
    "start_time": "2024-02-01T18:01:31.252Z"
   },
   {
    "duration": 10,
    "start_time": "2024-02-01T18:01:33.168Z"
   },
   {
    "duration": 2185,
    "start_time": "2024-02-01T18:01:36.859Z"
   },
   {
    "duration": 2176,
    "start_time": "2024-02-01T18:01:50.056Z"
   },
   {
    "duration": 211,
    "start_time": "2024-02-01T18:01:57.799Z"
   },
   {
    "duration": 5,
    "start_time": "2024-02-01T18:06:36.719Z"
   },
   {
    "duration": 9,
    "start_time": "2024-02-01T18:06:37.483Z"
   },
   {
    "duration": 2033,
    "start_time": "2024-02-01T18:06:39.967Z"
   },
   {
    "duration": 2147,
    "start_time": "2024-02-01T18:06:43.759Z"
   },
   {
    "duration": 1109,
    "start_time": "2024-02-01T18:31:31.755Z"
   },
   {
    "duration": 84,
    "start_time": "2024-02-01T18:31:32.866Z"
   },
   {
    "duration": 17,
    "start_time": "2024-02-01T18:31:32.951Z"
   },
   {
    "duration": 51,
    "start_time": "2024-02-01T18:31:32.970Z"
   },
   {
    "duration": 50,
    "start_time": "2024-02-01T18:31:33.023Z"
   },
   {
    "duration": 34,
    "start_time": "2024-02-01T18:31:33.075Z"
   },
   {
    "duration": 36,
    "start_time": "2024-02-01T18:31:33.110Z"
   },
   {
    "duration": 32,
    "start_time": "2024-02-01T18:31:33.147Z"
   },
   {
    "duration": 38,
    "start_time": "2024-02-01T18:31:33.180Z"
   },
   {
    "duration": 31,
    "start_time": "2024-02-01T18:31:33.220Z"
   },
   {
    "duration": 40,
    "start_time": "2024-02-01T18:31:33.252Z"
   },
   {
    "duration": 54,
    "start_time": "2024-02-01T18:31:33.293Z"
   },
   {
    "duration": 17,
    "start_time": "2024-02-01T18:31:33.349Z"
   },
   {
    "duration": 30,
    "start_time": "2024-02-01T18:31:33.367Z"
   },
   {
    "duration": 32,
    "start_time": "2024-02-01T18:31:33.399Z"
   },
   {
    "duration": 37,
    "start_time": "2024-02-01T18:31:33.433Z"
   },
   {
    "duration": 202,
    "start_time": "2024-02-01T18:31:33.472Z"
   },
   {
    "duration": 99,
    "start_time": "2024-02-01T18:31:33.675Z"
   },
   {
    "duration": 233,
    "start_time": "2024-02-01T18:31:33.775Z"
   },
   {
    "duration": 14,
    "start_time": "2024-02-01T18:31:34.010Z"
   },
   {
    "duration": 310,
    "start_time": "2024-02-01T18:31:34.026Z"
   },
   {
    "duration": 20,
    "start_time": "2024-02-01T18:31:34.337Z"
   },
   {
    "duration": 944,
    "start_time": "2024-02-01T18:31:34.359Z"
   },
   {
    "duration": 141,
    "start_time": "2024-02-01T18:31:35.304Z"
   },
   {
    "duration": 14,
    "start_time": "2024-02-01T18:31:35.446Z"
   },
   {
    "duration": 440,
    "start_time": "2024-02-01T18:31:35.461Z"
   },
   {
    "duration": 6,
    "start_time": "2024-02-01T18:31:35.903Z"
   },
   {
    "duration": 39,
    "start_time": "2024-02-01T18:31:35.911Z"
   },
   {
    "duration": 14,
    "start_time": "2024-02-01T18:31:35.952Z"
   },
   {
    "duration": 17,
    "start_time": "2024-02-01T18:31:35.968Z"
   },
   {
    "duration": 38,
    "start_time": "2024-02-01T18:31:35.986Z"
   },
   {
    "duration": 80,
    "start_time": "2024-02-01T18:31:36.026Z"
   },
   {
    "duration": 393,
    "start_time": "2024-02-01T18:31:36.108Z"
   },
   {
    "duration": 461,
    "start_time": "2024-02-01T18:31:36.503Z"
   },
   {
    "duration": 29,
    "start_time": "2024-02-01T18:31:36.966Z"
   },
   {
    "duration": 11,
    "start_time": "2024-02-01T18:31:36.996Z"
   },
   {
    "duration": 27,
    "start_time": "2024-02-01T18:31:37.009Z"
   },
   {
    "duration": 20,
    "start_time": "2024-02-01T18:31:37.038Z"
   },
   {
    "duration": 24,
    "start_time": "2024-02-01T18:31:37.059Z"
   },
   {
    "duration": 10,
    "start_time": "2024-02-01T18:31:37.085Z"
   },
   {
    "duration": 32,
    "start_time": "2024-02-01T18:31:37.096Z"
   },
   {
    "duration": 34,
    "start_time": "2024-02-01T18:31:37.130Z"
   },
   {
    "duration": 2238,
    "start_time": "2024-02-01T18:31:37.165Z"
   },
   {
    "duration": 227,
    "start_time": "2024-02-01T18:31:39.404Z"
   },
   {
    "duration": 1016,
    "start_time": "2024-02-01T18:50:56.753Z"
   },
   {
    "duration": 83,
    "start_time": "2024-02-01T18:50:57.770Z"
   },
   {
    "duration": 16,
    "start_time": "2024-02-01T18:50:57.854Z"
   },
   {
    "duration": 26,
    "start_time": "2024-02-01T18:50:57.872Z"
   },
   {
    "duration": 57,
    "start_time": "2024-02-01T18:50:57.899Z"
   },
   {
    "duration": 33,
    "start_time": "2024-02-01T18:50:57.957Z"
   },
   {
    "duration": 43,
    "start_time": "2024-02-01T18:50:57.991Z"
   },
   {
    "duration": 32,
    "start_time": "2024-02-01T18:50:58.036Z"
   },
   {
    "duration": 34,
    "start_time": "2024-02-01T18:50:58.070Z"
   },
   {
    "duration": 35,
    "start_time": "2024-02-01T18:50:58.107Z"
   },
   {
    "duration": 19,
    "start_time": "2024-02-01T18:50:58.144Z"
   },
   {
    "duration": 45,
    "start_time": "2024-02-01T18:50:58.164Z"
   },
   {
    "duration": 37,
    "start_time": "2024-02-01T18:50:58.210Z"
   },
   {
    "duration": 38,
    "start_time": "2024-02-01T18:50:58.249Z"
   },
   {
    "duration": 33,
    "start_time": "2024-02-01T18:50:58.289Z"
   },
   {
    "duration": 58,
    "start_time": "2024-02-01T18:50:58.323Z"
   },
   {
    "duration": 189,
    "start_time": "2024-02-01T18:50:58.382Z"
   },
   {
    "duration": 100,
    "start_time": "2024-02-01T18:50:58.573Z"
   },
   {
    "duration": 219,
    "start_time": "2024-02-01T18:50:58.675Z"
   },
   {
    "duration": 15,
    "start_time": "2024-02-01T18:50:58.895Z"
   },
   {
    "duration": 317,
    "start_time": "2024-02-01T18:50:58.911Z"
   },
   {
    "duration": 20,
    "start_time": "2024-02-01T18:50:59.230Z"
   },
   {
    "duration": 931,
    "start_time": "2024-02-01T18:50:59.252Z"
   },
   {
    "duration": 134,
    "start_time": "2024-02-01T18:51:00.185Z"
   },
   {
    "duration": 14,
    "start_time": "2024-02-01T18:51:00.320Z"
   },
   {
    "duration": 453,
    "start_time": "2024-02-01T18:51:00.336Z"
   },
   {
    "duration": 7,
    "start_time": "2024-02-01T18:51:00.791Z"
   },
   {
    "duration": 94,
    "start_time": "2024-02-01T18:51:00.801Z"
   },
   {
    "duration": 53,
    "start_time": "2024-02-01T18:51:00.896Z"
   },
   {
    "duration": 65,
    "start_time": "2024-02-01T18:51:00.951Z"
   },
   {
    "duration": 74,
    "start_time": "2024-02-01T18:51:01.018Z"
   },
   {
    "duration": 46,
    "start_time": "2024-02-01T18:51:01.094Z"
   },
   {
    "duration": 397,
    "start_time": "2024-02-01T18:51:01.142Z"
   },
   {
    "duration": 478,
    "start_time": "2024-02-01T18:51:01.540Z"
   },
   {
    "duration": 26,
    "start_time": "2024-02-01T18:51:02.019Z"
   },
   {
    "duration": 48,
    "start_time": "2024-02-01T18:51:02.046Z"
   },
   {
    "duration": 52,
    "start_time": "2024-02-01T18:51:02.095Z"
   },
   {
    "duration": 19,
    "start_time": "2024-02-01T18:51:02.149Z"
   },
   {
    "duration": 51,
    "start_time": "2024-02-01T18:51:02.170Z"
   },
   {
    "duration": 8,
    "start_time": "2024-02-01T18:51:02.222Z"
   },
   {
    "duration": 41,
    "start_time": "2024-02-01T18:51:02.231Z"
   },
   {
    "duration": 50,
    "start_time": "2024-02-01T18:51:02.274Z"
   },
   {
    "duration": 2339,
    "start_time": "2024-02-01T18:51:02.325Z"
   },
   {
    "duration": 212,
    "start_time": "2024-02-01T18:51:04.666Z"
   },
   {
    "duration": 9,
    "start_time": "2024-02-01T19:10:06.845Z"
   },
   {
    "duration": 1057,
    "start_time": "2024-02-01T19:12:36.094Z"
   },
   {
    "duration": 83,
    "start_time": "2024-02-01T19:12:37.153Z"
   },
   {
    "duration": 16,
    "start_time": "2024-02-01T19:12:37.237Z"
   },
   {
    "duration": 27,
    "start_time": "2024-02-01T19:12:37.255Z"
   },
   {
    "duration": 11,
    "start_time": "2024-02-01T19:12:37.284Z"
   },
   {
    "duration": 11,
    "start_time": "2024-02-01T19:12:37.297Z"
   },
   {
    "duration": 15,
    "start_time": "2024-02-01T19:12:37.309Z"
   },
   {
    "duration": 12,
    "start_time": "2024-02-01T19:12:37.326Z"
   },
   {
    "duration": 19,
    "start_time": "2024-02-01T19:12:37.340Z"
   },
   {
    "duration": 42,
    "start_time": "2024-02-01T19:12:37.363Z"
   },
   {
    "duration": 26,
    "start_time": "2024-02-01T19:12:37.406Z"
   },
   {
    "duration": 33,
    "start_time": "2024-02-01T19:12:37.434Z"
   },
   {
    "duration": 9,
    "start_time": "2024-02-01T19:12:37.469Z"
   },
   {
    "duration": 22,
    "start_time": "2024-02-01T19:12:37.480Z"
   },
   {
    "duration": 24,
    "start_time": "2024-02-01T19:12:37.503Z"
   },
   {
    "duration": 17,
    "start_time": "2024-02-01T19:12:37.529Z"
   },
   {
    "duration": 202,
    "start_time": "2024-02-01T19:12:37.548Z"
   },
   {
    "duration": 101,
    "start_time": "2024-02-01T19:12:37.751Z"
   },
   {
    "duration": 205,
    "start_time": "2024-02-01T19:12:37.853Z"
   },
   {
    "duration": 14,
    "start_time": "2024-02-01T19:12:38.059Z"
   },
   {
    "duration": 271,
    "start_time": "2024-02-01T19:12:38.075Z"
   },
   {
    "duration": 19,
    "start_time": "2024-02-01T19:12:38.348Z"
   },
   {
    "duration": 946,
    "start_time": "2024-02-01T19:12:38.369Z"
   },
   {
    "duration": 135,
    "start_time": "2024-02-01T19:12:39.316Z"
   },
   {
    "duration": 14,
    "start_time": "2024-02-01T19:12:39.453Z"
   },
   {
    "duration": 411,
    "start_time": "2024-02-01T19:12:39.468Z"
   },
   {
    "duration": 2,
    "start_time": "2024-02-01T19:12:39.881Z"
   },
   {
    "duration": 20,
    "start_time": "2024-02-01T19:12:39.895Z"
   },
   {
    "duration": 15,
    "start_time": "2024-02-01T19:12:39.916Z"
   },
   {
    "duration": 12,
    "start_time": "2024-02-01T19:12:39.932Z"
   },
   {
    "duration": 39,
    "start_time": "2024-02-01T19:12:39.945Z"
   },
   {
    "duration": 20,
    "start_time": "2024-02-01T19:12:39.985Z"
   },
   {
    "duration": 374,
    "start_time": "2024-02-01T19:12:40.006Z"
   },
   {
    "duration": 470,
    "start_time": "2024-02-01T19:12:40.382Z"
   },
   {
    "duration": 26,
    "start_time": "2024-02-01T19:12:40.854Z"
   },
   {
    "duration": 22,
    "start_time": "2024-02-01T19:12:40.881Z"
   },
   {
    "duration": 26,
    "start_time": "2024-02-01T19:12:40.904Z"
   },
   {
    "duration": 12,
    "start_time": "2024-02-01T19:12:40.932Z"
   },
   {
    "duration": 21,
    "start_time": "2024-02-01T19:12:40.946Z"
   },
   {
    "duration": 41,
    "start_time": "2024-02-01T19:12:40.968Z"
   },
   {
    "duration": 5,
    "start_time": "2024-02-01T19:12:41.011Z"
   },
   {
    "duration": 5,
    "start_time": "2024-02-01T19:12:41.017Z"
   },
   {
    "duration": 37,
    "start_time": "2024-02-01T19:12:41.024Z"
   },
   {
    "duration": 2245,
    "start_time": "2024-02-01T19:12:41.063Z"
   },
   {
    "duration": 236,
    "start_time": "2024-02-01T19:12:43.309Z"
   },
   {
    "duration": 1413,
    "start_time": "2024-02-01T19:14:31.994Z"
   },
   {
    "duration": 1381,
    "start_time": "2024-02-01T19:14:50.799Z"
   },
   {
    "duration": 119,
    "start_time": "2024-02-01T19:15:07.206Z"
   },
   {
    "duration": 10,
    "start_time": "2024-02-01T19:15:15.590Z"
   },
   {
    "duration": 133,
    "start_time": "2024-02-01T19:15:29.455Z"
   },
   {
    "duration": 10,
    "start_time": "2024-02-01T19:15:30.648Z"
   },
   {
    "duration": 1425,
    "start_time": "2024-02-01T19:16:01.392Z"
   },
   {
    "duration": 13,
    "start_time": "2024-02-01T19:16:02.927Z"
   },
   {
    "duration": 1346,
    "start_time": "2024-02-01T19:16:11.535Z"
   },
   {
    "duration": 17,
    "start_time": "2024-02-01T19:16:21.583Z"
   },
   {
    "duration": 137,
    "start_time": "2024-02-01T19:16:25.887Z"
   },
   {
    "duration": 8,
    "start_time": "2024-02-01T19:16:27.616Z"
   },
   {
    "duration": 1078,
    "start_time": "2024-02-01T19:16:43.762Z"
   },
   {
    "duration": 88,
    "start_time": "2024-02-01T19:16:44.841Z"
   },
   {
    "duration": 17,
    "start_time": "2024-02-01T19:16:44.930Z"
   },
   {
    "duration": 20,
    "start_time": "2024-02-01T19:16:44.948Z"
   },
   {
    "duration": 20,
    "start_time": "2024-02-01T19:16:44.970Z"
   },
   {
    "duration": 21,
    "start_time": "2024-02-01T19:16:44.992Z"
   },
   {
    "duration": 43,
    "start_time": "2024-02-01T19:16:45.015Z"
   },
   {
    "duration": 30,
    "start_time": "2024-02-01T19:16:45.059Z"
   },
   {
    "duration": 20,
    "start_time": "2024-02-01T19:16:45.090Z"
   },
   {
    "duration": 88,
    "start_time": "2024-02-01T19:16:45.111Z"
   },
   {
    "duration": 28,
    "start_time": "2024-02-01T19:16:45.201Z"
   },
   {
    "duration": 16,
    "start_time": "2024-02-01T19:16:45.230Z"
   },
   {
    "duration": 42,
    "start_time": "2024-02-01T19:16:45.248Z"
   },
   {
    "duration": 44,
    "start_time": "2024-02-01T19:16:45.292Z"
   },
   {
    "duration": 34,
    "start_time": "2024-02-01T19:16:45.337Z"
   },
   {
    "duration": 21,
    "start_time": "2024-02-01T19:16:45.372Z"
   },
   {
    "duration": 195,
    "start_time": "2024-02-01T19:16:45.395Z"
   },
   {
    "duration": 88,
    "start_time": "2024-02-01T19:16:45.591Z"
   },
   {
    "duration": 213,
    "start_time": "2024-02-01T19:16:45.681Z"
   },
   {
    "duration": 13,
    "start_time": "2024-02-01T19:16:45.895Z"
   },
   {
    "duration": 264,
    "start_time": "2024-02-01T19:16:45.910Z"
   },
   {
    "duration": 28,
    "start_time": "2024-02-01T19:16:46.175Z"
   },
   {
    "duration": 912,
    "start_time": "2024-02-01T19:16:46.204Z"
   },
   {
    "duration": 127,
    "start_time": "2024-02-01T19:16:47.118Z"
   },
   {
    "duration": 14,
    "start_time": "2024-02-01T19:16:47.246Z"
   },
   {
    "duration": 426,
    "start_time": "2024-02-01T19:16:47.262Z"
   },
   {
    "duration": 2,
    "start_time": "2024-02-01T19:16:47.694Z"
   },
   {
    "duration": 46,
    "start_time": "2024-02-01T19:16:47.698Z"
   },
   {
    "duration": 15,
    "start_time": "2024-02-01T19:16:47.745Z"
   },
   {
    "duration": 11,
    "start_time": "2024-02-01T19:16:47.761Z"
   },
   {
    "duration": 17,
    "start_time": "2024-02-01T19:16:47.773Z"
   },
   {
    "duration": 21,
    "start_time": "2024-02-01T19:16:47.791Z"
   },
   {
    "duration": 376,
    "start_time": "2024-02-01T19:16:47.814Z"
   },
   {
    "duration": 470,
    "start_time": "2024-02-01T19:16:48.193Z"
   },
   {
    "duration": 30,
    "start_time": "2024-02-01T19:16:48.665Z"
   },
   {
    "duration": 14,
    "start_time": "2024-02-01T19:16:48.696Z"
   },
   {
    "duration": 16,
    "start_time": "2024-02-01T19:16:48.712Z"
   },
   {
    "duration": 27,
    "start_time": "2024-02-01T19:16:48.730Z"
   },
   {
    "duration": 202,
    "start_time": "2024-02-01T19:16:48.759Z"
   },
   {
    "duration": 0,
    "start_time": "2024-02-01T19:16:48.963Z"
   },
   {
    "duration": 0,
    "start_time": "2024-02-01T19:16:48.965Z"
   },
   {
    "duration": 0,
    "start_time": "2024-02-01T19:16:48.966Z"
   },
   {
    "duration": 0,
    "start_time": "2024-02-01T19:16:48.968Z"
   },
   {
    "duration": 0,
    "start_time": "2024-02-01T19:16:48.970Z"
   },
   {
    "duration": 0,
    "start_time": "2024-02-01T19:16:48.971Z"
   },
   {
    "duration": 0,
    "start_time": "2024-02-01T19:16:48.973Z"
   },
   {
    "duration": 139,
    "start_time": "2024-02-01T19:16:53.575Z"
   },
   {
    "duration": 10,
    "start_time": "2024-02-01T19:16:54.823Z"
   },
   {
    "duration": 13,
    "start_time": "2024-02-01T19:17:38.256Z"
   },
   {
    "duration": 141,
    "start_time": "2024-02-01T19:17:41.263Z"
   },
   {
    "duration": 10,
    "start_time": "2024-02-01T19:17:42.615Z"
   },
   {
    "duration": 14,
    "start_time": "2024-02-01T19:18:02.384Z"
   },
   {
    "duration": 134,
    "start_time": "2024-02-01T19:18:05.232Z"
   },
   {
    "duration": 9,
    "start_time": "2024-02-01T19:18:06.913Z"
   },
   {
    "duration": 1015,
    "start_time": "2024-02-01T19:18:16.739Z"
   },
   {
    "duration": 86,
    "start_time": "2024-02-01T19:18:17.755Z"
   },
   {
    "duration": 28,
    "start_time": "2024-02-01T19:18:17.842Z"
   },
   {
    "duration": 39,
    "start_time": "2024-02-01T19:18:17.873Z"
   },
   {
    "duration": 33,
    "start_time": "2024-02-01T19:18:17.914Z"
   },
   {
    "duration": 17,
    "start_time": "2024-02-01T19:18:17.948Z"
   },
   {
    "duration": 16,
    "start_time": "2024-02-01T19:18:17.967Z"
   },
   {
    "duration": 9,
    "start_time": "2024-02-01T19:18:17.984Z"
   },
   {
    "duration": 6,
    "start_time": "2024-02-01T19:18:17.994Z"
   },
   {
    "duration": 11,
    "start_time": "2024-02-01T19:18:18.002Z"
   },
   {
    "duration": 12,
    "start_time": "2024-02-01T19:18:18.014Z"
   },
   {
    "duration": 18,
    "start_time": "2024-02-01T19:18:18.027Z"
   },
   {
    "duration": 8,
    "start_time": "2024-02-01T19:18:18.047Z"
   },
   {
    "duration": 13,
    "start_time": "2024-02-01T19:18:18.057Z"
   },
   {
    "duration": 26,
    "start_time": "2024-02-01T19:18:18.071Z"
   },
   {
    "duration": 16,
    "start_time": "2024-02-01T19:18:18.099Z"
   },
   {
    "duration": 180,
    "start_time": "2024-02-01T19:18:18.117Z"
   },
   {
    "duration": 103,
    "start_time": "2024-02-01T19:18:18.298Z"
   },
   {
    "duration": 214,
    "start_time": "2024-02-01T19:18:18.402Z"
   },
   {
    "duration": 14,
    "start_time": "2024-02-01T19:18:18.617Z"
   },
   {
    "duration": 276,
    "start_time": "2024-02-01T19:18:18.632Z"
   },
   {
    "duration": 22,
    "start_time": "2024-02-01T19:18:18.910Z"
   },
   {
    "duration": 916,
    "start_time": "2024-02-01T19:18:18.934Z"
   },
   {
    "duration": 132,
    "start_time": "2024-02-01T19:18:19.852Z"
   },
   {
    "duration": 17,
    "start_time": "2024-02-01T19:18:19.985Z"
   },
   {
    "duration": 434,
    "start_time": "2024-02-01T19:18:20.004Z"
   },
   {
    "duration": 2,
    "start_time": "2024-02-01T19:18:20.439Z"
   },
   {
    "duration": 31,
    "start_time": "2024-02-01T19:18:20.444Z"
   },
   {
    "duration": 20,
    "start_time": "2024-02-01T19:18:20.476Z"
   },
   {
    "duration": 11,
    "start_time": "2024-02-01T19:18:20.498Z"
   },
   {
    "duration": 21,
    "start_time": "2024-02-01T19:18:20.511Z"
   },
   {
    "duration": 40,
    "start_time": "2024-02-01T19:18:20.533Z"
   },
   {
    "duration": 357,
    "start_time": "2024-02-01T19:18:20.575Z"
   },
   {
    "duration": 463,
    "start_time": "2024-02-01T19:18:20.934Z"
   },
   {
    "duration": 27,
    "start_time": "2024-02-01T19:18:21.399Z"
   },
   {
    "duration": 13,
    "start_time": "2024-02-01T19:18:21.427Z"
   },
   {
    "duration": 15,
    "start_time": "2024-02-01T19:18:21.442Z"
   },
   {
    "duration": 37,
    "start_time": "2024-02-01T19:18:21.458Z"
   },
   {
    "duration": 104,
    "start_time": "2024-02-01T19:18:21.496Z"
   },
   {
    "duration": 0,
    "start_time": "2024-02-01T19:18:21.601Z"
   },
   {
    "duration": 0,
    "start_time": "2024-02-01T19:18:21.603Z"
   },
   {
    "duration": 0,
    "start_time": "2024-02-01T19:18:21.604Z"
   },
   {
    "duration": 0,
    "start_time": "2024-02-01T19:18:21.604Z"
   },
   {
    "duration": 0,
    "start_time": "2024-02-01T19:18:21.605Z"
   },
   {
    "duration": 0,
    "start_time": "2024-02-01T19:18:21.606Z"
   },
   {
    "duration": 0,
    "start_time": "2024-02-01T19:18:21.607Z"
   },
   {
    "duration": 134,
    "start_time": "2024-02-01T19:18:26.975Z"
   },
   {
    "duration": 9,
    "start_time": "2024-02-01T19:18:28.159Z"
   },
   {
    "duration": 308,
    "start_time": "2024-02-01T19:18:58.318Z"
   },
   {
    "duration": 10,
    "start_time": "2024-02-01T19:19:15.919Z"
   },
   {
    "duration": 14,
    "start_time": "2024-02-01T19:19:57.200Z"
   },
   {
    "duration": 17,
    "start_time": "2024-02-01T19:20:00.271Z"
   },
   {
    "duration": 17,
    "start_time": "2024-02-01T19:20:05.439Z"
   },
   {
    "duration": 18,
    "start_time": "2024-02-01T19:20:35.200Z"
   },
   {
    "duration": 20,
    "start_time": "2024-02-01T19:22:21.830Z"
   },
   {
    "duration": 13,
    "start_time": "2024-02-01T19:22:25.545Z"
   },
   {
    "duration": 14,
    "start_time": "2024-02-01T19:22:47.657Z"
   },
   {
    "duration": 14,
    "start_time": "2024-02-01T19:22:55.990Z"
   },
   {
    "duration": 9,
    "start_time": "2024-02-01T19:22:59.024Z"
   },
   {
    "duration": 218,
    "start_time": "2024-02-01T19:25:18.138Z"
   },
   {
    "duration": 9,
    "start_time": "2024-02-01T19:25:23.314Z"
   },
   {
    "duration": 10,
    "start_time": "2024-02-01T19:26:45.579Z"
   },
   {
    "duration": 224,
    "start_time": "2024-02-01T19:27:09.346Z"
   },
   {
    "duration": 9,
    "start_time": "2024-02-01T19:27:12.436Z"
   },
   {
    "duration": 1111,
    "start_time": "2024-02-01T19:27:37.955Z"
   },
   {
    "duration": 84,
    "start_time": "2024-02-01T19:27:39.068Z"
   },
   {
    "duration": 16,
    "start_time": "2024-02-01T19:27:39.154Z"
   },
   {
    "duration": 86,
    "start_time": "2024-02-01T19:27:39.172Z"
   },
   {
    "duration": 21,
    "start_time": "2024-02-01T19:27:39.260Z"
   },
   {
    "duration": 6,
    "start_time": "2024-02-01T19:27:39.282Z"
   },
   {
    "duration": 16,
    "start_time": "2024-02-01T19:27:39.289Z"
   },
   {
    "duration": 7,
    "start_time": "2024-02-01T19:27:39.306Z"
   },
   {
    "duration": 6,
    "start_time": "2024-02-01T19:27:39.315Z"
   },
   {
    "duration": 11,
    "start_time": "2024-02-01T19:27:39.324Z"
   },
   {
    "duration": 10,
    "start_time": "2024-02-01T19:27:39.336Z"
   },
   {
    "duration": 17,
    "start_time": "2024-02-01T19:27:39.347Z"
   },
   {
    "duration": 28,
    "start_time": "2024-02-01T19:27:39.366Z"
   },
   {
    "duration": 5,
    "start_time": "2024-02-01T19:27:39.395Z"
   },
   {
    "duration": 17,
    "start_time": "2024-02-01T19:27:39.401Z"
   },
   {
    "duration": 18,
    "start_time": "2024-02-01T19:27:39.420Z"
   },
   {
    "duration": 175,
    "start_time": "2024-02-01T19:27:39.439Z"
   },
   {
    "duration": 101,
    "start_time": "2024-02-01T19:27:39.616Z"
   },
   {
    "duration": 208,
    "start_time": "2024-02-01T19:27:39.718Z"
   },
   {
    "duration": 15,
    "start_time": "2024-02-01T19:27:39.927Z"
   },
   {
    "duration": 301,
    "start_time": "2024-02-01T19:27:39.944Z"
   },
   {
    "duration": 21,
    "start_time": "2024-02-01T19:27:40.246Z"
   },
   {
    "duration": 936,
    "start_time": "2024-02-01T19:27:40.269Z"
   },
   {
    "duration": 140,
    "start_time": "2024-02-01T19:27:41.207Z"
   },
   {
    "duration": 15,
    "start_time": "2024-02-01T19:27:41.348Z"
   },
   {
    "duration": 444,
    "start_time": "2024-02-01T19:27:41.365Z"
   },
   {
    "duration": 3,
    "start_time": "2024-02-01T19:27:41.810Z"
   },
   {
    "duration": 26,
    "start_time": "2024-02-01T19:27:41.816Z"
   },
   {
    "duration": 15,
    "start_time": "2024-02-01T19:27:41.844Z"
   },
   {
    "duration": 28,
    "start_time": "2024-02-01T19:27:41.860Z"
   },
   {
    "duration": 28,
    "start_time": "2024-02-01T19:27:41.889Z"
   },
   {
    "duration": 38,
    "start_time": "2024-02-01T19:27:41.919Z"
   },
   {
    "duration": 377,
    "start_time": "2024-02-01T19:27:41.959Z"
   },
   {
    "duration": 486,
    "start_time": "2024-02-01T19:27:42.338Z"
   },
   {
    "duration": 26,
    "start_time": "2024-02-01T19:27:42.825Z"
   },
   {
    "duration": 12,
    "start_time": "2024-02-01T19:27:42.852Z"
   },
   {
    "duration": 115,
    "start_time": "2024-02-01T19:27:42.866Z"
   },
   {
    "duration": 0,
    "start_time": "2024-02-01T19:27:42.982Z"
   },
   {
    "duration": 0,
    "start_time": "2024-02-01T19:27:42.983Z"
   },
   {
    "duration": 0,
    "start_time": "2024-02-01T19:27:42.984Z"
   },
   {
    "duration": 0,
    "start_time": "2024-02-01T19:27:42.985Z"
   },
   {
    "duration": 0,
    "start_time": "2024-02-01T19:27:42.994Z"
   },
   {
    "duration": 0,
    "start_time": "2024-02-01T19:27:42.995Z"
   },
   {
    "duration": 0,
    "start_time": "2024-02-01T19:27:42.996Z"
   },
   {
    "duration": 0,
    "start_time": "2024-02-01T19:27:42.997Z"
   },
   {
    "duration": 0,
    "start_time": "2024-02-01T19:27:42.998Z"
   },
   {
    "duration": 310,
    "start_time": "2024-02-01T19:27:51.195Z"
   },
   {
    "duration": 10,
    "start_time": "2024-02-01T19:27:52.675Z"
   },
   {
    "duration": 21,
    "start_time": "2024-02-01T19:31:01.080Z"
   },
   {
    "duration": 1026,
    "start_time": "2024-02-01T19:31:20.119Z"
   },
   {
    "duration": 84,
    "start_time": "2024-02-01T19:31:21.146Z"
   },
   {
    "duration": 17,
    "start_time": "2024-02-01T19:31:21.232Z"
   },
   {
    "duration": 16,
    "start_time": "2024-02-01T19:31:21.251Z"
   },
   {
    "duration": 27,
    "start_time": "2024-02-01T19:31:21.269Z"
   },
   {
    "duration": 6,
    "start_time": "2024-02-01T19:31:21.298Z"
   },
   {
    "duration": 10,
    "start_time": "2024-02-01T19:31:21.305Z"
   },
   {
    "duration": 6,
    "start_time": "2024-02-01T19:31:21.317Z"
   },
   {
    "duration": 5,
    "start_time": "2024-02-01T19:31:21.325Z"
   },
   {
    "duration": 8,
    "start_time": "2024-02-01T19:31:21.332Z"
   },
   {
    "duration": 8,
    "start_time": "2024-02-01T19:31:21.341Z"
   },
   {
    "duration": 58,
    "start_time": "2024-02-01T19:31:21.351Z"
   },
   {
    "duration": 19,
    "start_time": "2024-02-01T19:31:21.411Z"
   },
   {
    "duration": 5,
    "start_time": "2024-02-01T19:31:21.432Z"
   },
   {
    "duration": 8,
    "start_time": "2024-02-01T19:31:21.439Z"
   },
   {
    "duration": 16,
    "start_time": "2024-02-01T19:31:21.448Z"
   },
   {
    "duration": 168,
    "start_time": "2024-02-01T19:31:21.466Z"
   },
   {
    "duration": 98,
    "start_time": "2024-02-01T19:31:21.635Z"
   },
   {
    "duration": 208,
    "start_time": "2024-02-01T19:31:21.734Z"
   },
   {
    "duration": 13,
    "start_time": "2024-02-01T19:31:21.944Z"
   },
   {
    "duration": 288,
    "start_time": "2024-02-01T19:31:21.959Z"
   },
   {
    "duration": 20,
    "start_time": "2024-02-01T19:31:22.249Z"
   },
   {
    "duration": 908,
    "start_time": "2024-02-01T19:31:22.271Z"
   },
   {
    "duration": 144,
    "start_time": "2024-02-01T19:31:23.181Z"
   },
   {
    "duration": 14,
    "start_time": "2024-02-01T19:31:23.326Z"
   },
   {
    "duration": 417,
    "start_time": "2024-02-01T19:31:23.341Z"
   },
   {
    "duration": 6,
    "start_time": "2024-02-01T19:31:23.759Z"
   },
   {
    "duration": 29,
    "start_time": "2024-02-01T19:31:23.768Z"
   },
   {
    "duration": 15,
    "start_time": "2024-02-01T19:31:23.798Z"
   },
   {
    "duration": 11,
    "start_time": "2024-02-01T19:31:23.814Z"
   },
   {
    "duration": 10,
    "start_time": "2024-02-01T19:31:23.827Z"
   },
   {
    "duration": 19,
    "start_time": "2024-02-01T19:31:23.839Z"
   },
   {
    "duration": 400,
    "start_time": "2024-02-01T19:31:23.859Z"
   },
   {
    "duration": 494,
    "start_time": "2024-02-01T19:31:24.260Z"
   },
   {
    "duration": 24,
    "start_time": "2024-02-01T19:31:24.756Z"
   },
   {
    "duration": 23,
    "start_time": "2024-02-01T19:31:24.781Z"
   },
   {
    "duration": 20,
    "start_time": "2024-02-01T19:31:24.806Z"
   },
   {
    "duration": 13,
    "start_time": "2024-02-01T19:31:24.828Z"
   },
   {
    "duration": 20,
    "start_time": "2024-02-01T19:31:24.843Z"
   },
   {
    "duration": 34,
    "start_time": "2024-02-01T19:31:24.864Z"
   },
   {
    "duration": 7,
    "start_time": "2024-02-01T19:31:24.900Z"
   },
   {
    "duration": 12,
    "start_time": "2024-02-01T19:31:24.908Z"
   },
   {
    "duration": 2446,
    "start_time": "2024-02-01T19:31:24.921Z"
   },
   {
    "duration": 227,
    "start_time": "2024-02-01T19:31:27.369Z"
   },
   {
    "duration": 7,
    "start_time": "2024-02-01T19:36:50.247Z"
   },
   {
    "duration": 8,
    "start_time": "2024-02-01T19:36:55.886Z"
   },
   {
    "duration": 6,
    "start_time": "2024-02-01T19:38:17.055Z"
   },
   {
    "duration": 12,
    "start_time": "2024-02-01T19:39:11.630Z"
   },
   {
    "duration": 2145,
    "start_time": "2024-02-01T19:40:02.439Z"
   },
   {
    "duration": 1079,
    "start_time": "2024-02-01T19:42:48.578Z"
   },
   {
    "duration": 85,
    "start_time": "2024-02-01T19:42:49.659Z"
   },
   {
    "duration": 17,
    "start_time": "2024-02-01T19:42:49.748Z"
   },
   {
    "duration": 21,
    "start_time": "2024-02-01T19:42:49.766Z"
   },
   {
    "duration": 23,
    "start_time": "2024-02-01T19:42:49.788Z"
   },
   {
    "duration": 5,
    "start_time": "2024-02-01T19:42:49.812Z"
   },
   {
    "duration": 8,
    "start_time": "2024-02-01T19:42:49.819Z"
   },
   {
    "duration": 37,
    "start_time": "2024-02-01T19:42:49.828Z"
   },
   {
    "duration": 19,
    "start_time": "2024-02-01T19:42:49.868Z"
   },
   {
    "duration": 16,
    "start_time": "2024-02-01T19:42:49.888Z"
   },
   {
    "duration": 25,
    "start_time": "2024-02-01T19:42:49.905Z"
   },
   {
    "duration": 18,
    "start_time": "2024-02-01T19:42:49.932Z"
   },
   {
    "duration": 9,
    "start_time": "2024-02-01T19:42:49.951Z"
   },
   {
    "duration": 9,
    "start_time": "2024-02-01T19:42:49.961Z"
   },
   {
    "duration": 23,
    "start_time": "2024-02-01T19:42:49.971Z"
   },
   {
    "duration": 102,
    "start_time": "2024-02-01T19:42:49.995Z"
   },
   {
    "duration": 199,
    "start_time": "2024-02-01T19:42:50.099Z"
   },
   {
    "duration": 98,
    "start_time": "2024-02-01T19:42:50.300Z"
   },
   {
    "duration": 209,
    "start_time": "2024-02-01T19:42:50.400Z"
   },
   {
    "duration": 13,
    "start_time": "2024-02-01T19:42:50.611Z"
   },
   {
    "duration": 284,
    "start_time": "2024-02-01T19:42:50.626Z"
   },
   {
    "duration": 20,
    "start_time": "2024-02-01T19:42:50.912Z"
   },
   {
    "duration": 944,
    "start_time": "2024-02-01T19:42:50.934Z"
   },
   {
    "duration": 129,
    "start_time": "2024-02-01T19:42:51.880Z"
   },
   {
    "duration": 14,
    "start_time": "2024-02-01T19:42:52.011Z"
   },
   {
    "duration": 425,
    "start_time": "2024-02-01T19:42:52.026Z"
   },
   {
    "duration": 6,
    "start_time": "2024-02-01T19:42:52.454Z"
   },
   {
    "duration": 39,
    "start_time": "2024-02-01T19:42:52.461Z"
   },
   {
    "duration": 28,
    "start_time": "2024-02-01T19:42:52.501Z"
   },
   {
    "duration": 11,
    "start_time": "2024-02-01T19:42:52.531Z"
   },
   {
    "duration": 30,
    "start_time": "2024-02-01T19:42:52.543Z"
   },
   {
    "duration": 24,
    "start_time": "2024-02-01T19:42:52.575Z"
   },
   {
    "duration": 367,
    "start_time": "2024-02-01T19:42:52.600Z"
   },
   {
    "duration": 489,
    "start_time": "2024-02-01T19:42:52.968Z"
   },
   {
    "duration": 24,
    "start_time": "2024-02-01T19:42:53.459Z"
   },
   {
    "duration": 12,
    "start_time": "2024-02-01T19:42:53.494Z"
   },
   {
    "duration": 23,
    "start_time": "2024-02-01T19:42:53.508Z"
   },
   {
    "duration": 12,
    "start_time": "2024-02-01T19:42:53.532Z"
   },
   {
    "duration": 20,
    "start_time": "2024-02-01T19:42:53.545Z"
   },
   {
    "duration": 6,
    "start_time": "2024-02-01T19:42:53.594Z"
   },
   {
    "duration": 14,
    "start_time": "2024-02-01T19:42:53.601Z"
   },
   {
    "duration": 35,
    "start_time": "2024-02-01T19:42:53.617Z"
   },
   {
    "duration": 2213,
    "start_time": "2024-02-01T19:42:53.654Z"
   },
   {
    "duration": 216,
    "start_time": "2024-02-01T19:42:55.869Z"
   },
   {
    "duration": 1040,
    "start_time": "2024-02-01T19:44:16.908Z"
   },
   {
    "duration": 82,
    "start_time": "2024-02-01T19:44:17.950Z"
   },
   {
    "duration": 16,
    "start_time": "2024-02-01T19:44:18.033Z"
   },
   {
    "duration": 45,
    "start_time": "2024-02-01T19:44:18.051Z"
   },
   {
    "duration": 18,
    "start_time": "2024-02-01T19:44:18.098Z"
   },
   {
    "duration": 21,
    "start_time": "2024-02-01T19:44:18.117Z"
   },
   {
    "duration": 26,
    "start_time": "2024-02-01T19:44:18.139Z"
   },
   {
    "duration": 22,
    "start_time": "2024-02-01T19:44:18.166Z"
   },
   {
    "duration": 33,
    "start_time": "2024-02-01T19:44:18.190Z"
   },
   {
    "duration": 29,
    "start_time": "2024-02-01T19:44:18.226Z"
   },
   {
    "duration": 33,
    "start_time": "2024-02-01T19:44:18.256Z"
   },
   {
    "duration": 33,
    "start_time": "2024-02-01T19:44:18.291Z"
   },
   {
    "duration": 14,
    "start_time": "2024-02-01T19:44:18.325Z"
   },
   {
    "duration": 30,
    "start_time": "2024-02-01T19:44:18.340Z"
   },
   {
    "duration": 15,
    "start_time": "2024-02-01T19:44:18.372Z"
   },
   {
    "duration": 18,
    "start_time": "2024-02-01T19:44:18.388Z"
   },
   {
    "duration": 186,
    "start_time": "2024-02-01T19:44:18.407Z"
   },
   {
    "duration": 106,
    "start_time": "2024-02-01T19:44:18.595Z"
   },
   {
    "duration": 217,
    "start_time": "2024-02-01T19:44:18.703Z"
   },
   {
    "duration": 17,
    "start_time": "2024-02-01T19:44:18.922Z"
   },
   {
    "duration": 287,
    "start_time": "2024-02-01T19:44:18.940Z"
   },
   {
    "duration": 20,
    "start_time": "2024-02-01T19:44:19.229Z"
   },
   {
    "duration": 936,
    "start_time": "2024-02-01T19:44:19.250Z"
   },
   {
    "duration": 127,
    "start_time": "2024-02-01T19:44:20.187Z"
   },
   {
    "duration": 14,
    "start_time": "2024-02-01T19:44:20.316Z"
   },
   {
    "duration": 415,
    "start_time": "2024-02-01T19:44:20.331Z"
   },
   {
    "duration": 5,
    "start_time": "2024-02-01T19:44:20.747Z"
   },
   {
    "duration": 24,
    "start_time": "2024-02-01T19:44:20.755Z"
   },
   {
    "duration": 25,
    "start_time": "2024-02-01T19:44:20.781Z"
   },
   {
    "duration": 12,
    "start_time": "2024-02-01T19:44:20.808Z"
   },
   {
    "duration": 18,
    "start_time": "2024-02-01T19:44:20.821Z"
   },
   {
    "duration": 23,
    "start_time": "2024-02-01T19:44:20.840Z"
   },
   {
    "duration": 378,
    "start_time": "2024-02-01T19:44:20.865Z"
   },
   {
    "duration": 479,
    "start_time": "2024-02-01T19:44:21.245Z"
   },
   {
    "duration": 24,
    "start_time": "2024-02-01T19:44:21.725Z"
   },
   {
    "duration": 12,
    "start_time": "2024-02-01T19:44:21.750Z"
   },
   {
    "duration": 39,
    "start_time": "2024-02-01T19:44:21.763Z"
   },
   {
    "duration": 11,
    "start_time": "2024-02-01T19:44:21.804Z"
   },
   {
    "duration": 24,
    "start_time": "2024-02-01T19:44:21.816Z"
   },
   {
    "duration": 4,
    "start_time": "2024-02-01T19:44:21.842Z"
   },
   {
    "duration": 21,
    "start_time": "2024-02-01T19:44:21.847Z"
   },
   {
    "duration": 11,
    "start_time": "2024-02-01T19:44:21.870Z"
   },
   {
    "duration": 2234,
    "start_time": "2024-02-01T19:44:21.882Z"
   },
   {
    "duration": 218,
    "start_time": "2024-02-01T19:44:24.118Z"
   },
   {
    "duration": 53,
    "start_time": "2024-02-01T20:39:13.995Z"
   },
   {
    "duration": 1282,
    "start_time": "2024-02-01T20:39:20.699Z"
   },
   {
    "duration": 303,
    "start_time": "2024-02-01T20:39:21.983Z"
   },
   {
    "duration": 17,
    "start_time": "2024-02-01T20:39:22.288Z"
   },
   {
    "duration": 21,
    "start_time": "2024-02-01T20:39:22.307Z"
   },
   {
    "duration": 14,
    "start_time": "2024-02-01T20:39:22.330Z"
   },
   {
    "duration": 35,
    "start_time": "2024-02-01T20:39:22.346Z"
   },
   {
    "duration": 8,
    "start_time": "2024-02-01T20:39:22.383Z"
   },
   {
    "duration": 7,
    "start_time": "2024-02-01T20:39:22.392Z"
   },
   {
    "duration": 9,
    "start_time": "2024-02-01T20:39:22.401Z"
   },
   {
    "duration": 6,
    "start_time": "2024-02-01T20:39:22.412Z"
   },
   {
    "duration": 7,
    "start_time": "2024-02-01T20:39:22.420Z"
   },
   {
    "duration": 54,
    "start_time": "2024-02-01T20:39:22.429Z"
   },
   {
    "duration": 8,
    "start_time": "2024-02-01T20:39:22.485Z"
   },
   {
    "duration": 5,
    "start_time": "2024-02-01T20:39:22.495Z"
   },
   {
    "duration": 64,
    "start_time": "2024-02-01T20:39:24.734Z"
   },
   {
    "duration": 10,
    "start_time": "2024-02-01T20:39:39.070Z"
   },
   {
    "duration": 11,
    "start_time": "2024-02-01T20:40:05.594Z"
   },
   {
    "duration": 6,
    "start_time": "2024-02-01T20:40:38.482Z"
   },
   {
    "duration": 8,
    "start_time": "2024-02-01T20:41:16.962Z"
   },
   {
    "duration": 8,
    "start_time": "2024-02-01T20:41:26.754Z"
   },
   {
    "duration": 7,
    "start_time": "2024-02-01T20:42:23.013Z"
   },
   {
    "duration": 1238,
    "start_time": "2024-02-02T07:49:58.784Z"
   },
   {
    "duration": 214,
    "start_time": "2024-02-02T07:50:00.024Z"
   },
   {
    "duration": 20,
    "start_time": "2024-02-02T07:50:00.240Z"
   },
   {
    "duration": 133,
    "start_time": "2024-02-02T07:50:00.261Z"
   },
   {
    "duration": 40,
    "start_time": "2024-02-02T07:50:00.395Z"
   },
   {
    "duration": 35,
    "start_time": "2024-02-02T07:50:00.437Z"
   },
   {
    "duration": 44,
    "start_time": "2024-02-02T07:50:00.473Z"
   },
   {
    "duration": 62,
    "start_time": "2024-02-02T07:50:00.518Z"
   },
   {
    "duration": 28,
    "start_time": "2024-02-02T07:50:00.582Z"
   },
   {
    "duration": 36,
    "start_time": "2024-02-02T07:50:00.612Z"
   },
   {
    "duration": 28,
    "start_time": "2024-02-02T07:50:00.650Z"
   },
   {
    "duration": 35,
    "start_time": "2024-02-02T07:50:00.679Z"
   },
   {
    "duration": 38,
    "start_time": "2024-02-02T07:50:00.715Z"
   },
   {
    "duration": 20,
    "start_time": "2024-02-02T07:53:34.976Z"
   },
   {
    "duration": 22,
    "start_time": "2024-02-02T07:53:52.863Z"
   },
   {
    "duration": 18,
    "start_time": "2024-02-02T07:54:07.059Z"
   },
   {
    "duration": 18,
    "start_time": "2024-02-02T07:54:43.487Z"
   },
   {
    "duration": 20,
    "start_time": "2024-02-02T07:58:07.434Z"
   },
   {
    "duration": 37,
    "start_time": "2024-02-02T08:06:36.806Z"
   },
   {
    "duration": 24,
    "start_time": "2024-02-02T08:06:46.670Z"
   },
   {
    "duration": 5,
    "start_time": "2024-02-02T08:06:55.258Z"
   },
   {
    "duration": 2,
    "start_time": "2024-02-02T08:06:56.486Z"
   },
   {
    "duration": 77,
    "start_time": "2024-02-02T08:07:42.126Z"
   },
   {
    "duration": 7,
    "start_time": "2024-02-02T08:17:57.080Z"
   },
   {
    "duration": 4,
    "start_time": "2024-02-02T08:21:04.043Z"
   },
   {
    "duration": 7,
    "start_time": "2024-02-02T08:21:25.899Z"
   },
   {
    "duration": 3,
    "start_time": "2024-02-02T08:21:45.138Z"
   },
   {
    "duration": 88,
    "start_time": "2024-02-02T08:21:50.134Z"
   },
   {
    "duration": 19,
    "start_time": "2024-02-02T08:21:50.814Z"
   },
   {
    "duration": 16,
    "start_time": "2024-02-02T08:21:51.683Z"
   },
   {
    "duration": 13,
    "start_time": "2024-02-02T08:21:59.210Z"
   },
   {
    "duration": 6,
    "start_time": "2024-02-02T08:22:02.610Z"
   },
   {
    "duration": 11,
    "start_time": "2024-02-02T08:22:02.658Z"
   },
   {
    "duration": 7,
    "start_time": "2024-02-02T08:22:03.658Z"
   },
   {
    "duration": 5,
    "start_time": "2024-02-02T08:22:04.182Z"
   },
   {
    "duration": 6,
    "start_time": "2024-02-02T08:22:04.951Z"
   },
   {
    "duration": 8,
    "start_time": "2024-02-02T08:22:06.542Z"
   },
   {
    "duration": 16,
    "start_time": "2024-02-02T08:22:07.091Z"
   },
   {
    "duration": 20,
    "start_time": "2024-02-02T08:22:07.590Z"
   },
   {
    "duration": 6,
    "start_time": "2024-02-02T08:22:11.074Z"
   },
   {
    "duration": 81,
    "start_time": "2024-02-02T08:22:11.542Z"
   },
   {
    "duration": 4,
    "start_time": "2024-02-02T08:22:12.231Z"
   },
   {
    "duration": 6,
    "start_time": "2024-02-02T08:22:19.022Z"
   },
   {
    "duration": 7,
    "start_time": "2024-02-02T08:22:19.506Z"
   },
   {
    "duration": 7,
    "start_time": "2024-02-02T08:22:22.118Z"
   },
   {
    "duration": 8,
    "start_time": "2024-02-02T08:22:23.538Z"
   },
   {
    "duration": 162,
    "start_time": "2024-02-02T08:22:24.290Z"
   },
   {
    "duration": 88,
    "start_time": "2024-02-02T08:22:38.986Z"
   },
   {
    "duration": 203,
    "start_time": "2024-02-02T08:23:12.366Z"
   },
   {
    "duration": 217,
    "start_time": "2024-02-02T08:25:09.565Z"
   },
   {
    "duration": 149,
    "start_time": "2024-02-02T08:25:57.621Z"
   },
   {
    "duration": 129,
    "start_time": "2024-02-02T08:27:14.785Z"
   },
   {
    "duration": 67,
    "start_time": "2024-02-02T08:27:33.153Z"
   },
   {
    "duration": 151,
    "start_time": "2024-02-02T08:27:37.813Z"
   },
   {
    "duration": 184,
    "start_time": "2024-02-02T08:28:07.949Z"
   },
   {
    "duration": 169,
    "start_time": "2024-02-02T08:28:37.657Z"
   },
   {
    "duration": 145,
    "start_time": "2024-02-02T08:31:12.288Z"
   },
   {
    "duration": 157,
    "start_time": "2024-02-02T08:31:52.060Z"
   },
   {
    "duration": 159,
    "start_time": "2024-02-02T08:33:02.204Z"
   },
   {
    "duration": 71,
    "start_time": "2024-02-02T08:33:23.392Z"
   },
   {
    "duration": 157,
    "start_time": "2024-02-02T08:33:29.156Z"
   },
   {
    "duration": 80,
    "start_time": "2024-02-02T08:33:37.376Z"
   },
   {
    "duration": 242,
    "start_time": "2024-02-02T08:33:44.500Z"
   },
   {
    "duration": 171,
    "start_time": "2024-02-02T08:34:37.895Z"
   },
   {
    "duration": 96,
    "start_time": "2024-02-02T08:35:35.643Z"
   },
   {
    "duration": 189,
    "start_time": "2024-02-02T08:37:27.984Z"
   },
   {
    "duration": 217,
    "start_time": "2024-02-02T08:38:46.283Z"
   },
   {
    "duration": 262,
    "start_time": "2024-02-02T08:39:11.727Z"
   },
   {
    "duration": 246,
    "start_time": "2024-02-02T08:39:30.387Z"
   },
   {
    "duration": 21,
    "start_time": "2024-02-02T08:40:20.166Z"
   },
   {
    "duration": 923,
    "start_time": "2024-02-02T08:40:21.574Z"
   },
   {
    "duration": 162,
    "start_time": "2024-02-02T08:40:22.499Z"
   },
   {
    "duration": 15,
    "start_time": "2024-02-02T08:40:24.286Z"
   },
   {
    "duration": 462,
    "start_time": "2024-02-02T08:40:37.103Z"
   },
   {
    "duration": 1043,
    "start_time": "2024-02-02T08:41:27.854Z"
   },
   {
    "duration": 86,
    "start_time": "2024-02-02T08:41:28.898Z"
   },
   {
    "duration": 15,
    "start_time": "2024-02-02T08:41:28.985Z"
   },
   {
    "duration": 47,
    "start_time": "2024-02-02T08:41:29.002Z"
   },
   {
    "duration": 12,
    "start_time": "2024-02-02T08:41:29.051Z"
   },
   {
    "duration": 6,
    "start_time": "2024-02-02T08:41:29.064Z"
   },
   {
    "duration": 14,
    "start_time": "2024-02-02T08:41:29.071Z"
   },
   {
    "duration": 10,
    "start_time": "2024-02-02T08:41:29.086Z"
   },
   {
    "duration": 11,
    "start_time": "2024-02-02T08:41:29.097Z"
   },
   {
    "duration": 9,
    "start_time": "2024-02-02T08:41:29.132Z"
   },
   {
    "duration": 11,
    "start_time": "2024-02-02T08:41:29.142Z"
   },
   {
    "duration": 18,
    "start_time": "2024-02-02T08:41:29.155Z"
   },
   {
    "duration": 25,
    "start_time": "2024-02-02T08:41:29.175Z"
   },
   {
    "duration": 34,
    "start_time": "2024-02-02T08:41:29.201Z"
   },
   {
    "duration": 19,
    "start_time": "2024-02-02T08:41:29.236Z"
   },
   {
    "duration": 15,
    "start_time": "2024-02-02T08:41:29.256Z"
   },
   {
    "duration": 14,
    "start_time": "2024-02-02T08:41:29.272Z"
   },
   {
    "duration": 22,
    "start_time": "2024-02-02T08:41:29.288Z"
   },
   {
    "duration": 208,
    "start_time": "2024-02-02T08:41:29.312Z"
   },
   {
    "duration": 91,
    "start_time": "2024-02-02T08:41:29.522Z"
   },
   {
    "duration": 223,
    "start_time": "2024-02-02T08:41:29.614Z"
   },
   {
    "duration": 14,
    "start_time": "2024-02-02T08:41:29.838Z"
   },
   {
    "duration": 272,
    "start_time": "2024-02-02T08:41:29.853Z"
   },
   {
    "duration": 28,
    "start_time": "2024-02-02T08:41:30.126Z"
   },
   {
    "duration": 954,
    "start_time": "2024-02-02T08:41:30.156Z"
   },
   {
    "duration": 158,
    "start_time": "2024-02-02T08:41:31.112Z"
   },
   {
    "duration": 14,
    "start_time": "2024-02-02T08:41:31.272Z"
   },
   {
    "duration": 448,
    "start_time": "2024-02-02T08:41:31.289Z"
   },
   {
    "duration": 12,
    "start_time": "2024-02-02T08:45:38.793Z"
   },
   {
    "duration": 12,
    "start_time": "2024-02-02T08:45:50.693Z"
   },
   {
    "duration": 14,
    "start_time": "2024-02-02T08:45:58.704Z"
   },
   {
    "duration": 14,
    "start_time": "2024-02-02T08:46:10.661Z"
   },
   {
    "duration": 69,
    "start_time": "2024-02-02T08:46:47.289Z"
   },
   {
    "duration": 12,
    "start_time": "2024-02-02T08:46:59.104Z"
   },
   {
    "duration": 98,
    "start_time": "2024-02-02T08:55:07.103Z"
   },
   {
    "duration": 12,
    "start_time": "2024-02-02T08:55:25.692Z"
   },
   {
    "duration": 14,
    "start_time": "2024-02-02T08:59:52.210Z"
   },
   {
    "duration": 13,
    "start_time": "2024-02-02T09:00:02.206Z"
   },
   {
    "duration": 16,
    "start_time": "2024-02-02T09:00:41.046Z"
   },
   {
    "duration": 11,
    "start_time": "2024-02-02T09:02:19.462Z"
   },
   {
    "duration": 13,
    "start_time": "2024-02-02T09:02:44.290Z"
   },
   {
    "duration": 8,
    "start_time": "2024-02-02T09:03:25.269Z"
   },
   {
    "duration": 16,
    "start_time": "2024-02-02T09:03:31.418Z"
   },
   {
    "duration": 14,
    "start_time": "2024-02-02T09:03:38.373Z"
   },
   {
    "duration": 6,
    "start_time": "2024-02-02T09:04:20.798Z"
   },
   {
    "duration": 82,
    "start_time": "2024-02-02T09:05:20.994Z"
   },
   {
    "duration": 10,
    "start_time": "2024-02-02T09:11:19.082Z"
   },
   {
    "duration": 17,
    "start_time": "2024-02-02T09:11:31.447Z"
   },
   {
    "duration": 88,
    "start_time": "2024-02-02T09:35:03.235Z"
   },
   {
    "duration": 5,
    "start_time": "2024-02-02T09:35:56.642Z"
   },
   {
    "duration": 13,
    "start_time": "2024-02-02T09:38:23.302Z"
   },
   {
    "duration": 12,
    "start_time": "2024-02-02T09:38:43.978Z"
   },
   {
    "duration": 4,
    "start_time": "2024-02-02T09:38:50.890Z"
   },
   {
    "duration": 12,
    "start_time": "2024-02-02T09:38:52.426Z"
   },
   {
    "duration": 13,
    "start_time": "2024-02-02T09:39:06.305Z"
   },
   {
    "duration": 1092,
    "start_time": "2024-02-02T09:39:32.893Z"
   },
   {
    "duration": 83,
    "start_time": "2024-02-02T09:39:33.986Z"
   },
   {
    "duration": 16,
    "start_time": "2024-02-02T09:39:34.070Z"
   },
   {
    "duration": 16,
    "start_time": "2024-02-02T09:39:34.088Z"
   },
   {
    "duration": 13,
    "start_time": "2024-02-02T09:39:34.106Z"
   },
   {
    "duration": 6,
    "start_time": "2024-02-02T09:39:34.133Z"
   },
   {
    "duration": 12,
    "start_time": "2024-02-02T09:39:34.140Z"
   },
   {
    "duration": 7,
    "start_time": "2024-02-02T09:39:34.153Z"
   },
   {
    "duration": 13,
    "start_time": "2024-02-02T09:39:34.162Z"
   },
   {
    "duration": 8,
    "start_time": "2024-02-02T09:39:34.178Z"
   },
   {
    "duration": 9,
    "start_time": "2024-02-02T09:39:34.187Z"
   },
   {
    "duration": 47,
    "start_time": "2024-02-02T09:39:34.197Z"
   },
   {
    "duration": 24,
    "start_time": "2024-02-02T09:39:34.245Z"
   },
   {
    "duration": 7,
    "start_time": "2024-02-02T09:39:34.270Z"
   },
   {
    "duration": 8,
    "start_time": "2024-02-02T09:39:34.278Z"
   },
   {
    "duration": 11,
    "start_time": "2024-02-02T09:39:34.288Z"
   },
   {
    "duration": 8,
    "start_time": "2024-02-02T09:39:34.333Z"
   },
   {
    "duration": 9,
    "start_time": "2024-02-02T09:39:34.344Z"
   },
   {
    "duration": 204,
    "start_time": "2024-02-02T09:39:34.355Z"
   },
   {
    "duration": 97,
    "start_time": "2024-02-02T09:39:34.560Z"
   },
   {
    "duration": 219,
    "start_time": "2024-02-02T09:39:34.659Z"
   },
   {
    "duration": 13,
    "start_time": "2024-02-02T09:39:34.879Z"
   },
   {
    "duration": 287,
    "start_time": "2024-02-02T09:39:34.894Z"
   },
   {
    "duration": 22,
    "start_time": "2024-02-02T09:39:35.183Z"
   },
   {
    "duration": 903,
    "start_time": "2024-02-02T09:39:35.206Z"
   },
   {
    "duration": 132,
    "start_time": "2024-02-02T09:39:36.111Z"
   },
   {
    "duration": 12,
    "start_time": "2024-02-02T09:39:36.244Z"
   },
   {
    "duration": 404,
    "start_time": "2024-02-02T09:39:36.259Z"
   },
   {
    "duration": 13,
    "start_time": "2024-02-02T09:39:36.664Z"
   },
   {
    "duration": 5,
    "start_time": "2024-02-02T09:39:45.217Z"
   },
   {
    "duration": 13,
    "start_time": "2024-02-02T09:39:47.633Z"
   },
   {
    "duration": 13,
    "start_time": "2024-02-02T09:39:52.564Z"
   },
   {
    "duration": 12,
    "start_time": "2024-02-02T09:40:02.141Z"
   },
   {
    "duration": 13,
    "start_time": "2024-02-02T09:40:09.320Z"
   },
   {
    "duration": 14,
    "start_time": "2024-02-02T09:40:15.657Z"
   },
   {
    "duration": 12,
    "start_time": "2024-02-02T09:40:44.865Z"
   },
   {
    "duration": 12,
    "start_time": "2024-02-02T09:42:02.276Z"
   },
   {
    "duration": 93,
    "start_time": "2024-02-02T09:45:14.719Z"
   },
   {
    "duration": 10,
    "start_time": "2024-02-02T09:45:29.398Z"
   },
   {
    "duration": 15,
    "start_time": "2024-02-02T09:46:34.794Z"
   },
   {
    "duration": 13,
    "start_time": "2024-02-02T09:47:56.958Z"
   },
   {
    "duration": 13,
    "start_time": "2024-02-02T09:48:00.862Z"
   },
   {
    "duration": 1077,
    "start_time": "2024-02-02T09:48:19.203Z"
   },
   {
    "duration": 82,
    "start_time": "2024-02-02T09:48:20.281Z"
   },
   {
    "duration": 16,
    "start_time": "2024-02-02T09:48:20.365Z"
   },
   {
    "duration": 16,
    "start_time": "2024-02-02T09:48:20.383Z"
   },
   {
    "duration": 13,
    "start_time": "2024-02-02T09:48:20.401Z"
   },
   {
    "duration": 6,
    "start_time": "2024-02-02T09:48:20.433Z"
   },
   {
    "duration": 7,
    "start_time": "2024-02-02T09:48:20.441Z"
   },
   {
    "duration": 16,
    "start_time": "2024-02-02T09:48:20.449Z"
   },
   {
    "duration": 6,
    "start_time": "2024-02-02T09:48:20.466Z"
   },
   {
    "duration": 7,
    "start_time": "2024-02-02T09:48:20.475Z"
   },
   {
    "duration": 8,
    "start_time": "2024-02-02T09:48:20.484Z"
   },
   {
    "duration": 50,
    "start_time": "2024-02-02T09:48:20.494Z"
   },
   {
    "duration": 22,
    "start_time": "2024-02-02T09:48:20.545Z"
   },
   {
    "duration": 5,
    "start_time": "2024-02-02T09:48:20.568Z"
   },
   {
    "duration": 4,
    "start_time": "2024-02-02T09:48:20.575Z"
   },
   {
    "duration": 7,
    "start_time": "2024-02-02T09:48:20.580Z"
   },
   {
    "duration": 6,
    "start_time": "2024-02-02T09:48:20.589Z"
   },
   {
    "duration": 8,
    "start_time": "2024-02-02T09:48:20.633Z"
   },
   {
    "duration": 191,
    "start_time": "2024-02-02T09:48:20.643Z"
   },
   {
    "duration": 87,
    "start_time": "2024-02-02T09:48:20.835Z"
   },
   {
    "duration": 224,
    "start_time": "2024-02-02T09:48:20.933Z"
   },
   {
    "duration": 19,
    "start_time": "2024-02-02T09:48:21.159Z"
   },
   {
    "duration": 275,
    "start_time": "2024-02-02T09:48:21.179Z"
   },
   {
    "duration": 22,
    "start_time": "2024-02-02T09:48:21.455Z"
   },
   {
    "duration": 927,
    "start_time": "2024-02-02T09:48:21.479Z"
   },
   {
    "duration": 129,
    "start_time": "2024-02-02T09:48:22.408Z"
   },
   {
    "duration": 13,
    "start_time": "2024-02-02T09:48:22.538Z"
   },
   {
    "duration": 13,
    "start_time": "2024-02-02T09:48:31.343Z"
   },
   {
    "duration": 79,
    "start_time": "2024-02-02T09:53:18.338Z"
   },
   {
    "duration": 18,
    "start_time": "2024-02-02T09:53:35.849Z"
   },
   {
    "duration": 19,
    "start_time": "2024-02-02T09:53:45.434Z"
   },
   {
    "duration": 5,
    "start_time": "2024-02-02T09:54:18.237Z"
   },
   {
    "duration": 12,
    "start_time": "2024-02-02T09:54:19.785Z"
   },
   {
    "duration": 20,
    "start_time": "2024-02-02T09:54:24.145Z"
   },
   {
    "duration": 15,
    "start_time": "2024-02-02T09:54:31.193Z"
   },
   {
    "duration": 11,
    "start_time": "2024-02-02T09:54:32.765Z"
   },
   {
    "duration": 15,
    "start_time": "2024-02-02T09:55:23.265Z"
   },
   {
    "duration": 10,
    "start_time": "2024-02-02T09:55:23.885Z"
   },
   {
    "duration": 4,
    "start_time": "2024-02-02T10:12:20.761Z"
   },
   {
    "duration": 4,
    "start_time": "2024-02-02T10:12:56.685Z"
   },
   {
    "duration": 89,
    "start_time": "2024-02-02T10:15:07.020Z"
   },
   {
    "duration": 3,
    "start_time": "2024-02-02T10:15:13.836Z"
   },
   {
    "duration": 3,
    "start_time": "2024-02-02T10:15:29.208Z"
   },
   {
    "duration": 70,
    "start_time": "2024-02-02T10:16:48.080Z"
   },
   {
    "duration": 4,
    "start_time": "2024-02-02T10:17:00.848Z"
   },
   {
    "duration": 3,
    "start_time": "2024-02-02T10:18:38.914Z"
   },
   {
    "duration": 9,
    "start_time": "2024-02-02T10:20:39.166Z"
   },
   {
    "duration": 4,
    "start_time": "2024-02-02T10:20:49.609Z"
   },
   {
    "duration": 13,
    "start_time": "2024-02-02T10:28:53.564Z"
   },
   {
    "duration": 3,
    "start_time": "2024-02-02T10:30:03.000Z"
   },
   {
    "duration": 11,
    "start_time": "2024-02-02T10:30:11.479Z"
   },
   {
    "duration": 63,
    "start_time": "2024-02-02T10:30:22.291Z"
   },
   {
    "duration": 8,
    "start_time": "2024-02-02T10:32:12.575Z"
   },
   {
    "duration": 10,
    "start_time": "2024-02-02T10:32:34.839Z"
   },
   {
    "duration": 12,
    "start_time": "2024-02-02T10:32:38.379Z"
   },
   {
    "duration": 10,
    "start_time": "2024-02-02T10:32:39.067Z"
   },
   {
    "duration": 10,
    "start_time": "2024-02-02T10:32:48.435Z"
   },
   {
    "duration": 93,
    "start_time": "2024-02-02T10:35:51.095Z"
   },
   {
    "duration": 4,
    "start_time": "2024-02-02T10:36:12.858Z"
   },
   {
    "duration": 71,
    "start_time": "2024-02-02T10:39:55.818Z"
   },
   {
    "duration": 76,
    "start_time": "2024-02-02T10:40:04.218Z"
   },
   {
    "duration": 9,
    "start_time": "2024-02-02T10:40:50.021Z"
   },
   {
    "duration": 3,
    "start_time": "2024-02-02T10:40:55.837Z"
   },
   {
    "duration": 3,
    "start_time": "2024-02-02T10:43:21.165Z"
   },
   {
    "duration": 73,
    "start_time": "2024-02-02T10:44:00.657Z"
   },
   {
    "duration": 470,
    "start_time": "2024-02-02T10:44:41.364Z"
   },
   {
    "duration": 119,
    "start_time": "2024-02-02T10:44:50.257Z"
   },
   {
    "duration": 464,
    "start_time": "2024-02-02T10:45:40.244Z"
   },
   {
    "duration": 514,
    "start_time": "2024-02-02T10:46:53.479Z"
   },
   {
    "duration": 354,
    "start_time": "2024-02-02T10:53:00.787Z"
   },
   {
    "duration": 368,
    "start_time": "2024-02-02T10:53:43.132Z"
   },
   {
    "duration": 501,
    "start_time": "2024-02-02T10:54:39.064Z"
   },
   {
    "duration": 593,
    "start_time": "2024-02-02T10:55:24.812Z"
   },
   {
    "duration": 466,
    "start_time": "2024-02-02T10:55:48.155Z"
   },
   {
    "duration": 443,
    "start_time": "2024-02-02T10:56:04.183Z"
   },
   {
    "duration": 472,
    "start_time": "2024-02-02T10:56:26.040Z"
   },
   {
    "duration": 402,
    "start_time": "2024-02-02T10:56:55.200Z"
   },
   {
    "duration": 395,
    "start_time": "2024-02-02T10:57:25.828Z"
   },
   {
    "duration": 406,
    "start_time": "2024-02-02T10:59:01.720Z"
   },
   {
    "duration": 512,
    "start_time": "2024-02-02T11:01:21.394Z"
   },
   {
    "duration": 460,
    "start_time": "2024-02-02T11:01:48.198Z"
   },
   {
    "duration": 529,
    "start_time": "2024-02-02T11:02:55.735Z"
   },
   {
    "duration": 28,
    "start_time": "2024-02-02T11:03:01.022Z"
   },
   {
    "duration": 262,
    "start_time": "2024-02-02T11:07:53.435Z"
   },
   {
    "duration": 440,
    "start_time": "2024-02-02T11:08:43.201Z"
   },
   {
    "duration": 310,
    "start_time": "2024-02-02T11:09:17.185Z"
   },
   {
    "duration": 202,
    "start_time": "2024-02-02T11:09:38.981Z"
   },
   {
    "duration": 200,
    "start_time": "2024-02-02T11:09:51.537Z"
   },
   {
    "duration": 312,
    "start_time": "2024-02-02T11:09:59.885Z"
   },
   {
    "duration": 218,
    "start_time": "2024-02-02T11:11:12.721Z"
   },
   {
    "duration": 364,
    "start_time": "2024-02-02T11:11:22.805Z"
   },
   {
    "duration": 214,
    "start_time": "2024-02-02T11:11:38.721Z"
   },
   {
    "duration": 541,
    "start_time": "2024-02-02T11:12:56.712Z"
   },
   {
    "duration": 21,
    "start_time": "2024-02-02T11:13:12.612Z"
   },
   {
    "duration": 313,
    "start_time": "2024-02-02T11:13:48.192Z"
   },
   {
    "duration": 323,
    "start_time": "2024-02-02T11:14:11.252Z"
   },
   {
    "duration": 489,
    "start_time": "2024-02-02T11:15:09.817Z"
   },
   {
    "duration": 30,
    "start_time": "2024-02-02T11:15:25.912Z"
   },
   {
    "duration": 16,
    "start_time": "2024-02-02T11:39:09.326Z"
   },
   {
    "duration": 11,
    "start_time": "2024-02-02T11:39:12.821Z"
   },
   {
    "duration": 99,
    "start_time": "2024-02-02T12:04:15.005Z"
   },
   {
    "duration": 27,
    "start_time": "2024-02-02T12:04:26.040Z"
   },
   {
    "duration": 32,
    "start_time": "2024-02-02T12:04:33.660Z"
   },
   {
    "duration": 34,
    "start_time": "2024-02-02T12:05:22.632Z"
   },
   {
    "duration": 78,
    "start_time": "2024-02-02T12:05:48.268Z"
   },
   {
    "duration": 36,
    "start_time": "2024-02-02T12:06:44.781Z"
   },
   {
    "duration": 173,
    "start_time": "2024-02-02T12:08:16.452Z"
   },
   {
    "duration": 165,
    "start_time": "2024-02-02T12:08:38.800Z"
   },
   {
    "duration": 204,
    "start_time": "2024-02-02T12:10:54.528Z"
   },
   {
    "duration": 212,
    "start_time": "2024-02-02T12:17:14.126Z"
   },
   {
    "duration": 195,
    "start_time": "2024-02-02T12:18:03.426Z"
   },
   {
    "duration": 209,
    "start_time": "2024-02-02T12:19:37.942Z"
   },
   {
    "duration": 82,
    "start_time": "2024-02-02T12:25:12.873Z"
   },
   {
    "duration": 24,
    "start_time": "2024-02-02T12:25:26.305Z"
   },
   {
    "duration": 64,
    "start_time": "2024-02-02T12:25:37.654Z"
   },
   {
    "duration": 22,
    "start_time": "2024-02-02T12:26:03.809Z"
   },
   {
    "duration": 5,
    "start_time": "2024-02-02T12:26:10.777Z"
   },
   {
    "duration": 14,
    "start_time": "2024-02-02T12:28:43.813Z"
   },
   {
    "duration": 14,
    "start_time": "2024-02-02T12:29:07.896Z"
   },
   {
    "duration": 6,
    "start_time": "2024-02-02T12:29:44.688Z"
   },
   {
    "duration": 6,
    "start_time": "2024-02-02T12:30:09.144Z"
   },
   {
    "duration": 84,
    "start_time": "2024-02-02T12:30:49.344Z"
   },
   {
    "duration": 77,
    "start_time": "2024-02-02T12:31:28.867Z"
   },
   {
    "duration": 7,
    "start_time": "2024-02-02T12:36:39.523Z"
   },
   {
    "duration": 80,
    "start_time": "2024-02-02T12:40:59.686Z"
   },
   {
    "duration": 6,
    "start_time": "2024-02-02T12:41:48.593Z"
   },
   {
    "duration": 5,
    "start_time": "2024-02-02T12:43:01.465Z"
   },
   {
    "duration": 68,
    "start_time": "2024-02-02T12:47:48.456Z"
   },
   {
    "duration": 80,
    "start_time": "2024-02-02T12:49:07.284Z"
   },
   {
    "duration": 15,
    "start_time": "2024-02-02T12:49:32.773Z"
   },
   {
    "duration": 12,
    "start_time": "2024-02-02T12:49:51.248Z"
   },
   {
    "duration": 2545,
    "start_time": "2024-02-02T13:16:51.508Z"
   },
   {
    "duration": 2465,
    "start_time": "2024-02-02T13:18:22.206Z"
   },
   {
    "duration": 2444,
    "start_time": "2024-02-02T13:19:11.729Z"
   },
   {
    "duration": 2504,
    "start_time": "2024-02-02T13:19:37.194Z"
   },
   {
    "duration": 2577,
    "start_time": "2024-02-02T13:19:45.798Z"
   },
   {
    "duration": 2347,
    "start_time": "2024-02-02T13:19:56.510Z"
   },
   {
    "duration": 2318,
    "start_time": "2024-02-02T13:20:37.722Z"
   },
   {
    "duration": 2349,
    "start_time": "2024-02-02T13:21:19.482Z"
   },
   {
    "duration": 2285,
    "start_time": "2024-02-02T13:21:43.446Z"
   },
   {
    "duration": 30,
    "start_time": "2024-02-02T13:49:37.044Z"
   },
   {
    "duration": 1072,
    "start_time": "2024-02-02T13:49:54.368Z"
   },
   {
    "duration": 84,
    "start_time": "2024-02-02T13:49:55.442Z"
   },
   {
    "duration": 16,
    "start_time": "2024-02-02T13:49:55.528Z"
   },
   {
    "duration": 15,
    "start_time": "2024-02-02T13:49:55.546Z"
   },
   {
    "duration": 20,
    "start_time": "2024-02-02T13:49:55.563Z"
   },
   {
    "duration": 33,
    "start_time": "2024-02-02T13:49:55.585Z"
   },
   {
    "duration": 17,
    "start_time": "2024-02-02T13:49:55.619Z"
   },
   {
    "duration": 11,
    "start_time": "2024-02-02T13:49:55.638Z"
   },
   {
    "duration": 6,
    "start_time": "2024-02-02T13:49:55.652Z"
   },
   {
    "duration": 11,
    "start_time": "2024-02-02T13:49:55.660Z"
   },
   {
    "duration": 18,
    "start_time": "2024-02-02T13:49:55.672Z"
   },
   {
    "duration": 21,
    "start_time": "2024-02-02T13:49:55.692Z"
   },
   {
    "duration": 33,
    "start_time": "2024-02-02T13:49:55.715Z"
   },
   {
    "duration": 6,
    "start_time": "2024-02-02T13:49:55.750Z"
   },
   {
    "duration": 32,
    "start_time": "2024-02-02T13:49:55.757Z"
   },
   {
    "duration": 11,
    "start_time": "2024-02-02T13:49:55.791Z"
   },
   {
    "duration": 13,
    "start_time": "2024-02-02T13:49:55.803Z"
   },
   {
    "duration": 15,
    "start_time": "2024-02-02T13:49:55.818Z"
   },
   {
    "duration": 182,
    "start_time": "2024-02-02T13:49:55.835Z"
   },
   {
    "duration": 97,
    "start_time": "2024-02-02T13:49:56.019Z"
   },
   {
    "duration": 220,
    "start_time": "2024-02-02T13:49:56.118Z"
   },
   {
    "duration": 14,
    "start_time": "2024-02-02T13:49:56.340Z"
   },
   {
    "duration": 260,
    "start_time": "2024-02-02T13:49:56.356Z"
   },
   {
    "duration": 28,
    "start_time": "2024-02-02T13:49:56.617Z"
   },
   {
    "duration": 871,
    "start_time": "2024-02-02T13:49:56.646Z"
   },
   {
    "duration": 128,
    "start_time": "2024-02-02T13:49:57.518Z"
   },
   {
    "duration": 19,
    "start_time": "2024-02-02T13:49:57.648Z"
   },
   {
    "duration": 462,
    "start_time": "2024-02-02T13:49:57.671Z"
   },
   {
    "duration": 13,
    "start_time": "2024-02-02T13:49:58.135Z"
   },
   {
    "duration": 5,
    "start_time": "2024-02-02T13:49:58.149Z"
   },
   {
    "duration": 12,
    "start_time": "2024-02-02T13:49:58.155Z"
   },
   {
    "duration": 21,
    "start_time": "2024-02-02T13:50:00.659Z"
   },
   {
    "duration": 13,
    "start_time": "2024-02-02T13:51:04.279Z"
   },
   {
    "duration": 14,
    "start_time": "2024-02-02T13:51:38.532Z"
   },
   {
    "duration": 16,
    "start_time": "2024-02-02T13:51:49.924Z"
   },
   {
    "duration": 88,
    "start_time": "2024-02-02T14:01:34.270Z"
   },
   {
    "duration": 9,
    "start_time": "2024-02-02T14:01:37.155Z"
   },
   {
    "duration": 8,
    "start_time": "2024-02-02T14:01:43.511Z"
   },
   {
    "duration": 1079,
    "start_time": "2024-02-02T14:17:08.810Z"
   },
   {
    "duration": 3,
    "start_time": "2024-02-02T14:24:02.148Z"
   },
   {
    "duration": 84,
    "start_time": "2024-02-02T14:24:04.309Z"
   },
   {
    "duration": 16,
    "start_time": "2024-02-02T14:24:06.081Z"
   },
   {
    "duration": 19,
    "start_time": "2024-02-02T14:24:07.317Z"
   },
   {
    "duration": 12,
    "start_time": "2024-02-02T14:24:08.853Z"
   },
   {
    "duration": 6,
    "start_time": "2024-02-02T14:24:14.768Z"
   },
   {
    "duration": 6,
    "start_time": "2024-02-02T14:24:15.577Z"
   },
   {
    "duration": 6,
    "start_time": "2024-02-02T14:24:17.937Z"
   },
   {
    "duration": 5,
    "start_time": "2024-02-02T14:24:19.113Z"
   },
   {
    "duration": 7,
    "start_time": "2024-02-02T14:24:20.293Z"
   },
   {
    "duration": 8,
    "start_time": "2024-02-02T14:24:21.825Z"
   },
   {
    "duration": 17,
    "start_time": "2024-02-02T14:24:22.392Z"
   },
   {
    "duration": 20,
    "start_time": "2024-02-02T14:24:24.113Z"
   },
   {
    "duration": 6,
    "start_time": "2024-02-02T14:24:28.852Z"
   },
   {
    "duration": 5,
    "start_time": "2024-02-02T14:24:29.976Z"
   },
   {
    "duration": 8,
    "start_time": "2024-02-02T14:24:30.452Z"
   },
   {
    "duration": 4,
    "start_time": "2024-02-02T14:25:03.865Z"
   },
   {
    "duration": 6,
    "start_time": "2024-02-02T14:26:40.013Z"
   },
   {
    "duration": 5,
    "start_time": "2024-02-02T14:26:43.564Z"
   },
   {
    "duration": 7,
    "start_time": "2024-02-02T14:26:46.636Z"
   },
   {
    "duration": 7,
    "start_time": "2024-02-02T14:26:51.876Z"
   },
   {
    "duration": 7,
    "start_time": "2024-02-02T14:26:54.612Z"
   },
   {
    "duration": 198,
    "start_time": "2024-02-02T14:26:55.728Z"
   },
   {
    "duration": 92,
    "start_time": "2024-02-02T14:27:40.292Z"
   },
   {
    "duration": 206,
    "start_time": "2024-02-02T14:27:41.944Z"
   },
   {
    "duration": 12,
    "start_time": "2024-02-02T14:27:53.604Z"
   },
   {
    "duration": 249,
    "start_time": "2024-02-02T14:27:56.692Z"
   },
   {
    "duration": 381,
    "start_time": "2024-02-02T14:28:52.920Z"
   },
   {
    "duration": 268,
    "start_time": "2024-02-02T14:29:37.045Z"
   },
   {
    "duration": 19,
    "start_time": "2024-02-02T14:29:56.183Z"
   },
   {
    "duration": 936,
    "start_time": "2024-02-02T14:31:34.267Z"
   },
   {
    "duration": 854,
    "start_time": "2024-02-02T14:31:57.815Z"
   },
   {
    "duration": 992,
    "start_time": "2024-02-02T14:32:43.826Z"
   },
   {
    "duration": 155,
    "start_time": "2024-02-02T14:33:09.203Z"
   },
   {
    "duration": 12,
    "start_time": "2024-02-02T14:33:11.375Z"
   },
   {
    "duration": 400,
    "start_time": "2024-02-02T14:33:22.019Z"
   },
   {
    "duration": 13,
    "start_time": "2024-02-02T14:33:34.783Z"
   },
   {
    "duration": 6,
    "start_time": "2024-02-02T14:34:42.391Z"
   },
   {
    "duration": 11,
    "start_time": "2024-02-02T14:34:46.819Z"
   },
   {
    "duration": 20,
    "start_time": "2024-02-02T14:34:56.162Z"
   },
   {
    "duration": 14,
    "start_time": "2024-02-02T14:34:58.562Z"
   },
   {
    "duration": 6,
    "start_time": "2024-02-02T14:34:59.536Z"
   },
   {
    "duration": 12,
    "start_time": "2024-02-02T14:35:00.771Z"
   },
   {
    "duration": 26,
    "start_time": "2024-02-02T14:35:01.327Z"
   },
   {
    "duration": 4,
    "start_time": "2024-02-02T14:35:19.786Z"
   },
   {
    "duration": 13,
    "start_time": "2024-02-02T14:35:36.354Z"
   },
   {
    "duration": 11,
    "start_time": "2024-02-02T14:35:37.278Z"
   },
   {
    "duration": 11,
    "start_time": "2024-02-02T14:35:40.386Z"
   },
   {
    "duration": 11,
    "start_time": "2024-02-02T14:35:41.074Z"
   },
   {
    "duration": 12,
    "start_time": "2024-02-02T14:35:41.570Z"
   },
   {
    "duration": 5,
    "start_time": "2024-02-02T14:35:42.744Z"
   },
   {
    "duration": 324,
    "start_time": "2024-02-02T14:35:51.398Z"
   },
   {
    "duration": 601,
    "start_time": "2024-02-02T14:35:53.514Z"
   },
   {
    "duration": 22,
    "start_time": "2024-02-02T14:35:55.163Z"
   },
   {
    "duration": 20,
    "start_time": "2024-02-02T14:35:57.756Z"
   },
   {
    "duration": 209,
    "start_time": "2024-02-02T14:36:43.114Z"
   },
   {
    "duration": 23,
    "start_time": "2024-02-02T14:37:15.134Z"
   },
   {
    "duration": 5,
    "start_time": "2024-02-02T14:37:17.754Z"
   },
   {
    "duration": 75,
    "start_time": "2024-02-02T14:43:30.317Z"
   },
   {
    "duration": 7,
    "start_time": "2024-02-02T14:43:45.701Z"
   },
   {
    "duration": 22,
    "start_time": "2024-02-02T14:44:08.725Z"
   },
   {
    "duration": 2140,
    "start_time": "2024-02-02T14:44:18.540Z"
   },
   {
    "duration": 2183,
    "start_time": "2024-02-02T14:44:22.589Z"
   },
   {
    "duration": 226,
    "start_time": "2024-02-02T14:44:33.225Z"
   },
   {
    "duration": 79,
    "start_time": "2024-02-02T14:45:32.400Z"
   },
   {
    "duration": 1000,
    "start_time": "2024-02-02T20:47:09.142Z"
   },
   {
    "duration": 82,
    "start_time": "2024-02-02T20:47:10.144Z"
   },
   {
    "duration": 15,
    "start_time": "2024-02-02T20:47:10.228Z"
   },
   {
    "duration": 20,
    "start_time": "2024-02-02T20:47:10.245Z"
   },
   {
    "duration": 21,
    "start_time": "2024-02-02T20:47:10.266Z"
   },
   {
    "duration": 8,
    "start_time": "2024-02-02T20:47:10.288Z"
   },
   {
    "duration": 10,
    "start_time": "2024-02-02T20:47:10.297Z"
   },
   {
    "duration": 14,
    "start_time": "2024-02-02T20:47:10.308Z"
   },
   {
    "duration": 14,
    "start_time": "2024-02-02T20:47:10.323Z"
   },
   {
    "duration": 16,
    "start_time": "2024-02-02T20:47:10.340Z"
   },
   {
    "duration": 13,
    "start_time": "2024-02-02T20:47:10.357Z"
   },
   {
    "duration": 17,
    "start_time": "2024-02-02T20:47:10.371Z"
   },
   {
    "duration": 19,
    "start_time": "2024-02-02T20:47:10.389Z"
   },
   {
    "duration": 6,
    "start_time": "2024-02-02T20:47:10.409Z"
   },
   {
    "duration": 7,
    "start_time": "2024-02-02T20:47:10.416Z"
   },
   {
    "duration": 45,
    "start_time": "2024-02-02T20:47:10.424Z"
   },
   {
    "duration": 24,
    "start_time": "2024-02-02T20:47:10.471Z"
   },
   {
    "duration": 9,
    "start_time": "2024-02-02T20:47:10.497Z"
   },
   {
    "duration": 191,
    "start_time": "2024-02-02T20:47:10.507Z"
   },
   {
    "duration": 100,
    "start_time": "2024-02-02T20:47:10.699Z"
   },
   {
    "duration": 215,
    "start_time": "2024-02-02T20:47:10.800Z"
   },
   {
    "duration": 14,
    "start_time": "2024-02-02T20:47:11.016Z"
   },
   {
    "duration": 288,
    "start_time": "2024-02-02T20:47:11.031Z"
   },
   {
    "duration": 19,
    "start_time": "2024-02-02T20:47:11.320Z"
   },
   {
    "duration": 927,
    "start_time": "2024-02-02T20:47:11.340Z"
   },
   {
    "duration": 137,
    "start_time": "2024-02-02T20:47:12.268Z"
   },
   {
    "duration": 13,
    "start_time": "2024-02-02T20:47:12.407Z"
   },
   {
    "duration": 421,
    "start_time": "2024-02-02T20:47:12.423Z"
   },
   {
    "duration": 13,
    "start_time": "2024-02-02T20:47:12.845Z"
   },
   {
    "duration": 8,
    "start_time": "2024-02-02T20:47:12.859Z"
   },
   {
    "duration": 28,
    "start_time": "2024-02-02T20:47:12.868Z"
   },
   {
    "duration": 19,
    "start_time": "2024-02-02T20:47:12.897Z"
   },
   {
    "duration": 13,
    "start_time": "2024-02-02T20:47:12.918Z"
   },
   {
    "duration": 6,
    "start_time": "2024-02-02T20:47:12.932Z"
   },
   {
    "duration": 28,
    "start_time": "2024-02-02T20:47:12.939Z"
   },
   {
    "duration": 15,
    "start_time": "2024-02-02T20:47:12.968Z"
   },
   {
    "duration": 31,
    "start_time": "2024-02-02T20:47:12.984Z"
   },
   {
    "duration": 25,
    "start_time": "2024-02-02T20:47:13.016Z"
   },
   {
    "duration": 27,
    "start_time": "2024-02-02T20:47:13.043Z"
   },
   {
    "duration": 15,
    "start_time": "2024-02-02T20:47:13.071Z"
   },
   {
    "duration": 329,
    "start_time": "2024-02-02T20:47:13.087Z"
   },
   {
    "duration": 475,
    "start_time": "2024-02-02T20:47:13.417Z"
   },
   {
    "duration": 22,
    "start_time": "2024-02-02T20:47:13.894Z"
   },
   {
    "duration": 14,
    "start_time": "2024-02-02T20:47:13.918Z"
   },
   {
    "duration": 227,
    "start_time": "2024-02-02T20:47:13.934Z"
   },
   {
    "duration": 32,
    "start_time": "2024-02-02T20:47:14.163Z"
   },
   {
    "duration": 5,
    "start_time": "2024-02-02T20:47:14.196Z"
   },
   {
    "duration": 34,
    "start_time": "2024-02-02T20:47:14.203Z"
   },
   {
    "duration": 19,
    "start_time": "2024-02-02T20:47:14.238Z"
   },
   {
    "duration": 2154,
    "start_time": "2024-02-02T20:47:14.258Z"
   },
   {
    "duration": 207,
    "start_time": "2024-02-02T20:47:16.414Z"
   },
   {
    "duration": 4,
    "start_time": "2024-02-02T20:53:10.782Z"
   },
   {
    "duration": 4,
    "start_time": "2024-02-02T20:53:14.923Z"
   },
   {
    "duration": 71,
    "start_time": "2024-02-02T20:53:40.955Z"
   },
   {
    "duration": 4,
    "start_time": "2024-02-02T20:53:46.158Z"
   },
   {
    "duration": 90,
    "start_time": "2024-02-02T20:53:54.654Z"
   },
   {
    "duration": 4,
    "start_time": "2024-02-02T20:53:57.990Z"
   },
   {
    "duration": 4,
    "start_time": "2024-02-02T20:54:56.765Z"
   },
   {
    "duration": 4,
    "start_time": "2024-02-02T20:55:11.159Z"
   },
   {
    "duration": 77,
    "start_time": "2024-02-02T20:55:22.822Z"
   },
   {
    "duration": 19,
    "start_time": "2024-02-02T20:55:36.708Z"
   },
   {
    "duration": 5,
    "start_time": "2024-02-02T20:55:47.508Z"
   },
   {
    "duration": 5,
    "start_time": "2024-02-02T20:55:56.503Z"
   },
   {
    "duration": 1010,
    "start_time": "2024-02-02T20:56:46.434Z"
   },
   {
    "duration": 83,
    "start_time": "2024-02-02T20:56:47.446Z"
   },
   {
    "duration": 16,
    "start_time": "2024-02-02T20:56:47.530Z"
   },
   {
    "duration": 16,
    "start_time": "2024-02-02T20:56:47.548Z"
   },
   {
    "duration": 11,
    "start_time": "2024-02-02T20:56:47.566Z"
   },
   {
    "duration": 18,
    "start_time": "2024-02-02T20:56:47.579Z"
   },
   {
    "duration": 24,
    "start_time": "2024-02-02T20:56:47.598Z"
   },
   {
    "duration": 18,
    "start_time": "2024-02-02T20:56:47.623Z"
   },
   {
    "duration": 19,
    "start_time": "2024-02-02T20:56:47.642Z"
   },
   {
    "duration": 15,
    "start_time": "2024-02-02T20:56:47.664Z"
   },
   {
    "duration": 11,
    "start_time": "2024-02-02T20:56:47.681Z"
   },
   {
    "duration": 48,
    "start_time": "2024-02-02T20:56:47.693Z"
   },
   {
    "duration": 25,
    "start_time": "2024-02-02T20:56:47.743Z"
   },
   {
    "duration": 4,
    "start_time": "2024-02-02T20:56:47.769Z"
   },
   {
    "duration": 33,
    "start_time": "2024-02-02T20:56:47.774Z"
   },
   {
    "duration": 14,
    "start_time": "2024-02-02T20:56:47.808Z"
   },
   {
    "duration": 28,
    "start_time": "2024-02-02T20:56:47.823Z"
   },
   {
    "duration": 35,
    "start_time": "2024-02-02T20:56:47.852Z"
   },
   {
    "duration": 16,
    "start_time": "2024-02-02T20:56:47.889Z"
   },
   {
    "duration": 191,
    "start_time": "2024-02-02T20:56:47.907Z"
   },
   {
    "duration": 85,
    "start_time": "2024-02-02T20:56:48.100Z"
   },
   {
    "duration": 215,
    "start_time": "2024-02-02T20:56:48.186Z"
   },
   {
    "duration": 13,
    "start_time": "2024-02-02T20:56:48.403Z"
   },
   {
    "duration": 269,
    "start_time": "2024-02-02T20:56:48.417Z"
   },
   {
    "duration": 22,
    "start_time": "2024-02-02T20:56:48.688Z"
   },
   {
    "duration": 947,
    "start_time": "2024-02-02T20:56:48.712Z"
   },
   {
    "duration": 130,
    "start_time": "2024-02-02T20:56:49.661Z"
   },
   {
    "duration": 14,
    "start_time": "2024-02-02T20:56:49.794Z"
   },
   {
    "duration": 407,
    "start_time": "2024-02-02T20:56:49.809Z"
   },
   {
    "duration": 12,
    "start_time": "2024-02-02T20:56:50.218Z"
   },
   {
    "duration": 10,
    "start_time": "2024-02-02T20:56:50.231Z"
   },
   {
    "duration": 29,
    "start_time": "2024-02-02T20:56:50.242Z"
   },
   {
    "duration": 22,
    "start_time": "2024-02-02T20:56:50.272Z"
   },
   {
    "duration": 14,
    "start_time": "2024-02-02T20:56:50.296Z"
   },
   {
    "duration": 9,
    "start_time": "2024-02-02T20:56:50.312Z"
   },
   {
    "duration": 26,
    "start_time": "2024-02-02T20:56:50.323Z"
   },
   {
    "duration": 16,
    "start_time": "2024-02-02T20:56:50.351Z"
   },
   {
    "duration": 18,
    "start_time": "2024-02-02T20:56:50.368Z"
   },
   {
    "duration": 11,
    "start_time": "2024-02-02T20:56:50.387Z"
   },
   {
    "duration": 26,
    "start_time": "2024-02-02T20:56:50.400Z"
   },
   {
    "duration": 6,
    "start_time": "2024-02-02T20:56:50.427Z"
   },
   {
    "duration": 318,
    "start_time": "2024-02-02T20:56:50.434Z"
   },
   {
    "duration": 468,
    "start_time": "2024-02-02T20:56:50.754Z"
   },
   {
    "duration": 36,
    "start_time": "2024-02-02T20:56:51.223Z"
   },
   {
    "duration": 13,
    "start_time": "2024-02-02T20:56:51.261Z"
   },
   {
    "duration": 230,
    "start_time": "2024-02-02T20:56:51.276Z"
   },
   {
    "duration": 20,
    "start_time": "2024-02-02T20:56:51.508Z"
   },
   {
    "duration": 6,
    "start_time": "2024-02-02T20:56:51.529Z"
   },
   {
    "duration": 34,
    "start_time": "2024-02-02T20:56:51.536Z"
   },
   {
    "duration": 23,
    "start_time": "2024-02-02T20:56:51.572Z"
   },
   {
    "duration": 2130,
    "start_time": "2024-02-02T20:56:51.597Z"
   },
   {
    "duration": 227,
    "start_time": "2024-02-02T20:56:53.729Z"
   },
   {
    "duration": 1103,
    "start_time": "2024-02-02T20:57:38.226Z"
   },
   {
    "duration": 85,
    "start_time": "2024-02-02T20:57:39.330Z"
   },
   {
    "duration": 18,
    "start_time": "2024-02-02T20:57:39.416Z"
   },
   {
    "duration": 37,
    "start_time": "2024-02-02T20:57:39.436Z"
   },
   {
    "duration": 12,
    "start_time": "2024-02-02T20:57:39.475Z"
   },
   {
    "duration": 16,
    "start_time": "2024-02-02T20:57:39.488Z"
   },
   {
    "duration": 13,
    "start_time": "2024-02-02T20:57:39.506Z"
   },
   {
    "duration": 13,
    "start_time": "2024-02-02T20:57:39.520Z"
   },
   {
    "duration": 15,
    "start_time": "2024-02-02T20:57:39.534Z"
   },
   {
    "duration": 9,
    "start_time": "2024-02-02T20:57:39.551Z"
   },
   {
    "duration": 11,
    "start_time": "2024-02-02T20:57:39.561Z"
   },
   {
    "duration": 23,
    "start_time": "2024-02-02T20:57:39.573Z"
   },
   {
    "duration": 19,
    "start_time": "2024-02-02T20:57:39.597Z"
   },
   {
    "duration": 4,
    "start_time": "2024-02-02T20:57:39.617Z"
   },
   {
    "duration": 15,
    "start_time": "2024-02-02T20:57:39.623Z"
   },
   {
    "duration": 19,
    "start_time": "2024-02-02T20:57:39.639Z"
   },
   {
    "duration": 22,
    "start_time": "2024-02-02T20:57:39.659Z"
   },
   {
    "duration": 9,
    "start_time": "2024-02-02T20:57:39.682Z"
   },
   {
    "duration": 12,
    "start_time": "2024-02-02T20:57:39.692Z"
   },
   {
    "duration": 186,
    "start_time": "2024-02-02T20:57:39.706Z"
   },
   {
    "duration": 88,
    "start_time": "2024-02-02T20:57:39.893Z"
   },
   {
    "duration": 235,
    "start_time": "2024-02-02T20:57:39.982Z"
   },
   {
    "duration": 13,
    "start_time": "2024-02-02T20:57:40.219Z"
   },
   {
    "duration": 285,
    "start_time": "2024-02-02T20:57:40.234Z"
   },
   {
    "duration": 19,
    "start_time": "2024-02-02T20:57:40.521Z"
   },
   {
    "duration": 951,
    "start_time": "2024-02-02T20:57:40.541Z"
   },
   {
    "duration": 124,
    "start_time": "2024-02-02T20:57:41.493Z"
   },
   {
    "duration": 13,
    "start_time": "2024-02-02T20:57:41.620Z"
   },
   {
    "duration": 406,
    "start_time": "2024-02-02T20:57:41.634Z"
   },
   {
    "duration": 12,
    "start_time": "2024-02-02T20:57:42.042Z"
   },
   {
    "duration": 7,
    "start_time": "2024-02-02T20:57:42.056Z"
   },
   {
    "duration": 12,
    "start_time": "2024-02-02T20:57:42.065Z"
   },
   {
    "duration": 34,
    "start_time": "2024-02-02T20:57:42.094Z"
   },
   {
    "duration": 27,
    "start_time": "2024-02-02T20:57:42.130Z"
   },
   {
    "duration": 7,
    "start_time": "2024-02-02T20:57:42.158Z"
   },
   {
    "duration": 42,
    "start_time": "2024-02-02T20:57:42.167Z"
   },
   {
    "duration": 11,
    "start_time": "2024-02-02T20:57:42.211Z"
   },
   {
    "duration": 18,
    "start_time": "2024-02-02T20:57:42.224Z"
   },
   {
    "duration": 14,
    "start_time": "2024-02-02T20:57:42.243Z"
   },
   {
    "duration": 14,
    "start_time": "2024-02-02T20:57:42.259Z"
   },
   {
    "duration": 10,
    "start_time": "2024-02-02T20:57:42.275Z"
   },
   {
    "duration": 322,
    "start_time": "2024-02-02T20:57:42.286Z"
   },
   {
    "duration": 453,
    "start_time": "2024-02-02T20:57:42.609Z"
   },
   {
    "duration": 21,
    "start_time": "2024-02-02T20:57:43.064Z"
   },
   {
    "duration": 13,
    "start_time": "2024-02-02T20:57:43.093Z"
   },
   {
    "duration": 222,
    "start_time": "2024-02-02T20:57:43.108Z"
   },
   {
    "duration": 20,
    "start_time": "2024-02-02T20:57:43.332Z"
   },
   {
    "duration": 5,
    "start_time": "2024-02-02T20:57:43.353Z"
   },
   {
    "duration": 13,
    "start_time": "2024-02-02T20:57:43.359Z"
   },
   {
    "duration": 24,
    "start_time": "2024-02-02T20:57:43.374Z"
   },
   {
    "duration": 2110,
    "start_time": "2024-02-02T20:57:43.400Z"
   },
   {
    "duration": 210,
    "start_time": "2024-02-02T20:57:45.511Z"
   },
   {
    "duration": 5,
    "start_time": "2024-02-02T21:00:08.189Z"
   },
   {
    "duration": 96,
    "start_time": "2024-02-02T21:05:57.730Z"
   },
   {
    "duration": 8,
    "start_time": "2024-02-02T21:06:06.184Z"
   },
   {
    "duration": 1037,
    "start_time": "2024-02-02T21:13:17.509Z"
   },
   {
    "duration": 82,
    "start_time": "2024-02-02T21:13:18.548Z"
   },
   {
    "duration": 15,
    "start_time": "2024-02-02T21:13:18.632Z"
   },
   {
    "duration": 15,
    "start_time": "2024-02-02T21:13:18.648Z"
   },
   {
    "duration": 32,
    "start_time": "2024-02-02T21:13:18.664Z"
   },
   {
    "duration": 21,
    "start_time": "2024-02-02T21:13:18.698Z"
   },
   {
    "duration": 30,
    "start_time": "2024-02-02T21:13:18.720Z"
   },
   {
    "duration": 12,
    "start_time": "2024-02-02T21:13:18.751Z"
   },
   {
    "duration": 4,
    "start_time": "2024-02-02T21:13:18.764Z"
   },
   {
    "duration": 10,
    "start_time": "2024-02-02T21:13:18.771Z"
   },
   {
    "duration": 10,
    "start_time": "2024-02-02T21:13:18.782Z"
   },
   {
    "duration": 17,
    "start_time": "2024-02-02T21:13:18.793Z"
   },
   {
    "duration": 25,
    "start_time": "2024-02-02T21:13:18.811Z"
   },
   {
    "duration": 4,
    "start_time": "2024-02-02T21:13:18.837Z"
   },
   {
    "duration": 26,
    "start_time": "2024-02-02T21:13:18.842Z"
   },
   {
    "duration": 17,
    "start_time": "2024-02-02T21:13:18.870Z"
   },
   {
    "duration": 15,
    "start_time": "2024-02-02T21:13:18.889Z"
   },
   {
    "duration": 15,
    "start_time": "2024-02-02T21:13:18.906Z"
   },
   {
    "duration": 11,
    "start_time": "2024-02-02T21:13:18.922Z"
   },
   {
    "duration": 196,
    "start_time": "2024-02-02T21:13:18.934Z"
   },
   {
    "duration": 97,
    "start_time": "2024-02-02T21:13:19.132Z"
   },
   {
    "duration": 226,
    "start_time": "2024-02-02T21:13:19.230Z"
   },
   {
    "duration": 13,
    "start_time": "2024-02-02T21:13:19.458Z"
   },
   {
    "duration": 280,
    "start_time": "2024-02-02T21:13:19.472Z"
   },
   {
    "duration": 19,
    "start_time": "2024-02-02T21:13:19.754Z"
   },
   {
    "duration": 920,
    "start_time": "2024-02-02T21:13:19.774Z"
   },
   {
    "duration": 133,
    "start_time": "2024-02-02T21:13:20.695Z"
   },
   {
    "duration": 13,
    "start_time": "2024-02-02T21:13:20.831Z"
   },
   {
    "duration": 395,
    "start_time": "2024-02-02T21:13:20.845Z"
   },
   {
    "duration": 14,
    "start_time": "2024-02-02T21:13:21.241Z"
   },
   {
    "duration": 18,
    "start_time": "2024-02-02T21:13:21.256Z"
   },
   {
    "duration": 18,
    "start_time": "2024-02-02T21:13:21.275Z"
   },
   {
    "duration": 25,
    "start_time": "2024-02-02T21:13:21.295Z"
   },
   {
    "duration": 14,
    "start_time": "2024-02-02T21:13:21.321Z"
   },
   {
    "duration": 3,
    "start_time": "2024-02-02T21:13:21.337Z"
   },
   {
    "duration": 17,
    "start_time": "2024-02-02T21:13:21.341Z"
   },
   {
    "duration": 10,
    "start_time": "2024-02-02T21:13:21.360Z"
   },
   {
    "duration": 31,
    "start_time": "2024-02-02T21:13:21.371Z"
   },
   {
    "duration": 10,
    "start_time": "2024-02-02T21:13:21.403Z"
   },
   {
    "duration": 12,
    "start_time": "2024-02-02T21:13:21.415Z"
   },
   {
    "duration": 17,
    "start_time": "2024-02-02T21:13:21.429Z"
   },
   {
    "duration": 323,
    "start_time": "2024-02-02T21:13:21.448Z"
   },
   {
    "duration": 480,
    "start_time": "2024-02-02T21:13:21.772Z"
   },
   {
    "duration": 24,
    "start_time": "2024-02-02T21:13:22.253Z"
   },
   {
    "duration": 22,
    "start_time": "2024-02-02T21:13:22.279Z"
   },
   {
    "duration": 210,
    "start_time": "2024-02-02T21:13:22.302Z"
   },
   {
    "duration": 19,
    "start_time": "2024-02-02T21:13:22.514Z"
   },
   {
    "duration": 5,
    "start_time": "2024-02-02T21:13:22.535Z"
   },
   {
    "duration": 6,
    "start_time": "2024-02-02T21:13:22.541Z"
   },
   {
    "duration": 16,
    "start_time": "2024-02-02T21:13:22.549Z"
   },
   {
    "duration": 2311,
    "start_time": "2024-02-02T21:13:22.566Z"
   },
   {
    "duration": 244,
    "start_time": "2024-02-02T21:13:24.879Z"
   },
   {
    "duration": 1058,
    "start_time": "2024-02-02T21:14:00.095Z"
   },
   {
    "duration": 85,
    "start_time": "2024-02-02T21:14:01.154Z"
   },
   {
    "duration": 16,
    "start_time": "2024-02-02T21:14:01.241Z"
   },
   {
    "duration": 118,
    "start_time": "2024-02-02T21:14:01.259Z"
   },
   {
    "duration": 88,
    "start_time": "2024-02-02T21:14:01.378Z"
   },
   {
    "duration": 47,
    "start_time": "2024-02-02T21:14:01.467Z"
   },
   {
    "duration": 48,
    "start_time": "2024-02-02T21:14:01.516Z"
   },
   {
    "duration": 16,
    "start_time": "2024-02-02T21:14:01.565Z"
   },
   {
    "duration": 100,
    "start_time": "2024-02-02T21:14:01.582Z"
   },
   {
    "duration": 32,
    "start_time": "2024-02-02T21:14:01.685Z"
   },
   {
    "duration": 51,
    "start_time": "2024-02-02T21:14:01.718Z"
   },
   {
    "duration": 106,
    "start_time": "2024-02-02T21:14:01.771Z"
   },
   {
    "duration": 390,
    "start_time": "2024-02-02T21:14:01.879Z"
   },
   {
    "duration": 143,
    "start_time": "2024-02-02T21:14:02.270Z"
   },
   {
    "duration": 132,
    "start_time": "2024-02-02T21:14:02.415Z"
   },
   {
    "duration": 137,
    "start_time": "2024-02-02T21:14:02.548Z"
   },
   {
    "duration": 254,
    "start_time": "2024-02-02T21:14:02.686Z"
   },
   {
    "duration": 34,
    "start_time": "2024-02-02T21:14:02.941Z"
   },
   {
    "duration": 49,
    "start_time": "2024-02-02T21:14:02.976Z"
   },
   {
    "duration": 207,
    "start_time": "2024-02-02T21:14:03.026Z"
   },
   {
    "duration": 91,
    "start_time": "2024-02-02T21:14:03.235Z"
   },
   {
    "duration": 379,
    "start_time": "2024-02-02T21:14:03.327Z"
   },
   {
    "duration": 15,
    "start_time": "2024-02-02T21:14:03.708Z"
   },
   {
    "duration": 292,
    "start_time": "2024-02-02T21:14:03.724Z"
   },
   {
    "duration": 19,
    "start_time": "2024-02-02T21:14:04.018Z"
   },
   {
    "duration": 942,
    "start_time": "2024-02-02T21:14:04.038Z"
   },
   {
    "duration": 142,
    "start_time": "2024-02-02T21:14:04.982Z"
   },
   {
    "duration": 12,
    "start_time": "2024-02-02T21:14:05.129Z"
   },
   {
    "duration": 415,
    "start_time": "2024-02-02T21:14:05.143Z"
   },
   {
    "duration": 14,
    "start_time": "2024-02-02T21:14:05.560Z"
   },
   {
    "duration": 19,
    "start_time": "2024-02-02T21:14:05.575Z"
   },
   {
    "duration": 29,
    "start_time": "2024-02-02T21:14:05.595Z"
   },
   {
    "duration": 19,
    "start_time": "2024-02-02T21:14:05.626Z"
   },
   {
    "duration": 13,
    "start_time": "2024-02-02T21:14:05.647Z"
   },
   {
    "duration": 12,
    "start_time": "2024-02-02T21:14:05.661Z"
   },
   {
    "duration": 46,
    "start_time": "2024-02-02T21:14:05.674Z"
   },
   {
    "duration": 17,
    "start_time": "2024-02-02T21:14:05.722Z"
   },
   {
    "duration": 29,
    "start_time": "2024-02-02T21:14:05.740Z"
   },
   {
    "duration": 34,
    "start_time": "2024-02-02T21:14:05.771Z"
   },
   {
    "duration": 20,
    "start_time": "2024-02-02T21:14:05.806Z"
   },
   {
    "duration": 15,
    "start_time": "2024-02-02T21:14:05.827Z"
   },
   {
    "duration": 365,
    "start_time": "2024-02-02T21:14:05.843Z"
   },
   {
    "duration": 461,
    "start_time": "2024-02-02T21:14:06.209Z"
   },
   {
    "duration": 27,
    "start_time": "2024-02-02T21:14:06.671Z"
   },
   {
    "duration": 28,
    "start_time": "2024-02-02T21:14:06.699Z"
   },
   {
    "duration": 202,
    "start_time": "2024-02-02T21:14:06.728Z"
   },
   {
    "duration": 17,
    "start_time": "2024-02-02T21:14:06.932Z"
   },
   {
    "duration": 11,
    "start_time": "2024-02-02T21:14:06.951Z"
   },
   {
    "duration": 6,
    "start_time": "2024-02-02T21:14:06.964Z"
   },
   {
    "duration": 23,
    "start_time": "2024-02-02T21:14:06.971Z"
   },
   {
    "duration": 2174,
    "start_time": "2024-02-02T21:14:06.996Z"
   },
   {
    "duration": 209,
    "start_time": "2024-02-02T21:14:09.172Z"
   }
  ],
  "kernelspec": {
   "display_name": "Python 3 (ipykernel)",
   "language": "python",
   "name": "python3"
  },
  "language_info": {
   "codemirror_mode": {
    "name": "ipython",
    "version": 3
   },
   "file_extension": ".py",
   "mimetype": "text/x-python",
   "name": "python",
   "nbconvert_exporter": "python",
   "pygments_lexer": "ipython3",
   "version": "3.9.19"
  },
  "toc": {
   "base_numbering": 1,
   "nav_menu": {
    "height": "277.514px",
    "width": "428.352px"
   },
   "number_sections": true,
   "sideBar": true,
   "skip_h1_title": true,
   "title_cell": "Table of Contents",
   "title_sidebar": "Contents",
   "toc_cell": false,
   "toc_position": {},
   "toc_section_display": true,
   "toc_window_display": false
  }
 },
 "nbformat": 4,
 "nbformat_minor": 5
}
